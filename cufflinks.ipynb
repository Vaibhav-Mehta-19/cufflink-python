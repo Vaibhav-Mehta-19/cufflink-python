{
 "cells": [
  {
   "cell_type": "code",
   "execution_count": 1,
   "metadata": {},
   "outputs": [
    {
     "data": {
      "text/html": [
       "        <script type=\"text/javascript\">\n",
       "        window.PlotlyConfig = {MathJaxConfig: 'local'};\n",
       "        if (window.MathJax) {MathJax.Hub.Config({SVG: {font: \"STIX-Web\"}});}\n",
       "        if (typeof require !== 'undefined') {\n",
       "        require.undef(\"plotly\");\n",
       "        requirejs.config({\n",
       "            paths: {\n",
       "                'plotly': ['https://cdn.plot.ly/plotly-latest.min']\n",
       "            }\n",
       "        });\n",
       "        require(['plotly'], function(Plotly) {\n",
       "            window._Plotly = Plotly;\n",
       "        });\n",
       "        }\n",
       "        </script>\n",
       "        "
      ]
     },
     "metadata": {},
     "output_type": "display_data"
    }
   ],
   "source": [
    "import cufflinks as cf\n",
    "import plotly.offline as pyo\n",
    "import pandas as pd\n",
    "import numpy as np\n",
    "cf.go_offline()"
   ]
  },
  {
   "cell_type": "code",
   "execution_count": 2,
   "metadata": {
    "scrolled": true
   },
   "outputs": [
    {
     "data": {
      "application/vnd.plotly.v1+json": {
       "config": {
        "linkText": "Export to plot.ly",
        "plotlyServerURL": "https://plot.ly",
        "showLink": true
       },
       "data": [
        {
         "colorscale": [
          [
           0,
           "rgb(255, 153, 51)"
          ],
          [
           0.1111111111111111,
           "rgb(55, 128, 191)"
          ],
          [
           0.2222222222222222,
           "rgb(50, 171, 96)"
          ],
          [
           0.3333333333333333,
           "rgb(128, 0, 128)"
          ],
          [
           0.4444444444444444,
           "rgb(219, 64, 82)"
          ],
          [
           0.5555555555555556,
           "rgb(0, 128, 128)"
          ],
          [
           0.6666666666666666,
           "rgb(255, 255, 51)"
          ],
          [
           0.7777777777777778,
           "rgb(128, 128, 0)"
          ],
          [
           0.8888888888888888,
           "rgb(251, 128, 114)"
          ],
          [
           1,
           "rgb(128, 177, 211)"
          ]
         ],
         "type": "surface",
         "x": [
          0,
          1,
          2,
          3,
          4
         ],
         "y": [
          "id",
          "name",
          "remarks"
         ],
         "z": [
          [
           1,
           2,
           3,
           4,
           5
          ],
          [
           10,
           20,
           30,
           40,
           50
          ],
          [
           5,
           4,
           3,
           2,
           1
          ]
         ]
        }
       ],
       "layout": {
        "legend": {
         "bgcolor": "#F5F6F9",
         "font": {
          "color": "#4D5663"
         }
        },
        "paper_bgcolor": "#F5F6F9",
        "plot_bgcolor": "#F5F6F9",
        "template": {
         "data": {
          "bar": [
           {
            "error_x": {
             "color": "#2a3f5f"
            },
            "error_y": {
             "color": "#2a3f5f"
            },
            "marker": {
             "line": {
              "color": "#E5ECF6",
              "width": 0.5
             }
            },
            "type": "bar"
           }
          ],
          "barpolar": [
           {
            "marker": {
             "line": {
              "color": "#E5ECF6",
              "width": 0.5
             }
            },
            "type": "barpolar"
           }
          ],
          "carpet": [
           {
            "aaxis": {
             "endlinecolor": "#2a3f5f",
             "gridcolor": "white",
             "linecolor": "white",
             "minorgridcolor": "white",
             "startlinecolor": "#2a3f5f"
            },
            "baxis": {
             "endlinecolor": "#2a3f5f",
             "gridcolor": "white",
             "linecolor": "white",
             "minorgridcolor": "white",
             "startlinecolor": "#2a3f5f"
            },
            "type": "carpet"
           }
          ],
          "choropleth": [
           {
            "colorbar": {
             "outlinewidth": 0,
             "ticks": ""
            },
            "type": "choropleth"
           }
          ],
          "contour": [
           {
            "colorbar": {
             "outlinewidth": 0,
             "ticks": ""
            },
            "colorscale": [
             [
              0,
              "#0d0887"
             ],
             [
              0.1111111111111111,
              "#46039f"
             ],
             [
              0.2222222222222222,
              "#7201a8"
             ],
             [
              0.3333333333333333,
              "#9c179e"
             ],
             [
              0.4444444444444444,
              "#bd3786"
             ],
             [
              0.5555555555555556,
              "#d8576b"
             ],
             [
              0.6666666666666666,
              "#ed7953"
             ],
             [
              0.7777777777777778,
              "#fb9f3a"
             ],
             [
              0.8888888888888888,
              "#fdca26"
             ],
             [
              1,
              "#f0f921"
             ]
            ],
            "type": "contour"
           }
          ],
          "contourcarpet": [
           {
            "colorbar": {
             "outlinewidth": 0,
             "ticks": ""
            },
            "type": "contourcarpet"
           }
          ],
          "heatmap": [
           {
            "colorbar": {
             "outlinewidth": 0,
             "ticks": ""
            },
            "colorscale": [
             [
              0,
              "#0d0887"
             ],
             [
              0.1111111111111111,
              "#46039f"
             ],
             [
              0.2222222222222222,
              "#7201a8"
             ],
             [
              0.3333333333333333,
              "#9c179e"
             ],
             [
              0.4444444444444444,
              "#bd3786"
             ],
             [
              0.5555555555555556,
              "#d8576b"
             ],
             [
              0.6666666666666666,
              "#ed7953"
             ],
             [
              0.7777777777777778,
              "#fb9f3a"
             ],
             [
              0.8888888888888888,
              "#fdca26"
             ],
             [
              1,
              "#f0f921"
             ]
            ],
            "type": "heatmap"
           }
          ],
          "heatmapgl": [
           {
            "colorbar": {
             "outlinewidth": 0,
             "ticks": ""
            },
            "colorscale": [
             [
              0,
              "#0d0887"
             ],
             [
              0.1111111111111111,
              "#46039f"
             ],
             [
              0.2222222222222222,
              "#7201a8"
             ],
             [
              0.3333333333333333,
              "#9c179e"
             ],
             [
              0.4444444444444444,
              "#bd3786"
             ],
             [
              0.5555555555555556,
              "#d8576b"
             ],
             [
              0.6666666666666666,
              "#ed7953"
             ],
             [
              0.7777777777777778,
              "#fb9f3a"
             ],
             [
              0.8888888888888888,
              "#fdca26"
             ],
             [
              1,
              "#f0f921"
             ]
            ],
            "type": "heatmapgl"
           }
          ],
          "histogram": [
           {
            "marker": {
             "colorbar": {
              "outlinewidth": 0,
              "ticks": ""
             }
            },
            "type": "histogram"
           }
          ],
          "histogram2d": [
           {
            "colorbar": {
             "outlinewidth": 0,
             "ticks": ""
            },
            "colorscale": [
             [
              0,
              "#0d0887"
             ],
             [
              0.1111111111111111,
              "#46039f"
             ],
             [
              0.2222222222222222,
              "#7201a8"
             ],
             [
              0.3333333333333333,
              "#9c179e"
             ],
             [
              0.4444444444444444,
              "#bd3786"
             ],
             [
              0.5555555555555556,
              "#d8576b"
             ],
             [
              0.6666666666666666,
              "#ed7953"
             ],
             [
              0.7777777777777778,
              "#fb9f3a"
             ],
             [
              0.8888888888888888,
              "#fdca26"
             ],
             [
              1,
              "#f0f921"
             ]
            ],
            "type": "histogram2d"
           }
          ],
          "histogram2dcontour": [
           {
            "colorbar": {
             "outlinewidth": 0,
             "ticks": ""
            },
            "colorscale": [
             [
              0,
              "#0d0887"
             ],
             [
              0.1111111111111111,
              "#46039f"
             ],
             [
              0.2222222222222222,
              "#7201a8"
             ],
             [
              0.3333333333333333,
              "#9c179e"
             ],
             [
              0.4444444444444444,
              "#bd3786"
             ],
             [
              0.5555555555555556,
              "#d8576b"
             ],
             [
              0.6666666666666666,
              "#ed7953"
             ],
             [
              0.7777777777777778,
              "#fb9f3a"
             ],
             [
              0.8888888888888888,
              "#fdca26"
             ],
             [
              1,
              "#f0f921"
             ]
            ],
            "type": "histogram2dcontour"
           }
          ],
          "mesh3d": [
           {
            "colorbar": {
             "outlinewidth": 0,
             "ticks": ""
            },
            "type": "mesh3d"
           }
          ],
          "parcoords": [
           {
            "line": {
             "colorbar": {
              "outlinewidth": 0,
              "ticks": ""
             }
            },
            "type": "parcoords"
           }
          ],
          "pie": [
           {
            "automargin": true,
            "type": "pie"
           }
          ],
          "scatter": [
           {
            "marker": {
             "colorbar": {
              "outlinewidth": 0,
              "ticks": ""
             }
            },
            "type": "scatter"
           }
          ],
          "scatter3d": [
           {
            "line": {
             "colorbar": {
              "outlinewidth": 0,
              "ticks": ""
             }
            },
            "marker": {
             "colorbar": {
              "outlinewidth": 0,
              "ticks": ""
             }
            },
            "type": "scatter3d"
           }
          ],
          "scattercarpet": [
           {
            "marker": {
             "colorbar": {
              "outlinewidth": 0,
              "ticks": ""
             }
            },
            "type": "scattercarpet"
           }
          ],
          "scattergeo": [
           {
            "marker": {
             "colorbar": {
              "outlinewidth": 0,
              "ticks": ""
             }
            },
            "type": "scattergeo"
           }
          ],
          "scattergl": [
           {
            "marker": {
             "colorbar": {
              "outlinewidth": 0,
              "ticks": ""
             }
            },
            "type": "scattergl"
           }
          ],
          "scattermapbox": [
           {
            "marker": {
             "colorbar": {
              "outlinewidth": 0,
              "ticks": ""
             }
            },
            "type": "scattermapbox"
           }
          ],
          "scatterpolar": [
           {
            "marker": {
             "colorbar": {
              "outlinewidth": 0,
              "ticks": ""
             }
            },
            "type": "scatterpolar"
           }
          ],
          "scatterpolargl": [
           {
            "marker": {
             "colorbar": {
              "outlinewidth": 0,
              "ticks": ""
             }
            },
            "type": "scatterpolargl"
           }
          ],
          "scatterternary": [
           {
            "marker": {
             "colorbar": {
              "outlinewidth": 0,
              "ticks": ""
             }
            },
            "type": "scatterternary"
           }
          ],
          "surface": [
           {
            "colorbar": {
             "outlinewidth": 0,
             "ticks": ""
            },
            "colorscale": [
             [
              0,
              "#0d0887"
             ],
             [
              0.1111111111111111,
              "#46039f"
             ],
             [
              0.2222222222222222,
              "#7201a8"
             ],
             [
              0.3333333333333333,
              "#9c179e"
             ],
             [
              0.4444444444444444,
              "#bd3786"
             ],
             [
              0.5555555555555556,
              "#d8576b"
             ],
             [
              0.6666666666666666,
              "#ed7953"
             ],
             [
              0.7777777777777778,
              "#fb9f3a"
             ],
             [
              0.8888888888888888,
              "#fdca26"
             ],
             [
              1,
              "#f0f921"
             ]
            ],
            "type": "surface"
           }
          ],
          "table": [
           {
            "cells": {
             "fill": {
              "color": "#EBF0F8"
             },
             "line": {
              "color": "white"
             }
            },
            "header": {
             "fill": {
              "color": "#C8D4E3"
             },
             "line": {
              "color": "white"
             }
            },
            "type": "table"
           }
          ]
         },
         "layout": {
          "annotationdefaults": {
           "arrowcolor": "#2a3f5f",
           "arrowhead": 0,
           "arrowwidth": 1
          },
          "coloraxis": {
           "colorbar": {
            "outlinewidth": 0,
            "ticks": ""
           }
          },
          "colorscale": {
           "diverging": [
            [
             0,
             "#8e0152"
            ],
            [
             0.1,
             "#c51b7d"
            ],
            [
             0.2,
             "#de77ae"
            ],
            [
             0.3,
             "#f1b6da"
            ],
            [
             0.4,
             "#fde0ef"
            ],
            [
             0.5,
             "#f7f7f7"
            ],
            [
             0.6,
             "#e6f5d0"
            ],
            [
             0.7,
             "#b8e186"
            ],
            [
             0.8,
             "#7fbc41"
            ],
            [
             0.9,
             "#4d9221"
            ],
            [
             1,
             "#276419"
            ]
           ],
           "sequential": [
            [
             0,
             "#0d0887"
            ],
            [
             0.1111111111111111,
             "#46039f"
            ],
            [
             0.2222222222222222,
             "#7201a8"
            ],
            [
             0.3333333333333333,
             "#9c179e"
            ],
            [
             0.4444444444444444,
             "#bd3786"
            ],
            [
             0.5555555555555556,
             "#d8576b"
            ],
            [
             0.6666666666666666,
             "#ed7953"
            ],
            [
             0.7777777777777778,
             "#fb9f3a"
            ],
            [
             0.8888888888888888,
             "#fdca26"
            ],
            [
             1,
             "#f0f921"
            ]
           ],
           "sequentialminus": [
            [
             0,
             "#0d0887"
            ],
            [
             0.1111111111111111,
             "#46039f"
            ],
            [
             0.2222222222222222,
             "#7201a8"
            ],
            [
             0.3333333333333333,
             "#9c179e"
            ],
            [
             0.4444444444444444,
             "#bd3786"
            ],
            [
             0.5555555555555556,
             "#d8576b"
            ],
            [
             0.6666666666666666,
             "#ed7953"
            ],
            [
             0.7777777777777778,
             "#fb9f3a"
            ],
            [
             0.8888888888888888,
             "#fdca26"
            ],
            [
             1,
             "#f0f921"
            ]
           ]
          },
          "colorway": [
           "#636efa",
           "#EF553B",
           "#00cc96",
           "#ab63fa",
           "#FFA15A",
           "#19d3f3",
           "#FF6692",
           "#B6E880",
           "#FF97FF",
           "#FECB52"
          ],
          "font": {
           "color": "#2a3f5f"
          },
          "geo": {
           "bgcolor": "white",
           "lakecolor": "white",
           "landcolor": "#E5ECF6",
           "showlakes": true,
           "showland": true,
           "subunitcolor": "white"
          },
          "hoverlabel": {
           "align": "left"
          },
          "hovermode": "closest",
          "mapbox": {
           "style": "light"
          },
          "paper_bgcolor": "white",
          "plot_bgcolor": "#E5ECF6",
          "polar": {
           "angularaxis": {
            "gridcolor": "white",
            "linecolor": "white",
            "ticks": ""
           },
           "bgcolor": "#E5ECF6",
           "radialaxis": {
            "gridcolor": "white",
            "linecolor": "white",
            "ticks": ""
           }
          },
          "scene": {
           "xaxis": {
            "backgroundcolor": "#E5ECF6",
            "gridcolor": "white",
            "gridwidth": 2,
            "linecolor": "white",
            "showbackground": true,
            "ticks": "",
            "zerolinecolor": "white"
           },
           "yaxis": {
            "backgroundcolor": "#E5ECF6",
            "gridcolor": "white",
            "gridwidth": 2,
            "linecolor": "white",
            "showbackground": true,
            "ticks": "",
            "zerolinecolor": "white"
           },
           "zaxis": {
            "backgroundcolor": "#E5ECF6",
            "gridcolor": "white",
            "gridwidth": 2,
            "linecolor": "white",
            "showbackground": true,
            "ticks": "",
            "zerolinecolor": "white"
           }
          },
          "shapedefaults": {
           "line": {
            "color": "#2a3f5f"
           }
          },
          "ternary": {
           "aaxis": {
            "gridcolor": "white",
            "linecolor": "white",
            "ticks": ""
           },
           "baxis": {
            "gridcolor": "white",
            "linecolor": "white",
            "ticks": ""
           },
           "bgcolor": "#E5ECF6",
           "caxis": {
            "gridcolor": "white",
            "linecolor": "white",
            "ticks": ""
           }
          },
          "title": {
           "x": 0.05
          },
          "xaxis": {
           "automargin": true,
           "gridcolor": "white",
           "linecolor": "white",
           "ticks": "",
           "title": {
            "standoff": 15
           },
           "zerolinecolor": "white",
           "zerolinewidth": 2
          },
          "yaxis": {
           "automargin": true,
           "gridcolor": "white",
           "linecolor": "white",
           "ticks": "",
           "title": {
            "standoff": 15
           },
           "zerolinecolor": "white",
           "zerolinewidth": 2
          }
         }
        },
        "title": {
         "font": {
          "color": "#4D5663"
         }
        },
        "xaxis": {
         "gridcolor": "#E1E5ED",
         "showgrid": true,
         "tickfont": {
          "color": "#4D5663"
         },
         "title": {
          "font": {
           "color": "#4D5663"
          },
          "text": ""
         },
         "zerolinecolor": "#E1E5ED"
        },
        "yaxis": {
         "gridcolor": "#E1E5ED",
         "showgrid": true,
         "tickfont": {
          "color": "#4D5663"
         },
         "title": {
          "font": {
           "color": "#4D5663"
          },
          "text": ""
         },
         "zerolinecolor": "#E1E5ED"
        }
       }
      },
      "text/html": [
       "<div>\n",
       "        \n",
       "        \n",
       "            <div id=\"6979d8d6-bf47-4dc5-99a9-538600b83fda\" class=\"plotly-graph-div\" style=\"height:525px; width:100%;\"></div>\n",
       "            <script type=\"text/javascript\">\n",
       "                require([\"plotly\"], function(Plotly) {\n",
       "                    window.PLOTLYENV=window.PLOTLYENV || {};\n",
       "                    window.PLOTLYENV.BASE_URL='https://plot.ly';\n",
       "                    \n",
       "                if (document.getElementById(\"6979d8d6-bf47-4dc5-99a9-538600b83fda\")) {\n",
       "                    Plotly.newPlot(\n",
       "                        '6979d8d6-bf47-4dc5-99a9-538600b83fda',\n",
       "                        [{\"colorscale\": [[0.0, \"rgb(255, 153, 51)\"], [0.1111111111111111, \"rgb(55, 128, 191)\"], [0.2222222222222222, \"rgb(50, 171, 96)\"], [0.3333333333333333, \"rgb(128, 0, 128)\"], [0.4444444444444444, \"rgb(219, 64, 82)\"], [0.5555555555555556, \"rgb(0, 128, 128)\"], [0.6666666666666666, \"rgb(255, 255, 51)\"], [0.7777777777777778, \"rgb(128, 128, 0)\"], [0.8888888888888888, \"rgb(251, 128, 114)\"], [1.0, \"rgb(128, 177, 211)\"]], \"type\": \"surface\", \"x\": [0, 1, 2, 3, 4], \"y\": [\"id\", \"name\", \"remarks\"], \"z\": [[1, 2, 3, 4, 5], [10, 20, 30, 40, 50], [5, 4, 3, 2, 1]]}],\n",
       "                        {\"legend\": {\"bgcolor\": \"#F5F6F9\", \"font\": {\"color\": \"#4D5663\"}}, \"paper_bgcolor\": \"#F5F6F9\", \"plot_bgcolor\": \"#F5F6F9\", \"template\": {\"data\": {\"bar\": [{\"error_x\": {\"color\": \"#2a3f5f\"}, \"error_y\": {\"color\": \"#2a3f5f\"}, \"marker\": {\"line\": {\"color\": \"#E5ECF6\", \"width\": 0.5}}, \"type\": \"bar\"}], \"barpolar\": [{\"marker\": {\"line\": {\"color\": \"#E5ECF6\", \"width\": 0.5}}, \"type\": \"barpolar\"}], \"carpet\": [{\"aaxis\": {\"endlinecolor\": \"#2a3f5f\", \"gridcolor\": \"white\", \"linecolor\": \"white\", \"minorgridcolor\": \"white\", \"startlinecolor\": \"#2a3f5f\"}, \"baxis\": {\"endlinecolor\": \"#2a3f5f\", \"gridcolor\": \"white\", \"linecolor\": \"white\", \"minorgridcolor\": \"white\", \"startlinecolor\": \"#2a3f5f\"}, \"type\": \"carpet\"}], \"choropleth\": [{\"colorbar\": {\"outlinewidth\": 0, \"ticks\": \"\"}, \"type\": \"choropleth\"}], \"contour\": [{\"colorbar\": {\"outlinewidth\": 0, \"ticks\": \"\"}, \"colorscale\": [[0.0, \"#0d0887\"], [0.1111111111111111, \"#46039f\"], [0.2222222222222222, \"#7201a8\"], [0.3333333333333333, \"#9c179e\"], [0.4444444444444444, \"#bd3786\"], [0.5555555555555556, \"#d8576b\"], [0.6666666666666666, \"#ed7953\"], [0.7777777777777778, \"#fb9f3a\"], [0.8888888888888888, \"#fdca26\"], [1.0, \"#f0f921\"]], \"type\": \"contour\"}], \"contourcarpet\": [{\"colorbar\": {\"outlinewidth\": 0, \"ticks\": \"\"}, \"type\": \"contourcarpet\"}], \"heatmap\": [{\"colorbar\": {\"outlinewidth\": 0, \"ticks\": \"\"}, \"colorscale\": [[0.0, \"#0d0887\"], [0.1111111111111111, \"#46039f\"], [0.2222222222222222, \"#7201a8\"], [0.3333333333333333, \"#9c179e\"], [0.4444444444444444, \"#bd3786\"], [0.5555555555555556, \"#d8576b\"], [0.6666666666666666, \"#ed7953\"], [0.7777777777777778, \"#fb9f3a\"], [0.8888888888888888, \"#fdca26\"], [1.0, \"#f0f921\"]], \"type\": \"heatmap\"}], \"heatmapgl\": [{\"colorbar\": {\"outlinewidth\": 0, \"ticks\": \"\"}, \"colorscale\": [[0.0, \"#0d0887\"], [0.1111111111111111, \"#46039f\"], [0.2222222222222222, \"#7201a8\"], [0.3333333333333333, \"#9c179e\"], [0.4444444444444444, \"#bd3786\"], [0.5555555555555556, \"#d8576b\"], [0.6666666666666666, \"#ed7953\"], [0.7777777777777778, \"#fb9f3a\"], [0.8888888888888888, \"#fdca26\"], [1.0, \"#f0f921\"]], \"type\": \"heatmapgl\"}], \"histogram\": [{\"marker\": {\"colorbar\": {\"outlinewidth\": 0, \"ticks\": \"\"}}, \"type\": \"histogram\"}], \"histogram2d\": [{\"colorbar\": {\"outlinewidth\": 0, \"ticks\": \"\"}, \"colorscale\": [[0.0, \"#0d0887\"], [0.1111111111111111, \"#46039f\"], [0.2222222222222222, \"#7201a8\"], [0.3333333333333333, \"#9c179e\"], [0.4444444444444444, \"#bd3786\"], [0.5555555555555556, \"#d8576b\"], [0.6666666666666666, \"#ed7953\"], [0.7777777777777778, \"#fb9f3a\"], [0.8888888888888888, \"#fdca26\"], [1.0, \"#f0f921\"]], \"type\": \"histogram2d\"}], \"histogram2dcontour\": [{\"colorbar\": {\"outlinewidth\": 0, \"ticks\": \"\"}, \"colorscale\": [[0.0, \"#0d0887\"], [0.1111111111111111, \"#46039f\"], [0.2222222222222222, \"#7201a8\"], [0.3333333333333333, \"#9c179e\"], [0.4444444444444444, \"#bd3786\"], [0.5555555555555556, \"#d8576b\"], [0.6666666666666666, \"#ed7953\"], [0.7777777777777778, \"#fb9f3a\"], [0.8888888888888888, \"#fdca26\"], [1.0, \"#f0f921\"]], \"type\": \"histogram2dcontour\"}], \"mesh3d\": [{\"colorbar\": {\"outlinewidth\": 0, \"ticks\": \"\"}, \"type\": \"mesh3d\"}], \"parcoords\": [{\"line\": {\"colorbar\": {\"outlinewidth\": 0, \"ticks\": \"\"}}, \"type\": \"parcoords\"}], \"pie\": [{\"automargin\": true, \"type\": \"pie\"}], \"scatter\": [{\"marker\": {\"colorbar\": {\"outlinewidth\": 0, \"ticks\": \"\"}}, \"type\": \"scatter\"}], \"scatter3d\": [{\"line\": {\"colorbar\": {\"outlinewidth\": 0, \"ticks\": \"\"}}, \"marker\": {\"colorbar\": {\"outlinewidth\": 0, \"ticks\": \"\"}}, \"type\": \"scatter3d\"}], \"scattercarpet\": [{\"marker\": {\"colorbar\": {\"outlinewidth\": 0, \"ticks\": \"\"}}, \"type\": \"scattercarpet\"}], \"scattergeo\": [{\"marker\": {\"colorbar\": {\"outlinewidth\": 0, \"ticks\": \"\"}}, \"type\": \"scattergeo\"}], \"scattergl\": [{\"marker\": {\"colorbar\": {\"outlinewidth\": 0, \"ticks\": \"\"}}, \"type\": \"scattergl\"}], \"scattermapbox\": [{\"marker\": {\"colorbar\": {\"outlinewidth\": 0, \"ticks\": \"\"}}, \"type\": \"scattermapbox\"}], \"scatterpolar\": [{\"marker\": {\"colorbar\": {\"outlinewidth\": 0, \"ticks\": \"\"}}, \"type\": \"scatterpolar\"}], \"scatterpolargl\": [{\"marker\": {\"colorbar\": {\"outlinewidth\": 0, \"ticks\": \"\"}}, \"type\": \"scatterpolargl\"}], \"scatterternary\": [{\"marker\": {\"colorbar\": {\"outlinewidth\": 0, \"ticks\": \"\"}}, \"type\": \"scatterternary\"}], \"surface\": [{\"colorbar\": {\"outlinewidth\": 0, \"ticks\": \"\"}, \"colorscale\": [[0.0, \"#0d0887\"], [0.1111111111111111, \"#46039f\"], [0.2222222222222222, \"#7201a8\"], [0.3333333333333333, \"#9c179e\"], [0.4444444444444444, \"#bd3786\"], [0.5555555555555556, \"#d8576b\"], [0.6666666666666666, \"#ed7953\"], [0.7777777777777778, \"#fb9f3a\"], [0.8888888888888888, \"#fdca26\"], [1.0, \"#f0f921\"]], \"type\": \"surface\"}], \"table\": [{\"cells\": {\"fill\": {\"color\": \"#EBF0F8\"}, \"line\": {\"color\": \"white\"}}, \"header\": {\"fill\": {\"color\": \"#C8D4E3\"}, \"line\": {\"color\": \"white\"}}, \"type\": \"table\"}]}, \"layout\": {\"annotationdefaults\": {\"arrowcolor\": \"#2a3f5f\", \"arrowhead\": 0, \"arrowwidth\": 1}, \"coloraxis\": {\"colorbar\": {\"outlinewidth\": 0, \"ticks\": \"\"}}, \"colorscale\": {\"diverging\": [[0, \"#8e0152\"], [0.1, \"#c51b7d\"], [0.2, \"#de77ae\"], [0.3, \"#f1b6da\"], [0.4, \"#fde0ef\"], [0.5, \"#f7f7f7\"], [0.6, \"#e6f5d0\"], [0.7, \"#b8e186\"], [0.8, \"#7fbc41\"], [0.9, \"#4d9221\"], [1, \"#276419\"]], \"sequential\": [[0.0, \"#0d0887\"], [0.1111111111111111, \"#46039f\"], [0.2222222222222222, \"#7201a8\"], [0.3333333333333333, \"#9c179e\"], [0.4444444444444444, \"#bd3786\"], [0.5555555555555556, \"#d8576b\"], [0.6666666666666666, \"#ed7953\"], [0.7777777777777778, \"#fb9f3a\"], [0.8888888888888888, \"#fdca26\"], [1.0, \"#f0f921\"]], \"sequentialminus\": [[0.0, \"#0d0887\"], [0.1111111111111111, \"#46039f\"], [0.2222222222222222, \"#7201a8\"], [0.3333333333333333, \"#9c179e\"], [0.4444444444444444, \"#bd3786\"], [0.5555555555555556, \"#d8576b\"], [0.6666666666666666, \"#ed7953\"], [0.7777777777777778, \"#fb9f3a\"], [0.8888888888888888, \"#fdca26\"], [1.0, \"#f0f921\"]]}, \"colorway\": [\"#636efa\", \"#EF553B\", \"#00cc96\", \"#ab63fa\", \"#FFA15A\", \"#19d3f3\", \"#FF6692\", \"#B6E880\", \"#FF97FF\", \"#FECB52\"], \"font\": {\"color\": \"#2a3f5f\"}, \"geo\": {\"bgcolor\": \"white\", \"lakecolor\": \"white\", \"landcolor\": \"#E5ECF6\", \"showlakes\": true, \"showland\": true, \"subunitcolor\": \"white\"}, \"hoverlabel\": {\"align\": \"left\"}, \"hovermode\": \"closest\", \"mapbox\": {\"style\": \"light\"}, \"paper_bgcolor\": \"white\", \"plot_bgcolor\": \"#E5ECF6\", \"polar\": {\"angularaxis\": {\"gridcolor\": \"white\", \"linecolor\": \"white\", \"ticks\": \"\"}, \"bgcolor\": \"#E5ECF6\", \"radialaxis\": {\"gridcolor\": \"white\", \"linecolor\": \"white\", \"ticks\": \"\"}}, \"scene\": {\"xaxis\": {\"backgroundcolor\": \"#E5ECF6\", \"gridcolor\": \"white\", \"gridwidth\": 2, \"linecolor\": \"white\", \"showbackground\": true, \"ticks\": \"\", \"zerolinecolor\": \"white\"}, \"yaxis\": {\"backgroundcolor\": \"#E5ECF6\", \"gridcolor\": \"white\", \"gridwidth\": 2, \"linecolor\": \"white\", \"showbackground\": true, \"ticks\": \"\", \"zerolinecolor\": \"white\"}, \"zaxis\": {\"backgroundcolor\": \"#E5ECF6\", \"gridcolor\": \"white\", \"gridwidth\": 2, \"linecolor\": \"white\", \"showbackground\": true, \"ticks\": \"\", \"zerolinecolor\": \"white\"}}, \"shapedefaults\": {\"line\": {\"color\": \"#2a3f5f\"}}, \"ternary\": {\"aaxis\": {\"gridcolor\": \"white\", \"linecolor\": \"white\", \"ticks\": \"\"}, \"baxis\": {\"gridcolor\": \"white\", \"linecolor\": \"white\", \"ticks\": \"\"}, \"bgcolor\": \"#E5ECF6\", \"caxis\": {\"gridcolor\": \"white\", \"linecolor\": \"white\", \"ticks\": \"\"}}, \"title\": {\"x\": 0.05}, \"xaxis\": {\"automargin\": true, \"gridcolor\": \"white\", \"linecolor\": \"white\", \"ticks\": \"\", \"title\": {\"standoff\": 15}, \"zerolinecolor\": \"white\", \"zerolinewidth\": 2}, \"yaxis\": {\"automargin\": true, \"gridcolor\": \"white\", \"linecolor\": \"white\", \"ticks\": \"\", \"title\": {\"standoff\": 15}, \"zerolinecolor\": \"white\", \"zerolinewidth\": 2}}}, \"title\": {\"font\": {\"color\": \"#4D5663\"}}, \"xaxis\": {\"gridcolor\": \"#E1E5ED\", \"showgrid\": true, \"tickfont\": {\"color\": \"#4D5663\"}, \"title\": {\"font\": {\"color\": \"#4D5663\"}, \"text\": \"\"}, \"zerolinecolor\": \"#E1E5ED\"}, \"yaxis\": {\"gridcolor\": \"#E1E5ED\", \"showgrid\": true, \"tickfont\": {\"color\": \"#4D5663\"}, \"title\": {\"font\": {\"color\": \"#4D5663\"}, \"text\": \"\"}, \"zerolinecolor\": \"#E1E5ED\"}},\n",
       "                        {\"showLink\": true, \"linkText\": \"Export to plot.ly\", \"plotlyServerURL\": \"https://plot.ly\", \"responsive\": true}\n",
       "                    ).then(function(){\n",
       "                            \n",
       "var gd = document.getElementById('6979d8d6-bf47-4dc5-99a9-538600b83fda');\n",
       "var x = new MutationObserver(function (mutations, observer) {{\n",
       "        var display = window.getComputedStyle(gd).display;\n",
       "        if (!display || display === 'none') {{\n",
       "            console.log([gd, 'removed!']);\n",
       "            Plotly.purge(gd);\n",
       "            observer.disconnect();\n",
       "        }}\n",
       "}});\n",
       "\n",
       "// Listen for the removal of the full notebook cells\n",
       "var notebookContainer = gd.closest('#notebook-container');\n",
       "if (notebookContainer) {{\n",
       "    x.observe(notebookContainer, {childList: true});\n",
       "}}\n",
       "\n",
       "// Listen for the clearing of the current output cell\n",
       "var outputEl = gd.closest('.output');\n",
       "if (outputEl) {{\n",
       "    x.observe(outputEl, {childList: true});\n",
       "}}\n",
       "\n",
       "                        })\n",
       "                };\n",
       "                });\n",
       "            </script>\n",
       "        </div>"
      ]
     },
     "metadata": {},
     "output_type": "display_data"
    }
   ],
   "source": [
    "x1 =[1,2,3,4,5]\n",
    "y1 = [10,20,30,40,50]\n",
    "z1= [5,4,3,2,1]\n",
    "dataset = pd.DataFrame({'id':x1,'name':y1,'remarks':z1})\n",
    "dataset.iplot(kind='surface')"
   ]
  },
  {
   "cell_type": "code",
   "execution_count": 3,
   "metadata": {},
   "outputs": [
    {
     "data": {
      "application/vnd.plotly.v1+json": {
       "config": {
        "plotlyServerURL": "https://plot.ly"
       },
       "data": [
        {
         "line": {
          "color": "rgba(255, 153, 51, 1.0)",
          "dash": "solid",
          "shape": "linear",
          "width": 1.3
         },
         "mode": "lines",
         "name": "X",
         "text": "",
         "type": "scatter",
         "x": [
          0,
          1,
          2,
          3,
          4,
          5,
          6,
          7,
          8,
          9,
          10,
          11,
          12,
          13,
          14,
          15,
          16,
          17,
          18,
          19,
          20,
          21,
          22,
          23,
          24,
          25,
          26,
          27,
          28,
          29,
          30,
          31,
          32,
          33,
          34,
          35,
          36,
          37,
          38,
          39,
          40,
          41,
          42,
          43,
          44,
          45,
          46,
          47,
          48,
          49,
          50,
          51,
          52,
          53,
          54,
          55,
          56,
          57,
          58,
          59,
          60,
          61,
          62,
          63,
          64,
          65,
          66,
          67,
          68,
          69,
          70,
          71,
          72,
          73,
          74,
          75,
          76,
          77,
          78,
          79,
          80,
          81,
          82,
          83,
          84,
          85,
          86,
          87,
          88,
          89,
          90,
          91,
          92,
          93,
          94,
          95,
          96,
          97,
          98,
          99,
          100,
          101,
          102,
          103,
          104,
          105,
          106,
          107,
          108,
          109,
          110,
          111,
          112,
          113,
          114,
          115,
          116,
          117,
          118,
          119,
          120,
          121,
          122,
          123,
          124,
          125,
          126,
          127,
          128,
          129,
          130,
          131,
          132,
          133,
          134,
          135,
          136,
          137,
          138,
          139,
          140,
          141,
          142,
          143,
          144,
          145,
          146,
          147,
          148,
          149,
          150,
          151,
          152,
          153,
          154,
          155,
          156,
          157,
          158,
          159,
          160,
          161,
          162,
          163,
          164,
          165,
          166,
          167,
          168,
          169,
          170,
          171,
          172,
          173,
          174,
          175,
          176,
          177,
          178,
          179,
          180,
          181,
          182,
          183,
          184,
          185,
          186,
          187,
          188,
          189,
          190,
          191,
          192,
          193,
          194,
          195,
          196,
          197,
          198,
          199
         ],
         "y": [
          -0.7489436705618892,
          -2.4116879746300137,
          -0.9507719758372466,
          -1.8735634300743618,
          -3.132286410212303,
          -3.0045400114940906,
          -3.4042985349571273,
          -2.206919439251549,
          -3.6037601530708114,
          -5.225438328047736,
          -4.694801882350443,
          -5.647985973072281,
          -4.492479386199083,
          -5.205382934969019,
          -4.530149331887822,
          -4.549008231087227,
          -5.430758857383928,
          -4.610849000233417,
          -5.817951926130975,
          -6.374529495836617,
          -7.603290043056187,
          -7.52757670943684,
          -7.880765758899614,
          -7.846746517107005,
          -8.11737817877703,
          -9.172820587329621,
          -8.876948806709562,
          -8.571010210150963,
          -8.957126161856092,
          -8.223426019530551,
          -7.127367707988762,
          -5.037499601624303,
          -5.189224867075249,
          -6.277920553816559,
          -7.460864791520244,
          -7.271027312976127,
          -7.823092760821917,
          -7.34156337000133,
          -6.901246742389271,
          -6.45925268051404,
          -7.30421966384186,
          -7.514559841926159,
          -7.116663009650539,
          -7.819121344335859,
          -8.23955502740421,
          -8.97720125194887,
          -8.596076610212291,
          -7.488870892863553,
          -7.968568015719918,
          -7.120248362644072,
          -7.38416693075959,
          -7.549927256881186,
          -7.352805934438196,
          -8.317856792709602,
          -8.171311849868605,
          -6.302688985011009,
          -6.152115303740687,
          -4.744803453004102,
          -5.530618382702022,
          -4.742911667081296,
          -5.400168761769626,
          -5.061219176996835,
          -4.990601041856758,
          -4.989221070016537,
          -6.218528441087076,
          -6.535796653134329,
          -6.013668053120279,
          -5.164287710985944,
          -2.9668816695100584,
          -2.362702580369271,
          -3.300545696924408,
          -4.423314409577027,
          -3.165493307686181,
          -4.650838166269368,
          -4.624544191710208,
          -4.765178843267364,
          -3.826649039362727,
          -2.9824983778574086,
          -2.2929031893095666,
          -2.8909924779254976,
          -2.931752696646804,
          -2.26767645003112,
          -2.6490765969525443,
          -1.4396074673999675,
          -0.12493074145492367,
          0.8160349439679208,
          0.11050152050432982,
          -0.06852678083579317,
          -0.09592183769406229,
          0.2636332947408261,
          0.6273420453864051,
          -0.04353214796594107,
          0.460865636757253,
          0.9639426622331113,
          1.2092058007165525,
          0.4513881811897964,
          2.78888028854056,
          3.700453586700037,
          3.284008527218683,
          4.462123215387626,
          6.06214562062644,
          5.778145927631536,
          6.541881920090571,
          6.6196031671473,
          6.41872687642358,
          6.54777592485695,
          5.698152910592695,
          6.694384099687274,
          7.316606110767979,
          5.65401058658942,
          6.785624772317954,
          5.2263736337590725,
          7.210317820839105,
          6.127005715489257,
          8.47594661866995,
          8.607765883031426,
          8.543829103184489,
          6.7148865875720904,
          7.4171416671731185,
          6.277454783664017,
          7.222168289180928,
          8.356899009964955,
          8.498066416202983,
          8.530316248865741,
          8.071198780834003,
          6.963618281757821,
          6.571764512221633,
          7.904674528506066,
          8.923766113823271,
          8.727198832459248,
          7.0508307592329915,
          6.882384208224084,
          6.920388566771462,
          6.010394278085249,
          5.028563069725921,
          2.6679879335925425,
          2.3214664275745935,
          4.713340105417913,
          6.275603225023913,
          4.969954543174574,
          5.082876334936613,
          4.420799371418117,
          4.681549763431329,
          5.518943794234619,
          5.660006326427247,
          6.438570695132746,
          6.890548869948702,
          6.858758511367039,
          7.699084031020142,
          9.66931109288026,
          11.370947014878725,
          12.28811089301771,
          11.498246300333237,
          12.048502232558123,
          12.156329702621788,
          12.413592427772,
          10.7152483846737,
          12.30898808487439,
          15.334454582091658,
          17.209229161507057,
          16.980888742545737,
          15.79949974399014,
          15.791042590694902,
          16.674862504317698,
          18.450464477679915,
          18.42189065778363,
          18.89771273418326,
          16.451095281683926,
          17.771546820294382,
          17.534209841119768,
          17.448742904609958,
          16.595270470107895,
          17.135112238333814,
          17.23789375101846,
          18.903799991278202,
          19.150593565026995,
          19.84030262038051,
          20.606313719160102,
          20.679469811441006,
          19.81975085786298,
          19.189672628115588,
          18.550886218526564,
          17.50601970470605,
          16.874124220012057,
          16.987017824001708,
          17.84655167911312,
          17.72166963166418,
          17.086527667706996,
          18.402271707873417,
          18.98146285336065,
          18.94731593862848,
          18.880262869910425,
          17.713662265080462,
          16.348366578964644,
          16.652073012286696,
          16.748040652491724,
          18.25644242034802,
          17.45988461887968,
          17.20956094994963,
          15.687010519691956
         ]
        },
        {
         "line": {
          "color": "rgba(55, 128, 191, 1.0)",
          "dash": "solid",
          "shape": "linear",
          "width": 1.3
         },
         "mode": "lines",
         "name": "Y",
         "text": "",
         "type": "scatter",
         "x": [
          0,
          1,
          2,
          3,
          4,
          5,
          6,
          7,
          8,
          9,
          10,
          11,
          12,
          13,
          14,
          15,
          16,
          17,
          18,
          19,
          20,
          21,
          22,
          23,
          24,
          25,
          26,
          27,
          28,
          29,
          30,
          31,
          32,
          33,
          34,
          35,
          36,
          37,
          38,
          39,
          40,
          41,
          42,
          43,
          44,
          45,
          46,
          47,
          48,
          49,
          50,
          51,
          52,
          53,
          54,
          55,
          56,
          57,
          58,
          59,
          60,
          61,
          62,
          63,
          64,
          65,
          66,
          67,
          68,
          69,
          70,
          71,
          72,
          73,
          74,
          75,
          76,
          77,
          78,
          79,
          80,
          81,
          82,
          83,
          84,
          85,
          86,
          87,
          88,
          89,
          90,
          91,
          92,
          93,
          94,
          95,
          96,
          97,
          98,
          99,
          100,
          101,
          102,
          103,
          104,
          105,
          106,
          107,
          108,
          109,
          110,
          111,
          112,
          113,
          114,
          115,
          116,
          117,
          118,
          119,
          120,
          121,
          122,
          123,
          124,
          125,
          126,
          127,
          128,
          129,
          130,
          131,
          132,
          133,
          134,
          135,
          136,
          137,
          138,
          139,
          140,
          141,
          142,
          143,
          144,
          145,
          146,
          147,
          148,
          149,
          150,
          151,
          152,
          153,
          154,
          155,
          156,
          157,
          158,
          159,
          160,
          161,
          162,
          163,
          164,
          165,
          166,
          167,
          168,
          169,
          170,
          171,
          172,
          173,
          174,
          175,
          176,
          177,
          178,
          179,
          180,
          181,
          182,
          183,
          184,
          185,
          186,
          187,
          188,
          189,
          190,
          191,
          192,
          193,
          194,
          195,
          196,
          197,
          198,
          199
         ],
         "y": [
          -0.7974491146520997,
          -0.5675374127029037,
          1.0159731045101639,
          0.7503173033613864,
          1.9749978672633608,
          0.5051749236775718,
          0.6407639921048489,
          3.124421432895179,
          2.665157100275502,
          3.23027825893337,
          4.235243688427959,
          5.118347079869166,
          6.407122267625647,
          7.388703593292254,
          6.421000936195847,
          7.491519519509419,
          7.896158622282025,
          8.08699133223794,
          9.875276416972985,
          10.242497894228856,
          11.54064630339092,
          10.550424795902604,
          10.53500742014663,
          10.556761229100141,
          9.918846873389901,
          9.467188794312865,
          10.134189997450786,
          10.348569456751404,
          10.892677980686003,
          12.690390011885587,
          13.460142337516212,
          14.77585671104297,
          15.550067512357508,
          15.76233207674067,
          15.787221825418975,
          13.890107582789263,
          15.26995735152148,
          14.177298376396331,
          13.881770892064718,
          14.327200198332338,
          15.15537499532381,
          14.38017509060792,
          15.111488345722611,
          15.538143005194115,
          16.663672481060413,
          16.3494936785306,
          16.884790872203023,
          15.933972838070325,
          14.540587503016019,
          14.875149503231206,
          15.099898282570372,
          15.613955578790325,
          16.473784809386057,
          15.46254461806127,
          14.37057262939384,
          14.410185070453931,
          15.817504458834597,
          16.449961004802415,
          16.246724639132292,
          16.970647490131363,
          16.474405995489917,
          17.138762876904543,
          16.321940487136914,
          16.762652082878063,
          15.793867105031202,
          15.175112120825927,
          16.201527510980736,
          16.849948869719636,
          17.516607293562558,
          18.81802251457495,
          19.907040848359777,
          19.94388622614043,
          18.7202559154847,
          18.155874098777566,
          18.27980635273045,
          19.407674071512396,
          19.115630200513912,
          20.770784586307318,
          21.582494157499013,
          22.998625293304407,
          22.75118094336951,
          24.10046808565725,
          24.085394834355586,
          24.59877474583571,
          24.46369613083827,
          24.9757835966901,
          25.212763833219878,
          24.85613530051856,
          25.115244895159005,
          22.535044761876158,
          21.960046270549125,
          21.150117069874888,
          23.202749313133374,
          23.98173444655807,
          26.487691599758637,
          26.00123354428184,
          26.325618269386386,
          25.58055585656123,
          26.8380290592665,
          25.70615009950447,
          25.96240046560286,
          27.505675308481432,
          28.757875107729166,
          29.511188314745247,
          29.81315823848079,
          27.39757599966468,
          27.880315470593462,
          28.439846848693794,
          29.306749205555302,
          30.261160432008367,
          29.555347747904783,
          30.520969246296538,
          30.187435256380866,
          31.110670403579554,
          31.171010812516926,
          31.512134080416423,
          30.585242701416156,
          31.913051863905203,
          30.080783644467555,
          31.1442151967224,
          32.74781020477951,
          33.590836402050805,
          33.645049340747384,
          32.69974834830072,
          32.89188686310388,
          33.466705784675575,
          31.836585477624617,
          32.500600422540415,
          32.6709091493382,
          32.35223355408768,
          32.80879679654015,
          33.175199303794734,
          33.4380197297124,
          33.47942521615109,
          33.081367432796704,
          32.142004906734996,
          31.042285742092243,
          30.040027539600477,
          32.470735899931405,
          32.749334525435856,
          33.294182755417424,
          32.65553741895179,
          32.589964796653256,
          33.429239450810165,
          34.129550638820724,
          34.17836587978897,
          33.232717611637284,
          33.10018561327045,
          33.55246090059883,
          34.2612989156005,
          34.32514230048696,
          34.714087466312584,
          35.572954298393036,
          35.29823180801751,
          34.83319773102173,
          35.00648744218233,
          35.65653714669068,
          37.47713369183056,
          38.48100952483115,
          39.524958964474315,
          40.2517002390517,
          39.76567681183033,
          40.06821577086572,
          40.04386476937216,
          38.90254251066014,
          39.74980314664404,
          40.98349369885711,
          42.762859994072784,
          41.4033131680663,
          40.14915653035774,
          39.848816191216635,
          38.70324820503748,
          39.94391895284551,
          40.6725470752312,
          41.43502633064222,
          40.0240235772042,
          39.59863585216949,
          38.618821537328984,
          38.30432456813737,
          38.599447377083855,
          38.75699641123724,
          39.85090611502477,
          40.59242547494382,
          41.3956271242945,
          41.9143996229038,
          42.09896752275578,
          42.15714584079544,
          42.08078204112619,
          43.139253432260986,
          45.7309372835559,
          46.8315093711107,
          45.768637311762305,
          47.066112604466596,
          47.882520480460684,
          49.07341756127046,
          49.25066095835822,
          49.65251713538011,
          48.66947869824954,
          46.46185958060665,
          46.90811842123255
         ]
        }
       ],
       "layout": {
        "legend": {
         "bgcolor": "#F5F6F9",
         "font": {
          "color": "#4D5663"
         }
        },
        "paper_bgcolor": "#F5F6F9",
        "plot_bgcolor": "#F5F6F9",
        "template": {
         "data": {
          "bar": [
           {
            "error_x": {
             "color": "#2a3f5f"
            },
            "error_y": {
             "color": "#2a3f5f"
            },
            "marker": {
             "line": {
              "color": "#E5ECF6",
              "width": 0.5
             }
            },
            "type": "bar"
           }
          ],
          "barpolar": [
           {
            "marker": {
             "line": {
              "color": "#E5ECF6",
              "width": 0.5
             }
            },
            "type": "barpolar"
           }
          ],
          "carpet": [
           {
            "aaxis": {
             "endlinecolor": "#2a3f5f",
             "gridcolor": "white",
             "linecolor": "white",
             "minorgridcolor": "white",
             "startlinecolor": "#2a3f5f"
            },
            "baxis": {
             "endlinecolor": "#2a3f5f",
             "gridcolor": "white",
             "linecolor": "white",
             "minorgridcolor": "white",
             "startlinecolor": "#2a3f5f"
            },
            "type": "carpet"
           }
          ],
          "choropleth": [
           {
            "colorbar": {
             "outlinewidth": 0,
             "ticks": ""
            },
            "type": "choropleth"
           }
          ],
          "contour": [
           {
            "colorbar": {
             "outlinewidth": 0,
             "ticks": ""
            },
            "colorscale": [
             [
              0,
              "#0d0887"
             ],
             [
              0.1111111111111111,
              "#46039f"
             ],
             [
              0.2222222222222222,
              "#7201a8"
             ],
             [
              0.3333333333333333,
              "#9c179e"
             ],
             [
              0.4444444444444444,
              "#bd3786"
             ],
             [
              0.5555555555555556,
              "#d8576b"
             ],
             [
              0.6666666666666666,
              "#ed7953"
             ],
             [
              0.7777777777777778,
              "#fb9f3a"
             ],
             [
              0.8888888888888888,
              "#fdca26"
             ],
             [
              1,
              "#f0f921"
             ]
            ],
            "type": "contour"
           }
          ],
          "contourcarpet": [
           {
            "colorbar": {
             "outlinewidth": 0,
             "ticks": ""
            },
            "type": "contourcarpet"
           }
          ],
          "heatmap": [
           {
            "colorbar": {
             "outlinewidth": 0,
             "ticks": ""
            },
            "colorscale": [
             [
              0,
              "#0d0887"
             ],
             [
              0.1111111111111111,
              "#46039f"
             ],
             [
              0.2222222222222222,
              "#7201a8"
             ],
             [
              0.3333333333333333,
              "#9c179e"
             ],
             [
              0.4444444444444444,
              "#bd3786"
             ],
             [
              0.5555555555555556,
              "#d8576b"
             ],
             [
              0.6666666666666666,
              "#ed7953"
             ],
             [
              0.7777777777777778,
              "#fb9f3a"
             ],
             [
              0.8888888888888888,
              "#fdca26"
             ],
             [
              1,
              "#f0f921"
             ]
            ],
            "type": "heatmap"
           }
          ],
          "heatmapgl": [
           {
            "colorbar": {
             "outlinewidth": 0,
             "ticks": ""
            },
            "colorscale": [
             [
              0,
              "#0d0887"
             ],
             [
              0.1111111111111111,
              "#46039f"
             ],
             [
              0.2222222222222222,
              "#7201a8"
             ],
             [
              0.3333333333333333,
              "#9c179e"
             ],
             [
              0.4444444444444444,
              "#bd3786"
             ],
             [
              0.5555555555555556,
              "#d8576b"
             ],
             [
              0.6666666666666666,
              "#ed7953"
             ],
             [
              0.7777777777777778,
              "#fb9f3a"
             ],
             [
              0.8888888888888888,
              "#fdca26"
             ],
             [
              1,
              "#f0f921"
             ]
            ],
            "type": "heatmapgl"
           }
          ],
          "histogram": [
           {
            "marker": {
             "colorbar": {
              "outlinewidth": 0,
              "ticks": ""
             }
            },
            "type": "histogram"
           }
          ],
          "histogram2d": [
           {
            "colorbar": {
             "outlinewidth": 0,
             "ticks": ""
            },
            "colorscale": [
             [
              0,
              "#0d0887"
             ],
             [
              0.1111111111111111,
              "#46039f"
             ],
             [
              0.2222222222222222,
              "#7201a8"
             ],
             [
              0.3333333333333333,
              "#9c179e"
             ],
             [
              0.4444444444444444,
              "#bd3786"
             ],
             [
              0.5555555555555556,
              "#d8576b"
             ],
             [
              0.6666666666666666,
              "#ed7953"
             ],
             [
              0.7777777777777778,
              "#fb9f3a"
             ],
             [
              0.8888888888888888,
              "#fdca26"
             ],
             [
              1,
              "#f0f921"
             ]
            ],
            "type": "histogram2d"
           }
          ],
          "histogram2dcontour": [
           {
            "colorbar": {
             "outlinewidth": 0,
             "ticks": ""
            },
            "colorscale": [
             [
              0,
              "#0d0887"
             ],
             [
              0.1111111111111111,
              "#46039f"
             ],
             [
              0.2222222222222222,
              "#7201a8"
             ],
             [
              0.3333333333333333,
              "#9c179e"
             ],
             [
              0.4444444444444444,
              "#bd3786"
             ],
             [
              0.5555555555555556,
              "#d8576b"
             ],
             [
              0.6666666666666666,
              "#ed7953"
             ],
             [
              0.7777777777777778,
              "#fb9f3a"
             ],
             [
              0.8888888888888888,
              "#fdca26"
             ],
             [
              1,
              "#f0f921"
             ]
            ],
            "type": "histogram2dcontour"
           }
          ],
          "mesh3d": [
           {
            "colorbar": {
             "outlinewidth": 0,
             "ticks": ""
            },
            "type": "mesh3d"
           }
          ],
          "parcoords": [
           {
            "line": {
             "colorbar": {
              "outlinewidth": 0,
              "ticks": ""
             }
            },
            "type": "parcoords"
           }
          ],
          "pie": [
           {
            "automargin": true,
            "type": "pie"
           }
          ],
          "scatter": [
           {
            "marker": {
             "colorbar": {
              "outlinewidth": 0,
              "ticks": ""
             }
            },
            "type": "scatter"
           }
          ],
          "scatter3d": [
           {
            "line": {
             "colorbar": {
              "outlinewidth": 0,
              "ticks": ""
             }
            },
            "marker": {
             "colorbar": {
              "outlinewidth": 0,
              "ticks": ""
             }
            },
            "type": "scatter3d"
           }
          ],
          "scattercarpet": [
           {
            "marker": {
             "colorbar": {
              "outlinewidth": 0,
              "ticks": ""
             }
            },
            "type": "scattercarpet"
           }
          ],
          "scattergeo": [
           {
            "marker": {
             "colorbar": {
              "outlinewidth": 0,
              "ticks": ""
             }
            },
            "type": "scattergeo"
           }
          ],
          "scattergl": [
           {
            "marker": {
             "colorbar": {
              "outlinewidth": 0,
              "ticks": ""
             }
            },
            "type": "scattergl"
           }
          ],
          "scattermapbox": [
           {
            "marker": {
             "colorbar": {
              "outlinewidth": 0,
              "ticks": ""
             }
            },
            "type": "scattermapbox"
           }
          ],
          "scatterpolar": [
           {
            "marker": {
             "colorbar": {
              "outlinewidth": 0,
              "ticks": ""
             }
            },
            "type": "scatterpolar"
           }
          ],
          "scatterpolargl": [
           {
            "marker": {
             "colorbar": {
              "outlinewidth": 0,
              "ticks": ""
             }
            },
            "type": "scatterpolargl"
           }
          ],
          "scatterternary": [
           {
            "marker": {
             "colorbar": {
              "outlinewidth": 0,
              "ticks": ""
             }
            },
            "type": "scatterternary"
           }
          ],
          "surface": [
           {
            "colorbar": {
             "outlinewidth": 0,
             "ticks": ""
            },
            "colorscale": [
             [
              0,
              "#0d0887"
             ],
             [
              0.1111111111111111,
              "#46039f"
             ],
             [
              0.2222222222222222,
              "#7201a8"
             ],
             [
              0.3333333333333333,
              "#9c179e"
             ],
             [
              0.4444444444444444,
              "#bd3786"
             ],
             [
              0.5555555555555556,
              "#d8576b"
             ],
             [
              0.6666666666666666,
              "#ed7953"
             ],
             [
              0.7777777777777778,
              "#fb9f3a"
             ],
             [
              0.8888888888888888,
              "#fdca26"
             ],
             [
              1,
              "#f0f921"
             ]
            ],
            "type": "surface"
           }
          ],
          "table": [
           {
            "cells": {
             "fill": {
              "color": "#EBF0F8"
             },
             "line": {
              "color": "white"
             }
            },
            "header": {
             "fill": {
              "color": "#C8D4E3"
             },
             "line": {
              "color": "white"
             }
            },
            "type": "table"
           }
          ]
         },
         "layout": {
          "annotationdefaults": {
           "arrowcolor": "#2a3f5f",
           "arrowhead": 0,
           "arrowwidth": 1
          },
          "coloraxis": {
           "colorbar": {
            "outlinewidth": 0,
            "ticks": ""
           }
          },
          "colorscale": {
           "diverging": [
            [
             0,
             "#8e0152"
            ],
            [
             0.1,
             "#c51b7d"
            ],
            [
             0.2,
             "#de77ae"
            ],
            [
             0.3,
             "#f1b6da"
            ],
            [
             0.4,
             "#fde0ef"
            ],
            [
             0.5,
             "#f7f7f7"
            ],
            [
             0.6,
             "#e6f5d0"
            ],
            [
             0.7,
             "#b8e186"
            ],
            [
             0.8,
             "#7fbc41"
            ],
            [
             0.9,
             "#4d9221"
            ],
            [
             1,
             "#276419"
            ]
           ],
           "sequential": [
            [
             0,
             "#0d0887"
            ],
            [
             0.1111111111111111,
             "#46039f"
            ],
            [
             0.2222222222222222,
             "#7201a8"
            ],
            [
             0.3333333333333333,
             "#9c179e"
            ],
            [
             0.4444444444444444,
             "#bd3786"
            ],
            [
             0.5555555555555556,
             "#d8576b"
            ],
            [
             0.6666666666666666,
             "#ed7953"
            ],
            [
             0.7777777777777778,
             "#fb9f3a"
            ],
            [
             0.8888888888888888,
             "#fdca26"
            ],
            [
             1,
             "#f0f921"
            ]
           ],
           "sequentialminus": [
            [
             0,
             "#0d0887"
            ],
            [
             0.1111111111111111,
             "#46039f"
            ],
            [
             0.2222222222222222,
             "#7201a8"
            ],
            [
             0.3333333333333333,
             "#9c179e"
            ],
            [
             0.4444444444444444,
             "#bd3786"
            ],
            [
             0.5555555555555556,
             "#d8576b"
            ],
            [
             0.6666666666666666,
             "#ed7953"
            ],
            [
             0.7777777777777778,
             "#fb9f3a"
            ],
            [
             0.8888888888888888,
             "#fdca26"
            ],
            [
             1,
             "#f0f921"
            ]
           ]
          },
          "colorway": [
           "#636efa",
           "#EF553B",
           "#00cc96",
           "#ab63fa",
           "#FFA15A",
           "#19d3f3",
           "#FF6692",
           "#B6E880",
           "#FF97FF",
           "#FECB52"
          ],
          "font": {
           "color": "#2a3f5f"
          },
          "geo": {
           "bgcolor": "white",
           "lakecolor": "white",
           "landcolor": "#E5ECF6",
           "showlakes": true,
           "showland": true,
           "subunitcolor": "white"
          },
          "hoverlabel": {
           "align": "left"
          },
          "hovermode": "closest",
          "mapbox": {
           "style": "light"
          },
          "paper_bgcolor": "white",
          "plot_bgcolor": "#E5ECF6",
          "polar": {
           "angularaxis": {
            "gridcolor": "white",
            "linecolor": "white",
            "ticks": ""
           },
           "bgcolor": "#E5ECF6",
           "radialaxis": {
            "gridcolor": "white",
            "linecolor": "white",
            "ticks": ""
           }
          },
          "scene": {
           "xaxis": {
            "backgroundcolor": "#E5ECF6",
            "gridcolor": "white",
            "gridwidth": 2,
            "linecolor": "white",
            "showbackground": true,
            "ticks": "",
            "zerolinecolor": "white"
           },
           "yaxis": {
            "backgroundcolor": "#E5ECF6",
            "gridcolor": "white",
            "gridwidth": 2,
            "linecolor": "white",
            "showbackground": true,
            "ticks": "",
            "zerolinecolor": "white"
           },
           "zaxis": {
            "backgroundcolor": "#E5ECF6",
            "gridcolor": "white",
            "gridwidth": 2,
            "linecolor": "white",
            "showbackground": true,
            "ticks": "",
            "zerolinecolor": "white"
           }
          },
          "shapedefaults": {
           "line": {
            "color": "#2a3f5f"
           }
          },
          "ternary": {
           "aaxis": {
            "gridcolor": "white",
            "linecolor": "white",
            "ticks": ""
           },
           "baxis": {
            "gridcolor": "white",
            "linecolor": "white",
            "ticks": ""
           },
           "bgcolor": "#E5ECF6",
           "caxis": {
            "gridcolor": "white",
            "linecolor": "white",
            "ticks": ""
           }
          },
          "title": {
           "x": 0.05
          },
          "xaxis": {
           "automargin": true,
           "gridcolor": "white",
           "linecolor": "white",
           "ticks": "",
           "title": {
            "standoff": 15
           },
           "zerolinecolor": "white",
           "zerolinewidth": 2
          },
          "yaxis": {
           "automargin": true,
           "gridcolor": "white",
           "linecolor": "white",
           "ticks": "",
           "title": {
            "standoff": 15
           },
           "zerolinecolor": "white",
           "zerolinewidth": 2
          }
         }
        },
        "title": {
         "font": {
          "color": "#4D5663"
         },
         "text": "The Figure Title"
        },
        "xaxis": {
         "gridcolor": "#E1E5ED",
         "showgrid": true,
         "tickfont": {
          "color": "#4D5663"
         },
         "title": {
          "font": {
           "color": "#4D5663"
          },
          "text": "The X Axis"
         },
         "zerolinecolor": "#E1E5ED"
        },
        "yaxis": {
         "gridcolor": "#E1E5ED",
         "showgrid": true,
         "tickfont": {
          "color": "#4D5663"
         },
         "title": {
          "font": {
           "color": "#4D5663"
          },
          "text": "The Y Axis"
         },
         "zerolinecolor": "#E1E5ED"
        }
       }
      },
      "text/html": [
       "<div>\n",
       "        \n",
       "        \n",
       "            <div id=\"e7d848bd-3092-45fa-b097-daa928eaf02c\" class=\"plotly-graph-div\" style=\"height:525px; width:100%;\"></div>\n",
       "            <script type=\"text/javascript\">\n",
       "                require([\"plotly\"], function(Plotly) {\n",
       "                    window.PLOTLYENV=window.PLOTLYENV || {};\n",
       "                    \n",
       "                if (document.getElementById(\"e7d848bd-3092-45fa-b097-daa928eaf02c\")) {\n",
       "                    Plotly.newPlot(\n",
       "                        'e7d848bd-3092-45fa-b097-daa928eaf02c',\n",
       "                        [{\"line\": {\"color\": \"rgba(255, 153, 51, 1.0)\", \"dash\": \"solid\", \"shape\": \"linear\", \"width\": 1.3}, \"mode\": \"lines\", \"name\": \"X\", \"text\": \"\", \"type\": \"scatter\", \"x\": [0, 1, 2, 3, 4, 5, 6, 7, 8, 9, 10, 11, 12, 13, 14, 15, 16, 17, 18, 19, 20, 21, 22, 23, 24, 25, 26, 27, 28, 29, 30, 31, 32, 33, 34, 35, 36, 37, 38, 39, 40, 41, 42, 43, 44, 45, 46, 47, 48, 49, 50, 51, 52, 53, 54, 55, 56, 57, 58, 59, 60, 61, 62, 63, 64, 65, 66, 67, 68, 69, 70, 71, 72, 73, 74, 75, 76, 77, 78, 79, 80, 81, 82, 83, 84, 85, 86, 87, 88, 89, 90, 91, 92, 93, 94, 95, 96, 97, 98, 99, 100, 101, 102, 103, 104, 105, 106, 107, 108, 109, 110, 111, 112, 113, 114, 115, 116, 117, 118, 119, 120, 121, 122, 123, 124, 125, 126, 127, 128, 129, 130, 131, 132, 133, 134, 135, 136, 137, 138, 139, 140, 141, 142, 143, 144, 145, 146, 147, 148, 149, 150, 151, 152, 153, 154, 155, 156, 157, 158, 159, 160, 161, 162, 163, 164, 165, 166, 167, 168, 169, 170, 171, 172, 173, 174, 175, 176, 177, 178, 179, 180, 181, 182, 183, 184, 185, 186, 187, 188, 189, 190, 191, 192, 193, 194, 195, 196, 197, 198, 199], \"y\": [-0.7489436705618892, -2.4116879746300137, -0.9507719758372466, -1.8735634300743618, -3.132286410212303, -3.0045400114940906, -3.4042985349571273, -2.206919439251549, -3.6037601530708114, -5.225438328047736, -4.694801882350443, -5.647985973072281, -4.492479386199083, -5.205382934969019, -4.530149331887822, -4.549008231087227, -5.430758857383928, -4.610849000233417, -5.817951926130975, -6.374529495836617, -7.603290043056187, -7.52757670943684, -7.880765758899614, -7.846746517107005, -8.11737817877703, -9.172820587329621, -8.876948806709562, -8.571010210150963, -8.957126161856092, -8.223426019530551, -7.127367707988762, -5.037499601624303, -5.189224867075249, -6.277920553816559, -7.460864791520244, -7.271027312976127, -7.823092760821917, -7.34156337000133, -6.901246742389271, -6.45925268051404, -7.30421966384186, -7.514559841926159, -7.116663009650539, -7.819121344335859, -8.23955502740421, -8.97720125194887, -8.596076610212291, -7.488870892863553, -7.968568015719918, -7.120248362644072, -7.38416693075959, -7.549927256881186, -7.352805934438196, -8.317856792709602, -8.171311849868605, -6.302688985011009, -6.152115303740687, -4.744803453004102, -5.530618382702022, -4.742911667081296, -5.400168761769626, -5.061219176996835, -4.990601041856758, -4.989221070016537, -6.218528441087076, -6.535796653134329, -6.013668053120279, -5.164287710985944, -2.9668816695100584, -2.362702580369271, -3.300545696924408, -4.423314409577027, -3.165493307686181, -4.650838166269368, -4.624544191710208, -4.765178843267364, -3.826649039362727, -2.9824983778574086, -2.2929031893095666, -2.8909924779254976, -2.931752696646804, -2.26767645003112, -2.6490765969525443, -1.4396074673999675, -0.12493074145492367, 0.8160349439679208, 0.11050152050432982, -0.06852678083579317, -0.09592183769406229, 0.2636332947408261, 0.6273420453864051, -0.04353214796594107, 0.460865636757253, 0.9639426622331113, 1.2092058007165525, 0.4513881811897964, 2.78888028854056, 3.700453586700037, 3.284008527218683, 4.462123215387626, 6.06214562062644, 5.778145927631536, 6.541881920090571, 6.6196031671473, 6.41872687642358, 6.54777592485695, 5.698152910592695, 6.694384099687274, 7.316606110767979, 5.65401058658942, 6.785624772317954, 5.2263736337590725, 7.210317820839105, 6.127005715489257, 8.47594661866995, 8.607765883031426, 8.543829103184489, 6.7148865875720904, 7.4171416671731185, 6.277454783664017, 7.222168289180928, 8.356899009964955, 8.498066416202983, 8.530316248865741, 8.071198780834003, 6.963618281757821, 6.571764512221633, 7.904674528506066, 8.923766113823271, 8.727198832459248, 7.0508307592329915, 6.882384208224084, 6.920388566771462, 6.010394278085249, 5.028563069725921, 2.6679879335925425, 2.3214664275745935, 4.713340105417913, 6.275603225023913, 4.969954543174574, 5.082876334936613, 4.420799371418117, 4.681549763431329, 5.518943794234619, 5.660006326427247, 6.438570695132746, 6.890548869948702, 6.858758511367039, 7.699084031020142, 9.66931109288026, 11.370947014878725, 12.28811089301771, 11.498246300333237, 12.048502232558123, 12.156329702621788, 12.413592427772, 10.7152483846737, 12.30898808487439, 15.334454582091658, 17.209229161507057, 16.980888742545737, 15.79949974399014, 15.791042590694902, 16.674862504317698, 18.450464477679915, 18.42189065778363, 18.89771273418326, 16.451095281683926, 17.771546820294382, 17.534209841119768, 17.448742904609958, 16.595270470107895, 17.135112238333814, 17.23789375101846, 18.903799991278202, 19.150593565026995, 19.84030262038051, 20.606313719160102, 20.679469811441006, 19.81975085786298, 19.189672628115588, 18.550886218526564, 17.50601970470605, 16.874124220012057, 16.987017824001708, 17.84655167911312, 17.72166963166418, 17.086527667706996, 18.402271707873417, 18.98146285336065, 18.94731593862848, 18.880262869910425, 17.713662265080462, 16.348366578964644, 16.652073012286696, 16.748040652491724, 18.25644242034802, 17.45988461887968, 17.20956094994963, 15.687010519691956]}, {\"line\": {\"color\": \"rgba(55, 128, 191, 1.0)\", \"dash\": \"solid\", \"shape\": \"linear\", \"width\": 1.3}, \"mode\": \"lines\", \"name\": \"Y\", \"text\": \"\", \"type\": \"scatter\", \"x\": [0, 1, 2, 3, 4, 5, 6, 7, 8, 9, 10, 11, 12, 13, 14, 15, 16, 17, 18, 19, 20, 21, 22, 23, 24, 25, 26, 27, 28, 29, 30, 31, 32, 33, 34, 35, 36, 37, 38, 39, 40, 41, 42, 43, 44, 45, 46, 47, 48, 49, 50, 51, 52, 53, 54, 55, 56, 57, 58, 59, 60, 61, 62, 63, 64, 65, 66, 67, 68, 69, 70, 71, 72, 73, 74, 75, 76, 77, 78, 79, 80, 81, 82, 83, 84, 85, 86, 87, 88, 89, 90, 91, 92, 93, 94, 95, 96, 97, 98, 99, 100, 101, 102, 103, 104, 105, 106, 107, 108, 109, 110, 111, 112, 113, 114, 115, 116, 117, 118, 119, 120, 121, 122, 123, 124, 125, 126, 127, 128, 129, 130, 131, 132, 133, 134, 135, 136, 137, 138, 139, 140, 141, 142, 143, 144, 145, 146, 147, 148, 149, 150, 151, 152, 153, 154, 155, 156, 157, 158, 159, 160, 161, 162, 163, 164, 165, 166, 167, 168, 169, 170, 171, 172, 173, 174, 175, 176, 177, 178, 179, 180, 181, 182, 183, 184, 185, 186, 187, 188, 189, 190, 191, 192, 193, 194, 195, 196, 197, 198, 199], \"y\": [-0.7974491146520997, -0.5675374127029037, 1.0159731045101639, 0.7503173033613864, 1.9749978672633608, 0.5051749236775718, 0.6407639921048489, 3.124421432895179, 2.665157100275502, 3.23027825893337, 4.235243688427959, 5.118347079869166, 6.407122267625647, 7.388703593292254, 6.421000936195847, 7.491519519509419, 7.896158622282025, 8.08699133223794, 9.875276416972985, 10.242497894228856, 11.54064630339092, 10.550424795902604, 10.53500742014663, 10.556761229100141, 9.918846873389901, 9.467188794312865, 10.134189997450786, 10.348569456751404, 10.892677980686003, 12.690390011885587, 13.460142337516212, 14.77585671104297, 15.550067512357508, 15.76233207674067, 15.787221825418975, 13.890107582789263, 15.26995735152148, 14.177298376396331, 13.881770892064718, 14.327200198332338, 15.15537499532381, 14.38017509060792, 15.111488345722611, 15.538143005194115, 16.663672481060413, 16.3494936785306, 16.884790872203023, 15.933972838070325, 14.540587503016019, 14.875149503231206, 15.099898282570372, 15.613955578790325, 16.473784809386057, 15.46254461806127, 14.37057262939384, 14.410185070453931, 15.817504458834597, 16.449961004802415, 16.246724639132292, 16.970647490131363, 16.474405995489917, 17.138762876904543, 16.321940487136914, 16.762652082878063, 15.793867105031202, 15.175112120825927, 16.201527510980736, 16.849948869719636, 17.516607293562558, 18.81802251457495, 19.907040848359777, 19.94388622614043, 18.7202559154847, 18.155874098777566, 18.27980635273045, 19.407674071512396, 19.115630200513912, 20.770784586307318, 21.582494157499013, 22.998625293304407, 22.75118094336951, 24.10046808565725, 24.085394834355586, 24.59877474583571, 24.46369613083827, 24.9757835966901, 25.212763833219878, 24.85613530051856, 25.115244895159005, 22.535044761876158, 21.960046270549125, 21.150117069874888, 23.202749313133374, 23.98173444655807, 26.487691599758637, 26.00123354428184, 26.325618269386386, 25.58055585656123, 26.8380290592665, 25.70615009950447, 25.96240046560286, 27.505675308481432, 28.757875107729166, 29.511188314745247, 29.81315823848079, 27.39757599966468, 27.880315470593462, 28.439846848693794, 29.306749205555302, 30.261160432008367, 29.555347747904783, 30.520969246296538, 30.187435256380866, 31.110670403579554, 31.171010812516926, 31.512134080416423, 30.585242701416156, 31.913051863905203, 30.080783644467555, 31.1442151967224, 32.74781020477951, 33.590836402050805, 33.645049340747384, 32.69974834830072, 32.89188686310388, 33.466705784675575, 31.836585477624617, 32.500600422540415, 32.6709091493382, 32.35223355408768, 32.80879679654015, 33.175199303794734, 33.4380197297124, 33.47942521615109, 33.081367432796704, 32.142004906734996, 31.042285742092243, 30.040027539600477, 32.470735899931405, 32.749334525435856, 33.294182755417424, 32.65553741895179, 32.589964796653256, 33.429239450810165, 34.129550638820724, 34.17836587978897, 33.232717611637284, 33.10018561327045, 33.55246090059883, 34.2612989156005, 34.32514230048696, 34.714087466312584, 35.572954298393036, 35.29823180801751, 34.83319773102173, 35.00648744218233, 35.65653714669068, 37.47713369183056, 38.48100952483115, 39.524958964474315, 40.2517002390517, 39.76567681183033, 40.06821577086572, 40.04386476937216, 38.90254251066014, 39.74980314664404, 40.98349369885711, 42.762859994072784, 41.4033131680663, 40.14915653035774, 39.848816191216635, 38.70324820503748, 39.94391895284551, 40.6725470752312, 41.43502633064222, 40.0240235772042, 39.59863585216949, 38.618821537328984, 38.30432456813737, 38.599447377083855, 38.75699641123724, 39.85090611502477, 40.59242547494382, 41.3956271242945, 41.9143996229038, 42.09896752275578, 42.15714584079544, 42.08078204112619, 43.139253432260986, 45.7309372835559, 46.8315093711107, 45.768637311762305, 47.066112604466596, 47.882520480460684, 49.07341756127046, 49.25066095835822, 49.65251713538011, 48.66947869824954, 46.46185958060665, 46.90811842123255]}],\n",
       "                        {\"legend\": {\"bgcolor\": \"#F5F6F9\", \"font\": {\"color\": \"#4D5663\"}}, \"paper_bgcolor\": \"#F5F6F9\", \"plot_bgcolor\": \"#F5F6F9\", \"template\": {\"data\": {\"bar\": [{\"error_x\": {\"color\": \"#2a3f5f\"}, \"error_y\": {\"color\": \"#2a3f5f\"}, \"marker\": {\"line\": {\"color\": \"#E5ECF6\", \"width\": 0.5}}, \"type\": \"bar\"}], \"barpolar\": [{\"marker\": {\"line\": {\"color\": \"#E5ECF6\", \"width\": 0.5}}, \"type\": \"barpolar\"}], \"carpet\": [{\"aaxis\": {\"endlinecolor\": \"#2a3f5f\", \"gridcolor\": \"white\", \"linecolor\": \"white\", \"minorgridcolor\": \"white\", \"startlinecolor\": \"#2a3f5f\"}, \"baxis\": {\"endlinecolor\": \"#2a3f5f\", \"gridcolor\": \"white\", \"linecolor\": \"white\", \"minorgridcolor\": \"white\", \"startlinecolor\": \"#2a3f5f\"}, \"type\": \"carpet\"}], \"choropleth\": [{\"colorbar\": {\"outlinewidth\": 0, \"ticks\": \"\"}, \"type\": \"choropleth\"}], \"contour\": [{\"colorbar\": {\"outlinewidth\": 0, \"ticks\": \"\"}, \"colorscale\": [[0.0, \"#0d0887\"], [0.1111111111111111, \"#46039f\"], [0.2222222222222222, \"#7201a8\"], [0.3333333333333333, \"#9c179e\"], [0.4444444444444444, \"#bd3786\"], [0.5555555555555556, \"#d8576b\"], [0.6666666666666666, \"#ed7953\"], [0.7777777777777778, \"#fb9f3a\"], [0.8888888888888888, \"#fdca26\"], [1.0, \"#f0f921\"]], \"type\": \"contour\"}], \"contourcarpet\": [{\"colorbar\": {\"outlinewidth\": 0, \"ticks\": \"\"}, \"type\": \"contourcarpet\"}], \"heatmap\": [{\"colorbar\": {\"outlinewidth\": 0, \"ticks\": \"\"}, \"colorscale\": [[0.0, \"#0d0887\"], [0.1111111111111111, \"#46039f\"], [0.2222222222222222, \"#7201a8\"], [0.3333333333333333, \"#9c179e\"], [0.4444444444444444, \"#bd3786\"], [0.5555555555555556, \"#d8576b\"], [0.6666666666666666, \"#ed7953\"], [0.7777777777777778, \"#fb9f3a\"], [0.8888888888888888, \"#fdca26\"], [1.0, \"#f0f921\"]], \"type\": \"heatmap\"}], \"heatmapgl\": [{\"colorbar\": {\"outlinewidth\": 0, \"ticks\": \"\"}, \"colorscale\": [[0.0, \"#0d0887\"], [0.1111111111111111, \"#46039f\"], [0.2222222222222222, \"#7201a8\"], [0.3333333333333333, \"#9c179e\"], [0.4444444444444444, \"#bd3786\"], [0.5555555555555556, \"#d8576b\"], [0.6666666666666666, \"#ed7953\"], [0.7777777777777778, \"#fb9f3a\"], [0.8888888888888888, \"#fdca26\"], [1.0, \"#f0f921\"]], \"type\": \"heatmapgl\"}], \"histogram\": [{\"marker\": {\"colorbar\": {\"outlinewidth\": 0, \"ticks\": \"\"}}, \"type\": \"histogram\"}], \"histogram2d\": [{\"colorbar\": {\"outlinewidth\": 0, \"ticks\": \"\"}, \"colorscale\": [[0.0, \"#0d0887\"], [0.1111111111111111, \"#46039f\"], [0.2222222222222222, \"#7201a8\"], [0.3333333333333333, \"#9c179e\"], [0.4444444444444444, \"#bd3786\"], [0.5555555555555556, \"#d8576b\"], [0.6666666666666666, \"#ed7953\"], [0.7777777777777778, \"#fb9f3a\"], [0.8888888888888888, \"#fdca26\"], [1.0, \"#f0f921\"]], \"type\": \"histogram2d\"}], \"histogram2dcontour\": [{\"colorbar\": {\"outlinewidth\": 0, \"ticks\": \"\"}, \"colorscale\": [[0.0, \"#0d0887\"], [0.1111111111111111, \"#46039f\"], [0.2222222222222222, \"#7201a8\"], [0.3333333333333333, \"#9c179e\"], [0.4444444444444444, \"#bd3786\"], [0.5555555555555556, \"#d8576b\"], [0.6666666666666666, \"#ed7953\"], [0.7777777777777778, \"#fb9f3a\"], [0.8888888888888888, \"#fdca26\"], [1.0, \"#f0f921\"]], \"type\": \"histogram2dcontour\"}], \"mesh3d\": [{\"colorbar\": {\"outlinewidth\": 0, \"ticks\": \"\"}, \"type\": \"mesh3d\"}], \"parcoords\": [{\"line\": {\"colorbar\": {\"outlinewidth\": 0, \"ticks\": \"\"}}, \"type\": \"parcoords\"}], \"pie\": [{\"automargin\": true, \"type\": \"pie\"}], \"scatter\": [{\"marker\": {\"colorbar\": {\"outlinewidth\": 0, \"ticks\": \"\"}}, \"type\": \"scatter\"}], \"scatter3d\": [{\"line\": {\"colorbar\": {\"outlinewidth\": 0, \"ticks\": \"\"}}, \"marker\": {\"colorbar\": {\"outlinewidth\": 0, \"ticks\": \"\"}}, \"type\": \"scatter3d\"}], \"scattercarpet\": [{\"marker\": {\"colorbar\": {\"outlinewidth\": 0, \"ticks\": \"\"}}, \"type\": \"scattercarpet\"}], \"scattergeo\": [{\"marker\": {\"colorbar\": {\"outlinewidth\": 0, \"ticks\": \"\"}}, \"type\": \"scattergeo\"}], \"scattergl\": [{\"marker\": {\"colorbar\": {\"outlinewidth\": 0, \"ticks\": \"\"}}, \"type\": \"scattergl\"}], \"scattermapbox\": [{\"marker\": {\"colorbar\": {\"outlinewidth\": 0, \"ticks\": \"\"}}, \"type\": \"scattermapbox\"}], \"scatterpolar\": [{\"marker\": {\"colorbar\": {\"outlinewidth\": 0, \"ticks\": \"\"}}, \"type\": \"scatterpolar\"}], \"scatterpolargl\": [{\"marker\": {\"colorbar\": {\"outlinewidth\": 0, \"ticks\": \"\"}}, \"type\": \"scatterpolargl\"}], \"scatterternary\": [{\"marker\": {\"colorbar\": {\"outlinewidth\": 0, \"ticks\": \"\"}}, \"type\": \"scatterternary\"}], \"surface\": [{\"colorbar\": {\"outlinewidth\": 0, \"ticks\": \"\"}, \"colorscale\": [[0.0, \"#0d0887\"], [0.1111111111111111, \"#46039f\"], [0.2222222222222222, \"#7201a8\"], [0.3333333333333333, \"#9c179e\"], [0.4444444444444444, \"#bd3786\"], [0.5555555555555556, \"#d8576b\"], [0.6666666666666666, \"#ed7953\"], [0.7777777777777778, \"#fb9f3a\"], [0.8888888888888888, \"#fdca26\"], [1.0, \"#f0f921\"]], \"type\": \"surface\"}], \"table\": [{\"cells\": {\"fill\": {\"color\": \"#EBF0F8\"}, \"line\": {\"color\": \"white\"}}, \"header\": {\"fill\": {\"color\": \"#C8D4E3\"}, \"line\": {\"color\": \"white\"}}, \"type\": \"table\"}]}, \"layout\": {\"annotationdefaults\": {\"arrowcolor\": \"#2a3f5f\", \"arrowhead\": 0, \"arrowwidth\": 1}, \"coloraxis\": {\"colorbar\": {\"outlinewidth\": 0, \"ticks\": \"\"}}, \"colorscale\": {\"diverging\": [[0, \"#8e0152\"], [0.1, \"#c51b7d\"], [0.2, \"#de77ae\"], [0.3, \"#f1b6da\"], [0.4, \"#fde0ef\"], [0.5, \"#f7f7f7\"], [0.6, \"#e6f5d0\"], [0.7, \"#b8e186\"], [0.8, \"#7fbc41\"], [0.9, \"#4d9221\"], [1, \"#276419\"]], \"sequential\": [[0.0, \"#0d0887\"], [0.1111111111111111, \"#46039f\"], [0.2222222222222222, \"#7201a8\"], [0.3333333333333333, \"#9c179e\"], [0.4444444444444444, \"#bd3786\"], [0.5555555555555556, \"#d8576b\"], [0.6666666666666666, \"#ed7953\"], [0.7777777777777778, \"#fb9f3a\"], [0.8888888888888888, \"#fdca26\"], [1.0, \"#f0f921\"]], \"sequentialminus\": [[0.0, \"#0d0887\"], [0.1111111111111111, \"#46039f\"], [0.2222222222222222, \"#7201a8\"], [0.3333333333333333, \"#9c179e\"], [0.4444444444444444, \"#bd3786\"], [0.5555555555555556, \"#d8576b\"], [0.6666666666666666, \"#ed7953\"], [0.7777777777777778, \"#fb9f3a\"], [0.8888888888888888, \"#fdca26\"], [1.0, \"#f0f921\"]]}, \"colorway\": [\"#636efa\", \"#EF553B\", \"#00cc96\", \"#ab63fa\", \"#FFA15A\", \"#19d3f3\", \"#FF6692\", \"#B6E880\", \"#FF97FF\", \"#FECB52\"], \"font\": {\"color\": \"#2a3f5f\"}, \"geo\": {\"bgcolor\": \"white\", \"lakecolor\": \"white\", \"landcolor\": \"#E5ECF6\", \"showlakes\": true, \"showland\": true, \"subunitcolor\": \"white\"}, \"hoverlabel\": {\"align\": \"left\"}, \"hovermode\": \"closest\", \"mapbox\": {\"style\": \"light\"}, \"paper_bgcolor\": \"white\", \"plot_bgcolor\": \"#E5ECF6\", \"polar\": {\"angularaxis\": {\"gridcolor\": \"white\", \"linecolor\": \"white\", \"ticks\": \"\"}, \"bgcolor\": \"#E5ECF6\", \"radialaxis\": {\"gridcolor\": \"white\", \"linecolor\": \"white\", \"ticks\": \"\"}}, \"scene\": {\"xaxis\": {\"backgroundcolor\": \"#E5ECF6\", \"gridcolor\": \"white\", \"gridwidth\": 2, \"linecolor\": \"white\", \"showbackground\": true, \"ticks\": \"\", \"zerolinecolor\": \"white\"}, \"yaxis\": {\"backgroundcolor\": \"#E5ECF6\", \"gridcolor\": \"white\", \"gridwidth\": 2, \"linecolor\": \"white\", \"showbackground\": true, \"ticks\": \"\", \"zerolinecolor\": \"white\"}, \"zaxis\": {\"backgroundcolor\": \"#E5ECF6\", \"gridcolor\": \"white\", \"gridwidth\": 2, \"linecolor\": \"white\", \"showbackground\": true, \"ticks\": \"\", \"zerolinecolor\": \"white\"}}, \"shapedefaults\": {\"line\": {\"color\": \"#2a3f5f\"}}, \"ternary\": {\"aaxis\": {\"gridcolor\": \"white\", \"linecolor\": \"white\", \"ticks\": \"\"}, \"baxis\": {\"gridcolor\": \"white\", \"linecolor\": \"white\", \"ticks\": \"\"}, \"bgcolor\": \"#E5ECF6\", \"caxis\": {\"gridcolor\": \"white\", \"linecolor\": \"white\", \"ticks\": \"\"}}, \"title\": {\"x\": 0.05}, \"xaxis\": {\"automargin\": true, \"gridcolor\": \"white\", \"linecolor\": \"white\", \"ticks\": \"\", \"title\": {\"standoff\": 15}, \"zerolinecolor\": \"white\", \"zerolinewidth\": 2}, \"yaxis\": {\"automargin\": true, \"gridcolor\": \"white\", \"linecolor\": \"white\", \"ticks\": \"\", \"title\": {\"standoff\": 15}, \"zerolinecolor\": \"white\", \"zerolinewidth\": 2}}}, \"title\": {\"font\": {\"color\": \"#4D5663\"}, \"text\": \"The Figure Title\"}, \"xaxis\": {\"gridcolor\": \"#E1E5ED\", \"showgrid\": true, \"tickfont\": {\"color\": \"#4D5663\"}, \"title\": {\"font\": {\"color\": \"#4D5663\"}, \"text\": \"The X Axis\"}, \"zerolinecolor\": \"#E1E5ED\"}, \"yaxis\": {\"gridcolor\": \"#E1E5ED\", \"showgrid\": true, \"tickfont\": {\"color\": \"#4D5663\"}, \"title\": {\"font\": {\"color\": \"#4D5663\"}, \"text\": \"The Y Axis\"}, \"zerolinecolor\": \"#E1E5ED\"}},\n",
       "                        {\"responsive\": true}\n",
       "                    ).then(function(){\n",
       "                            \n",
       "var gd = document.getElementById('e7d848bd-3092-45fa-b097-daa928eaf02c');\n",
       "var x = new MutationObserver(function (mutations, observer) {{\n",
       "        var display = window.getComputedStyle(gd).display;\n",
       "        if (!display || display === 'none') {{\n",
       "            console.log([gd, 'removed!']);\n",
       "            Plotly.purge(gd);\n",
       "            observer.disconnect();\n",
       "        }}\n",
       "}});\n",
       "\n",
       "// Listen for the removal of the full notebook cells\n",
       "var notebookContainer = gd.closest('#notebook-container');\n",
       "if (notebookContainer) {{\n",
       "    x.observe(notebookContainer, {childList: true});\n",
       "}}\n",
       "\n",
       "// Listen for the clearing of the current output cell\n",
       "var outputEl = gd.closest('.output');\n",
       "if (outputEl) {{\n",
       "    x.observe(outputEl, {childList: true});\n",
       "}}\n",
       "\n",
       "                        })\n",
       "                };\n",
       "                });\n",
       "            </script>\n",
       "        </div>"
      ]
     },
     "metadata": {},
     "output_type": "display_data"
    }
   ],
   "source": [
    "df = pd.DataFrame(np.random.randn(200, 2), columns=['X', 'Y']).cumsum()\n",
    "fig = df.iplot(asFigure=True, xTitle=\"The X Axis\",\n",
    "                    yTitle=\"The Y Axis\", title=\"The Figure Title\")\n",
    "pyo.plot(fig,filename='timeseries.html')\n",
    "fig.show()"
   ]
  },
  {
   "cell_type": "code",
   "execution_count": 4,
   "metadata": {
    "scrolled": true
   },
   "outputs": [
    {
     "data": {
      "application/vnd.plotly.v1+json": {
       "config": {
        "plotlyServerURL": "https://plot.ly"
       },
       "data": [
        {
         "marker": {
          "color": "rgba(255, 153, 51, 0.6)",
          "line": {
           "color": "rgba(255, 153, 51, 1.0)",
           "width": 1
          }
         },
         "name": "A",
         "orientation": "v",
         "text": "",
         "type": "bar",
         "x": [
          0,
          1,
          2,
          3,
          4,
          5,
          6,
          7,
          8,
          9
         ],
         "y": [
          0.6084749098094058,
          0.18769039368646345,
          0.688857746576421,
          0.5171865703051612,
          0.4838412017673771,
          0.6394813140584286,
          0.7592193870200351,
          0.3153593039991369,
          0.0637956614922136,
          0.8777438310211018
         ]
        },
        {
         "marker": {
          "color": "rgba(55, 128, 191, 0.6)",
          "line": {
           "color": "rgba(55, 128, 191, 1.0)",
           "width": 1
          }
         },
         "name": "B",
         "orientation": "v",
         "text": "",
         "type": "bar",
         "x": [
          0,
          1,
          2,
          3,
          4,
          5,
          6,
          7,
          8,
          9
         ],
         "y": [
          0.20359277846279022,
          0.3645096454311404,
          0.21075079047068135,
          0.7507836975108475,
          0.40412150875007935,
          0.5051688653143939,
          0.7618030448086055,
          0.5923456396694379,
          0.06867463536387186,
          0.5118760315184485
         ]
        },
        {
         "marker": {
          "color": "rgba(50, 171, 96, 0.6)",
          "line": {
           "color": "rgba(50, 171, 96, 1.0)",
           "width": 1
          }
         },
         "name": "C",
         "orientation": "v",
         "text": "",
         "type": "bar",
         "x": [
          0,
          1,
          2,
          3,
          4,
          5,
          6,
          7,
          8,
          9
         ],
         "y": [
          0.7509533047220016,
          0.14492800968734676,
          0.6271092619182309,
          0.5110082392855745,
          0.6152824934631248,
          0.03762687593019454,
          0.660348324806977,
          0.13950298700140817,
          0.9831873215340377,
          0.8707349064607373
         ]
        },
        {
         "marker": {
          "color": "rgba(128, 0, 128, 0.6)",
          "line": {
           "color": "rgba(128, 0, 128, 1.0)",
           "width": 1
          }
         },
         "name": "D",
         "orientation": "v",
         "text": "",
         "type": "bar",
         "x": [
          0,
          1,
          2,
          3,
          4,
          5,
          6,
          7,
          8,
          9
         ],
         "y": [
          0.023213323552928378,
          0.2659561862766763,
          0.4347352244868975,
          0.004346195736759428,
          0.9951841538538724,
          0.8416891863893091,
          0.9519672387854236,
          0.5749160227409505,
          0.7003492145046484,
          0.4078800473506573
         ]
        }
       ],
       "layout": {
        "legend": {
         "bgcolor": "#F5F6F9",
         "font": {
          "color": "#4D5663"
         }
        },
        "paper_bgcolor": "#F5F6F9",
        "plot_bgcolor": "#F5F6F9",
        "template": {
         "data": {
          "bar": [
           {
            "error_x": {
             "color": "#2a3f5f"
            },
            "error_y": {
             "color": "#2a3f5f"
            },
            "marker": {
             "line": {
              "color": "#E5ECF6",
              "width": 0.5
             }
            },
            "type": "bar"
           }
          ],
          "barpolar": [
           {
            "marker": {
             "line": {
              "color": "#E5ECF6",
              "width": 0.5
             }
            },
            "type": "barpolar"
           }
          ],
          "carpet": [
           {
            "aaxis": {
             "endlinecolor": "#2a3f5f",
             "gridcolor": "white",
             "linecolor": "white",
             "minorgridcolor": "white",
             "startlinecolor": "#2a3f5f"
            },
            "baxis": {
             "endlinecolor": "#2a3f5f",
             "gridcolor": "white",
             "linecolor": "white",
             "minorgridcolor": "white",
             "startlinecolor": "#2a3f5f"
            },
            "type": "carpet"
           }
          ],
          "choropleth": [
           {
            "colorbar": {
             "outlinewidth": 0,
             "ticks": ""
            },
            "type": "choropleth"
           }
          ],
          "contour": [
           {
            "colorbar": {
             "outlinewidth": 0,
             "ticks": ""
            },
            "colorscale": [
             [
              0,
              "#0d0887"
             ],
             [
              0.1111111111111111,
              "#46039f"
             ],
             [
              0.2222222222222222,
              "#7201a8"
             ],
             [
              0.3333333333333333,
              "#9c179e"
             ],
             [
              0.4444444444444444,
              "#bd3786"
             ],
             [
              0.5555555555555556,
              "#d8576b"
             ],
             [
              0.6666666666666666,
              "#ed7953"
             ],
             [
              0.7777777777777778,
              "#fb9f3a"
             ],
             [
              0.8888888888888888,
              "#fdca26"
             ],
             [
              1,
              "#f0f921"
             ]
            ],
            "type": "contour"
           }
          ],
          "contourcarpet": [
           {
            "colorbar": {
             "outlinewidth": 0,
             "ticks": ""
            },
            "type": "contourcarpet"
           }
          ],
          "heatmap": [
           {
            "colorbar": {
             "outlinewidth": 0,
             "ticks": ""
            },
            "colorscale": [
             [
              0,
              "#0d0887"
             ],
             [
              0.1111111111111111,
              "#46039f"
             ],
             [
              0.2222222222222222,
              "#7201a8"
             ],
             [
              0.3333333333333333,
              "#9c179e"
             ],
             [
              0.4444444444444444,
              "#bd3786"
             ],
             [
              0.5555555555555556,
              "#d8576b"
             ],
             [
              0.6666666666666666,
              "#ed7953"
             ],
             [
              0.7777777777777778,
              "#fb9f3a"
             ],
             [
              0.8888888888888888,
              "#fdca26"
             ],
             [
              1,
              "#f0f921"
             ]
            ],
            "type": "heatmap"
           }
          ],
          "heatmapgl": [
           {
            "colorbar": {
             "outlinewidth": 0,
             "ticks": ""
            },
            "colorscale": [
             [
              0,
              "#0d0887"
             ],
             [
              0.1111111111111111,
              "#46039f"
             ],
             [
              0.2222222222222222,
              "#7201a8"
             ],
             [
              0.3333333333333333,
              "#9c179e"
             ],
             [
              0.4444444444444444,
              "#bd3786"
             ],
             [
              0.5555555555555556,
              "#d8576b"
             ],
             [
              0.6666666666666666,
              "#ed7953"
             ],
             [
              0.7777777777777778,
              "#fb9f3a"
             ],
             [
              0.8888888888888888,
              "#fdca26"
             ],
             [
              1,
              "#f0f921"
             ]
            ],
            "type": "heatmapgl"
           }
          ],
          "histogram": [
           {
            "marker": {
             "colorbar": {
              "outlinewidth": 0,
              "ticks": ""
             }
            },
            "type": "histogram"
           }
          ],
          "histogram2d": [
           {
            "colorbar": {
             "outlinewidth": 0,
             "ticks": ""
            },
            "colorscale": [
             [
              0,
              "#0d0887"
             ],
             [
              0.1111111111111111,
              "#46039f"
             ],
             [
              0.2222222222222222,
              "#7201a8"
             ],
             [
              0.3333333333333333,
              "#9c179e"
             ],
             [
              0.4444444444444444,
              "#bd3786"
             ],
             [
              0.5555555555555556,
              "#d8576b"
             ],
             [
              0.6666666666666666,
              "#ed7953"
             ],
             [
              0.7777777777777778,
              "#fb9f3a"
             ],
             [
              0.8888888888888888,
              "#fdca26"
             ],
             [
              1,
              "#f0f921"
             ]
            ],
            "type": "histogram2d"
           }
          ],
          "histogram2dcontour": [
           {
            "colorbar": {
             "outlinewidth": 0,
             "ticks": ""
            },
            "colorscale": [
             [
              0,
              "#0d0887"
             ],
             [
              0.1111111111111111,
              "#46039f"
             ],
             [
              0.2222222222222222,
              "#7201a8"
             ],
             [
              0.3333333333333333,
              "#9c179e"
             ],
             [
              0.4444444444444444,
              "#bd3786"
             ],
             [
              0.5555555555555556,
              "#d8576b"
             ],
             [
              0.6666666666666666,
              "#ed7953"
             ],
             [
              0.7777777777777778,
              "#fb9f3a"
             ],
             [
              0.8888888888888888,
              "#fdca26"
             ],
             [
              1,
              "#f0f921"
             ]
            ],
            "type": "histogram2dcontour"
           }
          ],
          "mesh3d": [
           {
            "colorbar": {
             "outlinewidth": 0,
             "ticks": ""
            },
            "type": "mesh3d"
           }
          ],
          "parcoords": [
           {
            "line": {
             "colorbar": {
              "outlinewidth": 0,
              "ticks": ""
             }
            },
            "type": "parcoords"
           }
          ],
          "pie": [
           {
            "automargin": true,
            "type": "pie"
           }
          ],
          "scatter": [
           {
            "marker": {
             "colorbar": {
              "outlinewidth": 0,
              "ticks": ""
             }
            },
            "type": "scatter"
           }
          ],
          "scatter3d": [
           {
            "line": {
             "colorbar": {
              "outlinewidth": 0,
              "ticks": ""
             }
            },
            "marker": {
             "colorbar": {
              "outlinewidth": 0,
              "ticks": ""
             }
            },
            "type": "scatter3d"
           }
          ],
          "scattercarpet": [
           {
            "marker": {
             "colorbar": {
              "outlinewidth": 0,
              "ticks": ""
             }
            },
            "type": "scattercarpet"
           }
          ],
          "scattergeo": [
           {
            "marker": {
             "colorbar": {
              "outlinewidth": 0,
              "ticks": ""
             }
            },
            "type": "scattergeo"
           }
          ],
          "scattergl": [
           {
            "marker": {
             "colorbar": {
              "outlinewidth": 0,
              "ticks": ""
             }
            },
            "type": "scattergl"
           }
          ],
          "scattermapbox": [
           {
            "marker": {
             "colorbar": {
              "outlinewidth": 0,
              "ticks": ""
             }
            },
            "type": "scattermapbox"
           }
          ],
          "scatterpolar": [
           {
            "marker": {
             "colorbar": {
              "outlinewidth": 0,
              "ticks": ""
             }
            },
            "type": "scatterpolar"
           }
          ],
          "scatterpolargl": [
           {
            "marker": {
             "colorbar": {
              "outlinewidth": 0,
              "ticks": ""
             }
            },
            "type": "scatterpolargl"
           }
          ],
          "scatterternary": [
           {
            "marker": {
             "colorbar": {
              "outlinewidth": 0,
              "ticks": ""
             }
            },
            "type": "scatterternary"
           }
          ],
          "surface": [
           {
            "colorbar": {
             "outlinewidth": 0,
             "ticks": ""
            },
            "colorscale": [
             [
              0,
              "#0d0887"
             ],
             [
              0.1111111111111111,
              "#46039f"
             ],
             [
              0.2222222222222222,
              "#7201a8"
             ],
             [
              0.3333333333333333,
              "#9c179e"
             ],
             [
              0.4444444444444444,
              "#bd3786"
             ],
             [
              0.5555555555555556,
              "#d8576b"
             ],
             [
              0.6666666666666666,
              "#ed7953"
             ],
             [
              0.7777777777777778,
              "#fb9f3a"
             ],
             [
              0.8888888888888888,
              "#fdca26"
             ],
             [
              1,
              "#f0f921"
             ]
            ],
            "type": "surface"
           }
          ],
          "table": [
           {
            "cells": {
             "fill": {
              "color": "#EBF0F8"
             },
             "line": {
              "color": "white"
             }
            },
            "header": {
             "fill": {
              "color": "#C8D4E3"
             },
             "line": {
              "color": "white"
             }
            },
            "type": "table"
           }
          ]
         },
         "layout": {
          "annotationdefaults": {
           "arrowcolor": "#2a3f5f",
           "arrowhead": 0,
           "arrowwidth": 1
          },
          "coloraxis": {
           "colorbar": {
            "outlinewidth": 0,
            "ticks": ""
           }
          },
          "colorscale": {
           "diverging": [
            [
             0,
             "#8e0152"
            ],
            [
             0.1,
             "#c51b7d"
            ],
            [
             0.2,
             "#de77ae"
            ],
            [
             0.3,
             "#f1b6da"
            ],
            [
             0.4,
             "#fde0ef"
            ],
            [
             0.5,
             "#f7f7f7"
            ],
            [
             0.6,
             "#e6f5d0"
            ],
            [
             0.7,
             "#b8e186"
            ],
            [
             0.8,
             "#7fbc41"
            ],
            [
             0.9,
             "#4d9221"
            ],
            [
             1,
             "#276419"
            ]
           ],
           "sequential": [
            [
             0,
             "#0d0887"
            ],
            [
             0.1111111111111111,
             "#46039f"
            ],
            [
             0.2222222222222222,
             "#7201a8"
            ],
            [
             0.3333333333333333,
             "#9c179e"
            ],
            [
             0.4444444444444444,
             "#bd3786"
            ],
            [
             0.5555555555555556,
             "#d8576b"
            ],
            [
             0.6666666666666666,
             "#ed7953"
            ],
            [
             0.7777777777777778,
             "#fb9f3a"
            ],
            [
             0.8888888888888888,
             "#fdca26"
            ],
            [
             1,
             "#f0f921"
            ]
           ],
           "sequentialminus": [
            [
             0,
             "#0d0887"
            ],
            [
             0.1111111111111111,
             "#46039f"
            ],
            [
             0.2222222222222222,
             "#7201a8"
            ],
            [
             0.3333333333333333,
             "#9c179e"
            ],
            [
             0.4444444444444444,
             "#bd3786"
            ],
            [
             0.5555555555555556,
             "#d8576b"
            ],
            [
             0.6666666666666666,
             "#ed7953"
            ],
            [
             0.7777777777777778,
             "#fb9f3a"
            ],
            [
             0.8888888888888888,
             "#fdca26"
            ],
            [
             1,
             "#f0f921"
            ]
           ]
          },
          "colorway": [
           "#636efa",
           "#EF553B",
           "#00cc96",
           "#ab63fa",
           "#FFA15A",
           "#19d3f3",
           "#FF6692",
           "#B6E880",
           "#FF97FF",
           "#FECB52"
          ],
          "font": {
           "color": "#2a3f5f"
          },
          "geo": {
           "bgcolor": "white",
           "lakecolor": "white",
           "landcolor": "#E5ECF6",
           "showlakes": true,
           "showland": true,
           "subunitcolor": "white"
          },
          "hoverlabel": {
           "align": "left"
          },
          "hovermode": "closest",
          "mapbox": {
           "style": "light"
          },
          "paper_bgcolor": "white",
          "plot_bgcolor": "#E5ECF6",
          "polar": {
           "angularaxis": {
            "gridcolor": "white",
            "linecolor": "white",
            "ticks": ""
           },
           "bgcolor": "#E5ECF6",
           "radialaxis": {
            "gridcolor": "white",
            "linecolor": "white",
            "ticks": ""
           }
          },
          "scene": {
           "xaxis": {
            "backgroundcolor": "#E5ECF6",
            "gridcolor": "white",
            "gridwidth": 2,
            "linecolor": "white",
            "showbackground": true,
            "ticks": "",
            "zerolinecolor": "white"
           },
           "yaxis": {
            "backgroundcolor": "#E5ECF6",
            "gridcolor": "white",
            "gridwidth": 2,
            "linecolor": "white",
            "showbackground": true,
            "ticks": "",
            "zerolinecolor": "white"
           },
           "zaxis": {
            "backgroundcolor": "#E5ECF6",
            "gridcolor": "white",
            "gridwidth": 2,
            "linecolor": "white",
            "showbackground": true,
            "ticks": "",
            "zerolinecolor": "white"
           }
          },
          "shapedefaults": {
           "line": {
            "color": "#2a3f5f"
           }
          },
          "ternary": {
           "aaxis": {
            "gridcolor": "white",
            "linecolor": "white",
            "ticks": ""
           },
           "baxis": {
            "gridcolor": "white",
            "linecolor": "white",
            "ticks": ""
           },
           "bgcolor": "#E5ECF6",
           "caxis": {
            "gridcolor": "white",
            "linecolor": "white",
            "ticks": ""
           }
          },
          "title": {
           "x": 0.05
          },
          "xaxis": {
           "automargin": true,
           "gridcolor": "white",
           "linecolor": "white",
           "ticks": "",
           "title": {
            "standoff": 15
           },
           "zerolinecolor": "white",
           "zerolinewidth": 2
          },
          "yaxis": {
           "automargin": true,
           "gridcolor": "white",
           "linecolor": "white",
           "ticks": "",
           "title": {
            "standoff": 15
           },
           "zerolinecolor": "white",
           "zerolinewidth": 2
          }
         }
        },
        "title": {
         "font": {
          "color": "#4D5663"
         }
        },
        "xaxis": {
         "gridcolor": "#E1E5ED",
         "showgrid": true,
         "tickfont": {
          "color": "#4D5663"
         },
         "title": {
          "font": {
           "color": "#4D5663"
          },
          "text": ""
         },
         "zerolinecolor": "#E1E5ED"
        },
        "yaxis": {
         "gridcolor": "#E1E5ED",
         "showgrid": true,
         "tickfont": {
          "color": "#4D5663"
         },
         "title": {
          "font": {
           "color": "#4D5663"
          },
          "text": ""
         },
         "zerolinecolor": "#E1E5ED"
        }
       }
      },
      "text/html": [
       "<div>\n",
       "        \n",
       "        \n",
       "            <div id=\"9c80de52-fee6-496e-9bb1-64aa7b3ddf82\" class=\"plotly-graph-div\" style=\"height:525px; width:100%;\"></div>\n",
       "            <script type=\"text/javascript\">\n",
       "                require([\"plotly\"], function(Plotly) {\n",
       "                    window.PLOTLYENV=window.PLOTLYENV || {};\n",
       "                    \n",
       "                if (document.getElementById(\"9c80de52-fee6-496e-9bb1-64aa7b3ddf82\")) {\n",
       "                    Plotly.newPlot(\n",
       "                        '9c80de52-fee6-496e-9bb1-64aa7b3ddf82',\n",
       "                        [{\"marker\": {\"color\": \"rgba(255, 153, 51, 0.6)\", \"line\": {\"color\": \"rgba(255, 153, 51, 1.0)\", \"width\": 1}}, \"name\": \"A\", \"orientation\": \"v\", \"text\": \"\", \"type\": \"bar\", \"x\": [0, 1, 2, 3, 4, 5, 6, 7, 8, 9], \"y\": [0.6084749098094058, 0.18769039368646345, 0.688857746576421, 0.5171865703051612, 0.4838412017673771, 0.6394813140584286, 0.7592193870200351, 0.3153593039991369, 0.0637956614922136, 0.8777438310211018]}, {\"marker\": {\"color\": \"rgba(55, 128, 191, 0.6)\", \"line\": {\"color\": \"rgba(55, 128, 191, 1.0)\", \"width\": 1}}, \"name\": \"B\", \"orientation\": \"v\", \"text\": \"\", \"type\": \"bar\", \"x\": [0, 1, 2, 3, 4, 5, 6, 7, 8, 9], \"y\": [0.20359277846279022, 0.3645096454311404, 0.21075079047068135, 0.7507836975108475, 0.40412150875007935, 0.5051688653143939, 0.7618030448086055, 0.5923456396694379, 0.06867463536387186, 0.5118760315184485]}, {\"marker\": {\"color\": \"rgba(50, 171, 96, 0.6)\", \"line\": {\"color\": \"rgba(50, 171, 96, 1.0)\", \"width\": 1}}, \"name\": \"C\", \"orientation\": \"v\", \"text\": \"\", \"type\": \"bar\", \"x\": [0, 1, 2, 3, 4, 5, 6, 7, 8, 9], \"y\": [0.7509533047220016, 0.14492800968734676, 0.6271092619182309, 0.5110082392855745, 0.6152824934631248, 0.03762687593019454, 0.660348324806977, 0.13950298700140817, 0.9831873215340377, 0.8707349064607373]}, {\"marker\": {\"color\": \"rgba(128, 0, 128, 0.6)\", \"line\": {\"color\": \"rgba(128, 0, 128, 1.0)\", \"width\": 1}}, \"name\": \"D\", \"orientation\": \"v\", \"text\": \"\", \"type\": \"bar\", \"x\": [0, 1, 2, 3, 4, 5, 6, 7, 8, 9], \"y\": [0.023213323552928378, 0.2659561862766763, 0.4347352244868975, 0.004346195736759428, 0.9951841538538724, 0.8416891863893091, 0.9519672387854236, 0.5749160227409505, 0.7003492145046484, 0.4078800473506573]}],\n",
       "                        {\"legend\": {\"bgcolor\": \"#F5F6F9\", \"font\": {\"color\": \"#4D5663\"}}, \"paper_bgcolor\": \"#F5F6F9\", \"plot_bgcolor\": \"#F5F6F9\", \"template\": {\"data\": {\"bar\": [{\"error_x\": {\"color\": \"#2a3f5f\"}, \"error_y\": {\"color\": \"#2a3f5f\"}, \"marker\": {\"line\": {\"color\": \"#E5ECF6\", \"width\": 0.5}}, \"type\": \"bar\"}], \"barpolar\": [{\"marker\": {\"line\": {\"color\": \"#E5ECF6\", \"width\": 0.5}}, \"type\": \"barpolar\"}], \"carpet\": [{\"aaxis\": {\"endlinecolor\": \"#2a3f5f\", \"gridcolor\": \"white\", \"linecolor\": \"white\", \"minorgridcolor\": \"white\", \"startlinecolor\": \"#2a3f5f\"}, \"baxis\": {\"endlinecolor\": \"#2a3f5f\", \"gridcolor\": \"white\", \"linecolor\": \"white\", \"minorgridcolor\": \"white\", \"startlinecolor\": \"#2a3f5f\"}, \"type\": \"carpet\"}], \"choropleth\": [{\"colorbar\": {\"outlinewidth\": 0, \"ticks\": \"\"}, \"type\": \"choropleth\"}], \"contour\": [{\"colorbar\": {\"outlinewidth\": 0, \"ticks\": \"\"}, \"colorscale\": [[0.0, \"#0d0887\"], [0.1111111111111111, \"#46039f\"], [0.2222222222222222, \"#7201a8\"], [0.3333333333333333, \"#9c179e\"], [0.4444444444444444, \"#bd3786\"], [0.5555555555555556, \"#d8576b\"], [0.6666666666666666, \"#ed7953\"], [0.7777777777777778, \"#fb9f3a\"], [0.8888888888888888, \"#fdca26\"], [1.0, \"#f0f921\"]], \"type\": \"contour\"}], \"contourcarpet\": [{\"colorbar\": {\"outlinewidth\": 0, \"ticks\": \"\"}, \"type\": \"contourcarpet\"}], \"heatmap\": [{\"colorbar\": {\"outlinewidth\": 0, \"ticks\": \"\"}, \"colorscale\": [[0.0, \"#0d0887\"], [0.1111111111111111, \"#46039f\"], [0.2222222222222222, \"#7201a8\"], [0.3333333333333333, \"#9c179e\"], [0.4444444444444444, \"#bd3786\"], [0.5555555555555556, \"#d8576b\"], [0.6666666666666666, \"#ed7953\"], [0.7777777777777778, \"#fb9f3a\"], [0.8888888888888888, \"#fdca26\"], [1.0, \"#f0f921\"]], \"type\": \"heatmap\"}], \"heatmapgl\": [{\"colorbar\": {\"outlinewidth\": 0, \"ticks\": \"\"}, \"colorscale\": [[0.0, \"#0d0887\"], [0.1111111111111111, \"#46039f\"], [0.2222222222222222, \"#7201a8\"], [0.3333333333333333, \"#9c179e\"], [0.4444444444444444, \"#bd3786\"], [0.5555555555555556, \"#d8576b\"], [0.6666666666666666, \"#ed7953\"], [0.7777777777777778, \"#fb9f3a\"], [0.8888888888888888, \"#fdca26\"], [1.0, \"#f0f921\"]], \"type\": \"heatmapgl\"}], \"histogram\": [{\"marker\": {\"colorbar\": {\"outlinewidth\": 0, \"ticks\": \"\"}}, \"type\": \"histogram\"}], \"histogram2d\": [{\"colorbar\": {\"outlinewidth\": 0, \"ticks\": \"\"}, \"colorscale\": [[0.0, \"#0d0887\"], [0.1111111111111111, \"#46039f\"], [0.2222222222222222, \"#7201a8\"], [0.3333333333333333, \"#9c179e\"], [0.4444444444444444, \"#bd3786\"], [0.5555555555555556, \"#d8576b\"], [0.6666666666666666, \"#ed7953\"], [0.7777777777777778, \"#fb9f3a\"], [0.8888888888888888, \"#fdca26\"], [1.0, \"#f0f921\"]], \"type\": \"histogram2d\"}], \"histogram2dcontour\": [{\"colorbar\": {\"outlinewidth\": 0, \"ticks\": \"\"}, \"colorscale\": [[0.0, \"#0d0887\"], [0.1111111111111111, \"#46039f\"], [0.2222222222222222, \"#7201a8\"], [0.3333333333333333, \"#9c179e\"], [0.4444444444444444, \"#bd3786\"], [0.5555555555555556, \"#d8576b\"], [0.6666666666666666, \"#ed7953\"], [0.7777777777777778, \"#fb9f3a\"], [0.8888888888888888, \"#fdca26\"], [1.0, \"#f0f921\"]], \"type\": \"histogram2dcontour\"}], \"mesh3d\": [{\"colorbar\": {\"outlinewidth\": 0, \"ticks\": \"\"}, \"type\": \"mesh3d\"}], \"parcoords\": [{\"line\": {\"colorbar\": {\"outlinewidth\": 0, \"ticks\": \"\"}}, \"type\": \"parcoords\"}], \"pie\": [{\"automargin\": true, \"type\": \"pie\"}], \"scatter\": [{\"marker\": {\"colorbar\": {\"outlinewidth\": 0, \"ticks\": \"\"}}, \"type\": \"scatter\"}], \"scatter3d\": [{\"line\": {\"colorbar\": {\"outlinewidth\": 0, \"ticks\": \"\"}}, \"marker\": {\"colorbar\": {\"outlinewidth\": 0, \"ticks\": \"\"}}, \"type\": \"scatter3d\"}], \"scattercarpet\": [{\"marker\": {\"colorbar\": {\"outlinewidth\": 0, \"ticks\": \"\"}}, \"type\": \"scattercarpet\"}], \"scattergeo\": [{\"marker\": {\"colorbar\": {\"outlinewidth\": 0, \"ticks\": \"\"}}, \"type\": \"scattergeo\"}], \"scattergl\": [{\"marker\": {\"colorbar\": {\"outlinewidth\": 0, \"ticks\": \"\"}}, \"type\": \"scattergl\"}], \"scattermapbox\": [{\"marker\": {\"colorbar\": {\"outlinewidth\": 0, \"ticks\": \"\"}}, \"type\": \"scattermapbox\"}], \"scatterpolar\": [{\"marker\": {\"colorbar\": {\"outlinewidth\": 0, \"ticks\": \"\"}}, \"type\": \"scatterpolar\"}], \"scatterpolargl\": [{\"marker\": {\"colorbar\": {\"outlinewidth\": 0, \"ticks\": \"\"}}, \"type\": \"scatterpolargl\"}], \"scatterternary\": [{\"marker\": {\"colorbar\": {\"outlinewidth\": 0, \"ticks\": \"\"}}, \"type\": \"scatterternary\"}], \"surface\": [{\"colorbar\": {\"outlinewidth\": 0, \"ticks\": \"\"}, \"colorscale\": [[0.0, \"#0d0887\"], [0.1111111111111111, \"#46039f\"], [0.2222222222222222, \"#7201a8\"], [0.3333333333333333, \"#9c179e\"], [0.4444444444444444, \"#bd3786\"], [0.5555555555555556, \"#d8576b\"], [0.6666666666666666, \"#ed7953\"], [0.7777777777777778, \"#fb9f3a\"], [0.8888888888888888, \"#fdca26\"], [1.0, \"#f0f921\"]], \"type\": \"surface\"}], \"table\": [{\"cells\": {\"fill\": {\"color\": \"#EBF0F8\"}, \"line\": {\"color\": \"white\"}}, \"header\": {\"fill\": {\"color\": \"#C8D4E3\"}, \"line\": {\"color\": \"white\"}}, \"type\": \"table\"}]}, \"layout\": {\"annotationdefaults\": {\"arrowcolor\": \"#2a3f5f\", \"arrowhead\": 0, \"arrowwidth\": 1}, \"coloraxis\": {\"colorbar\": {\"outlinewidth\": 0, \"ticks\": \"\"}}, \"colorscale\": {\"diverging\": [[0, \"#8e0152\"], [0.1, \"#c51b7d\"], [0.2, \"#de77ae\"], [0.3, \"#f1b6da\"], [0.4, \"#fde0ef\"], [0.5, \"#f7f7f7\"], [0.6, \"#e6f5d0\"], [0.7, \"#b8e186\"], [0.8, \"#7fbc41\"], [0.9, \"#4d9221\"], [1, \"#276419\"]], \"sequential\": [[0.0, \"#0d0887\"], [0.1111111111111111, \"#46039f\"], [0.2222222222222222, \"#7201a8\"], [0.3333333333333333, \"#9c179e\"], [0.4444444444444444, \"#bd3786\"], [0.5555555555555556, \"#d8576b\"], [0.6666666666666666, \"#ed7953\"], [0.7777777777777778, \"#fb9f3a\"], [0.8888888888888888, \"#fdca26\"], [1.0, \"#f0f921\"]], \"sequentialminus\": [[0.0, \"#0d0887\"], [0.1111111111111111, \"#46039f\"], [0.2222222222222222, \"#7201a8\"], [0.3333333333333333, \"#9c179e\"], [0.4444444444444444, \"#bd3786\"], [0.5555555555555556, \"#d8576b\"], [0.6666666666666666, \"#ed7953\"], [0.7777777777777778, \"#fb9f3a\"], [0.8888888888888888, \"#fdca26\"], [1.0, \"#f0f921\"]]}, \"colorway\": [\"#636efa\", \"#EF553B\", \"#00cc96\", \"#ab63fa\", \"#FFA15A\", \"#19d3f3\", \"#FF6692\", \"#B6E880\", \"#FF97FF\", \"#FECB52\"], \"font\": {\"color\": \"#2a3f5f\"}, \"geo\": {\"bgcolor\": \"white\", \"lakecolor\": \"white\", \"landcolor\": \"#E5ECF6\", \"showlakes\": true, \"showland\": true, \"subunitcolor\": \"white\"}, \"hoverlabel\": {\"align\": \"left\"}, \"hovermode\": \"closest\", \"mapbox\": {\"style\": \"light\"}, \"paper_bgcolor\": \"white\", \"plot_bgcolor\": \"#E5ECF6\", \"polar\": {\"angularaxis\": {\"gridcolor\": \"white\", \"linecolor\": \"white\", \"ticks\": \"\"}, \"bgcolor\": \"#E5ECF6\", \"radialaxis\": {\"gridcolor\": \"white\", \"linecolor\": \"white\", \"ticks\": \"\"}}, \"scene\": {\"xaxis\": {\"backgroundcolor\": \"#E5ECF6\", \"gridcolor\": \"white\", \"gridwidth\": 2, \"linecolor\": \"white\", \"showbackground\": true, \"ticks\": \"\", \"zerolinecolor\": \"white\"}, \"yaxis\": {\"backgroundcolor\": \"#E5ECF6\", \"gridcolor\": \"white\", \"gridwidth\": 2, \"linecolor\": \"white\", \"showbackground\": true, \"ticks\": \"\", \"zerolinecolor\": \"white\"}, \"zaxis\": {\"backgroundcolor\": \"#E5ECF6\", \"gridcolor\": \"white\", \"gridwidth\": 2, \"linecolor\": \"white\", \"showbackground\": true, \"ticks\": \"\", \"zerolinecolor\": \"white\"}}, \"shapedefaults\": {\"line\": {\"color\": \"#2a3f5f\"}}, \"ternary\": {\"aaxis\": {\"gridcolor\": \"white\", \"linecolor\": \"white\", \"ticks\": \"\"}, \"baxis\": {\"gridcolor\": \"white\", \"linecolor\": \"white\", \"ticks\": \"\"}, \"bgcolor\": \"#E5ECF6\", \"caxis\": {\"gridcolor\": \"white\", \"linecolor\": \"white\", \"ticks\": \"\"}}, \"title\": {\"x\": 0.05}, \"xaxis\": {\"automargin\": true, \"gridcolor\": \"white\", \"linecolor\": \"white\", \"ticks\": \"\", \"title\": {\"standoff\": 15}, \"zerolinecolor\": \"white\", \"zerolinewidth\": 2}, \"yaxis\": {\"automargin\": true, \"gridcolor\": \"white\", \"linecolor\": \"white\", \"ticks\": \"\", \"title\": {\"standoff\": 15}, \"zerolinecolor\": \"white\", \"zerolinewidth\": 2}}}, \"title\": {\"font\": {\"color\": \"#4D5663\"}}, \"xaxis\": {\"gridcolor\": \"#E1E5ED\", \"showgrid\": true, \"tickfont\": {\"color\": \"#4D5663\"}, \"title\": {\"font\": {\"color\": \"#4D5663\"}, \"text\": \"\"}, \"zerolinecolor\": \"#E1E5ED\"}, \"yaxis\": {\"gridcolor\": \"#E1E5ED\", \"showgrid\": true, \"tickfont\": {\"color\": \"#4D5663\"}, \"title\": {\"font\": {\"color\": \"#4D5663\"}, \"text\": \"\"}, \"zerolinecolor\": \"#E1E5ED\"}},\n",
       "                        {\"responsive\": true}\n",
       "                    ).then(function(){\n",
       "                            \n",
       "var gd = document.getElementById('9c80de52-fee6-496e-9bb1-64aa7b3ddf82');\n",
       "var x = new MutationObserver(function (mutations, observer) {{\n",
       "        var display = window.getComputedStyle(gd).display;\n",
       "        if (!display || display === 'none') {{\n",
       "            console.log([gd, 'removed!']);\n",
       "            Plotly.purge(gd);\n",
       "            observer.disconnect();\n",
       "        }}\n",
       "}});\n",
       "\n",
       "// Listen for the removal of the full notebook cells\n",
       "var notebookContainer = gd.closest('#notebook-container');\n",
       "if (notebookContainer) {{\n",
       "    x.observe(notebookContainer, {childList: true});\n",
       "}}\n",
       "\n",
       "// Listen for the clearing of the current output cell\n",
       "var outputEl = gd.closest('.output');\n",
       "if (outputEl) {{\n",
       "    x.observe(outputEl, {childList: true});\n",
       "}}\n",
       "\n",
       "                        })\n",
       "                };\n",
       "                });\n",
       "            </script>\n",
       "        </div>"
      ]
     },
     "metadata": {},
     "output_type": "display_data"
    }
   ],
   "source": [
    "df = pd.DataFrame(np.random.rand(10, 4), columns=['A', 'B', 'C', 'D'])\n",
    "fig = df.iplot(asFigure=True, kind=\"bar\")\n",
    "pyo.plot(fig,filename='bar.html')\n",
    "fig.show()"
   ]
  },
  {
   "cell_type": "code",
   "execution_count": 5,
   "metadata": {},
   "outputs": [
    {
     "data": {
      "application/vnd.plotly.v1+json": {
       "config": {
        "plotlyServerURL": "https://plot.ly"
       },
       "data": [
        {
         "histfunc": "count",
         "histnorm": "",
         "marker": {
          "color": "rgba(255, 153, 51, 1.0)",
          "line": {
           "color": "#4D5663",
           "width": 1.3
          }
         },
         "name": "a",
         "opacity": 0.8,
         "orientation": "v",
         "type": "histogram",
         "x": [
          0.44091327272398306,
          2.256049940535907,
          1.3822410002029912,
          1.5225355870023094,
          1.372193208763579,
          -0.35582689195813577,
          2.3673818362195247,
          0.6564684874382698,
          0.7981458454500423,
          0.5905366859583757,
          1.254400401454161,
          1.095053356878178,
          0.4154445063703348,
          0.08656633221506127,
          1.6501574243578432,
          0.9129954578749011,
          1.051763216934134,
          -1.418150158090505,
          2.0403344070771636,
          -0.4975155915899936,
          2.1126964362767717,
          1.292328553122617,
          1.1433155617020514,
          0.6273030198117842,
          -0.2691468407191109,
          1.0060635515871619,
          0.04752265765660013,
          0.4282939689682802,
          1.569468547868013,
          -0.15196601692576728,
          -0.47655639597793154,
          2.0771344615850116,
          2.5057544092496538,
          1.1371762122615634,
          1.5991140064714058,
          2.68619795093284,
          1.2697271762002724,
          -1.0997950021220109,
          2.010700976316347,
          1.5334765070606133,
          0.2976132439063457,
          0.11501917185083621,
          2.384828544583906,
          0.33075886545274014,
          1.4490208354695828,
          0.48747444776457827,
          3.1785724679411196,
          0.10932424911617589,
          0.6464395777760295,
          0.2721591654366511,
          0.0958780700649583,
          1.2702780692707545,
          0.9234554328340517,
          1.7322461995378657,
          1.275399556594028,
          1.8229815625291015,
          0.17872786849853828,
          0.06865158498114932,
          1.5706543185239474,
          1.884892534716748,
          0.14668554166692527,
          0.04041069168178346,
          1.8189731240617526,
          -1.1386441629908663,
          1.1566896491389913,
          1.001190715091521,
          1.7337228488361824,
          0.8042322886900448,
          -1.379408220720571,
          -0.1040772189207737,
          1.4760485159132428,
          0.5467020121630624,
          0.6478317610125834,
          0.15864168101140985,
          -0.6872178142919658,
          0.4551812520031423,
          0.16258834342223016,
          1.0826996534363111,
          0.7022151044082054,
          -0.9855142269289345,
          0.6589727560850129,
          -0.6519260784270446,
          -0.44259364263694967,
          1.5273610164589186,
          1.9732727589861931,
          1.1498972993737107,
          -0.6237956539347904,
          1.5512691089498802,
          0.5056911766392669,
          1.3936445525644476,
          0.562921825698423,
          1.4222486819096043,
          0.5870481725734775,
          -0.4916419944796082,
          1.1994322807420599,
          -0.35844625443284883,
          1.8136342009419226,
          2.5691288110488593,
          -0.4683390578399551,
          1.5096073646767803,
          0.11558005164847684,
          1.3382287051302435,
          0.864225389864004,
          0.904430619771565,
          1.965051857762603,
          1.251846957627714,
          2.800759546937372,
          0.21134738540933717,
          0.9117186162295691,
          1.5930849111852239,
          2.243303733047896,
          2.233080784883189,
          1.8614058334193457,
          0.18315171800327024,
          -0.41045727891558026,
          1.8643489192557352,
          0.8422185949668722,
          0.09365300845130275,
          2.6807194978972078,
          1.2103520010617224,
          1.6077478641959513,
          1.1720726847947682,
          2.0626185320060912,
          0.5997216976851631,
          0.8170365211803929,
          1.0154545730717188,
          0.3989061493308542,
          1.612850342164121,
          0.7321394441304039,
          0.9535454609790694,
          1.1051329371569856,
          0.8130761697729789,
          1.7782420285999627,
          1.0737566690522589,
          -0.32879310613520807,
          1.812769860772132,
          -0.5696088140382425,
          -0.8182784287616065,
          1.1394401967269547,
          -0.6400679326676892,
          0.17610976251642096,
          0.9358145803165341,
          2.278210544133323,
          2.564242797322456,
          1.639310122335687,
          0.3608323033468114,
          1.2684072787566611,
          1.7579905527660955,
          3.2224187880408506,
          0.5672758499461102,
          1.7689637978776478,
          2.0794906508558983,
          2.368139103315797,
          0.16487424245417792,
          2.5165919066130433,
          0.08001125465014214,
          0.758186486889793,
          0.5121337176989422,
          4.014555719741524,
          0.9368787604937575,
          1.184057719518165,
          0.7915190895686208,
          0.30797923253839943,
          0.40666726766534633,
          1.0166220982792733,
          0.5119496621378326,
          1.2775062774781296,
          -0.7360061951865062,
          1.1042436496197532,
          2.4366382225804424,
          0.9990481380710989,
          1.388719829419559,
          1.1173865573268031,
          0.15613218240510107,
          0.8974426449232967,
          0.906989664107388,
          1.6347711666524802,
          1.9743408898132933,
          0.6794380314343611,
          0.1931289605750316,
          1.5927500567952624,
          2.320192094648473,
          1.440303914211789,
          1.8097077623504028,
          1.7165309203381605,
          0.37054249112477033,
          0.5996970192629968,
          1.5843277802847189,
          0.0223954240046077,
          2.1133447221402974,
          0.2854120819665409,
          -1.0997372943775106,
          1.6559851440922846,
          2.1956188365164433,
          0.2937083859904076,
          2.383631220822406,
          1.581902970563625,
          1.0010338021293501,
          1.6319474261753641,
          2.0858233951650376,
          -1.6272143142308373,
          0.07713385701878483,
          1.5164479466461152,
          -0.3612495259025321,
          1.7124363436155012,
          2.2298173876323073,
          1.4340160191214204,
          0.4105533649825741,
          1.313087541418671,
          0.7848141628569432,
          0.17192682744615695,
          2.2169037821537465,
          1.5262875813228196,
          2.1313691029351505,
          0.20811338913889288,
          0.8408090801469457,
          1.8139830017371936,
          1.185848589144642,
          1.7925200591551054,
          0.9043105696435133,
          0.9415224981958015,
          0.36095625971741785,
          0.7298382223328934,
          2.42224865841819,
          0.4543859266145154,
          -0.21086515644821824,
          2.156446250324474,
          -0.6298727354088636,
          0.8374500088626056,
          1.2080522619985876,
          1.6840822308642514,
          -0.5391486083478572,
          1.9534028390328428,
          1.8333326522117634,
          -0.17154731993455852,
          0.6415849227225827,
          0.7159686157821139,
          1.5768739376547796,
          0.26569282843009157,
          -0.1357324335852288,
          -1.0803389301098991,
          3.1943849998559677,
          1.0053785549827765,
          1.640959806970684,
          1.5083523897741253,
          0.9393729823332801,
          1.3129520006020783,
          0.4394802567817012,
          0.3852682055620459,
          1.7373493677553746,
          0.9423908227333335,
          1.8958557156049731,
          0.15044055318903016,
          0.33228052680313425,
          -0.11754865790829583,
          2.8239715200794526,
          0.40705710013986807,
          0.7754622006832119,
          1.3292882678812905,
          1.1181433075738205,
          1.5307023803372921,
          1.1784715901025677,
          1.3215284054755558,
          1.0366894041310946,
          2.0245940935083384,
          0.6347006831223969,
          0.10719796138282878,
          1.3223139155520327,
          0.6556801292561257,
          0.3505619412578156,
          0.7588373772083358,
          0.5523549012627476,
          1.563395194289556,
          3.6142928014711626,
          1.4374264185477208,
          2.385991976736645,
          1.1249203708995743,
          -0.3738641057247609,
          0.5077453920405137,
          0.9931512383940128,
          2.472515682823117,
          1.7446164795438879,
          1.2985869629357294,
          -0.1154806995920572,
          2.878326438144505,
          0.17661713194191886,
          1.735225681191178,
          1.0214467824679503,
          1.2532358698707464,
          0.731521329802282,
          2.075594995259684,
          0.5751044204833629,
          1.7740596848849015,
          0.2992774043606794,
          1.857453703284436,
          1.5171200492992996,
          1.6285905340131086,
          1.5084803043998232,
          0.6495608915643339,
          1.157351091200698,
          -1.051152474305459,
          1.0212587070648158,
          0.6667849214078835,
          0.9563404832797888,
          -0.31518162365112556,
          0.9991586550666843,
          -0.3878838817782426,
          0.8906278667743621,
          1.9439402190957504,
          0.9134049559816672,
          1.140177385879546,
          0.1890771093020841,
          1.0178631594588439,
          -0.4754544029562886,
          3.069011052304876,
          1.6363943251359654,
          1.3129697599854642,
          0.6794549416410823,
          2.065352166787093,
          1.3791803885324714,
          0.8658539636287378,
          1.2857558208014637,
          1.484742486027663,
          1.3821498865179045,
          1.0378211272265965,
          0.9240354810712722,
          -0.3836441175610392,
          0.5626293220151641,
          2.4376245032698445,
          1.2520304113285954,
          1.5478644948051223,
          -0.026767918230816923,
          1.758474971567097,
          1.6626497012601749,
          1.4248604790232617,
          1.5807564062600865,
          1.911108619476265,
          -0.525331919303786,
          0.6321489516877232,
          3.4465730548465383,
          -0.278413658476943,
          3.089232982867197,
          0.7327746187111128,
          0.10825035251062465,
          1.1758656850739837,
          0.9885399087540317,
          -0.054679083866704836,
          0.5639694829614035,
          1.0120052991290096,
          1.762110691911432,
          1.6038282554359147,
          1.480991512748497,
          -0.47783997555822944,
          1.8789376964441296,
          1.2854476479513672,
          2.923701350308753,
          -0.2955473207945225,
          1.1772267025993486,
          -0.805966504795157,
          1.1495346118059508,
          1.172512430676508,
          -0.2609217582173424,
          -0.005574994300855618,
          -0.389009178007077,
          0.4991632464581275,
          1.1396002033980932,
          1.3616964403922216,
          -0.14471682405560915,
          1.1576289906813768,
          0.6771817644639255,
          -0.15790010962625622,
          1.329062765342045,
          0.6068413001367297,
          1.1747544952453597,
          0.18675052483672028,
          0.5078217935334939,
          1.2225265995909778,
          -0.30322849831309107,
          -0.9384006472367155,
          0.08688314064756808,
          -0.6054855438876074,
          0.3125728924114477,
          0.7410726785428426,
          1.4750570814076862,
          1.068465625604259,
          -0.0262896337714722,
          0.0818809451159217,
          0.16771999040527308,
          -0.24551540160398533,
          0.909125409479128,
          1.3411870260970107,
          1.5290892434750178,
          -0.30089801632893054,
          0.14835107536180447,
          1.3529076379468064,
          2.527812509933683,
          -0.22828056313239764,
          0.5540397519757846,
          1.4239190403811575,
          2.891277626385844,
          2.0694651573425555,
          0.3200385008008667,
          0.8397383478618334,
          0.06978986281561095,
          0.03153814769286478,
          0.20288526521225447,
          1.165754865493862,
          0.17238947185704367,
          1.0554920512544517,
          1.030503812504883,
          0.2152913091702613,
          1.7696916775844893,
          1.386226852515338,
          0.6483511937991124,
          1.4379551828874142,
          2.3294683096108852,
          1.5276723744426175,
          0.7841628680146893,
          0.8217069964147723,
          0.7692226939899693,
          0.022534298099112893,
          0.5097632533028663,
          0.6745130904128637,
          0.2985897038890587,
          -0.9465146983909358,
          0.5174754992742921,
          1.2914759924697996,
          -0.32578798150751864,
          1.805888459736014,
          1.7842672749592048,
          0.7325674785933931,
          -0.722435102462039,
          1.5568590029886762,
          1.0006379336182476,
          -0.17660507364870148,
          1.4952454578835304,
          1.9790741048579648,
          1.8627694270483646,
          1.6622631990101029,
          2.1131063450523313,
          -0.9779952921560897,
          0.40353740216495937,
          1.979862811576183,
          1.9623705927212938,
          -0.47329075377593655,
          0.6019634448789006,
          0.888278643051505,
          -0.72653236710797,
          1.0999091744099765,
          -0.05256171272091925,
          0.9334677975845797,
          1.0214152284500466,
          1.133708385297962,
          1.0153519567788742,
          1.37386123267616,
          0.46050167150401256,
          0.47209717084352176,
          0.8283225840192413,
          2.506823780052235,
          1.9042905111850308,
          0.9018864569780257,
          1.6740993658468635,
          -0.4512089061341953,
          0.977221999027247,
          0.2233420239920585,
          1.7880212614208928,
          0.16197084570660847,
          1.2328182526604885,
          1.732977523059906,
          0.9876969826493385,
          -0.10726563927653299,
          -0.7853375480759552,
          1.0105909942478115,
          1.4529967965694617,
          -0.57825456699063,
          0.001183440058652785,
          1.3462015265060725,
          0.3010998258379467,
          -1.3546804483734602,
          2.0069171649570556,
          -0.8359467936668896,
          2.167918148338623,
          -0.46830016158050336,
          1.193226110345327,
          2.4827306915461405,
          -0.13328273562161286,
          2.2403491116258127,
          1.1805016763205647,
          2.2742818673550023,
          2.4508662608290903,
          2.1930437972720975,
          0.8271627135493889,
          -0.11020301218904205,
          -1.0846347635968452,
          0.6618940044939496,
          1.894562138464654,
          0.9946787234981052,
          -1.1556219533276137,
          1.7307435428852571,
          0.6169418821631585
         ]
        },
        {
         "histfunc": "count",
         "histnorm": "",
         "marker": {
          "color": "rgba(55, 128, 191, 1.0)",
          "line": {
           "color": "#4D5663",
           "width": 1.3
          }
         },
         "name": "b",
         "opacity": 0.8,
         "orientation": "v",
         "type": "histogram",
         "x": [
          0.8600637635725479,
          0.29113962217474243,
          -0.5188660414351486,
          0.4064655214277502,
          -0.2429013895697959,
          -0.950359183412525,
          -1.1072786175158067,
          -1.703337685365138,
          0.8922837689493374,
          -0.6784814198055338,
          1.8002476962731226,
          1.115691256123363,
          -0.4951318977114641,
          -0.8771628184041708,
          0.35982042603762754,
          1.1220447765965202,
          -0.5745396654562688,
          0.10959561033328565,
          1.1366699534573874,
          1.4133992372703033,
          -0.003030801072639798,
          0.4242239167637036,
          1.5272234298521592,
          -0.7191321288947804,
          -0.37687670544217794,
          0.16040117115688204,
          -1.1832078393653087,
          0.006665652599693865,
          -0.8192747619172593,
          -1.9017660342481686,
          -0.9977945893700119,
          -1.0617980745459283,
          -0.6147793771091665,
          -0.4637641488663985,
          2.459535827040027,
          0.6863280122147535,
          -0.808436739412207,
          1.116078444354245,
          -1.6042030267647138,
          0.369010819866605,
          -0.409019085541988,
          1.5280773510055254,
          -0.07331265266762398,
          -0.0747812957397979,
          0.320433808117083,
          0.6245069827615084,
          1.355303865218766,
          -0.6221197030394043,
          1.547164716171145,
          0.1177415070600216,
          0.8088193296077993,
          1.2835418741008613,
          0.6738383760996617,
          0.7335801638150323,
          -0.4929459208230309,
          0.5839423718759245,
          -0.614221205857195,
          0.7556248126327176,
          0.08435887504007449,
          0.3787711611061367,
          0.9318155577810633,
          -1.0786832507372772,
          0.06049573773986351,
          0.42836699091156427,
          1.203383213645127,
          0.6613354254014518,
          -1.3170032175241717,
          0.01645644022778307,
          0.2672940794781538,
          1.442291995697421,
          -0.776670646659913,
          0.3011350255154919,
          0.11124346532248162,
          0.18269756092512102,
          0.28020429440953537,
          -0.9875803112228372,
          -0.3243673601737845,
          -1.0642301940732717,
          -0.040913058893354906,
          -0.7456767488954406,
          1.5611859176347758,
          -0.9206273557939615,
          -1.2604327035825338,
          -1.330100396805573,
          -0.8194202667418313,
          1.3459770067821555,
          1.8965105916526994,
          0.5739945339982089,
          -1.0662740588747206,
          0.6905118483999588,
          -0.8617396377098671,
          -1.619994285581888,
          -0.49828793893125095,
          0.1221881497061106,
          -0.12640387897796498,
          0.8708291946706301,
          -0.6320055496747595,
          -1.2041040054834986,
          -0.08951345312969512,
          -0.4618283039546502,
          -1.890250470147134,
          -0.12232802008105202,
          -0.8455485353397755,
          -0.3293984237676439,
          1.5015867397912983,
          -0.5799197609773652,
          -0.6224494485273039,
          -0.9822997271087236,
          -0.7897120828969075,
          0.6556277979716878,
          -0.3578402705005522,
          -2.4822945626516684,
          -0.901339613916208,
          0.5349815511564838,
          0.35856294098558816,
          -0.3009946369910764,
          -0.5838688351955239,
          -1.2919938183834614,
          0.8871317615457858,
          1.0369008606129586,
          1.819711978576863,
          -0.9982389747618914,
          -0.9715566458217499,
          -0.8532069754632483,
          1.3091110763090112,
          -0.8643110317469549,
          0.05794980474723679,
          0.9865526523780135,
          0.014584194475193712,
          0.8595203037418225,
          -1.1374982038609915,
          -1.0833296879967218,
          0.19003384435533338,
          -1.3316440127579419,
          0.7775690043981998,
          -1.691914910805962,
          -0.36197641238638434,
          0.06865141671838253,
          1.2828268458477456,
          0.12686670232724673,
          0.42764402653573225,
          -0.3451037417421779,
          -0.8508867373355137,
          -2.649727506139991,
          2.5628049498237377,
          0.7727295472120996,
          1.921655238022074,
          0.33895059896157886,
          0.7534028565885562,
          -1.0832925287979074,
          1.3186745641445694,
          -0.6769386041076816,
          0.688645816416143,
          -0.668105892572858,
          -0.901621528673041,
          -1.0839233729018265,
          -0.7029087470279362,
          1.1568660231622174,
          0.6150131999845884,
          -1.6443397369059105,
          0.18248962060583268,
          0.046359629300684234,
          0.14906611913369622,
          -0.46951824513088447,
          -0.49135291701966577,
          -0.09890658991482731,
          -0.6523524776577481,
          0.13232754435207933,
          -0.13653978156558946,
          -1.0139293899264608,
          -0.34029600447982083,
          -0.9707607117325777,
          -1.2613029451332793,
          1.8080409311766619,
          -1.097419947842332,
          -0.44987805032231565,
          -0.7309244810895202,
          -0.07942549846976744,
          0.38669854453895164,
          -1.65502236110641,
          -0.6616733172215916,
          -0.5667662407356442,
          0.0026388579236230505,
          -0.9752812578064499,
          -0.419301211758648,
          -1.5793638319467527,
          -0.2971758114762656,
          0.469615768146265,
          0.11435301467001337,
          0.429834338902741,
          -0.7299872891455981,
          -0.06311689089549032,
          -1.3176941557572162,
          0.5101226065489198,
          -0.2669832359944198,
          -0.31066713608061197,
          -0.07803534546944109,
          0.8877974342879091,
          0.6969481038280603,
          0.39653965498074545,
          0.5546761341154464,
          0.03653157630169743,
          -1.3767958490461039,
          -0.3083834834602238,
          -1.6170445337323598,
          0.9223971604834594,
          2.0662109911291493,
          1.85128377904813,
          -0.32688801838637743,
          -0.0003914474488981282,
          0.13349793620328573,
          0.2706734307449688,
          0.10969898161937165,
          -0.8909548146522822,
          -0.892979734891118,
          -0.7921480194832046,
          -0.03498424672876324,
          0.9752210892858126,
          0.10594418878557034,
          1.9539057464734217,
          0.8618493821728952,
          0.8932587936507982,
          -0.3887985024525041,
          1.0586202854090612,
          -1.1516619795063283,
          1.4667227385396917,
          0.7068499939291656,
          -0.4056579143010098,
          0.5211745625321024,
          0.2542454742416451,
          -0.05917962780297074,
          0.039731544475567,
          1.614054305070984,
          -0.3821776172847308,
          0.4086167409664873,
          -1.246607756082136,
          1.094515530083597,
          -1.7203062172508223,
          0.24661956965240386,
          0.48243373264407474,
          0.8099328952049556,
          -0.5616086471055565,
          -0.6852232595302159,
          -0.9925500315862537,
          0.5438950910088223,
          -1.2433378245000362,
          1.3343167471383575,
          0.6919836819880321,
          -0.3383729771219205,
          -0.18997121953285845,
          0.3432334134319712,
          0.4827553234183445,
          -1.4459023917253113,
          -0.5499718844210124,
          -0.2835341506320679,
          -0.23098061760377342,
          0.9522393168896147,
          -0.7635605126965463,
          1.3124776532728375,
          2.0190100326896907,
          -0.8281129534820914,
          -1.6314587610921707,
          0.11559737291938434,
          2.780229579821904,
          1.5084866624537856,
          -1.5895149186742823,
          0.756920394821398,
          -1.0819106735885702,
          0.8933166105810035,
          -0.1349522339729652,
          -0.8869346758912682,
          -1.630595615541146,
          -1.561449877441091,
          -0.1904567427224124,
          1.2377115456401546,
          -0.13449794054990755,
          0.4832224341318548,
          0.41739112528867545,
          -0.08167287724369018,
          1.1851178111922465,
          0.5627205227502662,
          -0.3747763724965852,
          -0.9540430026730964,
          0.6221766834678527,
          0.5938329863739038,
          0.7471563231769195,
          -0.008458274715544504,
          0.10393634046412495,
          0.09210080699117541,
          0.05780956781861528,
          0.3528435965188683,
          0.7134428437541226,
          -2.1935029815224354,
          1.2279915825123215,
          -0.6053717818294161,
          -0.4671819875887932,
          -1.0788051168491806,
          -0.14502799661310506,
          1.1325348783369789,
          1.6168178789396854,
          1.0830536019729018,
          -0.6415363911283768,
          0.6991998325955167,
          -1.5934873613305534,
          0.8671709961750197,
          -1.4642082869960584,
          0.9319592347957533,
          -0.7488190510481902,
          -0.04241016562683831,
          0.8044876371662978,
          -1.2255059505760126,
          0.7767995964824708,
          -0.42439212859683245,
          -0.9578129659114648,
          -1.4675579547810966,
          -0.6313775578702875,
          0.11514078959572542,
          0.5322814483931525,
          0.013782941138202099,
          -0.7183698471594075,
          -0.21471453490562323,
          -1.6129581695094464,
          -2.438160502355041,
          -0.5250954959881268,
          -0.7244763660885639,
          0.36222812907779744,
          -0.18556648128598946,
          1.277388398135846,
          -0.018835574639563268,
          -0.31181947873726584,
          -1.2149236618051635,
          -0.8582231573591265,
          1.5551194282965628,
          -1.3705220249922503,
          0.8982601750968712,
          0.46425213740819204,
          0.8514910563552857,
          0.17182967801308538,
          0.8436395579707443,
          -0.7060725775755603,
          1.3237773752980149,
          0.05846752402789718,
          -1.086566370952794,
          -0.5577649685120298,
          1.035588546112911,
          0.19698588282389096,
          -1.1607771184045943,
          -1.0576030600928565,
          1.064512697592439,
          -0.12267451639749087,
          0.950493865552134,
          -0.6113007954685753,
          1.1938354517046943,
          0.28518611796717136,
          2.00968499961012,
          0.44666333284100124,
          0.27257758137881727,
          0.4802142396338287,
          0.05873227906408181,
          -0.8769624739508938,
          -0.8549027851506162,
          -0.3331205170725156,
          0.6188238021926784,
          0.23740864129414088,
          0.02556673893586729,
          -0.319589727958053,
          1.3454606216872302,
          0.5712111539338864,
          -0.02513215391267719,
          0.9887842144587101,
          1.4721246471653275,
          1.896732190343502,
          1.301531479510165,
          1.172424983330998,
          -0.0036096010378811275,
          -0.42341928309756627,
          0.8328191571222571,
          0.79105865118848,
          0.9403303594926117,
          0.3424065447451268,
          -0.9602668404371285,
          -1.0660752313561686,
          0.18542290987251864,
          0.37440809083467347,
          0.9916072686918669,
          1.148374896764833,
          0.7674319239648176,
          -0.7731702812038311,
          -0.1976535733089919,
          -0.7203290920046455,
          -0.20823374916184798,
          -0.5019773812510664,
          1.5066357353626145,
          -0.9434977023811308,
          -0.6105245576152663,
          -0.49601190738542444,
          -1.1743107543186593,
          -0.9462803894044883,
          1.0048941108940475,
          -0.6032887260694311,
          0.1587489556010136,
          -1.4704077353460903,
          1.1573279947239674,
          -0.9122460422016875,
          -0.8338229740188288,
          1.571615259380963,
          -1.7124740554514415,
          1.4909900460399084,
          -0.42616932090442444,
          0.1690960630021941,
          0.43048084041422996,
          -1.7236632968129209,
          0.8548620199745465,
          1.4380542028222731,
          1.719738024090054,
          0.03382889012592444,
          -1.0625482321317494,
          0.7317911276228682,
          1.1233765024137539,
          1.287580652491934,
          0.3948264897817201,
          1.2592754229121106,
          0.9930741903606838,
          0.07864637322538,
          -0.7656001979732807,
          -0.6864892909879895,
          -2.2800218254232005,
          -0.9516257634827451,
          1.0308357159715296,
          -1.6261535081511374,
          -1.8341724998443507,
          -0.002883984137310261,
          2.199056777130825,
          0.17739130112743406,
          -0.15263755453614028,
          -1.1107799595255774,
          -0.24432720079546902,
          -1.6208901497730928,
          0.813226499316666,
          -2.0287309262892688,
          0.7937511073293922,
          0.014332130433581955,
          -0.6014586376325755,
          -0.6314241852970712,
          0.5543899780691963,
          1.0439963000709291,
          -1.294372706741285,
          -0.04926847259984782,
          -0.2032999047502288,
          -0.7779976982135784,
          0.5459501571843343,
          1.2995703133804737,
          -0.15099114295192315,
          -0.1903543690695303,
          1.8071326434104589,
          -0.44255661804900326,
          0.0917623091630663,
          1.2028915227567738,
          0.5586518500248628,
          0.7185583867600781,
          0.38013299939550066,
          -0.1979714615960119,
          -0.15878449405786207,
          1.174546749665941,
          0.2943100429679483,
          0.7660264519318553,
          0.3398553661295554,
          0.2055052520118922,
          -1.6985943559498453,
          -2.1343339510539634,
          0.7991261301739979,
          0.18451965360631178,
          -0.5798467927170825,
          -1.1569036209442118,
          -0.7823684329130003,
          0.5608801435840342,
          1.4380679404397423,
          0.43670713589460275,
          0.1433192600400617,
          0.9515834750634318,
          0.5825934277803386,
          0.21278848918488766,
          -0.11046850536143593,
          0.6839609546415631,
          0.03382440309024695,
          0.4765928943511261,
          1.038861484398483,
          0.23136013454460547,
          0.3099275814198602,
          -1.964640220309935,
          0.3247057610718357,
          0.953661129749883,
          -0.760792523567192,
          0.06598649253461743,
          1.0991715275994929,
          -0.4296942129182014,
          -2.2283498815451352,
          0.45309833363334107,
          1.947398457804906,
          0.08211491070522273
         ]
        },
        {
         "histfunc": "count",
         "histnorm": "",
         "marker": {
          "color": "rgba(50, 171, 96, 1.0)",
          "line": {
           "color": "#4D5663",
           "width": 1.3
          }
         },
         "name": "c",
         "opacity": 0.8,
         "orientation": "v",
         "type": "histogram",
         "x": [
          0.722727172289769,
          -2.27550338312367,
          -1.381027116601662,
          0.046405929084916364,
          0.3968069191618129,
          -1.7130610261911965,
          -0.3888907482760322,
          -0.8272140251749861,
          -2.031980639975859,
          -1.9211278391414373,
          0.09526014557633355,
          0.12721184888168358,
          -0.8500733635623845,
          -0.41544334925012394,
          -2.32421122907252,
          -0.608505230078463,
          -1.1590282294786944,
          -0.8771873967572621,
          -0.22555884111731617,
          -2.6471820201571363,
          -0.9370153716423479,
          -1.8372871158307402,
          -1.1432146495504056,
          -1.2777457178946718,
          0.6573066268008483,
          -0.275935164462107,
          -0.44182756878823093,
          -0.9448951366270638,
          -0.9661655119844319,
          -0.8564859070490503,
          -3.9160475971099244,
          -1.1776065798218953,
          0.20623693598372217,
          -0.7996769041646854,
          -1.2894768147163234,
          -0.12064808515312797,
          -1.8035586123022247,
          -1.0174528269659826,
          -1.3485006088629983,
          0.3543522260739145,
          0.8574975417833426,
          -0.26807925112716025,
          -0.7773651963246807,
          -1.2722674415807302,
          0.46405390282544823,
          -0.9065964616280324,
          -0.7986634996522706,
          0.5546339131590452,
          -1.0973034731061493,
          0.17548564311738324,
          -1.3109687664007366,
          -1.5360746886273073,
          -1.3891371996823192,
          -0.9538326134841147,
          -0.801483860406911,
          -0.855997745365205,
          -2.0046521659714953,
          -0.16420347105101307,
          -1.9754032106990913,
          -0.12511368810735934,
          -0.9991441535037767,
          -1.9880008036133745,
          -2.8601122325332984,
          1.5339784120379587,
          -1.518228382997716,
          -1.6127817426511177,
          -2.78650468945,
          0.3320435555124148,
          1.045514092940938,
          -0.1604093134997352,
          -1.3299588451299225,
          0.37374725633285033,
          1.0183483963587139,
          -0.2610346186125373,
          -3.321240426071702,
          -0.4226666777674164,
          -0.7397469245202892,
          -1.2779419318571303,
          -0.3961999355791963,
          -0.554405955669862,
          -1.514836855800848,
          0.10115242759864684,
          -3.333651936181006,
          -0.4864996407612526,
          -1.6374242032021664,
          -0.14953541384699653,
          0.8090436777459371,
          -1.3061871282043767,
          0.5010335993105324,
          -2.0219796948789814,
          -0.8900304811949562,
          -0.7560068843097033,
          -2.679546571569781,
          -1.3681111759307767,
          -0.619126397675871,
          -1.8730800515226333,
          -0.6904519392173403,
          -2.335436477762241,
          0.5284547601992942,
          -1.6529415568947186,
          -0.6530776080839416,
          -1.1667484349984663,
          0.06930163589463456,
          -1.7314467904867636,
          -0.13024605505837028,
          -0.3266433510255624,
          -0.27139416795396754,
          -0.7967448261691848,
          -0.5023944601876719,
          -1.9103141711767437,
          -0.9425702067007679,
          -0.9566556782470955,
          -1.7563277991694475,
          -1.5418087961313844,
          -1.0257934874296397,
          -1.02668036453554,
          -1.1670973623574155,
          -1.0245736721148937,
          0.05149287292147586,
          -1.159503676674384,
          -0.06872472078668124,
          -1.4546335521455334,
          -0.3363695927399625,
          -0.11740749328017985,
          -2.6500990773931736,
          -0.8341959396131384,
          -2.2471775806944745,
          -0.1571962820022914,
          -0.3161332524575037,
          -0.5228839920181414,
          -2.3851252111578938,
          -0.7762078056273943,
          -2.152128736185474,
          -1.1723598762260372,
          -1.572967765728925,
          -2.422180953768139,
          -1.7108237121885597,
          -1.929122302147778,
          -0.4653630172618046,
          -1.307992628920274,
          -0.9843938687905436,
          -0.9308426803496368,
          -0.6621939285180277,
          -0.4931694522546656,
          -2.4702154953878717,
          -1.8125672587938126,
          -1.4763316338778956,
          -3.185503296570633,
          -3.3477121806648866,
          -1.6305143473767592,
          -1.1970288866325305,
          -1.6338716432786837,
          -2.6005319962761373,
          -1.685956732250454,
          0.5535194805223653,
          -1.5709463188236725,
          0.8927577628934318,
          -1.2470748189205538,
          -0.6251217473939712,
          -0.39836635769615136,
          -0.6625199431541224,
          -1.636137635764856,
          -2.9030393306523625,
          -0.32838216800379627,
          -2.22557838951478,
          -1.4300946495690372,
          -2.087758637019953,
          -0.7045306623705094,
          0.28473584513528105,
          -0.6886149004770108,
          -0.351287399589572,
          -1.7741254528703938,
          -1.2611824862609484,
          -1.9788999763981168,
          0.5764908883379587,
          -1.0118563802834375,
          -1.2665369913689803,
          -2.266795520754891,
          0.2849744131844363,
          -0.8725015082484293,
          -1.0757168700621722,
          -0.13459782791501562,
          -0.0021991416998869973,
          -1.7287730578987919,
          -0.5423656285415739,
          -1.410004837088625,
          -0.6631757930539042,
          -0.7217485707280561,
          -1.9114121200988072,
          -0.8494090529745184,
          0.12134396801177072,
          -0.19618862591142416,
          -1.4611841357119377,
          -1.0107404119577514,
          -1.7162115498868817,
          -2.0156056612374584,
          -0.8564149756980083,
          -0.6916555239028268,
          -1.9869412720312867,
          -1.6262253660810924,
          0.37980697822253395,
          -1.0223566658607504,
          -2.1782436412075787,
          -0.7070461435765052,
          -0.8787247089460078,
          -3.0115063471571344,
          -1.6985918201430845,
          -0.9076544084301995,
          -1.7975830264698658,
          -1.074336074214257,
          -0.4884267940862205,
          0.5418695832607512,
          -0.7832344885645158,
          -1.44122097827728,
          -1.824228523044082,
          -0.6955662389437004,
          -1.8119109392777717,
          -2.497081427583243,
          -2.2807779432452646,
          -0.5291803857503578,
          -1.0648751952403868,
          -0.41535540303126395,
          -1.0834778905176676,
          -1.0763755651753784,
          -1.1084146567433462,
          -0.6947772062383546,
          -1.6204080624459758,
          -0.5761130722672708,
          0.828994569302423,
          -1.698735068437196,
          -0.4367045819155616,
          -2.2023592077149727,
          -2.287833201488379,
          -3.165020566623099,
          0.9079426708904219,
          -1.3147880885388659,
          -0.5253211573825634,
          -0.15410616843148128,
          -1.8211782309481044,
          -0.15465443230677123,
          0.543895232618901,
          1.0346825514740088,
          -2.3337424176120463,
          -1.071003047587024,
          -1.1595406619719346,
          -0.7848392961345639,
          -0.893557094354202,
          -1.9743632643338829,
          -1.2296505222327745,
          0.9498522729135699,
          -0.6587997459370191,
          -0.12547233364972166,
          1.0367136824332874,
          -1.1496137516156661,
          0.1239208217322243,
          -0.9660570611087298,
          -0.2755062594169071,
          -0.6811958846462116,
          -0.6433301518310457,
          -1.5694739874342003,
          0.023285244987719667,
          -2.6216270500849594,
          -0.8058813833669287,
          -2.467205493366227,
          -0.7744887038010382,
          -0.44042853206403454,
          -0.8055785071590811,
          -1.2795602384471452,
          -2.089151998342631,
          -0.6093635442482783,
          -1.3072097974872208,
          0.6986130789469132,
          -1.4614156349893113,
          -0.7316680015292627,
          -0.34850388135110655,
          -0.7757631804004106,
          -1.5444547360289498,
          0.24936473948779558,
          -1.3249188814478996,
          -1.1965092098058097,
          -0.9284838887392939,
          -0.7888070231493451,
          -0.9879835123928714,
          0.5068008397761092,
          -1.910175047935935,
          -0.21637620778744693,
          -0.8830819232935072,
          -0.2698886231806532,
          -1.0192956444085177,
          -1.7673743813960798,
          -2.7698122054043472,
          0.9232651388750805,
          -1.6476680479018384,
          -0.9002189367384374,
          -1.396251096858784,
          -0.7097834659498281,
          -0.33058339284985494,
          -2.6235472697822697,
          -1.1229101817971927,
          -1.6937546849000822,
          -1.3085073111471481,
          -1.1996998060329593,
          -0.9442895172419613,
          -2.492092967732744,
          -1.2575376499883286,
          0.2563211866651225,
          -0.4695075837648809,
          0.2810691763507569,
          -0.5450154623539525,
          -0.7985900602318222,
          -2.0364274415787547,
          -2.136102236174393,
          -0.8380636676115654,
          -2.12068757265738,
          -0.7556959639750892,
          -0.31161189253306487,
          -1.77938535266091,
          -2.7588078003563585,
          -1.1879405645845547,
          -1.2936531068874957,
          0.43562212959654545,
          -3.7465084406218288,
          -1.7201451272194976,
          -2.1960277722969006,
          -1.635626737158276,
          -2.6156427242721856,
          -0.9862657975590386,
          -1.5406509220670608,
          0.7218044639545582,
          -3.142319660644049,
          -1.541849908874164,
          -1.3746335306906035,
          -1.0328322291352374,
          -0.20515581653683568,
          -1.0196334639724225,
          -0.035909006636767216,
          -1.5976856014340166,
          -1.3153420117816188,
          1.1274152470507697,
          -0.3627737764831498,
          0.719732614863491,
          -3.5026999800741443,
          -0.5154717472766985,
          -0.24728268084613803,
          -0.1698469804564814,
          -0.4771999881397412,
          -0.5349611867825563,
          -2.247539320396509,
          0.020186942675297637,
          -1.8173342098703236,
          -0.8636881159309351,
          -0.3864211946502305,
          -0.5770200334510127,
          -1.1979747166671402,
          -0.9289726156884455,
          -1.6507227871317622,
          -1.7363683544270745,
          0.053458361231844886,
          -1.2216950013296854,
          -1.4711624414203588,
          -0.4928908710000022,
          -1.8112830502111508,
          -1.867866194500556,
          0.18994239382353095,
          -1.7494182599816903,
          -1.071062433298225,
          -0.543313443188628,
          0.04394591311464735,
          -0.5100984392212914,
          -2.2284796522698516,
          -1.1169278233656967,
          -0.5975872424929793,
          -0.8003158443157353,
          -1.9791586958523646,
          -1.804099063736777,
          -2.183811300999565,
          -0.5989593141489871,
          -1.8683301346064187,
          -0.8516790611321182,
          -3.349410212571505,
          -1.2050164084905501,
          -2.065424099953902,
          -1.7220380660254926,
          -0.3109622557953582,
          -0.20468550531341867,
          -0.8266664291654272,
          -0.20361477319970223,
          -3.112924231598094,
          -0.36863667961826885,
          -0.6186390655672767,
          -0.49548309042960825,
          -3.755075884121989,
          -2.5037550016245245,
          -1.1719558534818784,
          -0.26880694704804864,
          -1.5197414835035612,
          -0.7061219082774959,
          -0.24477488001605685,
          -1.9373212820718333,
          -2.1127720680774624,
          0.6053692365992813,
          -2.9644646945088597,
          -0.5728277599748761,
          -0.6208349023249338,
          -1.5872308401488806,
          -2.6790673720425655,
          -1.65290992324841,
          -2.7444554256548175,
          -1.4635374479396628,
          0.5616289608945149,
          -1.2633252784242144,
          -1.0625050420832147,
          0.2893038464233142,
          -0.3709092985826091,
          -1.3621365955732216,
          -1.516118242436768,
          0.5403537061649155,
          0.5612468647685032,
          -2.841129057867664,
          -0.5482223337689716,
          -0.6884966610596368,
          -0.6176451664605894,
          -0.09064357882394736,
          -3.4337380751000657,
          -1.0918010349776661,
          -1.7575322114837624,
          -2.0348307795716516,
          0.26568912262887334,
          -1.059682254435792,
          -0.9285041721685597,
          -1.397282665939095,
          -0.7432503311638894,
          -1.1271183446033806,
          -0.9141966711277314,
          0.5988240125276652,
          -0.2775732879966485,
          -1.3282963405784445,
          0.043879343569502405,
          -2.8170379630194295,
          -2.73681233794406,
          -0.6766547527874056,
          -2.4371888082983544,
          -1.4440170584557024,
          -1.9193006470779796,
          -1.397981691687279,
          -1.0298454996575797,
          1.296849275259755,
          0.8502430013995621,
          -1.8631658042133739,
          -0.045699417075900306,
          -1.93627823130597,
          -0.5175960828861954,
          -1.6167315413677974,
          -1.479664680898002,
          0.4536120688045333,
          -1.3682307088748713,
          -0.16059854984686883,
          -1.6802328256435128,
          -1.3975745854965036,
          0.3052135342511133,
          0.13303602924540248,
          -0.22442667984499653,
          0.5177350720288376,
          -0.7413818317181353,
          -2.9790500363425476,
          0.46525633054461535,
          -1.862041993993382,
          -2.117356409414391,
          -1.9705459394514917,
          -1.1575118486772646,
          -2.27429696212846,
          -0.9112775037695262,
          -1.071693239599791,
          0.1182350787940436,
          -1.6042415268085914,
          1.4130868090914301,
          -1.3918736225221289,
          0.11979920124360022,
          -1.0717568230114167,
          -1.2740563143194334,
          -0.5382553491547213,
          -0.5913221505873247,
          0.30644042853299513,
          -1.5737715021732555,
          -0.327305433108665,
          -1.2395759981524006,
          -2.4674626978123015,
          -1.326171979680261,
          -0.6633420447392716,
          -0.07087737575219166,
          -1.4872436636328883,
          -0.08977374478563227,
          -0.6188010101101765,
          -2.816596749547449,
          -2.5693523219322962,
          -2.4800694706166833,
          0.42323333739917324,
          -1.6765181807387632,
          -1.280645506041688,
          -0.212328275439868
         ]
        }
       ],
       "layout": {
        "barmode": "overlay",
        "legend": {
         "bgcolor": "#F5F6F9",
         "font": {
          "color": "#4D5663"
         }
        },
        "paper_bgcolor": "#F5F6F9",
        "plot_bgcolor": "#F5F6F9",
        "template": {
         "data": {
          "bar": [
           {
            "error_x": {
             "color": "#2a3f5f"
            },
            "error_y": {
             "color": "#2a3f5f"
            },
            "marker": {
             "line": {
              "color": "#E5ECF6",
              "width": 0.5
             }
            },
            "type": "bar"
           }
          ],
          "barpolar": [
           {
            "marker": {
             "line": {
              "color": "#E5ECF6",
              "width": 0.5
             }
            },
            "type": "barpolar"
           }
          ],
          "carpet": [
           {
            "aaxis": {
             "endlinecolor": "#2a3f5f",
             "gridcolor": "white",
             "linecolor": "white",
             "minorgridcolor": "white",
             "startlinecolor": "#2a3f5f"
            },
            "baxis": {
             "endlinecolor": "#2a3f5f",
             "gridcolor": "white",
             "linecolor": "white",
             "minorgridcolor": "white",
             "startlinecolor": "#2a3f5f"
            },
            "type": "carpet"
           }
          ],
          "choropleth": [
           {
            "colorbar": {
             "outlinewidth": 0,
             "ticks": ""
            },
            "type": "choropleth"
           }
          ],
          "contour": [
           {
            "colorbar": {
             "outlinewidth": 0,
             "ticks": ""
            },
            "colorscale": [
             [
              0,
              "#0d0887"
             ],
             [
              0.1111111111111111,
              "#46039f"
             ],
             [
              0.2222222222222222,
              "#7201a8"
             ],
             [
              0.3333333333333333,
              "#9c179e"
             ],
             [
              0.4444444444444444,
              "#bd3786"
             ],
             [
              0.5555555555555556,
              "#d8576b"
             ],
             [
              0.6666666666666666,
              "#ed7953"
             ],
             [
              0.7777777777777778,
              "#fb9f3a"
             ],
             [
              0.8888888888888888,
              "#fdca26"
             ],
             [
              1,
              "#f0f921"
             ]
            ],
            "type": "contour"
           }
          ],
          "contourcarpet": [
           {
            "colorbar": {
             "outlinewidth": 0,
             "ticks": ""
            },
            "type": "contourcarpet"
           }
          ],
          "heatmap": [
           {
            "colorbar": {
             "outlinewidth": 0,
             "ticks": ""
            },
            "colorscale": [
             [
              0,
              "#0d0887"
             ],
             [
              0.1111111111111111,
              "#46039f"
             ],
             [
              0.2222222222222222,
              "#7201a8"
             ],
             [
              0.3333333333333333,
              "#9c179e"
             ],
             [
              0.4444444444444444,
              "#bd3786"
             ],
             [
              0.5555555555555556,
              "#d8576b"
             ],
             [
              0.6666666666666666,
              "#ed7953"
             ],
             [
              0.7777777777777778,
              "#fb9f3a"
             ],
             [
              0.8888888888888888,
              "#fdca26"
             ],
             [
              1,
              "#f0f921"
             ]
            ],
            "type": "heatmap"
           }
          ],
          "heatmapgl": [
           {
            "colorbar": {
             "outlinewidth": 0,
             "ticks": ""
            },
            "colorscale": [
             [
              0,
              "#0d0887"
             ],
             [
              0.1111111111111111,
              "#46039f"
             ],
             [
              0.2222222222222222,
              "#7201a8"
             ],
             [
              0.3333333333333333,
              "#9c179e"
             ],
             [
              0.4444444444444444,
              "#bd3786"
             ],
             [
              0.5555555555555556,
              "#d8576b"
             ],
             [
              0.6666666666666666,
              "#ed7953"
             ],
             [
              0.7777777777777778,
              "#fb9f3a"
             ],
             [
              0.8888888888888888,
              "#fdca26"
             ],
             [
              1,
              "#f0f921"
             ]
            ],
            "type": "heatmapgl"
           }
          ],
          "histogram": [
           {
            "marker": {
             "colorbar": {
              "outlinewidth": 0,
              "ticks": ""
             }
            },
            "type": "histogram"
           }
          ],
          "histogram2d": [
           {
            "colorbar": {
             "outlinewidth": 0,
             "ticks": ""
            },
            "colorscale": [
             [
              0,
              "#0d0887"
             ],
             [
              0.1111111111111111,
              "#46039f"
             ],
             [
              0.2222222222222222,
              "#7201a8"
             ],
             [
              0.3333333333333333,
              "#9c179e"
             ],
             [
              0.4444444444444444,
              "#bd3786"
             ],
             [
              0.5555555555555556,
              "#d8576b"
             ],
             [
              0.6666666666666666,
              "#ed7953"
             ],
             [
              0.7777777777777778,
              "#fb9f3a"
             ],
             [
              0.8888888888888888,
              "#fdca26"
             ],
             [
              1,
              "#f0f921"
             ]
            ],
            "type": "histogram2d"
           }
          ],
          "histogram2dcontour": [
           {
            "colorbar": {
             "outlinewidth": 0,
             "ticks": ""
            },
            "colorscale": [
             [
              0,
              "#0d0887"
             ],
             [
              0.1111111111111111,
              "#46039f"
             ],
             [
              0.2222222222222222,
              "#7201a8"
             ],
             [
              0.3333333333333333,
              "#9c179e"
             ],
             [
              0.4444444444444444,
              "#bd3786"
             ],
             [
              0.5555555555555556,
              "#d8576b"
             ],
             [
              0.6666666666666666,
              "#ed7953"
             ],
             [
              0.7777777777777778,
              "#fb9f3a"
             ],
             [
              0.8888888888888888,
              "#fdca26"
             ],
             [
              1,
              "#f0f921"
             ]
            ],
            "type": "histogram2dcontour"
           }
          ],
          "mesh3d": [
           {
            "colorbar": {
             "outlinewidth": 0,
             "ticks": ""
            },
            "type": "mesh3d"
           }
          ],
          "parcoords": [
           {
            "line": {
             "colorbar": {
              "outlinewidth": 0,
              "ticks": ""
             }
            },
            "type": "parcoords"
           }
          ],
          "pie": [
           {
            "automargin": true,
            "type": "pie"
           }
          ],
          "scatter": [
           {
            "marker": {
             "colorbar": {
              "outlinewidth": 0,
              "ticks": ""
             }
            },
            "type": "scatter"
           }
          ],
          "scatter3d": [
           {
            "line": {
             "colorbar": {
              "outlinewidth": 0,
              "ticks": ""
             }
            },
            "marker": {
             "colorbar": {
              "outlinewidth": 0,
              "ticks": ""
             }
            },
            "type": "scatter3d"
           }
          ],
          "scattercarpet": [
           {
            "marker": {
             "colorbar": {
              "outlinewidth": 0,
              "ticks": ""
             }
            },
            "type": "scattercarpet"
           }
          ],
          "scattergeo": [
           {
            "marker": {
             "colorbar": {
              "outlinewidth": 0,
              "ticks": ""
             }
            },
            "type": "scattergeo"
           }
          ],
          "scattergl": [
           {
            "marker": {
             "colorbar": {
              "outlinewidth": 0,
              "ticks": ""
             }
            },
            "type": "scattergl"
           }
          ],
          "scattermapbox": [
           {
            "marker": {
             "colorbar": {
              "outlinewidth": 0,
              "ticks": ""
             }
            },
            "type": "scattermapbox"
           }
          ],
          "scatterpolar": [
           {
            "marker": {
             "colorbar": {
              "outlinewidth": 0,
              "ticks": ""
             }
            },
            "type": "scatterpolar"
           }
          ],
          "scatterpolargl": [
           {
            "marker": {
             "colorbar": {
              "outlinewidth": 0,
              "ticks": ""
             }
            },
            "type": "scatterpolargl"
           }
          ],
          "scatterternary": [
           {
            "marker": {
             "colorbar": {
              "outlinewidth": 0,
              "ticks": ""
             }
            },
            "type": "scatterternary"
           }
          ],
          "surface": [
           {
            "colorbar": {
             "outlinewidth": 0,
             "ticks": ""
            },
            "colorscale": [
             [
              0,
              "#0d0887"
             ],
             [
              0.1111111111111111,
              "#46039f"
             ],
             [
              0.2222222222222222,
              "#7201a8"
             ],
             [
              0.3333333333333333,
              "#9c179e"
             ],
             [
              0.4444444444444444,
              "#bd3786"
             ],
             [
              0.5555555555555556,
              "#d8576b"
             ],
             [
              0.6666666666666666,
              "#ed7953"
             ],
             [
              0.7777777777777778,
              "#fb9f3a"
             ],
             [
              0.8888888888888888,
              "#fdca26"
             ],
             [
              1,
              "#f0f921"
             ]
            ],
            "type": "surface"
           }
          ],
          "table": [
           {
            "cells": {
             "fill": {
              "color": "#EBF0F8"
             },
             "line": {
              "color": "white"
             }
            },
            "header": {
             "fill": {
              "color": "#C8D4E3"
             },
             "line": {
              "color": "white"
             }
            },
            "type": "table"
           }
          ]
         },
         "layout": {
          "annotationdefaults": {
           "arrowcolor": "#2a3f5f",
           "arrowhead": 0,
           "arrowwidth": 1
          },
          "coloraxis": {
           "colorbar": {
            "outlinewidth": 0,
            "ticks": ""
           }
          },
          "colorscale": {
           "diverging": [
            [
             0,
             "#8e0152"
            ],
            [
             0.1,
             "#c51b7d"
            ],
            [
             0.2,
             "#de77ae"
            ],
            [
             0.3,
             "#f1b6da"
            ],
            [
             0.4,
             "#fde0ef"
            ],
            [
             0.5,
             "#f7f7f7"
            ],
            [
             0.6,
             "#e6f5d0"
            ],
            [
             0.7,
             "#b8e186"
            ],
            [
             0.8,
             "#7fbc41"
            ],
            [
             0.9,
             "#4d9221"
            ],
            [
             1,
             "#276419"
            ]
           ],
           "sequential": [
            [
             0,
             "#0d0887"
            ],
            [
             0.1111111111111111,
             "#46039f"
            ],
            [
             0.2222222222222222,
             "#7201a8"
            ],
            [
             0.3333333333333333,
             "#9c179e"
            ],
            [
             0.4444444444444444,
             "#bd3786"
            ],
            [
             0.5555555555555556,
             "#d8576b"
            ],
            [
             0.6666666666666666,
             "#ed7953"
            ],
            [
             0.7777777777777778,
             "#fb9f3a"
            ],
            [
             0.8888888888888888,
             "#fdca26"
            ],
            [
             1,
             "#f0f921"
            ]
           ],
           "sequentialminus": [
            [
             0,
             "#0d0887"
            ],
            [
             0.1111111111111111,
             "#46039f"
            ],
            [
             0.2222222222222222,
             "#7201a8"
            ],
            [
             0.3333333333333333,
             "#9c179e"
            ],
            [
             0.4444444444444444,
             "#bd3786"
            ],
            [
             0.5555555555555556,
             "#d8576b"
            ],
            [
             0.6666666666666666,
             "#ed7953"
            ],
            [
             0.7777777777777778,
             "#fb9f3a"
            ],
            [
             0.8888888888888888,
             "#fdca26"
            ],
            [
             1,
             "#f0f921"
            ]
           ]
          },
          "colorway": [
           "#636efa",
           "#EF553B",
           "#00cc96",
           "#ab63fa",
           "#FFA15A",
           "#19d3f3",
           "#FF6692",
           "#B6E880",
           "#FF97FF",
           "#FECB52"
          ],
          "font": {
           "color": "#2a3f5f"
          },
          "geo": {
           "bgcolor": "white",
           "lakecolor": "white",
           "landcolor": "#E5ECF6",
           "showlakes": true,
           "showland": true,
           "subunitcolor": "white"
          },
          "hoverlabel": {
           "align": "left"
          },
          "hovermode": "closest",
          "mapbox": {
           "style": "light"
          },
          "paper_bgcolor": "white",
          "plot_bgcolor": "#E5ECF6",
          "polar": {
           "angularaxis": {
            "gridcolor": "white",
            "linecolor": "white",
            "ticks": ""
           },
           "bgcolor": "#E5ECF6",
           "radialaxis": {
            "gridcolor": "white",
            "linecolor": "white",
            "ticks": ""
           }
          },
          "scene": {
           "xaxis": {
            "backgroundcolor": "#E5ECF6",
            "gridcolor": "white",
            "gridwidth": 2,
            "linecolor": "white",
            "showbackground": true,
            "ticks": "",
            "zerolinecolor": "white"
           },
           "yaxis": {
            "backgroundcolor": "#E5ECF6",
            "gridcolor": "white",
            "gridwidth": 2,
            "linecolor": "white",
            "showbackground": true,
            "ticks": "",
            "zerolinecolor": "white"
           },
           "zaxis": {
            "backgroundcolor": "#E5ECF6",
            "gridcolor": "white",
            "gridwidth": 2,
            "linecolor": "white",
            "showbackground": true,
            "ticks": "",
            "zerolinecolor": "white"
           }
          },
          "shapedefaults": {
           "line": {
            "color": "#2a3f5f"
           }
          },
          "ternary": {
           "aaxis": {
            "gridcolor": "white",
            "linecolor": "white",
            "ticks": ""
           },
           "baxis": {
            "gridcolor": "white",
            "linecolor": "white",
            "ticks": ""
           },
           "bgcolor": "#E5ECF6",
           "caxis": {
            "gridcolor": "white",
            "linecolor": "white",
            "ticks": ""
           }
          },
          "title": {
           "x": 0.05
          },
          "xaxis": {
           "automargin": true,
           "gridcolor": "white",
           "linecolor": "white",
           "ticks": "",
           "title": {
            "standoff": 15
           },
           "zerolinecolor": "white",
           "zerolinewidth": 2
          },
          "yaxis": {
           "automargin": true,
           "gridcolor": "white",
           "linecolor": "white",
           "ticks": "",
           "title": {
            "standoff": 15
           },
           "zerolinecolor": "white",
           "zerolinewidth": 2
          }
         }
        },
        "title": {
         "font": {
          "color": "#4D5663"
         }
        },
        "xaxis": {
         "gridcolor": "#E1E5ED",
         "showgrid": true,
         "tickfont": {
          "color": "#4D5663"
         },
         "title": {
          "font": {
           "color": "#4D5663"
          },
          "text": ""
         },
         "zerolinecolor": "#E1E5ED"
        },
        "yaxis": {
         "gridcolor": "#E1E5ED",
         "showgrid": true,
         "tickfont": {
          "color": "#4D5663"
         },
         "title": {
          "font": {
           "color": "#4D5663"
          },
          "text": ""
         },
         "zerolinecolor": "#E1E5ED"
        }
       }
      },
      "text/html": [
       "<div>\n",
       "        \n",
       "        \n",
       "            <div id=\"b6c11bdf-580c-41a5-917c-ca857cd352b7\" class=\"plotly-graph-div\" style=\"height:525px; width:100%;\"></div>\n",
       "            <script type=\"text/javascript\">\n",
       "                require([\"plotly\"], function(Plotly) {\n",
       "                    window.PLOTLYENV=window.PLOTLYENV || {};\n",
       "                    \n",
       "                if (document.getElementById(\"b6c11bdf-580c-41a5-917c-ca857cd352b7\")) {\n",
       "                    Plotly.newPlot(\n",
       "                        'b6c11bdf-580c-41a5-917c-ca857cd352b7',\n",
       "                        [{\"histfunc\": \"count\", \"histnorm\": \"\", \"marker\": {\"color\": \"rgba(255, 153, 51, 1.0)\", \"line\": {\"color\": \"#4D5663\", \"width\": 1.3}}, \"name\": \"a\", \"opacity\": 0.8, \"orientation\": \"v\", \"type\": \"histogram\", \"x\": [0.44091327272398306, 2.256049940535907, 1.3822410002029912, 1.5225355870023094, 1.372193208763579, -0.35582689195813577, 2.3673818362195247, 0.6564684874382698, 0.7981458454500423, 0.5905366859583757, 1.254400401454161, 1.095053356878178, 0.4154445063703348, 0.08656633221506127, 1.6501574243578432, 0.9129954578749011, 1.051763216934134, -1.418150158090505, 2.0403344070771636, -0.4975155915899936, 2.1126964362767717, 1.292328553122617, 1.1433155617020514, 0.6273030198117842, -0.2691468407191109, 1.0060635515871619, 0.04752265765660013, 0.4282939689682802, 1.569468547868013, -0.15196601692576728, -0.47655639597793154, 2.0771344615850116, 2.5057544092496538, 1.1371762122615634, 1.5991140064714058, 2.68619795093284, 1.2697271762002724, -1.0997950021220109, 2.010700976316347, 1.5334765070606133, 0.2976132439063457, 0.11501917185083621, 2.384828544583906, 0.33075886545274014, 1.4490208354695828, 0.48747444776457827, 3.1785724679411196, 0.10932424911617589, 0.6464395777760295, 0.2721591654366511, 0.0958780700649583, 1.2702780692707545, 0.9234554328340517, 1.7322461995378657, 1.275399556594028, 1.8229815625291015, 0.17872786849853828, 0.06865158498114932, 1.5706543185239474, 1.884892534716748, 0.14668554166692527, 0.04041069168178346, 1.8189731240617526, -1.1386441629908663, 1.1566896491389913, 1.001190715091521, 1.7337228488361824, 0.8042322886900448, -1.379408220720571, -0.1040772189207737, 1.4760485159132428, 0.5467020121630624, 0.6478317610125834, 0.15864168101140985, -0.6872178142919658, 0.4551812520031423, 0.16258834342223016, 1.0826996534363111, 0.7022151044082054, -0.9855142269289345, 0.6589727560850129, -0.6519260784270446, -0.44259364263694967, 1.5273610164589186, 1.9732727589861931, 1.1498972993737107, -0.6237956539347904, 1.5512691089498802, 0.5056911766392669, 1.3936445525644476, 0.562921825698423, 1.4222486819096043, 0.5870481725734775, -0.4916419944796082, 1.1994322807420599, -0.35844625443284883, 1.8136342009419226, 2.5691288110488593, -0.4683390578399551, 1.5096073646767803, 0.11558005164847684, 1.3382287051302435, 0.864225389864004, 0.904430619771565, 1.965051857762603, 1.251846957627714, 2.800759546937372, 0.21134738540933717, 0.9117186162295691, 1.5930849111852239, 2.243303733047896, 2.233080784883189, 1.8614058334193457, 0.18315171800327024, -0.41045727891558026, 1.8643489192557352, 0.8422185949668722, 0.09365300845130275, 2.6807194978972078, 1.2103520010617224, 1.6077478641959513, 1.1720726847947682, 2.0626185320060912, 0.5997216976851631, 0.8170365211803929, 1.0154545730717188, 0.3989061493308542, 1.612850342164121, 0.7321394441304039, 0.9535454609790694, 1.1051329371569856, 0.8130761697729789, 1.7782420285999627, 1.0737566690522589, -0.32879310613520807, 1.812769860772132, -0.5696088140382425, -0.8182784287616065, 1.1394401967269547, -0.6400679326676892, 0.17610976251642096, 0.9358145803165341, 2.278210544133323, 2.564242797322456, 1.639310122335687, 0.3608323033468114, 1.2684072787566611, 1.7579905527660955, 3.2224187880408506, 0.5672758499461102, 1.7689637978776478, 2.0794906508558983, 2.368139103315797, 0.16487424245417792, 2.5165919066130433, 0.08001125465014214, 0.758186486889793, 0.5121337176989422, 4.014555719741524, 0.9368787604937575, 1.184057719518165, 0.7915190895686208, 0.30797923253839943, 0.40666726766534633, 1.0166220982792733, 0.5119496621378326, 1.2775062774781296, -0.7360061951865062, 1.1042436496197532, 2.4366382225804424, 0.9990481380710989, 1.388719829419559, 1.1173865573268031, 0.15613218240510107, 0.8974426449232967, 0.906989664107388, 1.6347711666524802, 1.9743408898132933, 0.6794380314343611, 0.1931289605750316, 1.5927500567952624, 2.320192094648473, 1.440303914211789, 1.8097077623504028, 1.7165309203381605, 0.37054249112477033, 0.5996970192629968, 1.5843277802847189, 0.0223954240046077, 2.1133447221402974, 0.2854120819665409, -1.0997372943775106, 1.6559851440922846, 2.1956188365164433, 0.2937083859904076, 2.383631220822406, 1.581902970563625, 1.0010338021293501, 1.6319474261753641, 2.0858233951650376, -1.6272143142308373, 0.07713385701878483, 1.5164479466461152, -0.3612495259025321, 1.7124363436155012, 2.2298173876323073, 1.4340160191214204, 0.4105533649825741, 1.313087541418671, 0.7848141628569432, 0.17192682744615695, 2.2169037821537465, 1.5262875813228196, 2.1313691029351505, 0.20811338913889288, 0.8408090801469457, 1.8139830017371936, 1.185848589144642, 1.7925200591551054, 0.9043105696435133, 0.9415224981958015, 0.36095625971741785, 0.7298382223328934, 2.42224865841819, 0.4543859266145154, -0.21086515644821824, 2.156446250324474, -0.6298727354088636, 0.8374500088626056, 1.2080522619985876, 1.6840822308642514, -0.5391486083478572, 1.9534028390328428, 1.8333326522117634, -0.17154731993455852, 0.6415849227225827, 0.7159686157821139, 1.5768739376547796, 0.26569282843009157, -0.1357324335852288, -1.0803389301098991, 3.1943849998559677, 1.0053785549827765, 1.640959806970684, 1.5083523897741253, 0.9393729823332801, 1.3129520006020783, 0.4394802567817012, 0.3852682055620459, 1.7373493677553746, 0.9423908227333335, 1.8958557156049731, 0.15044055318903016, 0.33228052680313425, -0.11754865790829583, 2.8239715200794526, 0.40705710013986807, 0.7754622006832119, 1.3292882678812905, 1.1181433075738205, 1.5307023803372921, 1.1784715901025677, 1.3215284054755558, 1.0366894041310946, 2.0245940935083384, 0.6347006831223969, 0.10719796138282878, 1.3223139155520327, 0.6556801292561257, 0.3505619412578156, 0.7588373772083358, 0.5523549012627476, 1.563395194289556, 3.6142928014711626, 1.4374264185477208, 2.385991976736645, 1.1249203708995743, -0.3738641057247609, 0.5077453920405137, 0.9931512383940128, 2.472515682823117, 1.7446164795438879, 1.2985869629357294, -0.1154806995920572, 2.878326438144505, 0.17661713194191886, 1.735225681191178, 1.0214467824679503, 1.2532358698707464, 0.731521329802282, 2.075594995259684, 0.5751044204833629, 1.7740596848849015, 0.2992774043606794, 1.857453703284436, 1.5171200492992996, 1.6285905340131086, 1.5084803043998232, 0.6495608915643339, 1.157351091200698, -1.051152474305459, 1.0212587070648158, 0.6667849214078835, 0.9563404832797888, -0.31518162365112556, 0.9991586550666843, -0.3878838817782426, 0.8906278667743621, 1.9439402190957504, 0.9134049559816672, 1.140177385879546, 0.1890771093020841, 1.0178631594588439, -0.4754544029562886, 3.069011052304876, 1.6363943251359654, 1.3129697599854642, 0.6794549416410823, 2.065352166787093, 1.3791803885324714, 0.8658539636287378, 1.2857558208014637, 1.484742486027663, 1.3821498865179045, 1.0378211272265965, 0.9240354810712722, -0.3836441175610392, 0.5626293220151641, 2.4376245032698445, 1.2520304113285954, 1.5478644948051223, -0.026767918230816923, 1.758474971567097, 1.6626497012601749, 1.4248604790232617, 1.5807564062600865, 1.911108619476265, -0.525331919303786, 0.6321489516877232, 3.4465730548465383, -0.278413658476943, 3.089232982867197, 0.7327746187111128, 0.10825035251062465, 1.1758656850739837, 0.9885399087540317, -0.054679083866704836, 0.5639694829614035, 1.0120052991290096, 1.762110691911432, 1.6038282554359147, 1.480991512748497, -0.47783997555822944, 1.8789376964441296, 1.2854476479513672, 2.923701350308753, -0.2955473207945225, 1.1772267025993486, -0.805966504795157, 1.1495346118059508, 1.172512430676508, -0.2609217582173424, -0.005574994300855618, -0.389009178007077, 0.4991632464581275, 1.1396002033980932, 1.3616964403922216, -0.14471682405560915, 1.1576289906813768, 0.6771817644639255, -0.15790010962625622, 1.329062765342045, 0.6068413001367297, 1.1747544952453597, 0.18675052483672028, 0.5078217935334939, 1.2225265995909778, -0.30322849831309107, -0.9384006472367155, 0.08688314064756808, -0.6054855438876074, 0.3125728924114477, 0.7410726785428426, 1.4750570814076862, 1.068465625604259, -0.0262896337714722, 0.0818809451159217, 0.16771999040527308, -0.24551540160398533, 0.909125409479128, 1.3411870260970107, 1.5290892434750178, -0.30089801632893054, 0.14835107536180447, 1.3529076379468064, 2.527812509933683, -0.22828056313239764, 0.5540397519757846, 1.4239190403811575, 2.891277626385844, 2.0694651573425555, 0.3200385008008667, 0.8397383478618334, 0.06978986281561095, 0.03153814769286478, 0.20288526521225447, 1.165754865493862, 0.17238947185704367, 1.0554920512544517, 1.030503812504883, 0.2152913091702613, 1.7696916775844893, 1.386226852515338, 0.6483511937991124, 1.4379551828874142, 2.3294683096108852, 1.5276723744426175, 0.7841628680146893, 0.8217069964147723, 0.7692226939899693, 0.022534298099112893, 0.5097632533028663, 0.6745130904128637, 0.2985897038890587, -0.9465146983909358, 0.5174754992742921, 1.2914759924697996, -0.32578798150751864, 1.805888459736014, 1.7842672749592048, 0.7325674785933931, -0.722435102462039, 1.5568590029886762, 1.0006379336182476, -0.17660507364870148, 1.4952454578835304, 1.9790741048579648, 1.8627694270483646, 1.6622631990101029, 2.1131063450523313, -0.9779952921560897, 0.40353740216495937, 1.979862811576183, 1.9623705927212938, -0.47329075377593655, 0.6019634448789006, 0.888278643051505, -0.72653236710797, 1.0999091744099765, -0.05256171272091925, 0.9334677975845797, 1.0214152284500466, 1.133708385297962, 1.0153519567788742, 1.37386123267616, 0.46050167150401256, 0.47209717084352176, 0.8283225840192413, 2.506823780052235, 1.9042905111850308, 0.9018864569780257, 1.6740993658468635, -0.4512089061341953, 0.977221999027247, 0.2233420239920585, 1.7880212614208928, 0.16197084570660847, 1.2328182526604885, 1.732977523059906, 0.9876969826493385, -0.10726563927653299, -0.7853375480759552, 1.0105909942478115, 1.4529967965694617, -0.57825456699063, 0.001183440058652785, 1.3462015265060725, 0.3010998258379467, -1.3546804483734602, 2.0069171649570556, -0.8359467936668896, 2.167918148338623, -0.46830016158050336, 1.193226110345327, 2.4827306915461405, -0.13328273562161286, 2.2403491116258127, 1.1805016763205647, 2.2742818673550023, 2.4508662608290903, 2.1930437972720975, 0.8271627135493889, -0.11020301218904205, -1.0846347635968452, 0.6618940044939496, 1.894562138464654, 0.9946787234981052, -1.1556219533276137, 1.7307435428852571, 0.6169418821631585]}, {\"histfunc\": \"count\", \"histnorm\": \"\", \"marker\": {\"color\": \"rgba(55, 128, 191, 1.0)\", \"line\": {\"color\": \"#4D5663\", \"width\": 1.3}}, \"name\": \"b\", \"opacity\": 0.8, \"orientation\": \"v\", \"type\": \"histogram\", \"x\": [0.8600637635725479, 0.29113962217474243, -0.5188660414351486, 0.4064655214277502, -0.2429013895697959, -0.950359183412525, -1.1072786175158067, -1.703337685365138, 0.8922837689493374, -0.6784814198055338, 1.8002476962731226, 1.115691256123363, -0.4951318977114641, -0.8771628184041708, 0.35982042603762754, 1.1220447765965202, -0.5745396654562688, 0.10959561033328565, 1.1366699534573874, 1.4133992372703033, -0.003030801072639798, 0.4242239167637036, 1.5272234298521592, -0.7191321288947804, -0.37687670544217794, 0.16040117115688204, -1.1832078393653087, 0.006665652599693865, -0.8192747619172593, -1.9017660342481686, -0.9977945893700119, -1.0617980745459283, -0.6147793771091665, -0.4637641488663985, 2.459535827040027, 0.6863280122147535, -0.808436739412207, 1.116078444354245, -1.6042030267647138, 0.369010819866605, -0.409019085541988, 1.5280773510055254, -0.07331265266762398, -0.0747812957397979, 0.320433808117083, 0.6245069827615084, 1.355303865218766, -0.6221197030394043, 1.547164716171145, 0.1177415070600216, 0.8088193296077993, 1.2835418741008613, 0.6738383760996617, 0.7335801638150323, -0.4929459208230309, 0.5839423718759245, -0.614221205857195, 0.7556248126327176, 0.08435887504007449, 0.3787711611061367, 0.9318155577810633, -1.0786832507372772, 0.06049573773986351, 0.42836699091156427, 1.203383213645127, 0.6613354254014518, -1.3170032175241717, 0.01645644022778307, 0.2672940794781538, 1.442291995697421, -0.776670646659913, 0.3011350255154919, 0.11124346532248162, 0.18269756092512102, 0.28020429440953537, -0.9875803112228372, -0.3243673601737845, -1.0642301940732717, -0.040913058893354906, -0.7456767488954406, 1.5611859176347758, -0.9206273557939615, -1.2604327035825338, -1.330100396805573, -0.8194202667418313, 1.3459770067821555, 1.8965105916526994, 0.5739945339982089, -1.0662740588747206, 0.6905118483999588, -0.8617396377098671, -1.619994285581888, -0.49828793893125095, 0.1221881497061106, -0.12640387897796498, 0.8708291946706301, -0.6320055496747595, -1.2041040054834986, -0.08951345312969512, -0.4618283039546502, -1.890250470147134, -0.12232802008105202, -0.8455485353397755, -0.3293984237676439, 1.5015867397912983, -0.5799197609773652, -0.6224494485273039, -0.9822997271087236, -0.7897120828969075, 0.6556277979716878, -0.3578402705005522, -2.4822945626516684, -0.901339613916208, 0.5349815511564838, 0.35856294098558816, -0.3009946369910764, -0.5838688351955239, -1.2919938183834614, 0.8871317615457858, 1.0369008606129586, 1.819711978576863, -0.9982389747618914, -0.9715566458217499, -0.8532069754632483, 1.3091110763090112, -0.8643110317469549, 0.05794980474723679, 0.9865526523780135, 0.014584194475193712, 0.8595203037418225, -1.1374982038609915, -1.0833296879967218, 0.19003384435533338, -1.3316440127579419, 0.7775690043981998, -1.691914910805962, -0.36197641238638434, 0.06865141671838253, 1.2828268458477456, 0.12686670232724673, 0.42764402653573225, -0.3451037417421779, -0.8508867373355137, -2.649727506139991, 2.5628049498237377, 0.7727295472120996, 1.921655238022074, 0.33895059896157886, 0.7534028565885562, -1.0832925287979074, 1.3186745641445694, -0.6769386041076816, 0.688645816416143, -0.668105892572858, -0.901621528673041, -1.0839233729018265, -0.7029087470279362, 1.1568660231622174, 0.6150131999845884, -1.6443397369059105, 0.18248962060583268, 0.046359629300684234, 0.14906611913369622, -0.46951824513088447, -0.49135291701966577, -0.09890658991482731, -0.6523524776577481, 0.13232754435207933, -0.13653978156558946, -1.0139293899264608, -0.34029600447982083, -0.9707607117325777, -1.2613029451332793, 1.8080409311766619, -1.097419947842332, -0.44987805032231565, -0.7309244810895202, -0.07942549846976744, 0.38669854453895164, -1.65502236110641, -0.6616733172215916, -0.5667662407356442, 0.0026388579236230505, -0.9752812578064499, -0.419301211758648, -1.5793638319467527, -0.2971758114762656, 0.469615768146265, 0.11435301467001337, 0.429834338902741, -0.7299872891455981, -0.06311689089549032, -1.3176941557572162, 0.5101226065489198, -0.2669832359944198, -0.31066713608061197, -0.07803534546944109, 0.8877974342879091, 0.6969481038280603, 0.39653965498074545, 0.5546761341154464, 0.03653157630169743, -1.3767958490461039, -0.3083834834602238, -1.6170445337323598, 0.9223971604834594, 2.0662109911291493, 1.85128377904813, -0.32688801838637743, -0.0003914474488981282, 0.13349793620328573, 0.2706734307449688, 0.10969898161937165, -0.8909548146522822, -0.892979734891118, -0.7921480194832046, -0.03498424672876324, 0.9752210892858126, 0.10594418878557034, 1.9539057464734217, 0.8618493821728952, 0.8932587936507982, -0.3887985024525041, 1.0586202854090612, -1.1516619795063283, 1.4667227385396917, 0.7068499939291656, -0.4056579143010098, 0.5211745625321024, 0.2542454742416451, -0.05917962780297074, 0.039731544475567, 1.614054305070984, -0.3821776172847308, 0.4086167409664873, -1.246607756082136, 1.094515530083597, -1.7203062172508223, 0.24661956965240386, 0.48243373264407474, 0.8099328952049556, -0.5616086471055565, -0.6852232595302159, -0.9925500315862537, 0.5438950910088223, -1.2433378245000362, 1.3343167471383575, 0.6919836819880321, -0.3383729771219205, -0.18997121953285845, 0.3432334134319712, 0.4827553234183445, -1.4459023917253113, -0.5499718844210124, -0.2835341506320679, -0.23098061760377342, 0.9522393168896147, -0.7635605126965463, 1.3124776532728375, 2.0190100326896907, -0.8281129534820914, -1.6314587610921707, 0.11559737291938434, 2.780229579821904, 1.5084866624537856, -1.5895149186742823, 0.756920394821398, -1.0819106735885702, 0.8933166105810035, -0.1349522339729652, -0.8869346758912682, -1.630595615541146, -1.561449877441091, -0.1904567427224124, 1.2377115456401546, -0.13449794054990755, 0.4832224341318548, 0.41739112528867545, -0.08167287724369018, 1.1851178111922465, 0.5627205227502662, -0.3747763724965852, -0.9540430026730964, 0.6221766834678527, 0.5938329863739038, 0.7471563231769195, -0.008458274715544504, 0.10393634046412495, 0.09210080699117541, 0.05780956781861528, 0.3528435965188683, 0.7134428437541226, -2.1935029815224354, 1.2279915825123215, -0.6053717818294161, -0.4671819875887932, -1.0788051168491806, -0.14502799661310506, 1.1325348783369789, 1.6168178789396854, 1.0830536019729018, -0.6415363911283768, 0.6991998325955167, -1.5934873613305534, 0.8671709961750197, -1.4642082869960584, 0.9319592347957533, -0.7488190510481902, -0.04241016562683831, 0.8044876371662978, -1.2255059505760126, 0.7767995964824708, -0.42439212859683245, -0.9578129659114648, -1.4675579547810966, -0.6313775578702875, 0.11514078959572542, 0.5322814483931525, 0.013782941138202099, -0.7183698471594075, -0.21471453490562323, -1.6129581695094464, -2.438160502355041, -0.5250954959881268, -0.7244763660885639, 0.36222812907779744, -0.18556648128598946, 1.277388398135846, -0.018835574639563268, -0.31181947873726584, -1.2149236618051635, -0.8582231573591265, 1.5551194282965628, -1.3705220249922503, 0.8982601750968712, 0.46425213740819204, 0.8514910563552857, 0.17182967801308538, 0.8436395579707443, -0.7060725775755603, 1.3237773752980149, 0.05846752402789718, -1.086566370952794, -0.5577649685120298, 1.035588546112911, 0.19698588282389096, -1.1607771184045943, -1.0576030600928565, 1.064512697592439, -0.12267451639749087, 0.950493865552134, -0.6113007954685753, 1.1938354517046943, 0.28518611796717136, 2.00968499961012, 0.44666333284100124, 0.27257758137881727, 0.4802142396338287, 0.05873227906408181, -0.8769624739508938, -0.8549027851506162, -0.3331205170725156, 0.6188238021926784, 0.23740864129414088, 0.02556673893586729, -0.319589727958053, 1.3454606216872302, 0.5712111539338864, -0.02513215391267719, 0.9887842144587101, 1.4721246471653275, 1.896732190343502, 1.301531479510165, 1.172424983330998, -0.0036096010378811275, -0.42341928309756627, 0.8328191571222571, 0.79105865118848, 0.9403303594926117, 0.3424065447451268, -0.9602668404371285, -1.0660752313561686, 0.18542290987251864, 0.37440809083467347, 0.9916072686918669, 1.148374896764833, 0.7674319239648176, -0.7731702812038311, -0.1976535733089919, -0.7203290920046455, -0.20823374916184798, -0.5019773812510664, 1.5066357353626145, -0.9434977023811308, -0.6105245576152663, -0.49601190738542444, -1.1743107543186593, -0.9462803894044883, 1.0048941108940475, -0.6032887260694311, 0.1587489556010136, -1.4704077353460903, 1.1573279947239674, -0.9122460422016875, -0.8338229740188288, 1.571615259380963, -1.7124740554514415, 1.4909900460399084, -0.42616932090442444, 0.1690960630021941, 0.43048084041422996, -1.7236632968129209, 0.8548620199745465, 1.4380542028222731, 1.719738024090054, 0.03382889012592444, -1.0625482321317494, 0.7317911276228682, 1.1233765024137539, 1.287580652491934, 0.3948264897817201, 1.2592754229121106, 0.9930741903606838, 0.07864637322538, -0.7656001979732807, -0.6864892909879895, -2.2800218254232005, -0.9516257634827451, 1.0308357159715296, -1.6261535081511374, -1.8341724998443507, -0.002883984137310261, 2.199056777130825, 0.17739130112743406, -0.15263755453614028, -1.1107799595255774, -0.24432720079546902, -1.6208901497730928, 0.813226499316666, -2.0287309262892688, 0.7937511073293922, 0.014332130433581955, -0.6014586376325755, -0.6314241852970712, 0.5543899780691963, 1.0439963000709291, -1.294372706741285, -0.04926847259984782, -0.2032999047502288, -0.7779976982135784, 0.5459501571843343, 1.2995703133804737, -0.15099114295192315, -0.1903543690695303, 1.8071326434104589, -0.44255661804900326, 0.0917623091630663, 1.2028915227567738, 0.5586518500248628, 0.7185583867600781, 0.38013299939550066, -0.1979714615960119, -0.15878449405786207, 1.174546749665941, 0.2943100429679483, 0.7660264519318553, 0.3398553661295554, 0.2055052520118922, -1.6985943559498453, -2.1343339510539634, 0.7991261301739979, 0.18451965360631178, -0.5798467927170825, -1.1569036209442118, -0.7823684329130003, 0.5608801435840342, 1.4380679404397423, 0.43670713589460275, 0.1433192600400617, 0.9515834750634318, 0.5825934277803386, 0.21278848918488766, -0.11046850536143593, 0.6839609546415631, 0.03382440309024695, 0.4765928943511261, 1.038861484398483, 0.23136013454460547, 0.3099275814198602, -1.964640220309935, 0.3247057610718357, 0.953661129749883, -0.760792523567192, 0.06598649253461743, 1.0991715275994929, -0.4296942129182014, -2.2283498815451352, 0.45309833363334107, 1.947398457804906, 0.08211491070522273]}, {\"histfunc\": \"count\", \"histnorm\": \"\", \"marker\": {\"color\": \"rgba(50, 171, 96, 1.0)\", \"line\": {\"color\": \"#4D5663\", \"width\": 1.3}}, \"name\": \"c\", \"opacity\": 0.8, \"orientation\": \"v\", \"type\": \"histogram\", \"x\": [0.722727172289769, -2.27550338312367, -1.381027116601662, 0.046405929084916364, 0.3968069191618129, -1.7130610261911965, -0.3888907482760322, -0.8272140251749861, -2.031980639975859, -1.9211278391414373, 0.09526014557633355, 0.12721184888168358, -0.8500733635623845, -0.41544334925012394, -2.32421122907252, -0.608505230078463, -1.1590282294786944, -0.8771873967572621, -0.22555884111731617, -2.6471820201571363, -0.9370153716423479, -1.8372871158307402, -1.1432146495504056, -1.2777457178946718, 0.6573066268008483, -0.275935164462107, -0.44182756878823093, -0.9448951366270638, -0.9661655119844319, -0.8564859070490503, -3.9160475971099244, -1.1776065798218953, 0.20623693598372217, -0.7996769041646854, -1.2894768147163234, -0.12064808515312797, -1.8035586123022247, -1.0174528269659826, -1.3485006088629983, 0.3543522260739145, 0.8574975417833426, -0.26807925112716025, -0.7773651963246807, -1.2722674415807302, 0.46405390282544823, -0.9065964616280324, -0.7986634996522706, 0.5546339131590452, -1.0973034731061493, 0.17548564311738324, -1.3109687664007366, -1.5360746886273073, -1.3891371996823192, -0.9538326134841147, -0.801483860406911, -0.855997745365205, -2.0046521659714953, -0.16420347105101307, -1.9754032106990913, -0.12511368810735934, -0.9991441535037767, -1.9880008036133745, -2.8601122325332984, 1.5339784120379587, -1.518228382997716, -1.6127817426511177, -2.78650468945, 0.3320435555124148, 1.045514092940938, -0.1604093134997352, -1.3299588451299225, 0.37374725633285033, 1.0183483963587139, -0.2610346186125373, -3.321240426071702, -0.4226666777674164, -0.7397469245202892, -1.2779419318571303, -0.3961999355791963, -0.554405955669862, -1.514836855800848, 0.10115242759864684, -3.333651936181006, -0.4864996407612526, -1.6374242032021664, -0.14953541384699653, 0.8090436777459371, -1.3061871282043767, 0.5010335993105324, -2.0219796948789814, -0.8900304811949562, -0.7560068843097033, -2.679546571569781, -1.3681111759307767, -0.619126397675871, -1.8730800515226333, -0.6904519392173403, -2.335436477762241, 0.5284547601992942, -1.6529415568947186, -0.6530776080839416, -1.1667484349984663, 0.06930163589463456, -1.7314467904867636, -0.13024605505837028, -0.3266433510255624, -0.27139416795396754, -0.7967448261691848, -0.5023944601876719, -1.9103141711767437, -0.9425702067007679, -0.9566556782470955, -1.7563277991694475, -1.5418087961313844, -1.0257934874296397, -1.02668036453554, -1.1670973623574155, -1.0245736721148937, 0.05149287292147586, -1.159503676674384, -0.06872472078668124, -1.4546335521455334, -0.3363695927399625, -0.11740749328017985, -2.6500990773931736, -0.8341959396131384, -2.2471775806944745, -0.1571962820022914, -0.3161332524575037, -0.5228839920181414, -2.3851252111578938, -0.7762078056273943, -2.152128736185474, -1.1723598762260372, -1.572967765728925, -2.422180953768139, -1.7108237121885597, -1.929122302147778, -0.4653630172618046, -1.307992628920274, -0.9843938687905436, -0.9308426803496368, -0.6621939285180277, -0.4931694522546656, -2.4702154953878717, -1.8125672587938126, -1.4763316338778956, -3.185503296570633, -3.3477121806648866, -1.6305143473767592, -1.1970288866325305, -1.6338716432786837, -2.6005319962761373, -1.685956732250454, 0.5535194805223653, -1.5709463188236725, 0.8927577628934318, -1.2470748189205538, -0.6251217473939712, -0.39836635769615136, -0.6625199431541224, -1.636137635764856, -2.9030393306523625, -0.32838216800379627, -2.22557838951478, -1.4300946495690372, -2.087758637019953, -0.7045306623705094, 0.28473584513528105, -0.6886149004770108, -0.351287399589572, -1.7741254528703938, -1.2611824862609484, -1.9788999763981168, 0.5764908883379587, -1.0118563802834375, -1.2665369913689803, -2.266795520754891, 0.2849744131844363, -0.8725015082484293, -1.0757168700621722, -0.13459782791501562, -0.0021991416998869973, -1.7287730578987919, -0.5423656285415739, -1.410004837088625, -0.6631757930539042, -0.7217485707280561, -1.9114121200988072, -0.8494090529745184, 0.12134396801177072, -0.19618862591142416, -1.4611841357119377, -1.0107404119577514, -1.7162115498868817, -2.0156056612374584, -0.8564149756980083, -0.6916555239028268, -1.9869412720312867, -1.6262253660810924, 0.37980697822253395, -1.0223566658607504, -2.1782436412075787, -0.7070461435765052, -0.8787247089460078, -3.0115063471571344, -1.6985918201430845, -0.9076544084301995, -1.7975830264698658, -1.074336074214257, -0.4884267940862205, 0.5418695832607512, -0.7832344885645158, -1.44122097827728, -1.824228523044082, -0.6955662389437004, -1.8119109392777717, -2.497081427583243, -2.2807779432452646, -0.5291803857503578, -1.0648751952403868, -0.41535540303126395, -1.0834778905176676, -1.0763755651753784, -1.1084146567433462, -0.6947772062383546, -1.6204080624459758, -0.5761130722672708, 0.828994569302423, -1.698735068437196, -0.4367045819155616, -2.2023592077149727, -2.287833201488379, -3.165020566623099, 0.9079426708904219, -1.3147880885388659, -0.5253211573825634, -0.15410616843148128, -1.8211782309481044, -0.15465443230677123, 0.543895232618901, 1.0346825514740088, -2.3337424176120463, -1.071003047587024, -1.1595406619719346, -0.7848392961345639, -0.893557094354202, -1.9743632643338829, -1.2296505222327745, 0.9498522729135699, -0.6587997459370191, -0.12547233364972166, 1.0367136824332874, -1.1496137516156661, 0.1239208217322243, -0.9660570611087298, -0.2755062594169071, -0.6811958846462116, -0.6433301518310457, -1.5694739874342003, 0.023285244987719667, -2.6216270500849594, -0.8058813833669287, -2.467205493366227, -0.7744887038010382, -0.44042853206403454, -0.8055785071590811, -1.2795602384471452, -2.089151998342631, -0.6093635442482783, -1.3072097974872208, 0.6986130789469132, -1.4614156349893113, -0.7316680015292627, -0.34850388135110655, -0.7757631804004106, -1.5444547360289498, 0.24936473948779558, -1.3249188814478996, -1.1965092098058097, -0.9284838887392939, -0.7888070231493451, -0.9879835123928714, 0.5068008397761092, -1.910175047935935, -0.21637620778744693, -0.8830819232935072, -0.2698886231806532, -1.0192956444085177, -1.7673743813960798, -2.7698122054043472, 0.9232651388750805, -1.6476680479018384, -0.9002189367384374, -1.396251096858784, -0.7097834659498281, -0.33058339284985494, -2.6235472697822697, -1.1229101817971927, -1.6937546849000822, -1.3085073111471481, -1.1996998060329593, -0.9442895172419613, -2.492092967732744, -1.2575376499883286, 0.2563211866651225, -0.4695075837648809, 0.2810691763507569, -0.5450154623539525, -0.7985900602318222, -2.0364274415787547, -2.136102236174393, -0.8380636676115654, -2.12068757265738, -0.7556959639750892, -0.31161189253306487, -1.77938535266091, -2.7588078003563585, -1.1879405645845547, -1.2936531068874957, 0.43562212959654545, -3.7465084406218288, -1.7201451272194976, -2.1960277722969006, -1.635626737158276, -2.6156427242721856, -0.9862657975590386, -1.5406509220670608, 0.7218044639545582, -3.142319660644049, -1.541849908874164, -1.3746335306906035, -1.0328322291352374, -0.20515581653683568, -1.0196334639724225, -0.035909006636767216, -1.5976856014340166, -1.3153420117816188, 1.1274152470507697, -0.3627737764831498, 0.719732614863491, -3.5026999800741443, -0.5154717472766985, -0.24728268084613803, -0.1698469804564814, -0.4771999881397412, -0.5349611867825563, -2.247539320396509, 0.020186942675297637, -1.8173342098703236, -0.8636881159309351, -0.3864211946502305, -0.5770200334510127, -1.1979747166671402, -0.9289726156884455, -1.6507227871317622, -1.7363683544270745, 0.053458361231844886, -1.2216950013296854, -1.4711624414203588, -0.4928908710000022, -1.8112830502111508, -1.867866194500556, 0.18994239382353095, -1.7494182599816903, -1.071062433298225, -0.543313443188628, 0.04394591311464735, -0.5100984392212914, -2.2284796522698516, -1.1169278233656967, -0.5975872424929793, -0.8003158443157353, -1.9791586958523646, -1.804099063736777, -2.183811300999565, -0.5989593141489871, -1.8683301346064187, -0.8516790611321182, -3.349410212571505, -1.2050164084905501, -2.065424099953902, -1.7220380660254926, -0.3109622557953582, -0.20468550531341867, -0.8266664291654272, -0.20361477319970223, -3.112924231598094, -0.36863667961826885, -0.6186390655672767, -0.49548309042960825, -3.755075884121989, -2.5037550016245245, -1.1719558534818784, -0.26880694704804864, -1.5197414835035612, -0.7061219082774959, -0.24477488001605685, -1.9373212820718333, -2.1127720680774624, 0.6053692365992813, -2.9644646945088597, -0.5728277599748761, -0.6208349023249338, -1.5872308401488806, -2.6790673720425655, -1.65290992324841, -2.7444554256548175, -1.4635374479396628, 0.5616289608945149, -1.2633252784242144, -1.0625050420832147, 0.2893038464233142, -0.3709092985826091, -1.3621365955732216, -1.516118242436768, 0.5403537061649155, 0.5612468647685032, -2.841129057867664, -0.5482223337689716, -0.6884966610596368, -0.6176451664605894, -0.09064357882394736, -3.4337380751000657, -1.0918010349776661, -1.7575322114837624, -2.0348307795716516, 0.26568912262887334, -1.059682254435792, -0.9285041721685597, -1.397282665939095, -0.7432503311638894, -1.1271183446033806, -0.9141966711277314, 0.5988240125276652, -0.2775732879966485, -1.3282963405784445, 0.043879343569502405, -2.8170379630194295, -2.73681233794406, -0.6766547527874056, -2.4371888082983544, -1.4440170584557024, -1.9193006470779796, -1.397981691687279, -1.0298454996575797, 1.296849275259755, 0.8502430013995621, -1.8631658042133739, -0.045699417075900306, -1.93627823130597, -0.5175960828861954, -1.6167315413677974, -1.479664680898002, 0.4536120688045333, -1.3682307088748713, -0.16059854984686883, -1.6802328256435128, -1.3975745854965036, 0.3052135342511133, 0.13303602924540248, -0.22442667984499653, 0.5177350720288376, -0.7413818317181353, -2.9790500363425476, 0.46525633054461535, -1.862041993993382, -2.117356409414391, -1.9705459394514917, -1.1575118486772646, -2.27429696212846, -0.9112775037695262, -1.071693239599791, 0.1182350787940436, -1.6042415268085914, 1.4130868090914301, -1.3918736225221289, 0.11979920124360022, -1.0717568230114167, -1.2740563143194334, -0.5382553491547213, -0.5913221505873247, 0.30644042853299513, -1.5737715021732555, -0.327305433108665, -1.2395759981524006, -2.4674626978123015, -1.326171979680261, -0.6633420447392716, -0.07087737575219166, -1.4872436636328883, -0.08977374478563227, -0.6188010101101765, -2.816596749547449, -2.5693523219322962, -2.4800694706166833, 0.42323333739917324, -1.6765181807387632, -1.280645506041688, -0.212328275439868]}],\n",
       "                        {\"barmode\": \"overlay\", \"legend\": {\"bgcolor\": \"#F5F6F9\", \"font\": {\"color\": \"#4D5663\"}}, \"paper_bgcolor\": \"#F5F6F9\", \"plot_bgcolor\": \"#F5F6F9\", \"template\": {\"data\": {\"bar\": [{\"error_x\": {\"color\": \"#2a3f5f\"}, \"error_y\": {\"color\": \"#2a3f5f\"}, \"marker\": {\"line\": {\"color\": \"#E5ECF6\", \"width\": 0.5}}, \"type\": \"bar\"}], \"barpolar\": [{\"marker\": {\"line\": {\"color\": \"#E5ECF6\", \"width\": 0.5}}, \"type\": \"barpolar\"}], \"carpet\": [{\"aaxis\": {\"endlinecolor\": \"#2a3f5f\", \"gridcolor\": \"white\", \"linecolor\": \"white\", \"minorgridcolor\": \"white\", \"startlinecolor\": \"#2a3f5f\"}, \"baxis\": {\"endlinecolor\": \"#2a3f5f\", \"gridcolor\": \"white\", \"linecolor\": \"white\", \"minorgridcolor\": \"white\", \"startlinecolor\": \"#2a3f5f\"}, \"type\": \"carpet\"}], \"choropleth\": [{\"colorbar\": {\"outlinewidth\": 0, \"ticks\": \"\"}, \"type\": \"choropleth\"}], \"contour\": [{\"colorbar\": {\"outlinewidth\": 0, \"ticks\": \"\"}, \"colorscale\": [[0.0, \"#0d0887\"], [0.1111111111111111, \"#46039f\"], [0.2222222222222222, \"#7201a8\"], [0.3333333333333333, \"#9c179e\"], [0.4444444444444444, \"#bd3786\"], [0.5555555555555556, \"#d8576b\"], [0.6666666666666666, \"#ed7953\"], [0.7777777777777778, \"#fb9f3a\"], [0.8888888888888888, \"#fdca26\"], [1.0, \"#f0f921\"]], \"type\": \"contour\"}], \"contourcarpet\": [{\"colorbar\": {\"outlinewidth\": 0, \"ticks\": \"\"}, \"type\": \"contourcarpet\"}], \"heatmap\": [{\"colorbar\": {\"outlinewidth\": 0, \"ticks\": \"\"}, \"colorscale\": [[0.0, \"#0d0887\"], [0.1111111111111111, \"#46039f\"], [0.2222222222222222, \"#7201a8\"], [0.3333333333333333, \"#9c179e\"], [0.4444444444444444, \"#bd3786\"], [0.5555555555555556, \"#d8576b\"], [0.6666666666666666, \"#ed7953\"], [0.7777777777777778, \"#fb9f3a\"], [0.8888888888888888, \"#fdca26\"], [1.0, \"#f0f921\"]], \"type\": \"heatmap\"}], \"heatmapgl\": [{\"colorbar\": {\"outlinewidth\": 0, \"ticks\": \"\"}, \"colorscale\": [[0.0, \"#0d0887\"], [0.1111111111111111, \"#46039f\"], [0.2222222222222222, \"#7201a8\"], [0.3333333333333333, \"#9c179e\"], [0.4444444444444444, \"#bd3786\"], [0.5555555555555556, \"#d8576b\"], [0.6666666666666666, \"#ed7953\"], [0.7777777777777778, \"#fb9f3a\"], [0.8888888888888888, \"#fdca26\"], [1.0, \"#f0f921\"]], \"type\": \"heatmapgl\"}], \"histogram\": [{\"marker\": {\"colorbar\": {\"outlinewidth\": 0, \"ticks\": \"\"}}, \"type\": \"histogram\"}], \"histogram2d\": [{\"colorbar\": {\"outlinewidth\": 0, \"ticks\": \"\"}, \"colorscale\": [[0.0, \"#0d0887\"], [0.1111111111111111, \"#46039f\"], [0.2222222222222222, \"#7201a8\"], [0.3333333333333333, \"#9c179e\"], [0.4444444444444444, \"#bd3786\"], [0.5555555555555556, \"#d8576b\"], [0.6666666666666666, \"#ed7953\"], [0.7777777777777778, \"#fb9f3a\"], [0.8888888888888888, \"#fdca26\"], [1.0, \"#f0f921\"]], \"type\": \"histogram2d\"}], \"histogram2dcontour\": [{\"colorbar\": {\"outlinewidth\": 0, \"ticks\": \"\"}, \"colorscale\": [[0.0, \"#0d0887\"], [0.1111111111111111, \"#46039f\"], [0.2222222222222222, \"#7201a8\"], [0.3333333333333333, \"#9c179e\"], [0.4444444444444444, \"#bd3786\"], [0.5555555555555556, \"#d8576b\"], [0.6666666666666666, \"#ed7953\"], [0.7777777777777778, \"#fb9f3a\"], [0.8888888888888888, \"#fdca26\"], [1.0, \"#f0f921\"]], \"type\": \"histogram2dcontour\"}], \"mesh3d\": [{\"colorbar\": {\"outlinewidth\": 0, \"ticks\": \"\"}, \"type\": \"mesh3d\"}], \"parcoords\": [{\"line\": {\"colorbar\": {\"outlinewidth\": 0, \"ticks\": \"\"}}, \"type\": \"parcoords\"}], \"pie\": [{\"automargin\": true, \"type\": \"pie\"}], \"scatter\": [{\"marker\": {\"colorbar\": {\"outlinewidth\": 0, \"ticks\": \"\"}}, \"type\": \"scatter\"}], \"scatter3d\": [{\"line\": {\"colorbar\": {\"outlinewidth\": 0, \"ticks\": \"\"}}, \"marker\": {\"colorbar\": {\"outlinewidth\": 0, \"ticks\": \"\"}}, \"type\": \"scatter3d\"}], \"scattercarpet\": [{\"marker\": {\"colorbar\": {\"outlinewidth\": 0, \"ticks\": \"\"}}, \"type\": \"scattercarpet\"}], \"scattergeo\": [{\"marker\": {\"colorbar\": {\"outlinewidth\": 0, \"ticks\": \"\"}}, \"type\": \"scattergeo\"}], \"scattergl\": [{\"marker\": {\"colorbar\": {\"outlinewidth\": 0, \"ticks\": \"\"}}, \"type\": \"scattergl\"}], \"scattermapbox\": [{\"marker\": {\"colorbar\": {\"outlinewidth\": 0, \"ticks\": \"\"}}, \"type\": \"scattermapbox\"}], \"scatterpolar\": [{\"marker\": {\"colorbar\": {\"outlinewidth\": 0, \"ticks\": \"\"}}, \"type\": \"scatterpolar\"}], \"scatterpolargl\": [{\"marker\": {\"colorbar\": {\"outlinewidth\": 0, \"ticks\": \"\"}}, \"type\": \"scatterpolargl\"}], \"scatterternary\": [{\"marker\": {\"colorbar\": {\"outlinewidth\": 0, \"ticks\": \"\"}}, \"type\": \"scatterternary\"}], \"surface\": [{\"colorbar\": {\"outlinewidth\": 0, \"ticks\": \"\"}, \"colorscale\": [[0.0, \"#0d0887\"], [0.1111111111111111, \"#46039f\"], [0.2222222222222222, \"#7201a8\"], [0.3333333333333333, \"#9c179e\"], [0.4444444444444444, \"#bd3786\"], [0.5555555555555556, \"#d8576b\"], [0.6666666666666666, \"#ed7953\"], [0.7777777777777778, \"#fb9f3a\"], [0.8888888888888888, \"#fdca26\"], [1.0, \"#f0f921\"]], \"type\": \"surface\"}], \"table\": [{\"cells\": {\"fill\": {\"color\": \"#EBF0F8\"}, \"line\": {\"color\": \"white\"}}, \"header\": {\"fill\": {\"color\": \"#C8D4E3\"}, \"line\": {\"color\": \"white\"}}, \"type\": \"table\"}]}, \"layout\": {\"annotationdefaults\": {\"arrowcolor\": \"#2a3f5f\", \"arrowhead\": 0, \"arrowwidth\": 1}, \"coloraxis\": {\"colorbar\": {\"outlinewidth\": 0, \"ticks\": \"\"}}, \"colorscale\": {\"diverging\": [[0, \"#8e0152\"], [0.1, \"#c51b7d\"], [0.2, \"#de77ae\"], [0.3, \"#f1b6da\"], [0.4, \"#fde0ef\"], [0.5, \"#f7f7f7\"], [0.6, \"#e6f5d0\"], [0.7, \"#b8e186\"], [0.8, \"#7fbc41\"], [0.9, \"#4d9221\"], [1, \"#276419\"]], \"sequential\": [[0.0, \"#0d0887\"], [0.1111111111111111, \"#46039f\"], [0.2222222222222222, \"#7201a8\"], [0.3333333333333333, \"#9c179e\"], [0.4444444444444444, \"#bd3786\"], [0.5555555555555556, \"#d8576b\"], [0.6666666666666666, \"#ed7953\"], [0.7777777777777778, \"#fb9f3a\"], [0.8888888888888888, \"#fdca26\"], [1.0, \"#f0f921\"]], \"sequentialminus\": [[0.0, \"#0d0887\"], [0.1111111111111111, \"#46039f\"], [0.2222222222222222, \"#7201a8\"], [0.3333333333333333, \"#9c179e\"], [0.4444444444444444, \"#bd3786\"], [0.5555555555555556, \"#d8576b\"], [0.6666666666666666, \"#ed7953\"], [0.7777777777777778, \"#fb9f3a\"], [0.8888888888888888, \"#fdca26\"], [1.0, \"#f0f921\"]]}, \"colorway\": [\"#636efa\", \"#EF553B\", \"#00cc96\", \"#ab63fa\", \"#FFA15A\", \"#19d3f3\", \"#FF6692\", \"#B6E880\", \"#FF97FF\", \"#FECB52\"], \"font\": {\"color\": \"#2a3f5f\"}, \"geo\": {\"bgcolor\": \"white\", \"lakecolor\": \"white\", \"landcolor\": \"#E5ECF6\", \"showlakes\": true, \"showland\": true, \"subunitcolor\": \"white\"}, \"hoverlabel\": {\"align\": \"left\"}, \"hovermode\": \"closest\", \"mapbox\": {\"style\": \"light\"}, \"paper_bgcolor\": \"white\", \"plot_bgcolor\": \"#E5ECF6\", \"polar\": {\"angularaxis\": {\"gridcolor\": \"white\", \"linecolor\": \"white\", \"ticks\": \"\"}, \"bgcolor\": \"#E5ECF6\", \"radialaxis\": {\"gridcolor\": \"white\", \"linecolor\": \"white\", \"ticks\": \"\"}}, \"scene\": {\"xaxis\": {\"backgroundcolor\": \"#E5ECF6\", \"gridcolor\": \"white\", \"gridwidth\": 2, \"linecolor\": \"white\", \"showbackground\": true, \"ticks\": \"\", \"zerolinecolor\": \"white\"}, \"yaxis\": {\"backgroundcolor\": \"#E5ECF6\", \"gridcolor\": \"white\", \"gridwidth\": 2, \"linecolor\": \"white\", \"showbackground\": true, \"ticks\": \"\", \"zerolinecolor\": \"white\"}, \"zaxis\": {\"backgroundcolor\": \"#E5ECF6\", \"gridcolor\": \"white\", \"gridwidth\": 2, \"linecolor\": \"white\", \"showbackground\": true, \"ticks\": \"\", \"zerolinecolor\": \"white\"}}, \"shapedefaults\": {\"line\": {\"color\": \"#2a3f5f\"}}, \"ternary\": {\"aaxis\": {\"gridcolor\": \"white\", \"linecolor\": \"white\", \"ticks\": \"\"}, \"baxis\": {\"gridcolor\": \"white\", \"linecolor\": \"white\", \"ticks\": \"\"}, \"bgcolor\": \"#E5ECF6\", \"caxis\": {\"gridcolor\": \"white\", \"linecolor\": \"white\", \"ticks\": \"\"}}, \"title\": {\"x\": 0.05}, \"xaxis\": {\"automargin\": true, \"gridcolor\": \"white\", \"linecolor\": \"white\", \"ticks\": \"\", \"title\": {\"standoff\": 15}, \"zerolinecolor\": \"white\", \"zerolinewidth\": 2}, \"yaxis\": {\"automargin\": true, \"gridcolor\": \"white\", \"linecolor\": \"white\", \"ticks\": \"\", \"title\": {\"standoff\": 15}, \"zerolinecolor\": \"white\", \"zerolinewidth\": 2}}}, \"title\": {\"font\": {\"color\": \"#4D5663\"}}, \"xaxis\": {\"gridcolor\": \"#E1E5ED\", \"showgrid\": true, \"tickfont\": {\"color\": \"#4D5663\"}, \"title\": {\"font\": {\"color\": \"#4D5663\"}, \"text\": \"\"}, \"zerolinecolor\": \"#E1E5ED\"}, \"yaxis\": {\"gridcolor\": \"#E1E5ED\", \"showgrid\": true, \"tickfont\": {\"color\": \"#4D5663\"}, \"title\": {\"font\": {\"color\": \"#4D5663\"}, \"text\": \"\"}, \"zerolinecolor\": \"#E1E5ED\"}},\n",
       "                        {\"responsive\": true}\n",
       "                    ).then(function(){\n",
       "                            \n",
       "var gd = document.getElementById('b6c11bdf-580c-41a5-917c-ca857cd352b7');\n",
       "var x = new MutationObserver(function (mutations, observer) {{\n",
       "        var display = window.getComputedStyle(gd).display;\n",
       "        if (!display || display === 'none') {{\n",
       "            console.log([gd, 'removed!']);\n",
       "            Plotly.purge(gd);\n",
       "            observer.disconnect();\n",
       "        }}\n",
       "}});\n",
       "\n",
       "// Listen for the removal of the full notebook cells\n",
       "var notebookContainer = gd.closest('#notebook-container');\n",
       "if (notebookContainer) {{\n",
       "    x.observe(notebookContainer, {childList: true});\n",
       "}}\n",
       "\n",
       "// Listen for the clearing of the current output cell\n",
       "var outputEl = gd.closest('.output');\n",
       "if (outputEl) {{\n",
       "    x.observe(outputEl, {childList: true});\n",
       "}}\n",
       "\n",
       "                        })\n",
       "                };\n",
       "                });\n",
       "            </script>\n",
       "        </div>"
      ]
     },
     "metadata": {},
     "output_type": "display_data"
    }
   ],
   "source": [
    "df = pd.DataFrame({'a': np.random.randn(500) + 1,'b': np.random.randn(500),'c': np.random.randn(500) - 1})\n",
    "fig = df.iplot(asFigure=True, kind=\"histogram\")\n",
    "pyo.plot(fig,filename='histogram.html')\n",
    "fig.show()"
   ]
  },
  {
   "cell_type": "code",
   "execution_count": 6,
   "metadata": {},
   "outputs": [
    {
     "data": {
      "application/vnd.plotly.v1+json": {
       "config": {
        "plotlyServerURL": "https://plot.ly"
       },
       "data": [
        {
         "boxpoints": false,
         "line": {
          "width": 1.3
         },
         "marker": {
          "color": "rgba(255, 153, 51, 1.0)"
         },
         "name": "a",
         "orientation": "v",
         "type": "box",
         "y": [
          0.44091327272398306,
          2.256049940535907,
          1.3822410002029912,
          1.5225355870023094,
          1.372193208763579,
          -0.35582689195813577,
          2.3673818362195247,
          0.6564684874382698,
          0.7981458454500423,
          0.5905366859583757,
          1.254400401454161,
          1.095053356878178,
          0.4154445063703348,
          0.08656633221506127,
          1.6501574243578432,
          0.9129954578749011,
          1.051763216934134,
          -1.418150158090505,
          2.0403344070771636,
          -0.4975155915899936,
          2.1126964362767717,
          1.292328553122617,
          1.1433155617020514,
          0.6273030198117842,
          -0.2691468407191109,
          1.0060635515871619,
          0.04752265765660013,
          0.4282939689682802,
          1.569468547868013,
          -0.15196601692576728,
          -0.47655639597793154,
          2.0771344615850116,
          2.5057544092496538,
          1.1371762122615634,
          1.5991140064714058,
          2.68619795093284,
          1.2697271762002724,
          -1.0997950021220109,
          2.010700976316347,
          1.5334765070606133,
          0.2976132439063457,
          0.11501917185083621,
          2.384828544583906,
          0.33075886545274014,
          1.4490208354695828,
          0.48747444776457827,
          3.1785724679411196,
          0.10932424911617589,
          0.6464395777760295,
          0.2721591654366511,
          0.0958780700649583,
          1.2702780692707545,
          0.9234554328340517,
          1.7322461995378657,
          1.275399556594028,
          1.8229815625291015,
          0.17872786849853828,
          0.06865158498114932,
          1.5706543185239474,
          1.884892534716748,
          0.14668554166692527,
          0.04041069168178346,
          1.8189731240617526,
          -1.1386441629908663,
          1.1566896491389913,
          1.001190715091521,
          1.7337228488361824,
          0.8042322886900448,
          -1.379408220720571,
          -0.1040772189207737,
          1.4760485159132428,
          0.5467020121630624,
          0.6478317610125834,
          0.15864168101140985,
          -0.6872178142919658,
          0.4551812520031423,
          0.16258834342223016,
          1.0826996534363111,
          0.7022151044082054,
          -0.9855142269289345,
          0.6589727560850129,
          -0.6519260784270446,
          -0.44259364263694967,
          1.5273610164589186,
          1.9732727589861931,
          1.1498972993737107,
          -0.6237956539347904,
          1.5512691089498802,
          0.5056911766392669,
          1.3936445525644476,
          0.562921825698423,
          1.4222486819096043,
          0.5870481725734775,
          -0.4916419944796082,
          1.1994322807420599,
          -0.35844625443284883,
          1.8136342009419226,
          2.5691288110488593,
          -0.4683390578399551,
          1.5096073646767803,
          0.11558005164847684,
          1.3382287051302435,
          0.864225389864004,
          0.904430619771565,
          1.965051857762603,
          1.251846957627714,
          2.800759546937372,
          0.21134738540933717,
          0.9117186162295691,
          1.5930849111852239,
          2.243303733047896,
          2.233080784883189,
          1.8614058334193457,
          0.18315171800327024,
          -0.41045727891558026,
          1.8643489192557352,
          0.8422185949668722,
          0.09365300845130275,
          2.6807194978972078,
          1.2103520010617224,
          1.6077478641959513,
          1.1720726847947682,
          2.0626185320060912,
          0.5997216976851631,
          0.8170365211803929,
          1.0154545730717188,
          0.3989061493308542,
          1.612850342164121,
          0.7321394441304039,
          0.9535454609790694,
          1.1051329371569856,
          0.8130761697729789,
          1.7782420285999627,
          1.0737566690522589,
          -0.32879310613520807,
          1.812769860772132,
          -0.5696088140382425,
          -0.8182784287616065,
          1.1394401967269547,
          -0.6400679326676892,
          0.17610976251642096,
          0.9358145803165341,
          2.278210544133323,
          2.564242797322456,
          1.639310122335687,
          0.3608323033468114,
          1.2684072787566611,
          1.7579905527660955,
          3.2224187880408506,
          0.5672758499461102,
          1.7689637978776478,
          2.0794906508558983,
          2.368139103315797,
          0.16487424245417792,
          2.5165919066130433,
          0.08001125465014214,
          0.758186486889793,
          0.5121337176989422,
          4.014555719741524,
          0.9368787604937575,
          1.184057719518165,
          0.7915190895686208,
          0.30797923253839943,
          0.40666726766534633,
          1.0166220982792733,
          0.5119496621378326,
          1.2775062774781296,
          -0.7360061951865062,
          1.1042436496197532,
          2.4366382225804424,
          0.9990481380710989,
          1.388719829419559,
          1.1173865573268031,
          0.15613218240510107,
          0.8974426449232967,
          0.906989664107388,
          1.6347711666524802,
          1.9743408898132933,
          0.6794380314343611,
          0.1931289605750316,
          1.5927500567952624,
          2.320192094648473,
          1.440303914211789,
          1.8097077623504028,
          1.7165309203381605,
          0.37054249112477033,
          0.5996970192629968,
          1.5843277802847189,
          0.0223954240046077,
          2.1133447221402974,
          0.2854120819665409,
          -1.0997372943775106,
          1.6559851440922846,
          2.1956188365164433,
          0.2937083859904076,
          2.383631220822406,
          1.581902970563625,
          1.0010338021293501,
          1.6319474261753641,
          2.0858233951650376,
          -1.6272143142308373,
          0.07713385701878483,
          1.5164479466461152,
          -0.3612495259025321,
          1.7124363436155012,
          2.2298173876323073,
          1.4340160191214204,
          0.4105533649825741,
          1.313087541418671,
          0.7848141628569432,
          0.17192682744615695,
          2.2169037821537465,
          1.5262875813228196,
          2.1313691029351505,
          0.20811338913889288,
          0.8408090801469457,
          1.8139830017371936,
          1.185848589144642,
          1.7925200591551054,
          0.9043105696435133,
          0.9415224981958015,
          0.36095625971741785,
          0.7298382223328934,
          2.42224865841819,
          0.4543859266145154,
          -0.21086515644821824,
          2.156446250324474,
          -0.6298727354088636,
          0.8374500088626056,
          1.2080522619985876,
          1.6840822308642514,
          -0.5391486083478572,
          1.9534028390328428,
          1.8333326522117634,
          -0.17154731993455852,
          0.6415849227225827,
          0.7159686157821139,
          1.5768739376547796,
          0.26569282843009157,
          -0.1357324335852288,
          -1.0803389301098991,
          3.1943849998559677,
          1.0053785549827765,
          1.640959806970684,
          1.5083523897741253,
          0.9393729823332801,
          1.3129520006020783,
          0.4394802567817012,
          0.3852682055620459,
          1.7373493677553746,
          0.9423908227333335,
          1.8958557156049731,
          0.15044055318903016,
          0.33228052680313425,
          -0.11754865790829583,
          2.8239715200794526,
          0.40705710013986807,
          0.7754622006832119,
          1.3292882678812905,
          1.1181433075738205,
          1.5307023803372921,
          1.1784715901025677,
          1.3215284054755558,
          1.0366894041310946,
          2.0245940935083384,
          0.6347006831223969,
          0.10719796138282878,
          1.3223139155520327,
          0.6556801292561257,
          0.3505619412578156,
          0.7588373772083358,
          0.5523549012627476,
          1.563395194289556,
          3.6142928014711626,
          1.4374264185477208,
          2.385991976736645,
          1.1249203708995743,
          -0.3738641057247609,
          0.5077453920405137,
          0.9931512383940128,
          2.472515682823117,
          1.7446164795438879,
          1.2985869629357294,
          -0.1154806995920572,
          2.878326438144505,
          0.17661713194191886,
          1.735225681191178,
          1.0214467824679503,
          1.2532358698707464,
          0.731521329802282,
          2.075594995259684,
          0.5751044204833629,
          1.7740596848849015,
          0.2992774043606794,
          1.857453703284436,
          1.5171200492992996,
          1.6285905340131086,
          1.5084803043998232,
          0.6495608915643339,
          1.157351091200698,
          -1.051152474305459,
          1.0212587070648158,
          0.6667849214078835,
          0.9563404832797888,
          -0.31518162365112556,
          0.9991586550666843,
          -0.3878838817782426,
          0.8906278667743621,
          1.9439402190957504,
          0.9134049559816672,
          1.140177385879546,
          0.1890771093020841,
          1.0178631594588439,
          -0.4754544029562886,
          3.069011052304876,
          1.6363943251359654,
          1.3129697599854642,
          0.6794549416410823,
          2.065352166787093,
          1.3791803885324714,
          0.8658539636287378,
          1.2857558208014637,
          1.484742486027663,
          1.3821498865179045,
          1.0378211272265965,
          0.9240354810712722,
          -0.3836441175610392,
          0.5626293220151641,
          2.4376245032698445,
          1.2520304113285954,
          1.5478644948051223,
          -0.026767918230816923,
          1.758474971567097,
          1.6626497012601749,
          1.4248604790232617,
          1.5807564062600865,
          1.911108619476265,
          -0.525331919303786,
          0.6321489516877232,
          3.4465730548465383,
          -0.278413658476943,
          3.089232982867197,
          0.7327746187111128,
          0.10825035251062465,
          1.1758656850739837,
          0.9885399087540317,
          -0.054679083866704836,
          0.5639694829614035,
          1.0120052991290096,
          1.762110691911432,
          1.6038282554359147,
          1.480991512748497,
          -0.47783997555822944,
          1.8789376964441296,
          1.2854476479513672,
          2.923701350308753,
          -0.2955473207945225,
          1.1772267025993486,
          -0.805966504795157,
          1.1495346118059508,
          1.172512430676508,
          -0.2609217582173424,
          -0.005574994300855618,
          -0.389009178007077,
          0.4991632464581275,
          1.1396002033980932,
          1.3616964403922216,
          -0.14471682405560915,
          1.1576289906813768,
          0.6771817644639255,
          -0.15790010962625622,
          1.329062765342045,
          0.6068413001367297,
          1.1747544952453597,
          0.18675052483672028,
          0.5078217935334939,
          1.2225265995909778,
          -0.30322849831309107,
          -0.9384006472367155,
          0.08688314064756808,
          -0.6054855438876074,
          0.3125728924114477,
          0.7410726785428426,
          1.4750570814076862,
          1.068465625604259,
          -0.0262896337714722,
          0.0818809451159217,
          0.16771999040527308,
          -0.24551540160398533,
          0.909125409479128,
          1.3411870260970107,
          1.5290892434750178,
          -0.30089801632893054,
          0.14835107536180447,
          1.3529076379468064,
          2.527812509933683,
          -0.22828056313239764,
          0.5540397519757846,
          1.4239190403811575,
          2.891277626385844,
          2.0694651573425555,
          0.3200385008008667,
          0.8397383478618334,
          0.06978986281561095,
          0.03153814769286478,
          0.20288526521225447,
          1.165754865493862,
          0.17238947185704367,
          1.0554920512544517,
          1.030503812504883,
          0.2152913091702613,
          1.7696916775844893,
          1.386226852515338,
          0.6483511937991124,
          1.4379551828874142,
          2.3294683096108852,
          1.5276723744426175,
          0.7841628680146893,
          0.8217069964147723,
          0.7692226939899693,
          0.022534298099112893,
          0.5097632533028663,
          0.6745130904128637,
          0.2985897038890587,
          -0.9465146983909358,
          0.5174754992742921,
          1.2914759924697996,
          -0.32578798150751864,
          1.805888459736014,
          1.7842672749592048,
          0.7325674785933931,
          -0.722435102462039,
          1.5568590029886762,
          1.0006379336182476,
          -0.17660507364870148,
          1.4952454578835304,
          1.9790741048579648,
          1.8627694270483646,
          1.6622631990101029,
          2.1131063450523313,
          -0.9779952921560897,
          0.40353740216495937,
          1.979862811576183,
          1.9623705927212938,
          -0.47329075377593655,
          0.6019634448789006,
          0.888278643051505,
          -0.72653236710797,
          1.0999091744099765,
          -0.05256171272091925,
          0.9334677975845797,
          1.0214152284500466,
          1.133708385297962,
          1.0153519567788742,
          1.37386123267616,
          0.46050167150401256,
          0.47209717084352176,
          0.8283225840192413,
          2.506823780052235,
          1.9042905111850308,
          0.9018864569780257,
          1.6740993658468635,
          -0.4512089061341953,
          0.977221999027247,
          0.2233420239920585,
          1.7880212614208928,
          0.16197084570660847,
          1.2328182526604885,
          1.732977523059906,
          0.9876969826493385,
          -0.10726563927653299,
          -0.7853375480759552,
          1.0105909942478115,
          1.4529967965694617,
          -0.57825456699063,
          0.001183440058652785,
          1.3462015265060725,
          0.3010998258379467,
          -1.3546804483734602,
          2.0069171649570556,
          -0.8359467936668896,
          2.167918148338623,
          -0.46830016158050336,
          1.193226110345327,
          2.4827306915461405,
          -0.13328273562161286,
          2.2403491116258127,
          1.1805016763205647,
          2.2742818673550023,
          2.4508662608290903,
          2.1930437972720975,
          0.8271627135493889,
          -0.11020301218904205,
          -1.0846347635968452,
          0.6618940044939496,
          1.894562138464654,
          0.9946787234981052,
          -1.1556219533276137,
          1.7307435428852571,
          0.6169418821631585
         ]
        },
        {
         "boxpoints": false,
         "line": {
          "width": 1.3
         },
         "marker": {
          "color": "rgba(55, 128, 191, 1.0)"
         },
         "name": "b",
         "orientation": "v",
         "type": "box",
         "y": [
          0.8600637635725479,
          0.29113962217474243,
          -0.5188660414351486,
          0.4064655214277502,
          -0.2429013895697959,
          -0.950359183412525,
          -1.1072786175158067,
          -1.703337685365138,
          0.8922837689493374,
          -0.6784814198055338,
          1.8002476962731226,
          1.115691256123363,
          -0.4951318977114641,
          -0.8771628184041708,
          0.35982042603762754,
          1.1220447765965202,
          -0.5745396654562688,
          0.10959561033328565,
          1.1366699534573874,
          1.4133992372703033,
          -0.003030801072639798,
          0.4242239167637036,
          1.5272234298521592,
          -0.7191321288947804,
          -0.37687670544217794,
          0.16040117115688204,
          -1.1832078393653087,
          0.006665652599693865,
          -0.8192747619172593,
          -1.9017660342481686,
          -0.9977945893700119,
          -1.0617980745459283,
          -0.6147793771091665,
          -0.4637641488663985,
          2.459535827040027,
          0.6863280122147535,
          -0.808436739412207,
          1.116078444354245,
          -1.6042030267647138,
          0.369010819866605,
          -0.409019085541988,
          1.5280773510055254,
          -0.07331265266762398,
          -0.0747812957397979,
          0.320433808117083,
          0.6245069827615084,
          1.355303865218766,
          -0.6221197030394043,
          1.547164716171145,
          0.1177415070600216,
          0.8088193296077993,
          1.2835418741008613,
          0.6738383760996617,
          0.7335801638150323,
          -0.4929459208230309,
          0.5839423718759245,
          -0.614221205857195,
          0.7556248126327176,
          0.08435887504007449,
          0.3787711611061367,
          0.9318155577810633,
          -1.0786832507372772,
          0.06049573773986351,
          0.42836699091156427,
          1.203383213645127,
          0.6613354254014518,
          -1.3170032175241717,
          0.01645644022778307,
          0.2672940794781538,
          1.442291995697421,
          -0.776670646659913,
          0.3011350255154919,
          0.11124346532248162,
          0.18269756092512102,
          0.28020429440953537,
          -0.9875803112228372,
          -0.3243673601737845,
          -1.0642301940732717,
          -0.040913058893354906,
          -0.7456767488954406,
          1.5611859176347758,
          -0.9206273557939615,
          -1.2604327035825338,
          -1.330100396805573,
          -0.8194202667418313,
          1.3459770067821555,
          1.8965105916526994,
          0.5739945339982089,
          -1.0662740588747206,
          0.6905118483999588,
          -0.8617396377098671,
          -1.619994285581888,
          -0.49828793893125095,
          0.1221881497061106,
          -0.12640387897796498,
          0.8708291946706301,
          -0.6320055496747595,
          -1.2041040054834986,
          -0.08951345312969512,
          -0.4618283039546502,
          -1.890250470147134,
          -0.12232802008105202,
          -0.8455485353397755,
          -0.3293984237676439,
          1.5015867397912983,
          -0.5799197609773652,
          -0.6224494485273039,
          -0.9822997271087236,
          -0.7897120828969075,
          0.6556277979716878,
          -0.3578402705005522,
          -2.4822945626516684,
          -0.901339613916208,
          0.5349815511564838,
          0.35856294098558816,
          -0.3009946369910764,
          -0.5838688351955239,
          -1.2919938183834614,
          0.8871317615457858,
          1.0369008606129586,
          1.819711978576863,
          -0.9982389747618914,
          -0.9715566458217499,
          -0.8532069754632483,
          1.3091110763090112,
          -0.8643110317469549,
          0.05794980474723679,
          0.9865526523780135,
          0.014584194475193712,
          0.8595203037418225,
          -1.1374982038609915,
          -1.0833296879967218,
          0.19003384435533338,
          -1.3316440127579419,
          0.7775690043981998,
          -1.691914910805962,
          -0.36197641238638434,
          0.06865141671838253,
          1.2828268458477456,
          0.12686670232724673,
          0.42764402653573225,
          -0.3451037417421779,
          -0.8508867373355137,
          -2.649727506139991,
          2.5628049498237377,
          0.7727295472120996,
          1.921655238022074,
          0.33895059896157886,
          0.7534028565885562,
          -1.0832925287979074,
          1.3186745641445694,
          -0.6769386041076816,
          0.688645816416143,
          -0.668105892572858,
          -0.901621528673041,
          -1.0839233729018265,
          -0.7029087470279362,
          1.1568660231622174,
          0.6150131999845884,
          -1.6443397369059105,
          0.18248962060583268,
          0.046359629300684234,
          0.14906611913369622,
          -0.46951824513088447,
          -0.49135291701966577,
          -0.09890658991482731,
          -0.6523524776577481,
          0.13232754435207933,
          -0.13653978156558946,
          -1.0139293899264608,
          -0.34029600447982083,
          -0.9707607117325777,
          -1.2613029451332793,
          1.8080409311766619,
          -1.097419947842332,
          -0.44987805032231565,
          -0.7309244810895202,
          -0.07942549846976744,
          0.38669854453895164,
          -1.65502236110641,
          -0.6616733172215916,
          -0.5667662407356442,
          0.0026388579236230505,
          -0.9752812578064499,
          -0.419301211758648,
          -1.5793638319467527,
          -0.2971758114762656,
          0.469615768146265,
          0.11435301467001337,
          0.429834338902741,
          -0.7299872891455981,
          -0.06311689089549032,
          -1.3176941557572162,
          0.5101226065489198,
          -0.2669832359944198,
          -0.31066713608061197,
          -0.07803534546944109,
          0.8877974342879091,
          0.6969481038280603,
          0.39653965498074545,
          0.5546761341154464,
          0.03653157630169743,
          -1.3767958490461039,
          -0.3083834834602238,
          -1.6170445337323598,
          0.9223971604834594,
          2.0662109911291493,
          1.85128377904813,
          -0.32688801838637743,
          -0.0003914474488981282,
          0.13349793620328573,
          0.2706734307449688,
          0.10969898161937165,
          -0.8909548146522822,
          -0.892979734891118,
          -0.7921480194832046,
          -0.03498424672876324,
          0.9752210892858126,
          0.10594418878557034,
          1.9539057464734217,
          0.8618493821728952,
          0.8932587936507982,
          -0.3887985024525041,
          1.0586202854090612,
          -1.1516619795063283,
          1.4667227385396917,
          0.7068499939291656,
          -0.4056579143010098,
          0.5211745625321024,
          0.2542454742416451,
          -0.05917962780297074,
          0.039731544475567,
          1.614054305070984,
          -0.3821776172847308,
          0.4086167409664873,
          -1.246607756082136,
          1.094515530083597,
          -1.7203062172508223,
          0.24661956965240386,
          0.48243373264407474,
          0.8099328952049556,
          -0.5616086471055565,
          -0.6852232595302159,
          -0.9925500315862537,
          0.5438950910088223,
          -1.2433378245000362,
          1.3343167471383575,
          0.6919836819880321,
          -0.3383729771219205,
          -0.18997121953285845,
          0.3432334134319712,
          0.4827553234183445,
          -1.4459023917253113,
          -0.5499718844210124,
          -0.2835341506320679,
          -0.23098061760377342,
          0.9522393168896147,
          -0.7635605126965463,
          1.3124776532728375,
          2.0190100326896907,
          -0.8281129534820914,
          -1.6314587610921707,
          0.11559737291938434,
          2.780229579821904,
          1.5084866624537856,
          -1.5895149186742823,
          0.756920394821398,
          -1.0819106735885702,
          0.8933166105810035,
          -0.1349522339729652,
          -0.8869346758912682,
          -1.630595615541146,
          -1.561449877441091,
          -0.1904567427224124,
          1.2377115456401546,
          -0.13449794054990755,
          0.4832224341318548,
          0.41739112528867545,
          -0.08167287724369018,
          1.1851178111922465,
          0.5627205227502662,
          -0.3747763724965852,
          -0.9540430026730964,
          0.6221766834678527,
          0.5938329863739038,
          0.7471563231769195,
          -0.008458274715544504,
          0.10393634046412495,
          0.09210080699117541,
          0.05780956781861528,
          0.3528435965188683,
          0.7134428437541226,
          -2.1935029815224354,
          1.2279915825123215,
          -0.6053717818294161,
          -0.4671819875887932,
          -1.0788051168491806,
          -0.14502799661310506,
          1.1325348783369789,
          1.6168178789396854,
          1.0830536019729018,
          -0.6415363911283768,
          0.6991998325955167,
          -1.5934873613305534,
          0.8671709961750197,
          -1.4642082869960584,
          0.9319592347957533,
          -0.7488190510481902,
          -0.04241016562683831,
          0.8044876371662978,
          -1.2255059505760126,
          0.7767995964824708,
          -0.42439212859683245,
          -0.9578129659114648,
          -1.4675579547810966,
          -0.6313775578702875,
          0.11514078959572542,
          0.5322814483931525,
          0.013782941138202099,
          -0.7183698471594075,
          -0.21471453490562323,
          -1.6129581695094464,
          -2.438160502355041,
          -0.5250954959881268,
          -0.7244763660885639,
          0.36222812907779744,
          -0.18556648128598946,
          1.277388398135846,
          -0.018835574639563268,
          -0.31181947873726584,
          -1.2149236618051635,
          -0.8582231573591265,
          1.5551194282965628,
          -1.3705220249922503,
          0.8982601750968712,
          0.46425213740819204,
          0.8514910563552857,
          0.17182967801308538,
          0.8436395579707443,
          -0.7060725775755603,
          1.3237773752980149,
          0.05846752402789718,
          -1.086566370952794,
          -0.5577649685120298,
          1.035588546112911,
          0.19698588282389096,
          -1.1607771184045943,
          -1.0576030600928565,
          1.064512697592439,
          -0.12267451639749087,
          0.950493865552134,
          -0.6113007954685753,
          1.1938354517046943,
          0.28518611796717136,
          2.00968499961012,
          0.44666333284100124,
          0.27257758137881727,
          0.4802142396338287,
          0.05873227906408181,
          -0.8769624739508938,
          -0.8549027851506162,
          -0.3331205170725156,
          0.6188238021926784,
          0.23740864129414088,
          0.02556673893586729,
          -0.319589727958053,
          1.3454606216872302,
          0.5712111539338864,
          -0.02513215391267719,
          0.9887842144587101,
          1.4721246471653275,
          1.896732190343502,
          1.301531479510165,
          1.172424983330998,
          -0.0036096010378811275,
          -0.42341928309756627,
          0.8328191571222571,
          0.79105865118848,
          0.9403303594926117,
          0.3424065447451268,
          -0.9602668404371285,
          -1.0660752313561686,
          0.18542290987251864,
          0.37440809083467347,
          0.9916072686918669,
          1.148374896764833,
          0.7674319239648176,
          -0.7731702812038311,
          -0.1976535733089919,
          -0.7203290920046455,
          -0.20823374916184798,
          -0.5019773812510664,
          1.5066357353626145,
          -0.9434977023811308,
          -0.6105245576152663,
          -0.49601190738542444,
          -1.1743107543186593,
          -0.9462803894044883,
          1.0048941108940475,
          -0.6032887260694311,
          0.1587489556010136,
          -1.4704077353460903,
          1.1573279947239674,
          -0.9122460422016875,
          -0.8338229740188288,
          1.571615259380963,
          -1.7124740554514415,
          1.4909900460399084,
          -0.42616932090442444,
          0.1690960630021941,
          0.43048084041422996,
          -1.7236632968129209,
          0.8548620199745465,
          1.4380542028222731,
          1.719738024090054,
          0.03382889012592444,
          -1.0625482321317494,
          0.7317911276228682,
          1.1233765024137539,
          1.287580652491934,
          0.3948264897817201,
          1.2592754229121106,
          0.9930741903606838,
          0.07864637322538,
          -0.7656001979732807,
          -0.6864892909879895,
          -2.2800218254232005,
          -0.9516257634827451,
          1.0308357159715296,
          -1.6261535081511374,
          -1.8341724998443507,
          -0.002883984137310261,
          2.199056777130825,
          0.17739130112743406,
          -0.15263755453614028,
          -1.1107799595255774,
          -0.24432720079546902,
          -1.6208901497730928,
          0.813226499316666,
          -2.0287309262892688,
          0.7937511073293922,
          0.014332130433581955,
          -0.6014586376325755,
          -0.6314241852970712,
          0.5543899780691963,
          1.0439963000709291,
          -1.294372706741285,
          -0.04926847259984782,
          -0.2032999047502288,
          -0.7779976982135784,
          0.5459501571843343,
          1.2995703133804737,
          -0.15099114295192315,
          -0.1903543690695303,
          1.8071326434104589,
          -0.44255661804900326,
          0.0917623091630663,
          1.2028915227567738,
          0.5586518500248628,
          0.7185583867600781,
          0.38013299939550066,
          -0.1979714615960119,
          -0.15878449405786207,
          1.174546749665941,
          0.2943100429679483,
          0.7660264519318553,
          0.3398553661295554,
          0.2055052520118922,
          -1.6985943559498453,
          -2.1343339510539634,
          0.7991261301739979,
          0.18451965360631178,
          -0.5798467927170825,
          -1.1569036209442118,
          -0.7823684329130003,
          0.5608801435840342,
          1.4380679404397423,
          0.43670713589460275,
          0.1433192600400617,
          0.9515834750634318,
          0.5825934277803386,
          0.21278848918488766,
          -0.11046850536143593,
          0.6839609546415631,
          0.03382440309024695,
          0.4765928943511261,
          1.038861484398483,
          0.23136013454460547,
          0.3099275814198602,
          -1.964640220309935,
          0.3247057610718357,
          0.953661129749883,
          -0.760792523567192,
          0.06598649253461743,
          1.0991715275994929,
          -0.4296942129182014,
          -2.2283498815451352,
          0.45309833363334107,
          1.947398457804906,
          0.08211491070522273
         ]
        },
        {
         "boxpoints": false,
         "line": {
          "width": 1.3
         },
         "marker": {
          "color": "rgba(50, 171, 96, 1.0)"
         },
         "name": "c",
         "orientation": "v",
         "type": "box",
         "y": [
          0.722727172289769,
          -2.27550338312367,
          -1.381027116601662,
          0.046405929084916364,
          0.3968069191618129,
          -1.7130610261911965,
          -0.3888907482760322,
          -0.8272140251749861,
          -2.031980639975859,
          -1.9211278391414373,
          0.09526014557633355,
          0.12721184888168358,
          -0.8500733635623845,
          -0.41544334925012394,
          -2.32421122907252,
          -0.608505230078463,
          -1.1590282294786944,
          -0.8771873967572621,
          -0.22555884111731617,
          -2.6471820201571363,
          -0.9370153716423479,
          -1.8372871158307402,
          -1.1432146495504056,
          -1.2777457178946718,
          0.6573066268008483,
          -0.275935164462107,
          -0.44182756878823093,
          -0.9448951366270638,
          -0.9661655119844319,
          -0.8564859070490503,
          -3.9160475971099244,
          -1.1776065798218953,
          0.20623693598372217,
          -0.7996769041646854,
          -1.2894768147163234,
          -0.12064808515312797,
          -1.8035586123022247,
          -1.0174528269659826,
          -1.3485006088629983,
          0.3543522260739145,
          0.8574975417833426,
          -0.26807925112716025,
          -0.7773651963246807,
          -1.2722674415807302,
          0.46405390282544823,
          -0.9065964616280324,
          -0.7986634996522706,
          0.5546339131590452,
          -1.0973034731061493,
          0.17548564311738324,
          -1.3109687664007366,
          -1.5360746886273073,
          -1.3891371996823192,
          -0.9538326134841147,
          -0.801483860406911,
          -0.855997745365205,
          -2.0046521659714953,
          -0.16420347105101307,
          -1.9754032106990913,
          -0.12511368810735934,
          -0.9991441535037767,
          -1.9880008036133745,
          -2.8601122325332984,
          1.5339784120379587,
          -1.518228382997716,
          -1.6127817426511177,
          -2.78650468945,
          0.3320435555124148,
          1.045514092940938,
          -0.1604093134997352,
          -1.3299588451299225,
          0.37374725633285033,
          1.0183483963587139,
          -0.2610346186125373,
          -3.321240426071702,
          -0.4226666777674164,
          -0.7397469245202892,
          -1.2779419318571303,
          -0.3961999355791963,
          -0.554405955669862,
          -1.514836855800848,
          0.10115242759864684,
          -3.333651936181006,
          -0.4864996407612526,
          -1.6374242032021664,
          -0.14953541384699653,
          0.8090436777459371,
          -1.3061871282043767,
          0.5010335993105324,
          -2.0219796948789814,
          -0.8900304811949562,
          -0.7560068843097033,
          -2.679546571569781,
          -1.3681111759307767,
          -0.619126397675871,
          -1.8730800515226333,
          -0.6904519392173403,
          -2.335436477762241,
          0.5284547601992942,
          -1.6529415568947186,
          -0.6530776080839416,
          -1.1667484349984663,
          0.06930163589463456,
          -1.7314467904867636,
          -0.13024605505837028,
          -0.3266433510255624,
          -0.27139416795396754,
          -0.7967448261691848,
          -0.5023944601876719,
          -1.9103141711767437,
          -0.9425702067007679,
          -0.9566556782470955,
          -1.7563277991694475,
          -1.5418087961313844,
          -1.0257934874296397,
          -1.02668036453554,
          -1.1670973623574155,
          -1.0245736721148937,
          0.05149287292147586,
          -1.159503676674384,
          -0.06872472078668124,
          -1.4546335521455334,
          -0.3363695927399625,
          -0.11740749328017985,
          -2.6500990773931736,
          -0.8341959396131384,
          -2.2471775806944745,
          -0.1571962820022914,
          -0.3161332524575037,
          -0.5228839920181414,
          -2.3851252111578938,
          -0.7762078056273943,
          -2.152128736185474,
          -1.1723598762260372,
          -1.572967765728925,
          -2.422180953768139,
          -1.7108237121885597,
          -1.929122302147778,
          -0.4653630172618046,
          -1.307992628920274,
          -0.9843938687905436,
          -0.9308426803496368,
          -0.6621939285180277,
          -0.4931694522546656,
          -2.4702154953878717,
          -1.8125672587938126,
          -1.4763316338778956,
          -3.185503296570633,
          -3.3477121806648866,
          -1.6305143473767592,
          -1.1970288866325305,
          -1.6338716432786837,
          -2.6005319962761373,
          -1.685956732250454,
          0.5535194805223653,
          -1.5709463188236725,
          0.8927577628934318,
          -1.2470748189205538,
          -0.6251217473939712,
          -0.39836635769615136,
          -0.6625199431541224,
          -1.636137635764856,
          -2.9030393306523625,
          -0.32838216800379627,
          -2.22557838951478,
          -1.4300946495690372,
          -2.087758637019953,
          -0.7045306623705094,
          0.28473584513528105,
          -0.6886149004770108,
          -0.351287399589572,
          -1.7741254528703938,
          -1.2611824862609484,
          -1.9788999763981168,
          0.5764908883379587,
          -1.0118563802834375,
          -1.2665369913689803,
          -2.266795520754891,
          0.2849744131844363,
          -0.8725015082484293,
          -1.0757168700621722,
          -0.13459782791501562,
          -0.0021991416998869973,
          -1.7287730578987919,
          -0.5423656285415739,
          -1.410004837088625,
          -0.6631757930539042,
          -0.7217485707280561,
          -1.9114121200988072,
          -0.8494090529745184,
          0.12134396801177072,
          -0.19618862591142416,
          -1.4611841357119377,
          -1.0107404119577514,
          -1.7162115498868817,
          -2.0156056612374584,
          -0.8564149756980083,
          -0.6916555239028268,
          -1.9869412720312867,
          -1.6262253660810924,
          0.37980697822253395,
          -1.0223566658607504,
          -2.1782436412075787,
          -0.7070461435765052,
          -0.8787247089460078,
          -3.0115063471571344,
          -1.6985918201430845,
          -0.9076544084301995,
          -1.7975830264698658,
          -1.074336074214257,
          -0.4884267940862205,
          0.5418695832607512,
          -0.7832344885645158,
          -1.44122097827728,
          -1.824228523044082,
          -0.6955662389437004,
          -1.8119109392777717,
          -2.497081427583243,
          -2.2807779432452646,
          -0.5291803857503578,
          -1.0648751952403868,
          -0.41535540303126395,
          -1.0834778905176676,
          -1.0763755651753784,
          -1.1084146567433462,
          -0.6947772062383546,
          -1.6204080624459758,
          -0.5761130722672708,
          0.828994569302423,
          -1.698735068437196,
          -0.4367045819155616,
          -2.2023592077149727,
          -2.287833201488379,
          -3.165020566623099,
          0.9079426708904219,
          -1.3147880885388659,
          -0.5253211573825634,
          -0.15410616843148128,
          -1.8211782309481044,
          -0.15465443230677123,
          0.543895232618901,
          1.0346825514740088,
          -2.3337424176120463,
          -1.071003047587024,
          -1.1595406619719346,
          -0.7848392961345639,
          -0.893557094354202,
          -1.9743632643338829,
          -1.2296505222327745,
          0.9498522729135699,
          -0.6587997459370191,
          -0.12547233364972166,
          1.0367136824332874,
          -1.1496137516156661,
          0.1239208217322243,
          -0.9660570611087298,
          -0.2755062594169071,
          -0.6811958846462116,
          -0.6433301518310457,
          -1.5694739874342003,
          0.023285244987719667,
          -2.6216270500849594,
          -0.8058813833669287,
          -2.467205493366227,
          -0.7744887038010382,
          -0.44042853206403454,
          -0.8055785071590811,
          -1.2795602384471452,
          -2.089151998342631,
          -0.6093635442482783,
          -1.3072097974872208,
          0.6986130789469132,
          -1.4614156349893113,
          -0.7316680015292627,
          -0.34850388135110655,
          -0.7757631804004106,
          -1.5444547360289498,
          0.24936473948779558,
          -1.3249188814478996,
          -1.1965092098058097,
          -0.9284838887392939,
          -0.7888070231493451,
          -0.9879835123928714,
          0.5068008397761092,
          -1.910175047935935,
          -0.21637620778744693,
          -0.8830819232935072,
          -0.2698886231806532,
          -1.0192956444085177,
          -1.7673743813960798,
          -2.7698122054043472,
          0.9232651388750805,
          -1.6476680479018384,
          -0.9002189367384374,
          -1.396251096858784,
          -0.7097834659498281,
          -0.33058339284985494,
          -2.6235472697822697,
          -1.1229101817971927,
          -1.6937546849000822,
          -1.3085073111471481,
          -1.1996998060329593,
          -0.9442895172419613,
          -2.492092967732744,
          -1.2575376499883286,
          0.2563211866651225,
          -0.4695075837648809,
          0.2810691763507569,
          -0.5450154623539525,
          -0.7985900602318222,
          -2.0364274415787547,
          -2.136102236174393,
          -0.8380636676115654,
          -2.12068757265738,
          -0.7556959639750892,
          -0.31161189253306487,
          -1.77938535266091,
          -2.7588078003563585,
          -1.1879405645845547,
          -1.2936531068874957,
          0.43562212959654545,
          -3.7465084406218288,
          -1.7201451272194976,
          -2.1960277722969006,
          -1.635626737158276,
          -2.6156427242721856,
          -0.9862657975590386,
          -1.5406509220670608,
          0.7218044639545582,
          -3.142319660644049,
          -1.541849908874164,
          -1.3746335306906035,
          -1.0328322291352374,
          -0.20515581653683568,
          -1.0196334639724225,
          -0.035909006636767216,
          -1.5976856014340166,
          -1.3153420117816188,
          1.1274152470507697,
          -0.3627737764831498,
          0.719732614863491,
          -3.5026999800741443,
          -0.5154717472766985,
          -0.24728268084613803,
          -0.1698469804564814,
          -0.4771999881397412,
          -0.5349611867825563,
          -2.247539320396509,
          0.020186942675297637,
          -1.8173342098703236,
          -0.8636881159309351,
          -0.3864211946502305,
          -0.5770200334510127,
          -1.1979747166671402,
          -0.9289726156884455,
          -1.6507227871317622,
          -1.7363683544270745,
          0.053458361231844886,
          -1.2216950013296854,
          -1.4711624414203588,
          -0.4928908710000022,
          -1.8112830502111508,
          -1.867866194500556,
          0.18994239382353095,
          -1.7494182599816903,
          -1.071062433298225,
          -0.543313443188628,
          0.04394591311464735,
          -0.5100984392212914,
          -2.2284796522698516,
          -1.1169278233656967,
          -0.5975872424929793,
          -0.8003158443157353,
          -1.9791586958523646,
          -1.804099063736777,
          -2.183811300999565,
          -0.5989593141489871,
          -1.8683301346064187,
          -0.8516790611321182,
          -3.349410212571505,
          -1.2050164084905501,
          -2.065424099953902,
          -1.7220380660254926,
          -0.3109622557953582,
          -0.20468550531341867,
          -0.8266664291654272,
          -0.20361477319970223,
          -3.112924231598094,
          -0.36863667961826885,
          -0.6186390655672767,
          -0.49548309042960825,
          -3.755075884121989,
          -2.5037550016245245,
          -1.1719558534818784,
          -0.26880694704804864,
          -1.5197414835035612,
          -0.7061219082774959,
          -0.24477488001605685,
          -1.9373212820718333,
          -2.1127720680774624,
          0.6053692365992813,
          -2.9644646945088597,
          -0.5728277599748761,
          -0.6208349023249338,
          -1.5872308401488806,
          -2.6790673720425655,
          -1.65290992324841,
          -2.7444554256548175,
          -1.4635374479396628,
          0.5616289608945149,
          -1.2633252784242144,
          -1.0625050420832147,
          0.2893038464233142,
          -0.3709092985826091,
          -1.3621365955732216,
          -1.516118242436768,
          0.5403537061649155,
          0.5612468647685032,
          -2.841129057867664,
          -0.5482223337689716,
          -0.6884966610596368,
          -0.6176451664605894,
          -0.09064357882394736,
          -3.4337380751000657,
          -1.0918010349776661,
          -1.7575322114837624,
          -2.0348307795716516,
          0.26568912262887334,
          -1.059682254435792,
          -0.9285041721685597,
          -1.397282665939095,
          -0.7432503311638894,
          -1.1271183446033806,
          -0.9141966711277314,
          0.5988240125276652,
          -0.2775732879966485,
          -1.3282963405784445,
          0.043879343569502405,
          -2.8170379630194295,
          -2.73681233794406,
          -0.6766547527874056,
          -2.4371888082983544,
          -1.4440170584557024,
          -1.9193006470779796,
          -1.397981691687279,
          -1.0298454996575797,
          1.296849275259755,
          0.8502430013995621,
          -1.8631658042133739,
          -0.045699417075900306,
          -1.93627823130597,
          -0.5175960828861954,
          -1.6167315413677974,
          -1.479664680898002,
          0.4536120688045333,
          -1.3682307088748713,
          -0.16059854984686883,
          -1.6802328256435128,
          -1.3975745854965036,
          0.3052135342511133,
          0.13303602924540248,
          -0.22442667984499653,
          0.5177350720288376,
          -0.7413818317181353,
          -2.9790500363425476,
          0.46525633054461535,
          -1.862041993993382,
          -2.117356409414391,
          -1.9705459394514917,
          -1.1575118486772646,
          -2.27429696212846,
          -0.9112775037695262,
          -1.071693239599791,
          0.1182350787940436,
          -1.6042415268085914,
          1.4130868090914301,
          -1.3918736225221289,
          0.11979920124360022,
          -1.0717568230114167,
          -1.2740563143194334,
          -0.5382553491547213,
          -0.5913221505873247,
          0.30644042853299513,
          -1.5737715021732555,
          -0.327305433108665,
          -1.2395759981524006,
          -2.4674626978123015,
          -1.326171979680261,
          -0.6633420447392716,
          -0.07087737575219166,
          -1.4872436636328883,
          -0.08977374478563227,
          -0.6188010101101765,
          -2.816596749547449,
          -2.5693523219322962,
          -2.4800694706166833,
          0.42323333739917324,
          -1.6765181807387632,
          -1.280645506041688,
          -0.212328275439868
         ]
        }
       ],
       "layout": {
        "legend": {
         "bgcolor": "#F5F6F9",
         "font": {
          "color": "#4D5663"
         }
        },
        "paper_bgcolor": "#F5F6F9",
        "plot_bgcolor": "#F5F6F9",
        "template": {
         "data": {
          "bar": [
           {
            "error_x": {
             "color": "#2a3f5f"
            },
            "error_y": {
             "color": "#2a3f5f"
            },
            "marker": {
             "line": {
              "color": "#E5ECF6",
              "width": 0.5
             }
            },
            "type": "bar"
           }
          ],
          "barpolar": [
           {
            "marker": {
             "line": {
              "color": "#E5ECF6",
              "width": 0.5
             }
            },
            "type": "barpolar"
           }
          ],
          "carpet": [
           {
            "aaxis": {
             "endlinecolor": "#2a3f5f",
             "gridcolor": "white",
             "linecolor": "white",
             "minorgridcolor": "white",
             "startlinecolor": "#2a3f5f"
            },
            "baxis": {
             "endlinecolor": "#2a3f5f",
             "gridcolor": "white",
             "linecolor": "white",
             "minorgridcolor": "white",
             "startlinecolor": "#2a3f5f"
            },
            "type": "carpet"
           }
          ],
          "choropleth": [
           {
            "colorbar": {
             "outlinewidth": 0,
             "ticks": ""
            },
            "type": "choropleth"
           }
          ],
          "contour": [
           {
            "colorbar": {
             "outlinewidth": 0,
             "ticks": ""
            },
            "colorscale": [
             [
              0,
              "#0d0887"
             ],
             [
              0.1111111111111111,
              "#46039f"
             ],
             [
              0.2222222222222222,
              "#7201a8"
             ],
             [
              0.3333333333333333,
              "#9c179e"
             ],
             [
              0.4444444444444444,
              "#bd3786"
             ],
             [
              0.5555555555555556,
              "#d8576b"
             ],
             [
              0.6666666666666666,
              "#ed7953"
             ],
             [
              0.7777777777777778,
              "#fb9f3a"
             ],
             [
              0.8888888888888888,
              "#fdca26"
             ],
             [
              1,
              "#f0f921"
             ]
            ],
            "type": "contour"
           }
          ],
          "contourcarpet": [
           {
            "colorbar": {
             "outlinewidth": 0,
             "ticks": ""
            },
            "type": "contourcarpet"
           }
          ],
          "heatmap": [
           {
            "colorbar": {
             "outlinewidth": 0,
             "ticks": ""
            },
            "colorscale": [
             [
              0,
              "#0d0887"
             ],
             [
              0.1111111111111111,
              "#46039f"
             ],
             [
              0.2222222222222222,
              "#7201a8"
             ],
             [
              0.3333333333333333,
              "#9c179e"
             ],
             [
              0.4444444444444444,
              "#bd3786"
             ],
             [
              0.5555555555555556,
              "#d8576b"
             ],
             [
              0.6666666666666666,
              "#ed7953"
             ],
             [
              0.7777777777777778,
              "#fb9f3a"
             ],
             [
              0.8888888888888888,
              "#fdca26"
             ],
             [
              1,
              "#f0f921"
             ]
            ],
            "type": "heatmap"
           }
          ],
          "heatmapgl": [
           {
            "colorbar": {
             "outlinewidth": 0,
             "ticks": ""
            },
            "colorscale": [
             [
              0,
              "#0d0887"
             ],
             [
              0.1111111111111111,
              "#46039f"
             ],
             [
              0.2222222222222222,
              "#7201a8"
             ],
             [
              0.3333333333333333,
              "#9c179e"
             ],
             [
              0.4444444444444444,
              "#bd3786"
             ],
             [
              0.5555555555555556,
              "#d8576b"
             ],
             [
              0.6666666666666666,
              "#ed7953"
             ],
             [
              0.7777777777777778,
              "#fb9f3a"
             ],
             [
              0.8888888888888888,
              "#fdca26"
             ],
             [
              1,
              "#f0f921"
             ]
            ],
            "type": "heatmapgl"
           }
          ],
          "histogram": [
           {
            "marker": {
             "colorbar": {
              "outlinewidth": 0,
              "ticks": ""
             }
            },
            "type": "histogram"
           }
          ],
          "histogram2d": [
           {
            "colorbar": {
             "outlinewidth": 0,
             "ticks": ""
            },
            "colorscale": [
             [
              0,
              "#0d0887"
             ],
             [
              0.1111111111111111,
              "#46039f"
             ],
             [
              0.2222222222222222,
              "#7201a8"
             ],
             [
              0.3333333333333333,
              "#9c179e"
             ],
             [
              0.4444444444444444,
              "#bd3786"
             ],
             [
              0.5555555555555556,
              "#d8576b"
             ],
             [
              0.6666666666666666,
              "#ed7953"
             ],
             [
              0.7777777777777778,
              "#fb9f3a"
             ],
             [
              0.8888888888888888,
              "#fdca26"
             ],
             [
              1,
              "#f0f921"
             ]
            ],
            "type": "histogram2d"
           }
          ],
          "histogram2dcontour": [
           {
            "colorbar": {
             "outlinewidth": 0,
             "ticks": ""
            },
            "colorscale": [
             [
              0,
              "#0d0887"
             ],
             [
              0.1111111111111111,
              "#46039f"
             ],
             [
              0.2222222222222222,
              "#7201a8"
             ],
             [
              0.3333333333333333,
              "#9c179e"
             ],
             [
              0.4444444444444444,
              "#bd3786"
             ],
             [
              0.5555555555555556,
              "#d8576b"
             ],
             [
              0.6666666666666666,
              "#ed7953"
             ],
             [
              0.7777777777777778,
              "#fb9f3a"
             ],
             [
              0.8888888888888888,
              "#fdca26"
             ],
             [
              1,
              "#f0f921"
             ]
            ],
            "type": "histogram2dcontour"
           }
          ],
          "mesh3d": [
           {
            "colorbar": {
             "outlinewidth": 0,
             "ticks": ""
            },
            "type": "mesh3d"
           }
          ],
          "parcoords": [
           {
            "line": {
             "colorbar": {
              "outlinewidth": 0,
              "ticks": ""
             }
            },
            "type": "parcoords"
           }
          ],
          "pie": [
           {
            "automargin": true,
            "type": "pie"
           }
          ],
          "scatter": [
           {
            "marker": {
             "colorbar": {
              "outlinewidth": 0,
              "ticks": ""
             }
            },
            "type": "scatter"
           }
          ],
          "scatter3d": [
           {
            "line": {
             "colorbar": {
              "outlinewidth": 0,
              "ticks": ""
             }
            },
            "marker": {
             "colorbar": {
              "outlinewidth": 0,
              "ticks": ""
             }
            },
            "type": "scatter3d"
           }
          ],
          "scattercarpet": [
           {
            "marker": {
             "colorbar": {
              "outlinewidth": 0,
              "ticks": ""
             }
            },
            "type": "scattercarpet"
           }
          ],
          "scattergeo": [
           {
            "marker": {
             "colorbar": {
              "outlinewidth": 0,
              "ticks": ""
             }
            },
            "type": "scattergeo"
           }
          ],
          "scattergl": [
           {
            "marker": {
             "colorbar": {
              "outlinewidth": 0,
              "ticks": ""
             }
            },
            "type": "scattergl"
           }
          ],
          "scattermapbox": [
           {
            "marker": {
             "colorbar": {
              "outlinewidth": 0,
              "ticks": ""
             }
            },
            "type": "scattermapbox"
           }
          ],
          "scatterpolar": [
           {
            "marker": {
             "colorbar": {
              "outlinewidth": 0,
              "ticks": ""
             }
            },
            "type": "scatterpolar"
           }
          ],
          "scatterpolargl": [
           {
            "marker": {
             "colorbar": {
              "outlinewidth": 0,
              "ticks": ""
             }
            },
            "type": "scatterpolargl"
           }
          ],
          "scatterternary": [
           {
            "marker": {
             "colorbar": {
              "outlinewidth": 0,
              "ticks": ""
             }
            },
            "type": "scatterternary"
           }
          ],
          "surface": [
           {
            "colorbar": {
             "outlinewidth": 0,
             "ticks": ""
            },
            "colorscale": [
             [
              0,
              "#0d0887"
             ],
             [
              0.1111111111111111,
              "#46039f"
             ],
             [
              0.2222222222222222,
              "#7201a8"
             ],
             [
              0.3333333333333333,
              "#9c179e"
             ],
             [
              0.4444444444444444,
              "#bd3786"
             ],
             [
              0.5555555555555556,
              "#d8576b"
             ],
             [
              0.6666666666666666,
              "#ed7953"
             ],
             [
              0.7777777777777778,
              "#fb9f3a"
             ],
             [
              0.8888888888888888,
              "#fdca26"
             ],
             [
              1,
              "#f0f921"
             ]
            ],
            "type": "surface"
           }
          ],
          "table": [
           {
            "cells": {
             "fill": {
              "color": "#EBF0F8"
             },
             "line": {
              "color": "white"
             }
            },
            "header": {
             "fill": {
              "color": "#C8D4E3"
             },
             "line": {
              "color": "white"
             }
            },
            "type": "table"
           }
          ]
         },
         "layout": {
          "annotationdefaults": {
           "arrowcolor": "#2a3f5f",
           "arrowhead": 0,
           "arrowwidth": 1
          },
          "coloraxis": {
           "colorbar": {
            "outlinewidth": 0,
            "ticks": ""
           }
          },
          "colorscale": {
           "diverging": [
            [
             0,
             "#8e0152"
            ],
            [
             0.1,
             "#c51b7d"
            ],
            [
             0.2,
             "#de77ae"
            ],
            [
             0.3,
             "#f1b6da"
            ],
            [
             0.4,
             "#fde0ef"
            ],
            [
             0.5,
             "#f7f7f7"
            ],
            [
             0.6,
             "#e6f5d0"
            ],
            [
             0.7,
             "#b8e186"
            ],
            [
             0.8,
             "#7fbc41"
            ],
            [
             0.9,
             "#4d9221"
            ],
            [
             1,
             "#276419"
            ]
           ],
           "sequential": [
            [
             0,
             "#0d0887"
            ],
            [
             0.1111111111111111,
             "#46039f"
            ],
            [
             0.2222222222222222,
             "#7201a8"
            ],
            [
             0.3333333333333333,
             "#9c179e"
            ],
            [
             0.4444444444444444,
             "#bd3786"
            ],
            [
             0.5555555555555556,
             "#d8576b"
            ],
            [
             0.6666666666666666,
             "#ed7953"
            ],
            [
             0.7777777777777778,
             "#fb9f3a"
            ],
            [
             0.8888888888888888,
             "#fdca26"
            ],
            [
             1,
             "#f0f921"
            ]
           ],
           "sequentialminus": [
            [
             0,
             "#0d0887"
            ],
            [
             0.1111111111111111,
             "#46039f"
            ],
            [
             0.2222222222222222,
             "#7201a8"
            ],
            [
             0.3333333333333333,
             "#9c179e"
            ],
            [
             0.4444444444444444,
             "#bd3786"
            ],
            [
             0.5555555555555556,
             "#d8576b"
            ],
            [
             0.6666666666666666,
             "#ed7953"
            ],
            [
             0.7777777777777778,
             "#fb9f3a"
            ],
            [
             0.8888888888888888,
             "#fdca26"
            ],
            [
             1,
             "#f0f921"
            ]
           ]
          },
          "colorway": [
           "#636efa",
           "#EF553B",
           "#00cc96",
           "#ab63fa",
           "#FFA15A",
           "#19d3f3",
           "#FF6692",
           "#B6E880",
           "#FF97FF",
           "#FECB52"
          ],
          "font": {
           "color": "#2a3f5f"
          },
          "geo": {
           "bgcolor": "white",
           "lakecolor": "white",
           "landcolor": "#E5ECF6",
           "showlakes": true,
           "showland": true,
           "subunitcolor": "white"
          },
          "hoverlabel": {
           "align": "left"
          },
          "hovermode": "closest",
          "mapbox": {
           "style": "light"
          },
          "paper_bgcolor": "white",
          "plot_bgcolor": "#E5ECF6",
          "polar": {
           "angularaxis": {
            "gridcolor": "white",
            "linecolor": "white",
            "ticks": ""
           },
           "bgcolor": "#E5ECF6",
           "radialaxis": {
            "gridcolor": "white",
            "linecolor": "white",
            "ticks": ""
           }
          },
          "scene": {
           "xaxis": {
            "backgroundcolor": "#E5ECF6",
            "gridcolor": "white",
            "gridwidth": 2,
            "linecolor": "white",
            "showbackground": true,
            "ticks": "",
            "zerolinecolor": "white"
           },
           "yaxis": {
            "backgroundcolor": "#E5ECF6",
            "gridcolor": "white",
            "gridwidth": 2,
            "linecolor": "white",
            "showbackground": true,
            "ticks": "",
            "zerolinecolor": "white"
           },
           "zaxis": {
            "backgroundcolor": "#E5ECF6",
            "gridcolor": "white",
            "gridwidth": 2,
            "linecolor": "white",
            "showbackground": true,
            "ticks": "",
            "zerolinecolor": "white"
           }
          },
          "shapedefaults": {
           "line": {
            "color": "#2a3f5f"
           }
          },
          "ternary": {
           "aaxis": {
            "gridcolor": "white",
            "linecolor": "white",
            "ticks": ""
           },
           "baxis": {
            "gridcolor": "white",
            "linecolor": "white",
            "ticks": ""
           },
           "bgcolor": "#E5ECF6",
           "caxis": {
            "gridcolor": "white",
            "linecolor": "white",
            "ticks": ""
           }
          },
          "title": {
           "x": 0.05
          },
          "xaxis": {
           "automargin": true,
           "gridcolor": "white",
           "linecolor": "white",
           "ticks": "",
           "title": {
            "standoff": 15
           },
           "zerolinecolor": "white",
           "zerolinewidth": 2
          },
          "yaxis": {
           "automargin": true,
           "gridcolor": "white",
           "linecolor": "white",
           "ticks": "",
           "title": {
            "standoff": 15
           },
           "zerolinecolor": "white",
           "zerolinewidth": 2
          }
         }
        },
        "title": {
         "font": {
          "color": "#4D5663"
         }
        },
        "xaxis": {
         "gridcolor": "#E1E5ED",
         "showgrid": true,
         "tickfont": {
          "color": "#4D5663"
         },
         "title": {
          "font": {
           "color": "#4D5663"
          },
          "text": ""
         },
         "zerolinecolor": "#E1E5ED"
        },
        "yaxis": {
         "gridcolor": "#E1E5ED",
         "showgrid": true,
         "tickfont": {
          "color": "#4D5663"
         },
         "title": {
          "font": {
           "color": "#4D5663"
          },
          "text": ""
         },
         "zerolinecolor": "#E1E5ED"
        }
       }
      },
      "text/html": [
       "<div>\n",
       "        \n",
       "        \n",
       "            <div id=\"d5937946-ec80-409a-9b8b-de7fbf3d782f\" class=\"plotly-graph-div\" style=\"height:525px; width:100%;\"></div>\n",
       "            <script type=\"text/javascript\">\n",
       "                require([\"plotly\"], function(Plotly) {\n",
       "                    window.PLOTLYENV=window.PLOTLYENV || {};\n",
       "                    \n",
       "                if (document.getElementById(\"d5937946-ec80-409a-9b8b-de7fbf3d782f\")) {\n",
       "                    Plotly.newPlot(\n",
       "                        'd5937946-ec80-409a-9b8b-de7fbf3d782f',\n",
       "                        [{\"boxpoints\": false, \"line\": {\"width\": 1.3}, \"marker\": {\"color\": \"rgba(255, 153, 51, 1.0)\"}, \"name\": \"a\", \"orientation\": \"v\", \"type\": \"box\", \"y\": [0.44091327272398306, 2.256049940535907, 1.3822410002029912, 1.5225355870023094, 1.372193208763579, -0.35582689195813577, 2.3673818362195247, 0.6564684874382698, 0.7981458454500423, 0.5905366859583757, 1.254400401454161, 1.095053356878178, 0.4154445063703348, 0.08656633221506127, 1.6501574243578432, 0.9129954578749011, 1.051763216934134, -1.418150158090505, 2.0403344070771636, -0.4975155915899936, 2.1126964362767717, 1.292328553122617, 1.1433155617020514, 0.6273030198117842, -0.2691468407191109, 1.0060635515871619, 0.04752265765660013, 0.4282939689682802, 1.569468547868013, -0.15196601692576728, -0.47655639597793154, 2.0771344615850116, 2.5057544092496538, 1.1371762122615634, 1.5991140064714058, 2.68619795093284, 1.2697271762002724, -1.0997950021220109, 2.010700976316347, 1.5334765070606133, 0.2976132439063457, 0.11501917185083621, 2.384828544583906, 0.33075886545274014, 1.4490208354695828, 0.48747444776457827, 3.1785724679411196, 0.10932424911617589, 0.6464395777760295, 0.2721591654366511, 0.0958780700649583, 1.2702780692707545, 0.9234554328340517, 1.7322461995378657, 1.275399556594028, 1.8229815625291015, 0.17872786849853828, 0.06865158498114932, 1.5706543185239474, 1.884892534716748, 0.14668554166692527, 0.04041069168178346, 1.8189731240617526, -1.1386441629908663, 1.1566896491389913, 1.001190715091521, 1.7337228488361824, 0.8042322886900448, -1.379408220720571, -0.1040772189207737, 1.4760485159132428, 0.5467020121630624, 0.6478317610125834, 0.15864168101140985, -0.6872178142919658, 0.4551812520031423, 0.16258834342223016, 1.0826996534363111, 0.7022151044082054, -0.9855142269289345, 0.6589727560850129, -0.6519260784270446, -0.44259364263694967, 1.5273610164589186, 1.9732727589861931, 1.1498972993737107, -0.6237956539347904, 1.5512691089498802, 0.5056911766392669, 1.3936445525644476, 0.562921825698423, 1.4222486819096043, 0.5870481725734775, -0.4916419944796082, 1.1994322807420599, -0.35844625443284883, 1.8136342009419226, 2.5691288110488593, -0.4683390578399551, 1.5096073646767803, 0.11558005164847684, 1.3382287051302435, 0.864225389864004, 0.904430619771565, 1.965051857762603, 1.251846957627714, 2.800759546937372, 0.21134738540933717, 0.9117186162295691, 1.5930849111852239, 2.243303733047896, 2.233080784883189, 1.8614058334193457, 0.18315171800327024, -0.41045727891558026, 1.8643489192557352, 0.8422185949668722, 0.09365300845130275, 2.6807194978972078, 1.2103520010617224, 1.6077478641959513, 1.1720726847947682, 2.0626185320060912, 0.5997216976851631, 0.8170365211803929, 1.0154545730717188, 0.3989061493308542, 1.612850342164121, 0.7321394441304039, 0.9535454609790694, 1.1051329371569856, 0.8130761697729789, 1.7782420285999627, 1.0737566690522589, -0.32879310613520807, 1.812769860772132, -0.5696088140382425, -0.8182784287616065, 1.1394401967269547, -0.6400679326676892, 0.17610976251642096, 0.9358145803165341, 2.278210544133323, 2.564242797322456, 1.639310122335687, 0.3608323033468114, 1.2684072787566611, 1.7579905527660955, 3.2224187880408506, 0.5672758499461102, 1.7689637978776478, 2.0794906508558983, 2.368139103315797, 0.16487424245417792, 2.5165919066130433, 0.08001125465014214, 0.758186486889793, 0.5121337176989422, 4.014555719741524, 0.9368787604937575, 1.184057719518165, 0.7915190895686208, 0.30797923253839943, 0.40666726766534633, 1.0166220982792733, 0.5119496621378326, 1.2775062774781296, -0.7360061951865062, 1.1042436496197532, 2.4366382225804424, 0.9990481380710989, 1.388719829419559, 1.1173865573268031, 0.15613218240510107, 0.8974426449232967, 0.906989664107388, 1.6347711666524802, 1.9743408898132933, 0.6794380314343611, 0.1931289605750316, 1.5927500567952624, 2.320192094648473, 1.440303914211789, 1.8097077623504028, 1.7165309203381605, 0.37054249112477033, 0.5996970192629968, 1.5843277802847189, 0.0223954240046077, 2.1133447221402974, 0.2854120819665409, -1.0997372943775106, 1.6559851440922846, 2.1956188365164433, 0.2937083859904076, 2.383631220822406, 1.581902970563625, 1.0010338021293501, 1.6319474261753641, 2.0858233951650376, -1.6272143142308373, 0.07713385701878483, 1.5164479466461152, -0.3612495259025321, 1.7124363436155012, 2.2298173876323073, 1.4340160191214204, 0.4105533649825741, 1.313087541418671, 0.7848141628569432, 0.17192682744615695, 2.2169037821537465, 1.5262875813228196, 2.1313691029351505, 0.20811338913889288, 0.8408090801469457, 1.8139830017371936, 1.185848589144642, 1.7925200591551054, 0.9043105696435133, 0.9415224981958015, 0.36095625971741785, 0.7298382223328934, 2.42224865841819, 0.4543859266145154, -0.21086515644821824, 2.156446250324474, -0.6298727354088636, 0.8374500088626056, 1.2080522619985876, 1.6840822308642514, -0.5391486083478572, 1.9534028390328428, 1.8333326522117634, -0.17154731993455852, 0.6415849227225827, 0.7159686157821139, 1.5768739376547796, 0.26569282843009157, -0.1357324335852288, -1.0803389301098991, 3.1943849998559677, 1.0053785549827765, 1.640959806970684, 1.5083523897741253, 0.9393729823332801, 1.3129520006020783, 0.4394802567817012, 0.3852682055620459, 1.7373493677553746, 0.9423908227333335, 1.8958557156049731, 0.15044055318903016, 0.33228052680313425, -0.11754865790829583, 2.8239715200794526, 0.40705710013986807, 0.7754622006832119, 1.3292882678812905, 1.1181433075738205, 1.5307023803372921, 1.1784715901025677, 1.3215284054755558, 1.0366894041310946, 2.0245940935083384, 0.6347006831223969, 0.10719796138282878, 1.3223139155520327, 0.6556801292561257, 0.3505619412578156, 0.7588373772083358, 0.5523549012627476, 1.563395194289556, 3.6142928014711626, 1.4374264185477208, 2.385991976736645, 1.1249203708995743, -0.3738641057247609, 0.5077453920405137, 0.9931512383940128, 2.472515682823117, 1.7446164795438879, 1.2985869629357294, -0.1154806995920572, 2.878326438144505, 0.17661713194191886, 1.735225681191178, 1.0214467824679503, 1.2532358698707464, 0.731521329802282, 2.075594995259684, 0.5751044204833629, 1.7740596848849015, 0.2992774043606794, 1.857453703284436, 1.5171200492992996, 1.6285905340131086, 1.5084803043998232, 0.6495608915643339, 1.157351091200698, -1.051152474305459, 1.0212587070648158, 0.6667849214078835, 0.9563404832797888, -0.31518162365112556, 0.9991586550666843, -0.3878838817782426, 0.8906278667743621, 1.9439402190957504, 0.9134049559816672, 1.140177385879546, 0.1890771093020841, 1.0178631594588439, -0.4754544029562886, 3.069011052304876, 1.6363943251359654, 1.3129697599854642, 0.6794549416410823, 2.065352166787093, 1.3791803885324714, 0.8658539636287378, 1.2857558208014637, 1.484742486027663, 1.3821498865179045, 1.0378211272265965, 0.9240354810712722, -0.3836441175610392, 0.5626293220151641, 2.4376245032698445, 1.2520304113285954, 1.5478644948051223, -0.026767918230816923, 1.758474971567097, 1.6626497012601749, 1.4248604790232617, 1.5807564062600865, 1.911108619476265, -0.525331919303786, 0.6321489516877232, 3.4465730548465383, -0.278413658476943, 3.089232982867197, 0.7327746187111128, 0.10825035251062465, 1.1758656850739837, 0.9885399087540317, -0.054679083866704836, 0.5639694829614035, 1.0120052991290096, 1.762110691911432, 1.6038282554359147, 1.480991512748497, -0.47783997555822944, 1.8789376964441296, 1.2854476479513672, 2.923701350308753, -0.2955473207945225, 1.1772267025993486, -0.805966504795157, 1.1495346118059508, 1.172512430676508, -0.2609217582173424, -0.005574994300855618, -0.389009178007077, 0.4991632464581275, 1.1396002033980932, 1.3616964403922216, -0.14471682405560915, 1.1576289906813768, 0.6771817644639255, -0.15790010962625622, 1.329062765342045, 0.6068413001367297, 1.1747544952453597, 0.18675052483672028, 0.5078217935334939, 1.2225265995909778, -0.30322849831309107, -0.9384006472367155, 0.08688314064756808, -0.6054855438876074, 0.3125728924114477, 0.7410726785428426, 1.4750570814076862, 1.068465625604259, -0.0262896337714722, 0.0818809451159217, 0.16771999040527308, -0.24551540160398533, 0.909125409479128, 1.3411870260970107, 1.5290892434750178, -0.30089801632893054, 0.14835107536180447, 1.3529076379468064, 2.527812509933683, -0.22828056313239764, 0.5540397519757846, 1.4239190403811575, 2.891277626385844, 2.0694651573425555, 0.3200385008008667, 0.8397383478618334, 0.06978986281561095, 0.03153814769286478, 0.20288526521225447, 1.165754865493862, 0.17238947185704367, 1.0554920512544517, 1.030503812504883, 0.2152913091702613, 1.7696916775844893, 1.386226852515338, 0.6483511937991124, 1.4379551828874142, 2.3294683096108852, 1.5276723744426175, 0.7841628680146893, 0.8217069964147723, 0.7692226939899693, 0.022534298099112893, 0.5097632533028663, 0.6745130904128637, 0.2985897038890587, -0.9465146983909358, 0.5174754992742921, 1.2914759924697996, -0.32578798150751864, 1.805888459736014, 1.7842672749592048, 0.7325674785933931, -0.722435102462039, 1.5568590029886762, 1.0006379336182476, -0.17660507364870148, 1.4952454578835304, 1.9790741048579648, 1.8627694270483646, 1.6622631990101029, 2.1131063450523313, -0.9779952921560897, 0.40353740216495937, 1.979862811576183, 1.9623705927212938, -0.47329075377593655, 0.6019634448789006, 0.888278643051505, -0.72653236710797, 1.0999091744099765, -0.05256171272091925, 0.9334677975845797, 1.0214152284500466, 1.133708385297962, 1.0153519567788742, 1.37386123267616, 0.46050167150401256, 0.47209717084352176, 0.8283225840192413, 2.506823780052235, 1.9042905111850308, 0.9018864569780257, 1.6740993658468635, -0.4512089061341953, 0.977221999027247, 0.2233420239920585, 1.7880212614208928, 0.16197084570660847, 1.2328182526604885, 1.732977523059906, 0.9876969826493385, -0.10726563927653299, -0.7853375480759552, 1.0105909942478115, 1.4529967965694617, -0.57825456699063, 0.001183440058652785, 1.3462015265060725, 0.3010998258379467, -1.3546804483734602, 2.0069171649570556, -0.8359467936668896, 2.167918148338623, -0.46830016158050336, 1.193226110345327, 2.4827306915461405, -0.13328273562161286, 2.2403491116258127, 1.1805016763205647, 2.2742818673550023, 2.4508662608290903, 2.1930437972720975, 0.8271627135493889, -0.11020301218904205, -1.0846347635968452, 0.6618940044939496, 1.894562138464654, 0.9946787234981052, -1.1556219533276137, 1.7307435428852571, 0.6169418821631585]}, {\"boxpoints\": false, \"line\": {\"width\": 1.3}, \"marker\": {\"color\": \"rgba(55, 128, 191, 1.0)\"}, \"name\": \"b\", \"orientation\": \"v\", \"type\": \"box\", \"y\": [0.8600637635725479, 0.29113962217474243, -0.5188660414351486, 0.4064655214277502, -0.2429013895697959, -0.950359183412525, -1.1072786175158067, -1.703337685365138, 0.8922837689493374, -0.6784814198055338, 1.8002476962731226, 1.115691256123363, -0.4951318977114641, -0.8771628184041708, 0.35982042603762754, 1.1220447765965202, -0.5745396654562688, 0.10959561033328565, 1.1366699534573874, 1.4133992372703033, -0.003030801072639798, 0.4242239167637036, 1.5272234298521592, -0.7191321288947804, -0.37687670544217794, 0.16040117115688204, -1.1832078393653087, 0.006665652599693865, -0.8192747619172593, -1.9017660342481686, -0.9977945893700119, -1.0617980745459283, -0.6147793771091665, -0.4637641488663985, 2.459535827040027, 0.6863280122147535, -0.808436739412207, 1.116078444354245, -1.6042030267647138, 0.369010819866605, -0.409019085541988, 1.5280773510055254, -0.07331265266762398, -0.0747812957397979, 0.320433808117083, 0.6245069827615084, 1.355303865218766, -0.6221197030394043, 1.547164716171145, 0.1177415070600216, 0.8088193296077993, 1.2835418741008613, 0.6738383760996617, 0.7335801638150323, -0.4929459208230309, 0.5839423718759245, -0.614221205857195, 0.7556248126327176, 0.08435887504007449, 0.3787711611061367, 0.9318155577810633, -1.0786832507372772, 0.06049573773986351, 0.42836699091156427, 1.203383213645127, 0.6613354254014518, -1.3170032175241717, 0.01645644022778307, 0.2672940794781538, 1.442291995697421, -0.776670646659913, 0.3011350255154919, 0.11124346532248162, 0.18269756092512102, 0.28020429440953537, -0.9875803112228372, -0.3243673601737845, -1.0642301940732717, -0.040913058893354906, -0.7456767488954406, 1.5611859176347758, -0.9206273557939615, -1.2604327035825338, -1.330100396805573, -0.8194202667418313, 1.3459770067821555, 1.8965105916526994, 0.5739945339982089, -1.0662740588747206, 0.6905118483999588, -0.8617396377098671, -1.619994285581888, -0.49828793893125095, 0.1221881497061106, -0.12640387897796498, 0.8708291946706301, -0.6320055496747595, -1.2041040054834986, -0.08951345312969512, -0.4618283039546502, -1.890250470147134, -0.12232802008105202, -0.8455485353397755, -0.3293984237676439, 1.5015867397912983, -0.5799197609773652, -0.6224494485273039, -0.9822997271087236, -0.7897120828969075, 0.6556277979716878, -0.3578402705005522, -2.4822945626516684, -0.901339613916208, 0.5349815511564838, 0.35856294098558816, -0.3009946369910764, -0.5838688351955239, -1.2919938183834614, 0.8871317615457858, 1.0369008606129586, 1.819711978576863, -0.9982389747618914, -0.9715566458217499, -0.8532069754632483, 1.3091110763090112, -0.8643110317469549, 0.05794980474723679, 0.9865526523780135, 0.014584194475193712, 0.8595203037418225, -1.1374982038609915, -1.0833296879967218, 0.19003384435533338, -1.3316440127579419, 0.7775690043981998, -1.691914910805962, -0.36197641238638434, 0.06865141671838253, 1.2828268458477456, 0.12686670232724673, 0.42764402653573225, -0.3451037417421779, -0.8508867373355137, -2.649727506139991, 2.5628049498237377, 0.7727295472120996, 1.921655238022074, 0.33895059896157886, 0.7534028565885562, -1.0832925287979074, 1.3186745641445694, -0.6769386041076816, 0.688645816416143, -0.668105892572858, -0.901621528673041, -1.0839233729018265, -0.7029087470279362, 1.1568660231622174, 0.6150131999845884, -1.6443397369059105, 0.18248962060583268, 0.046359629300684234, 0.14906611913369622, -0.46951824513088447, -0.49135291701966577, -0.09890658991482731, -0.6523524776577481, 0.13232754435207933, -0.13653978156558946, -1.0139293899264608, -0.34029600447982083, -0.9707607117325777, -1.2613029451332793, 1.8080409311766619, -1.097419947842332, -0.44987805032231565, -0.7309244810895202, -0.07942549846976744, 0.38669854453895164, -1.65502236110641, -0.6616733172215916, -0.5667662407356442, 0.0026388579236230505, -0.9752812578064499, -0.419301211758648, -1.5793638319467527, -0.2971758114762656, 0.469615768146265, 0.11435301467001337, 0.429834338902741, -0.7299872891455981, -0.06311689089549032, -1.3176941557572162, 0.5101226065489198, -0.2669832359944198, -0.31066713608061197, -0.07803534546944109, 0.8877974342879091, 0.6969481038280603, 0.39653965498074545, 0.5546761341154464, 0.03653157630169743, -1.3767958490461039, -0.3083834834602238, -1.6170445337323598, 0.9223971604834594, 2.0662109911291493, 1.85128377904813, -0.32688801838637743, -0.0003914474488981282, 0.13349793620328573, 0.2706734307449688, 0.10969898161937165, -0.8909548146522822, -0.892979734891118, -0.7921480194832046, -0.03498424672876324, 0.9752210892858126, 0.10594418878557034, 1.9539057464734217, 0.8618493821728952, 0.8932587936507982, -0.3887985024525041, 1.0586202854090612, -1.1516619795063283, 1.4667227385396917, 0.7068499939291656, -0.4056579143010098, 0.5211745625321024, 0.2542454742416451, -0.05917962780297074, 0.039731544475567, 1.614054305070984, -0.3821776172847308, 0.4086167409664873, -1.246607756082136, 1.094515530083597, -1.7203062172508223, 0.24661956965240386, 0.48243373264407474, 0.8099328952049556, -0.5616086471055565, -0.6852232595302159, -0.9925500315862537, 0.5438950910088223, -1.2433378245000362, 1.3343167471383575, 0.6919836819880321, -0.3383729771219205, -0.18997121953285845, 0.3432334134319712, 0.4827553234183445, -1.4459023917253113, -0.5499718844210124, -0.2835341506320679, -0.23098061760377342, 0.9522393168896147, -0.7635605126965463, 1.3124776532728375, 2.0190100326896907, -0.8281129534820914, -1.6314587610921707, 0.11559737291938434, 2.780229579821904, 1.5084866624537856, -1.5895149186742823, 0.756920394821398, -1.0819106735885702, 0.8933166105810035, -0.1349522339729652, -0.8869346758912682, -1.630595615541146, -1.561449877441091, -0.1904567427224124, 1.2377115456401546, -0.13449794054990755, 0.4832224341318548, 0.41739112528867545, -0.08167287724369018, 1.1851178111922465, 0.5627205227502662, -0.3747763724965852, -0.9540430026730964, 0.6221766834678527, 0.5938329863739038, 0.7471563231769195, -0.008458274715544504, 0.10393634046412495, 0.09210080699117541, 0.05780956781861528, 0.3528435965188683, 0.7134428437541226, -2.1935029815224354, 1.2279915825123215, -0.6053717818294161, -0.4671819875887932, -1.0788051168491806, -0.14502799661310506, 1.1325348783369789, 1.6168178789396854, 1.0830536019729018, -0.6415363911283768, 0.6991998325955167, -1.5934873613305534, 0.8671709961750197, -1.4642082869960584, 0.9319592347957533, -0.7488190510481902, -0.04241016562683831, 0.8044876371662978, -1.2255059505760126, 0.7767995964824708, -0.42439212859683245, -0.9578129659114648, -1.4675579547810966, -0.6313775578702875, 0.11514078959572542, 0.5322814483931525, 0.013782941138202099, -0.7183698471594075, -0.21471453490562323, -1.6129581695094464, -2.438160502355041, -0.5250954959881268, -0.7244763660885639, 0.36222812907779744, -0.18556648128598946, 1.277388398135846, -0.018835574639563268, -0.31181947873726584, -1.2149236618051635, -0.8582231573591265, 1.5551194282965628, -1.3705220249922503, 0.8982601750968712, 0.46425213740819204, 0.8514910563552857, 0.17182967801308538, 0.8436395579707443, -0.7060725775755603, 1.3237773752980149, 0.05846752402789718, -1.086566370952794, -0.5577649685120298, 1.035588546112911, 0.19698588282389096, -1.1607771184045943, -1.0576030600928565, 1.064512697592439, -0.12267451639749087, 0.950493865552134, -0.6113007954685753, 1.1938354517046943, 0.28518611796717136, 2.00968499961012, 0.44666333284100124, 0.27257758137881727, 0.4802142396338287, 0.05873227906408181, -0.8769624739508938, -0.8549027851506162, -0.3331205170725156, 0.6188238021926784, 0.23740864129414088, 0.02556673893586729, -0.319589727958053, 1.3454606216872302, 0.5712111539338864, -0.02513215391267719, 0.9887842144587101, 1.4721246471653275, 1.896732190343502, 1.301531479510165, 1.172424983330998, -0.0036096010378811275, -0.42341928309756627, 0.8328191571222571, 0.79105865118848, 0.9403303594926117, 0.3424065447451268, -0.9602668404371285, -1.0660752313561686, 0.18542290987251864, 0.37440809083467347, 0.9916072686918669, 1.148374896764833, 0.7674319239648176, -0.7731702812038311, -0.1976535733089919, -0.7203290920046455, -0.20823374916184798, -0.5019773812510664, 1.5066357353626145, -0.9434977023811308, -0.6105245576152663, -0.49601190738542444, -1.1743107543186593, -0.9462803894044883, 1.0048941108940475, -0.6032887260694311, 0.1587489556010136, -1.4704077353460903, 1.1573279947239674, -0.9122460422016875, -0.8338229740188288, 1.571615259380963, -1.7124740554514415, 1.4909900460399084, -0.42616932090442444, 0.1690960630021941, 0.43048084041422996, -1.7236632968129209, 0.8548620199745465, 1.4380542028222731, 1.719738024090054, 0.03382889012592444, -1.0625482321317494, 0.7317911276228682, 1.1233765024137539, 1.287580652491934, 0.3948264897817201, 1.2592754229121106, 0.9930741903606838, 0.07864637322538, -0.7656001979732807, -0.6864892909879895, -2.2800218254232005, -0.9516257634827451, 1.0308357159715296, -1.6261535081511374, -1.8341724998443507, -0.002883984137310261, 2.199056777130825, 0.17739130112743406, -0.15263755453614028, -1.1107799595255774, -0.24432720079546902, -1.6208901497730928, 0.813226499316666, -2.0287309262892688, 0.7937511073293922, 0.014332130433581955, -0.6014586376325755, -0.6314241852970712, 0.5543899780691963, 1.0439963000709291, -1.294372706741285, -0.04926847259984782, -0.2032999047502288, -0.7779976982135784, 0.5459501571843343, 1.2995703133804737, -0.15099114295192315, -0.1903543690695303, 1.8071326434104589, -0.44255661804900326, 0.0917623091630663, 1.2028915227567738, 0.5586518500248628, 0.7185583867600781, 0.38013299939550066, -0.1979714615960119, -0.15878449405786207, 1.174546749665941, 0.2943100429679483, 0.7660264519318553, 0.3398553661295554, 0.2055052520118922, -1.6985943559498453, -2.1343339510539634, 0.7991261301739979, 0.18451965360631178, -0.5798467927170825, -1.1569036209442118, -0.7823684329130003, 0.5608801435840342, 1.4380679404397423, 0.43670713589460275, 0.1433192600400617, 0.9515834750634318, 0.5825934277803386, 0.21278848918488766, -0.11046850536143593, 0.6839609546415631, 0.03382440309024695, 0.4765928943511261, 1.038861484398483, 0.23136013454460547, 0.3099275814198602, -1.964640220309935, 0.3247057610718357, 0.953661129749883, -0.760792523567192, 0.06598649253461743, 1.0991715275994929, -0.4296942129182014, -2.2283498815451352, 0.45309833363334107, 1.947398457804906, 0.08211491070522273]}, {\"boxpoints\": false, \"line\": {\"width\": 1.3}, \"marker\": {\"color\": \"rgba(50, 171, 96, 1.0)\"}, \"name\": \"c\", \"orientation\": \"v\", \"type\": \"box\", \"y\": [0.722727172289769, -2.27550338312367, -1.381027116601662, 0.046405929084916364, 0.3968069191618129, -1.7130610261911965, -0.3888907482760322, -0.8272140251749861, -2.031980639975859, -1.9211278391414373, 0.09526014557633355, 0.12721184888168358, -0.8500733635623845, -0.41544334925012394, -2.32421122907252, -0.608505230078463, -1.1590282294786944, -0.8771873967572621, -0.22555884111731617, -2.6471820201571363, -0.9370153716423479, -1.8372871158307402, -1.1432146495504056, -1.2777457178946718, 0.6573066268008483, -0.275935164462107, -0.44182756878823093, -0.9448951366270638, -0.9661655119844319, -0.8564859070490503, -3.9160475971099244, -1.1776065798218953, 0.20623693598372217, -0.7996769041646854, -1.2894768147163234, -0.12064808515312797, -1.8035586123022247, -1.0174528269659826, -1.3485006088629983, 0.3543522260739145, 0.8574975417833426, -0.26807925112716025, -0.7773651963246807, -1.2722674415807302, 0.46405390282544823, -0.9065964616280324, -0.7986634996522706, 0.5546339131590452, -1.0973034731061493, 0.17548564311738324, -1.3109687664007366, -1.5360746886273073, -1.3891371996823192, -0.9538326134841147, -0.801483860406911, -0.855997745365205, -2.0046521659714953, -0.16420347105101307, -1.9754032106990913, -0.12511368810735934, -0.9991441535037767, -1.9880008036133745, -2.8601122325332984, 1.5339784120379587, -1.518228382997716, -1.6127817426511177, -2.78650468945, 0.3320435555124148, 1.045514092940938, -0.1604093134997352, -1.3299588451299225, 0.37374725633285033, 1.0183483963587139, -0.2610346186125373, -3.321240426071702, -0.4226666777674164, -0.7397469245202892, -1.2779419318571303, -0.3961999355791963, -0.554405955669862, -1.514836855800848, 0.10115242759864684, -3.333651936181006, -0.4864996407612526, -1.6374242032021664, -0.14953541384699653, 0.8090436777459371, -1.3061871282043767, 0.5010335993105324, -2.0219796948789814, -0.8900304811949562, -0.7560068843097033, -2.679546571569781, -1.3681111759307767, -0.619126397675871, -1.8730800515226333, -0.6904519392173403, -2.335436477762241, 0.5284547601992942, -1.6529415568947186, -0.6530776080839416, -1.1667484349984663, 0.06930163589463456, -1.7314467904867636, -0.13024605505837028, -0.3266433510255624, -0.27139416795396754, -0.7967448261691848, -0.5023944601876719, -1.9103141711767437, -0.9425702067007679, -0.9566556782470955, -1.7563277991694475, -1.5418087961313844, -1.0257934874296397, -1.02668036453554, -1.1670973623574155, -1.0245736721148937, 0.05149287292147586, -1.159503676674384, -0.06872472078668124, -1.4546335521455334, -0.3363695927399625, -0.11740749328017985, -2.6500990773931736, -0.8341959396131384, -2.2471775806944745, -0.1571962820022914, -0.3161332524575037, -0.5228839920181414, -2.3851252111578938, -0.7762078056273943, -2.152128736185474, -1.1723598762260372, -1.572967765728925, -2.422180953768139, -1.7108237121885597, -1.929122302147778, -0.4653630172618046, -1.307992628920274, -0.9843938687905436, -0.9308426803496368, -0.6621939285180277, -0.4931694522546656, -2.4702154953878717, -1.8125672587938126, -1.4763316338778956, -3.185503296570633, -3.3477121806648866, -1.6305143473767592, -1.1970288866325305, -1.6338716432786837, -2.6005319962761373, -1.685956732250454, 0.5535194805223653, -1.5709463188236725, 0.8927577628934318, -1.2470748189205538, -0.6251217473939712, -0.39836635769615136, -0.6625199431541224, -1.636137635764856, -2.9030393306523625, -0.32838216800379627, -2.22557838951478, -1.4300946495690372, -2.087758637019953, -0.7045306623705094, 0.28473584513528105, -0.6886149004770108, -0.351287399589572, -1.7741254528703938, -1.2611824862609484, -1.9788999763981168, 0.5764908883379587, -1.0118563802834375, -1.2665369913689803, -2.266795520754891, 0.2849744131844363, -0.8725015082484293, -1.0757168700621722, -0.13459782791501562, -0.0021991416998869973, -1.7287730578987919, -0.5423656285415739, -1.410004837088625, -0.6631757930539042, -0.7217485707280561, -1.9114121200988072, -0.8494090529745184, 0.12134396801177072, -0.19618862591142416, -1.4611841357119377, -1.0107404119577514, -1.7162115498868817, -2.0156056612374584, -0.8564149756980083, -0.6916555239028268, -1.9869412720312867, -1.6262253660810924, 0.37980697822253395, -1.0223566658607504, -2.1782436412075787, -0.7070461435765052, -0.8787247089460078, -3.0115063471571344, -1.6985918201430845, -0.9076544084301995, -1.7975830264698658, -1.074336074214257, -0.4884267940862205, 0.5418695832607512, -0.7832344885645158, -1.44122097827728, -1.824228523044082, -0.6955662389437004, -1.8119109392777717, -2.497081427583243, -2.2807779432452646, -0.5291803857503578, -1.0648751952403868, -0.41535540303126395, -1.0834778905176676, -1.0763755651753784, -1.1084146567433462, -0.6947772062383546, -1.6204080624459758, -0.5761130722672708, 0.828994569302423, -1.698735068437196, -0.4367045819155616, -2.2023592077149727, -2.287833201488379, -3.165020566623099, 0.9079426708904219, -1.3147880885388659, -0.5253211573825634, -0.15410616843148128, -1.8211782309481044, -0.15465443230677123, 0.543895232618901, 1.0346825514740088, -2.3337424176120463, -1.071003047587024, -1.1595406619719346, -0.7848392961345639, -0.893557094354202, -1.9743632643338829, -1.2296505222327745, 0.9498522729135699, -0.6587997459370191, -0.12547233364972166, 1.0367136824332874, -1.1496137516156661, 0.1239208217322243, -0.9660570611087298, -0.2755062594169071, -0.6811958846462116, -0.6433301518310457, -1.5694739874342003, 0.023285244987719667, -2.6216270500849594, -0.8058813833669287, -2.467205493366227, -0.7744887038010382, -0.44042853206403454, -0.8055785071590811, -1.2795602384471452, -2.089151998342631, -0.6093635442482783, -1.3072097974872208, 0.6986130789469132, -1.4614156349893113, -0.7316680015292627, -0.34850388135110655, -0.7757631804004106, -1.5444547360289498, 0.24936473948779558, -1.3249188814478996, -1.1965092098058097, -0.9284838887392939, -0.7888070231493451, -0.9879835123928714, 0.5068008397761092, -1.910175047935935, -0.21637620778744693, -0.8830819232935072, -0.2698886231806532, -1.0192956444085177, -1.7673743813960798, -2.7698122054043472, 0.9232651388750805, -1.6476680479018384, -0.9002189367384374, -1.396251096858784, -0.7097834659498281, -0.33058339284985494, -2.6235472697822697, -1.1229101817971927, -1.6937546849000822, -1.3085073111471481, -1.1996998060329593, -0.9442895172419613, -2.492092967732744, -1.2575376499883286, 0.2563211866651225, -0.4695075837648809, 0.2810691763507569, -0.5450154623539525, -0.7985900602318222, -2.0364274415787547, -2.136102236174393, -0.8380636676115654, -2.12068757265738, -0.7556959639750892, -0.31161189253306487, -1.77938535266091, -2.7588078003563585, -1.1879405645845547, -1.2936531068874957, 0.43562212959654545, -3.7465084406218288, -1.7201451272194976, -2.1960277722969006, -1.635626737158276, -2.6156427242721856, -0.9862657975590386, -1.5406509220670608, 0.7218044639545582, -3.142319660644049, -1.541849908874164, -1.3746335306906035, -1.0328322291352374, -0.20515581653683568, -1.0196334639724225, -0.035909006636767216, -1.5976856014340166, -1.3153420117816188, 1.1274152470507697, -0.3627737764831498, 0.719732614863491, -3.5026999800741443, -0.5154717472766985, -0.24728268084613803, -0.1698469804564814, -0.4771999881397412, -0.5349611867825563, -2.247539320396509, 0.020186942675297637, -1.8173342098703236, -0.8636881159309351, -0.3864211946502305, -0.5770200334510127, -1.1979747166671402, -0.9289726156884455, -1.6507227871317622, -1.7363683544270745, 0.053458361231844886, -1.2216950013296854, -1.4711624414203588, -0.4928908710000022, -1.8112830502111508, -1.867866194500556, 0.18994239382353095, -1.7494182599816903, -1.071062433298225, -0.543313443188628, 0.04394591311464735, -0.5100984392212914, -2.2284796522698516, -1.1169278233656967, -0.5975872424929793, -0.8003158443157353, -1.9791586958523646, -1.804099063736777, -2.183811300999565, -0.5989593141489871, -1.8683301346064187, -0.8516790611321182, -3.349410212571505, -1.2050164084905501, -2.065424099953902, -1.7220380660254926, -0.3109622557953582, -0.20468550531341867, -0.8266664291654272, -0.20361477319970223, -3.112924231598094, -0.36863667961826885, -0.6186390655672767, -0.49548309042960825, -3.755075884121989, -2.5037550016245245, -1.1719558534818784, -0.26880694704804864, -1.5197414835035612, -0.7061219082774959, -0.24477488001605685, -1.9373212820718333, -2.1127720680774624, 0.6053692365992813, -2.9644646945088597, -0.5728277599748761, -0.6208349023249338, -1.5872308401488806, -2.6790673720425655, -1.65290992324841, -2.7444554256548175, -1.4635374479396628, 0.5616289608945149, -1.2633252784242144, -1.0625050420832147, 0.2893038464233142, -0.3709092985826091, -1.3621365955732216, -1.516118242436768, 0.5403537061649155, 0.5612468647685032, -2.841129057867664, -0.5482223337689716, -0.6884966610596368, -0.6176451664605894, -0.09064357882394736, -3.4337380751000657, -1.0918010349776661, -1.7575322114837624, -2.0348307795716516, 0.26568912262887334, -1.059682254435792, -0.9285041721685597, -1.397282665939095, -0.7432503311638894, -1.1271183446033806, -0.9141966711277314, 0.5988240125276652, -0.2775732879966485, -1.3282963405784445, 0.043879343569502405, -2.8170379630194295, -2.73681233794406, -0.6766547527874056, -2.4371888082983544, -1.4440170584557024, -1.9193006470779796, -1.397981691687279, -1.0298454996575797, 1.296849275259755, 0.8502430013995621, -1.8631658042133739, -0.045699417075900306, -1.93627823130597, -0.5175960828861954, -1.6167315413677974, -1.479664680898002, 0.4536120688045333, -1.3682307088748713, -0.16059854984686883, -1.6802328256435128, -1.3975745854965036, 0.3052135342511133, 0.13303602924540248, -0.22442667984499653, 0.5177350720288376, -0.7413818317181353, -2.9790500363425476, 0.46525633054461535, -1.862041993993382, -2.117356409414391, -1.9705459394514917, -1.1575118486772646, -2.27429696212846, -0.9112775037695262, -1.071693239599791, 0.1182350787940436, -1.6042415268085914, 1.4130868090914301, -1.3918736225221289, 0.11979920124360022, -1.0717568230114167, -1.2740563143194334, -0.5382553491547213, -0.5913221505873247, 0.30644042853299513, -1.5737715021732555, -0.327305433108665, -1.2395759981524006, -2.4674626978123015, -1.326171979680261, -0.6633420447392716, -0.07087737575219166, -1.4872436636328883, -0.08977374478563227, -0.6188010101101765, -2.816596749547449, -2.5693523219322962, -2.4800694706166833, 0.42323333739917324, -1.6765181807387632, -1.280645506041688, -0.212328275439868]}],\n",
       "                        {\"legend\": {\"bgcolor\": \"#F5F6F9\", \"font\": {\"color\": \"#4D5663\"}}, \"paper_bgcolor\": \"#F5F6F9\", \"plot_bgcolor\": \"#F5F6F9\", \"template\": {\"data\": {\"bar\": [{\"error_x\": {\"color\": \"#2a3f5f\"}, \"error_y\": {\"color\": \"#2a3f5f\"}, \"marker\": {\"line\": {\"color\": \"#E5ECF6\", \"width\": 0.5}}, \"type\": \"bar\"}], \"barpolar\": [{\"marker\": {\"line\": {\"color\": \"#E5ECF6\", \"width\": 0.5}}, \"type\": \"barpolar\"}], \"carpet\": [{\"aaxis\": {\"endlinecolor\": \"#2a3f5f\", \"gridcolor\": \"white\", \"linecolor\": \"white\", \"minorgridcolor\": \"white\", \"startlinecolor\": \"#2a3f5f\"}, \"baxis\": {\"endlinecolor\": \"#2a3f5f\", \"gridcolor\": \"white\", \"linecolor\": \"white\", \"minorgridcolor\": \"white\", \"startlinecolor\": \"#2a3f5f\"}, \"type\": \"carpet\"}], \"choropleth\": [{\"colorbar\": {\"outlinewidth\": 0, \"ticks\": \"\"}, \"type\": \"choropleth\"}], \"contour\": [{\"colorbar\": {\"outlinewidth\": 0, \"ticks\": \"\"}, \"colorscale\": [[0.0, \"#0d0887\"], [0.1111111111111111, \"#46039f\"], [0.2222222222222222, \"#7201a8\"], [0.3333333333333333, \"#9c179e\"], [0.4444444444444444, \"#bd3786\"], [0.5555555555555556, \"#d8576b\"], [0.6666666666666666, \"#ed7953\"], [0.7777777777777778, \"#fb9f3a\"], [0.8888888888888888, \"#fdca26\"], [1.0, \"#f0f921\"]], \"type\": \"contour\"}], \"contourcarpet\": [{\"colorbar\": {\"outlinewidth\": 0, \"ticks\": \"\"}, \"type\": \"contourcarpet\"}], \"heatmap\": [{\"colorbar\": {\"outlinewidth\": 0, \"ticks\": \"\"}, \"colorscale\": [[0.0, \"#0d0887\"], [0.1111111111111111, \"#46039f\"], [0.2222222222222222, \"#7201a8\"], [0.3333333333333333, \"#9c179e\"], [0.4444444444444444, \"#bd3786\"], [0.5555555555555556, \"#d8576b\"], [0.6666666666666666, \"#ed7953\"], [0.7777777777777778, \"#fb9f3a\"], [0.8888888888888888, \"#fdca26\"], [1.0, \"#f0f921\"]], \"type\": \"heatmap\"}], \"heatmapgl\": [{\"colorbar\": {\"outlinewidth\": 0, \"ticks\": \"\"}, \"colorscale\": [[0.0, \"#0d0887\"], [0.1111111111111111, \"#46039f\"], [0.2222222222222222, \"#7201a8\"], [0.3333333333333333, \"#9c179e\"], [0.4444444444444444, \"#bd3786\"], [0.5555555555555556, \"#d8576b\"], [0.6666666666666666, \"#ed7953\"], [0.7777777777777778, \"#fb9f3a\"], [0.8888888888888888, \"#fdca26\"], [1.0, \"#f0f921\"]], \"type\": \"heatmapgl\"}], \"histogram\": [{\"marker\": {\"colorbar\": {\"outlinewidth\": 0, \"ticks\": \"\"}}, \"type\": \"histogram\"}], \"histogram2d\": [{\"colorbar\": {\"outlinewidth\": 0, \"ticks\": \"\"}, \"colorscale\": [[0.0, \"#0d0887\"], [0.1111111111111111, \"#46039f\"], [0.2222222222222222, \"#7201a8\"], [0.3333333333333333, \"#9c179e\"], [0.4444444444444444, \"#bd3786\"], [0.5555555555555556, \"#d8576b\"], [0.6666666666666666, \"#ed7953\"], [0.7777777777777778, \"#fb9f3a\"], [0.8888888888888888, \"#fdca26\"], [1.0, \"#f0f921\"]], \"type\": \"histogram2d\"}], \"histogram2dcontour\": [{\"colorbar\": {\"outlinewidth\": 0, \"ticks\": \"\"}, \"colorscale\": [[0.0, \"#0d0887\"], [0.1111111111111111, \"#46039f\"], [0.2222222222222222, \"#7201a8\"], [0.3333333333333333, \"#9c179e\"], [0.4444444444444444, \"#bd3786\"], [0.5555555555555556, \"#d8576b\"], [0.6666666666666666, \"#ed7953\"], [0.7777777777777778, \"#fb9f3a\"], [0.8888888888888888, \"#fdca26\"], [1.0, \"#f0f921\"]], \"type\": \"histogram2dcontour\"}], \"mesh3d\": [{\"colorbar\": {\"outlinewidth\": 0, \"ticks\": \"\"}, \"type\": \"mesh3d\"}], \"parcoords\": [{\"line\": {\"colorbar\": {\"outlinewidth\": 0, \"ticks\": \"\"}}, \"type\": \"parcoords\"}], \"pie\": [{\"automargin\": true, \"type\": \"pie\"}], \"scatter\": [{\"marker\": {\"colorbar\": {\"outlinewidth\": 0, \"ticks\": \"\"}}, \"type\": \"scatter\"}], \"scatter3d\": [{\"line\": {\"colorbar\": {\"outlinewidth\": 0, \"ticks\": \"\"}}, \"marker\": {\"colorbar\": {\"outlinewidth\": 0, \"ticks\": \"\"}}, \"type\": \"scatter3d\"}], \"scattercarpet\": [{\"marker\": {\"colorbar\": {\"outlinewidth\": 0, \"ticks\": \"\"}}, \"type\": \"scattercarpet\"}], \"scattergeo\": [{\"marker\": {\"colorbar\": {\"outlinewidth\": 0, \"ticks\": \"\"}}, \"type\": \"scattergeo\"}], \"scattergl\": [{\"marker\": {\"colorbar\": {\"outlinewidth\": 0, \"ticks\": \"\"}}, \"type\": \"scattergl\"}], \"scattermapbox\": [{\"marker\": {\"colorbar\": {\"outlinewidth\": 0, \"ticks\": \"\"}}, \"type\": \"scattermapbox\"}], \"scatterpolar\": [{\"marker\": {\"colorbar\": {\"outlinewidth\": 0, \"ticks\": \"\"}}, \"type\": \"scatterpolar\"}], \"scatterpolargl\": [{\"marker\": {\"colorbar\": {\"outlinewidth\": 0, \"ticks\": \"\"}}, \"type\": \"scatterpolargl\"}], \"scatterternary\": [{\"marker\": {\"colorbar\": {\"outlinewidth\": 0, \"ticks\": \"\"}}, \"type\": \"scatterternary\"}], \"surface\": [{\"colorbar\": {\"outlinewidth\": 0, \"ticks\": \"\"}, \"colorscale\": [[0.0, \"#0d0887\"], [0.1111111111111111, \"#46039f\"], [0.2222222222222222, \"#7201a8\"], [0.3333333333333333, \"#9c179e\"], [0.4444444444444444, \"#bd3786\"], [0.5555555555555556, \"#d8576b\"], [0.6666666666666666, \"#ed7953\"], [0.7777777777777778, \"#fb9f3a\"], [0.8888888888888888, \"#fdca26\"], [1.0, \"#f0f921\"]], \"type\": \"surface\"}], \"table\": [{\"cells\": {\"fill\": {\"color\": \"#EBF0F8\"}, \"line\": {\"color\": \"white\"}}, \"header\": {\"fill\": {\"color\": \"#C8D4E3\"}, \"line\": {\"color\": \"white\"}}, \"type\": \"table\"}]}, \"layout\": {\"annotationdefaults\": {\"arrowcolor\": \"#2a3f5f\", \"arrowhead\": 0, \"arrowwidth\": 1}, \"coloraxis\": {\"colorbar\": {\"outlinewidth\": 0, \"ticks\": \"\"}}, \"colorscale\": {\"diverging\": [[0, \"#8e0152\"], [0.1, \"#c51b7d\"], [0.2, \"#de77ae\"], [0.3, \"#f1b6da\"], [0.4, \"#fde0ef\"], [0.5, \"#f7f7f7\"], [0.6, \"#e6f5d0\"], [0.7, \"#b8e186\"], [0.8, \"#7fbc41\"], [0.9, \"#4d9221\"], [1, \"#276419\"]], \"sequential\": [[0.0, \"#0d0887\"], [0.1111111111111111, \"#46039f\"], [0.2222222222222222, \"#7201a8\"], [0.3333333333333333, \"#9c179e\"], [0.4444444444444444, \"#bd3786\"], [0.5555555555555556, \"#d8576b\"], [0.6666666666666666, \"#ed7953\"], [0.7777777777777778, \"#fb9f3a\"], [0.8888888888888888, \"#fdca26\"], [1.0, \"#f0f921\"]], \"sequentialminus\": [[0.0, \"#0d0887\"], [0.1111111111111111, \"#46039f\"], [0.2222222222222222, \"#7201a8\"], [0.3333333333333333, \"#9c179e\"], [0.4444444444444444, \"#bd3786\"], [0.5555555555555556, \"#d8576b\"], [0.6666666666666666, \"#ed7953\"], [0.7777777777777778, \"#fb9f3a\"], [0.8888888888888888, \"#fdca26\"], [1.0, \"#f0f921\"]]}, \"colorway\": [\"#636efa\", \"#EF553B\", \"#00cc96\", \"#ab63fa\", \"#FFA15A\", \"#19d3f3\", \"#FF6692\", \"#B6E880\", \"#FF97FF\", \"#FECB52\"], \"font\": {\"color\": \"#2a3f5f\"}, \"geo\": {\"bgcolor\": \"white\", \"lakecolor\": \"white\", \"landcolor\": \"#E5ECF6\", \"showlakes\": true, \"showland\": true, \"subunitcolor\": \"white\"}, \"hoverlabel\": {\"align\": \"left\"}, \"hovermode\": \"closest\", \"mapbox\": {\"style\": \"light\"}, \"paper_bgcolor\": \"white\", \"plot_bgcolor\": \"#E5ECF6\", \"polar\": {\"angularaxis\": {\"gridcolor\": \"white\", \"linecolor\": \"white\", \"ticks\": \"\"}, \"bgcolor\": \"#E5ECF6\", \"radialaxis\": {\"gridcolor\": \"white\", \"linecolor\": \"white\", \"ticks\": \"\"}}, \"scene\": {\"xaxis\": {\"backgroundcolor\": \"#E5ECF6\", \"gridcolor\": \"white\", \"gridwidth\": 2, \"linecolor\": \"white\", \"showbackground\": true, \"ticks\": \"\", \"zerolinecolor\": \"white\"}, \"yaxis\": {\"backgroundcolor\": \"#E5ECF6\", \"gridcolor\": \"white\", \"gridwidth\": 2, \"linecolor\": \"white\", \"showbackground\": true, \"ticks\": \"\", \"zerolinecolor\": \"white\"}, \"zaxis\": {\"backgroundcolor\": \"#E5ECF6\", \"gridcolor\": \"white\", \"gridwidth\": 2, \"linecolor\": \"white\", \"showbackground\": true, \"ticks\": \"\", \"zerolinecolor\": \"white\"}}, \"shapedefaults\": {\"line\": {\"color\": \"#2a3f5f\"}}, \"ternary\": {\"aaxis\": {\"gridcolor\": \"white\", \"linecolor\": \"white\", \"ticks\": \"\"}, \"baxis\": {\"gridcolor\": \"white\", \"linecolor\": \"white\", \"ticks\": \"\"}, \"bgcolor\": \"#E5ECF6\", \"caxis\": {\"gridcolor\": \"white\", \"linecolor\": \"white\", \"ticks\": \"\"}}, \"title\": {\"x\": 0.05}, \"xaxis\": {\"automargin\": true, \"gridcolor\": \"white\", \"linecolor\": \"white\", \"ticks\": \"\", \"title\": {\"standoff\": 15}, \"zerolinecolor\": \"white\", \"zerolinewidth\": 2}, \"yaxis\": {\"automargin\": true, \"gridcolor\": \"white\", \"linecolor\": \"white\", \"ticks\": \"\", \"title\": {\"standoff\": 15}, \"zerolinecolor\": \"white\", \"zerolinewidth\": 2}}}, \"title\": {\"font\": {\"color\": \"#4D5663\"}}, \"xaxis\": {\"gridcolor\": \"#E1E5ED\", \"showgrid\": true, \"tickfont\": {\"color\": \"#4D5663\"}, \"title\": {\"font\": {\"color\": \"#4D5663\"}, \"text\": \"\"}, \"zerolinecolor\": \"#E1E5ED\"}, \"yaxis\": {\"gridcolor\": \"#E1E5ED\", \"showgrid\": true, \"tickfont\": {\"color\": \"#4D5663\"}, \"title\": {\"font\": {\"color\": \"#4D5663\"}, \"text\": \"\"}, \"zerolinecolor\": \"#E1E5ED\"}},\n",
       "                        {\"responsive\": true}\n",
       "                    ).then(function(){\n",
       "                            \n",
       "var gd = document.getElementById('d5937946-ec80-409a-9b8b-de7fbf3d782f');\n",
       "var x = new MutationObserver(function (mutations, observer) {{\n",
       "        var display = window.getComputedStyle(gd).display;\n",
       "        if (!display || display === 'none') {{\n",
       "            console.log([gd, 'removed!']);\n",
       "            Plotly.purge(gd);\n",
       "            observer.disconnect();\n",
       "        }}\n",
       "}});\n",
       "\n",
       "// Listen for the removal of the full notebook cells\n",
       "var notebookContainer = gd.closest('#notebook-container');\n",
       "if (notebookContainer) {{\n",
       "    x.observe(notebookContainer, {childList: true});\n",
       "}}\n",
       "\n",
       "// Listen for the clearing of the current output cell\n",
       "var outputEl = gd.closest('.output');\n",
       "if (outputEl) {{\n",
       "    x.observe(outputEl, {childList: true});\n",
       "}}\n",
       "\n",
       "                        })\n",
       "                };\n",
       "                });\n",
       "            </script>\n",
       "        </div>"
      ]
     },
     "metadata": {},
     "output_type": "display_data"
    }
   ],
   "source": [
    "fig = df.iplot(asFigure=True, kind=\"box\")\n",
    "pyo.plot(fig,filename='boxplot.html')\n",
    "fig.show()"
   ]
  },
  {
   "cell_type": "code",
   "execution_count": 7,
   "metadata": {},
   "outputs": [
    {
     "data": {
      "application/vnd.plotly.v1+json": {
       "config": {
        "plotlyServerURL": "https://plot.ly"
       },
       "data": [
        {
         "fill": "tozeroy",
         "fillcolor": "rgba(255, 153, 51, 0.3)",
         "line": {
          "color": "rgba(255, 153, 51, 1.0)",
          "dash": "solid",
          "shape": "linear",
          "width": 1.3
         },
         "mode": "lines",
         "name": "OWS.GS",
         "text": "",
         "type": "scatter",
         "x": [
          "2015-01-01",
          "2015-01-02",
          "2015-01-03",
          "2015-01-04",
          "2015-01-05",
          "2015-01-06",
          "2015-01-07",
          "2015-01-08",
          "2015-01-09",
          "2015-01-10",
          "2015-01-11",
          "2015-01-12",
          "2015-01-13",
          "2015-01-14",
          "2015-01-15",
          "2015-01-16",
          "2015-01-17",
          "2015-01-18",
          "2015-01-19",
          "2015-01-20",
          "2015-01-21",
          "2015-01-22",
          "2015-01-23",
          "2015-01-24",
          "2015-01-25",
          "2015-01-26",
          "2015-01-27",
          "2015-01-28",
          "2015-01-29",
          "2015-01-30",
          "2015-01-31",
          "2015-02-01",
          "2015-02-02",
          "2015-02-03",
          "2015-02-04",
          "2015-02-05",
          "2015-02-06",
          "2015-02-07",
          "2015-02-08",
          "2015-02-09",
          "2015-02-10",
          "2015-02-11",
          "2015-02-12",
          "2015-02-13",
          "2015-02-14",
          "2015-02-15",
          "2015-02-16",
          "2015-02-17",
          "2015-02-18",
          "2015-02-19",
          "2015-02-20",
          "2015-02-21",
          "2015-02-22",
          "2015-02-23",
          "2015-02-24",
          "2015-02-25",
          "2015-02-26",
          "2015-02-27",
          "2015-02-28",
          "2015-03-01",
          "2015-03-02",
          "2015-03-03",
          "2015-03-04",
          "2015-03-05",
          "2015-03-06",
          "2015-03-07",
          "2015-03-08",
          "2015-03-09",
          "2015-03-10",
          "2015-03-11",
          "2015-03-12",
          "2015-03-13",
          "2015-03-14",
          "2015-03-15",
          "2015-03-16",
          "2015-03-17",
          "2015-03-18",
          "2015-03-19",
          "2015-03-20",
          "2015-03-21",
          "2015-03-22",
          "2015-03-23",
          "2015-03-24",
          "2015-03-25",
          "2015-03-26",
          "2015-03-27",
          "2015-03-28",
          "2015-03-29",
          "2015-03-30",
          "2015-03-31",
          "2015-04-01",
          "2015-04-02",
          "2015-04-03",
          "2015-04-04",
          "2015-04-05",
          "2015-04-06",
          "2015-04-07",
          "2015-04-08",
          "2015-04-09",
          "2015-04-10"
         ],
         "xaxis": "x",
         "y": [
          -0.43477161227720934,
          -1.1525186481836973,
          0.9943267787233132,
          0.616454929435025,
          -0.8116405517219454,
          -2.3263990688917993,
          -4.0197138722204775,
          -4.908834779779347,
          -4.685812530496802,
          -5.322979327328244,
          -4.918295853464478,
          -3.7524904846508695,
          -4.234446942234855,
          -3.9132940727190753,
          -5.60599288351115,
          -5.6226421699697005,
          -3.9468367453021678,
          -5.533947476762952,
          -6.189198773967733,
          -5.8638850166010625,
          -6.836034528251294,
          -5.566724368035831,
          -4.266679926991955,
          -2.3671306476761185,
          -4.09652523142195,
          -3.1753308798827695,
          -2.264669118022465,
          -1.2373814909461327,
          -3.3255589210467424,
          -4.790273357388236,
          -4.405359838517569,
          -4.670104866466699,
          -3.5900584943570744,
          -4.337655222696269,
          -4.383080647878802,
          -4.845142913520204,
          -6.115469225733907,
          -6.5070855624452335,
          -6.892495957394417,
          -7.398099762221306,
          -6.44233640584862,
          -6.057666791152067,
          -5.192941003699518,
          -5.735797213839408,
          -4.5098878819298305,
          -5.726580677490356,
          -6.70004155663008,
          -6.939788394450595,
          -7.625147690237822,
          -8.207781807571836,
          -8.485043784753334,
          -8.052884293193557,
          -7.8095889014562605,
          -8.963077816406313,
          -9.306317996387046,
          -10.462182630339752,
          -11.947083595708786,
          -14.206510340331977,
          -14.211122805424736,
          -16.87747032362485,
          -16.729375926772867,
          -16.31648748737817,
          -15.131789025277628,
          -17.47895262726361,
          -17.44674456515571,
          -17.080684674066493,
          -17.06111448203714,
          -16.771532829215833,
          -17.029029037384305,
          -18.941856324637097,
          -17.638128272962284,
          -17.341533518419848,
          -15.995518685049507,
          -15.321358421270064,
          -14.620808654005128,
          -12.543978470466369,
          -11.618593240237832,
          -13.853720972940279,
          -13.523735779894757,
          -13.76389353702407,
          -13.897690795434952,
          -13.638998002547488,
          -14.70267272015036,
          -15.093447220161927,
          -14.293002699984298,
          -14.006393922886684,
          -13.66976629530653,
          -15.870172618214104,
          -16.557741037661746,
          -16.74926955184123,
          -17.27613865815044,
          -16.626807395877307,
          -17.789440922031645,
          -14.797018120490737,
          -13.215564359695888,
          -12.20010344325565,
          -11.801011372202549,
          -12.118903989921703,
          -13.05326134785473,
          -13.39708667636225
         ],
         "yaxis": "y"
        },
        {
         "fill": "tozeroy",
         "fillcolor": "rgba(55, 128, 191, 0.3)",
         "line": {
          "color": "rgba(55, 128, 191, 1.0)",
          "dash": "solid",
          "shape": "linear",
          "width": 1.3
         },
         "mode": "lines",
         "name": "HGU.RI",
         "text": "",
         "type": "scatter",
         "x": [
          "2015-01-01",
          "2015-01-02",
          "2015-01-03",
          "2015-01-04",
          "2015-01-05",
          "2015-01-06",
          "2015-01-07",
          "2015-01-08",
          "2015-01-09",
          "2015-01-10",
          "2015-01-11",
          "2015-01-12",
          "2015-01-13",
          "2015-01-14",
          "2015-01-15",
          "2015-01-16",
          "2015-01-17",
          "2015-01-18",
          "2015-01-19",
          "2015-01-20",
          "2015-01-21",
          "2015-01-22",
          "2015-01-23",
          "2015-01-24",
          "2015-01-25",
          "2015-01-26",
          "2015-01-27",
          "2015-01-28",
          "2015-01-29",
          "2015-01-30",
          "2015-01-31",
          "2015-02-01",
          "2015-02-02",
          "2015-02-03",
          "2015-02-04",
          "2015-02-05",
          "2015-02-06",
          "2015-02-07",
          "2015-02-08",
          "2015-02-09",
          "2015-02-10",
          "2015-02-11",
          "2015-02-12",
          "2015-02-13",
          "2015-02-14",
          "2015-02-15",
          "2015-02-16",
          "2015-02-17",
          "2015-02-18",
          "2015-02-19",
          "2015-02-20",
          "2015-02-21",
          "2015-02-22",
          "2015-02-23",
          "2015-02-24",
          "2015-02-25",
          "2015-02-26",
          "2015-02-27",
          "2015-02-28",
          "2015-03-01",
          "2015-03-02",
          "2015-03-03",
          "2015-03-04",
          "2015-03-05",
          "2015-03-06",
          "2015-03-07",
          "2015-03-08",
          "2015-03-09",
          "2015-03-10",
          "2015-03-11",
          "2015-03-12",
          "2015-03-13",
          "2015-03-14",
          "2015-03-15",
          "2015-03-16",
          "2015-03-17",
          "2015-03-18",
          "2015-03-19",
          "2015-03-20",
          "2015-03-21",
          "2015-03-22",
          "2015-03-23",
          "2015-03-24",
          "2015-03-25",
          "2015-03-26",
          "2015-03-27",
          "2015-03-28",
          "2015-03-29",
          "2015-03-30",
          "2015-03-31",
          "2015-04-01",
          "2015-04-02",
          "2015-04-03",
          "2015-04-04",
          "2015-04-05",
          "2015-04-06",
          "2015-04-07",
          "2015-04-08",
          "2015-04-09",
          "2015-04-10"
         ],
         "xaxis": "x2",
         "y": [
          -1.380237068282405,
          -0.9949377209376531,
          -1.5400742258972464,
          -2.8370194677345353,
          -3.1202844360117727,
          -2.710579941624173,
          -1.936367753248121,
          -2.927446910878674,
          -2.8628484394885616,
          -3.0547238712183935,
          -3.3967736951901126,
          -4.890177259044637,
          -7.027100267204263,
          -6.248039675990491,
          -5.749051986948507,
          -5.731559850536231,
          -5.930692592575683,
          -6.25753184742813,
          -5.12846646031577,
          -5.400095942072186,
          -4.746453509909846,
          -4.084183702885272,
          -3.5204030835176443,
          -3.096977929324247,
          -5.030802614224483,
          -5.86261375401384,
          -6.131129838182424,
          -4.440147017384259,
          -5.134511654722846,
          -7.395563901413869,
          -6.79420160281868,
          -6.976229979562536,
          -7.862768554935171,
          -7.901865276356555,
          -7.5648748037533435,
          -6.772724843267116,
          -6.472046187236262,
          -6.111103946652532,
          -6.547398681320162,
          -7.161479280123425,
          -4.661955689678086,
          -6.572118609887491,
          -7.335554861306409,
          -7.889098111810487,
          -8.173673681695908,
          -8.589474792833963,
          -7.264290500211627,
          -5.296857182982743,
          -4.66955449268295,
          -4.4127169098830725,
          -5.377581350620657,
          -4.852151368266302,
          -5.746205477417144,
          -7.798112933433897,
          -8.000856905571682,
          -8.12534426204653,
          -9.561741329384038,
          -10.944149012746601,
          -9.991403784204548,
          -11.649643374114145,
          -12.274164394383888,
          -12.505936327087143,
          -13.145046046859655,
          -11.454708310964607,
          -12.695395957109712,
          -12.130698590055198,
          -12.568227532409846,
          -13.458045861362598,
          -14.61858729654573,
          -15.419209721127874,
          -15.791657552818181,
          -17.252330250803638,
          -18.299026607563587,
          -17.947629018432764,
          -17.864713155197027,
          -17.463061418449037,
          -16.784151364396322,
          -16.063853767209903,
          -14.659334185954588,
          -14.536442892718384,
          -15.0023228579972,
          -15.216670554467353,
          -15.23833349173831,
          -14.425273527452585,
          -13.309037774752527,
          -13.341395074762659,
          -13.812475262634822,
          -13.930417696240582,
          -13.626555874028107,
          -12.8361019704965,
          -13.302325572590949,
          -11.547690634610934,
          -10.019220037738759,
          -8.152417130808232,
          -8.18735897993194,
          -6.995121808126919,
          -7.727766627606052,
          -7.9976180403993675,
          -8.199026848208952,
          -7.7386862412511865
         ],
         "yaxis": "y2"
        },
        {
         "fill": "tozeroy",
         "fillcolor": "rgba(50, 171, 96, 0.3)",
         "line": {
          "color": "rgba(50, 171, 96, 1.0)",
          "dash": "solid",
          "shape": "linear",
          "width": 1.3
         },
         "mode": "lines",
         "name": "UEQ.DO",
         "text": "",
         "type": "scatter",
         "x": [
          "2015-01-01",
          "2015-01-02",
          "2015-01-03",
          "2015-01-04",
          "2015-01-05",
          "2015-01-06",
          "2015-01-07",
          "2015-01-08",
          "2015-01-09",
          "2015-01-10",
          "2015-01-11",
          "2015-01-12",
          "2015-01-13",
          "2015-01-14",
          "2015-01-15",
          "2015-01-16",
          "2015-01-17",
          "2015-01-18",
          "2015-01-19",
          "2015-01-20",
          "2015-01-21",
          "2015-01-22",
          "2015-01-23",
          "2015-01-24",
          "2015-01-25",
          "2015-01-26",
          "2015-01-27",
          "2015-01-28",
          "2015-01-29",
          "2015-01-30",
          "2015-01-31",
          "2015-02-01",
          "2015-02-02",
          "2015-02-03",
          "2015-02-04",
          "2015-02-05",
          "2015-02-06",
          "2015-02-07",
          "2015-02-08",
          "2015-02-09",
          "2015-02-10",
          "2015-02-11",
          "2015-02-12",
          "2015-02-13",
          "2015-02-14",
          "2015-02-15",
          "2015-02-16",
          "2015-02-17",
          "2015-02-18",
          "2015-02-19",
          "2015-02-20",
          "2015-02-21",
          "2015-02-22",
          "2015-02-23",
          "2015-02-24",
          "2015-02-25",
          "2015-02-26",
          "2015-02-27",
          "2015-02-28",
          "2015-03-01",
          "2015-03-02",
          "2015-03-03",
          "2015-03-04",
          "2015-03-05",
          "2015-03-06",
          "2015-03-07",
          "2015-03-08",
          "2015-03-09",
          "2015-03-10",
          "2015-03-11",
          "2015-03-12",
          "2015-03-13",
          "2015-03-14",
          "2015-03-15",
          "2015-03-16",
          "2015-03-17",
          "2015-03-18",
          "2015-03-19",
          "2015-03-20",
          "2015-03-21",
          "2015-03-22",
          "2015-03-23",
          "2015-03-24",
          "2015-03-25",
          "2015-03-26",
          "2015-03-27",
          "2015-03-28",
          "2015-03-29",
          "2015-03-30",
          "2015-03-31",
          "2015-04-01",
          "2015-04-02",
          "2015-04-03",
          "2015-04-04",
          "2015-04-05",
          "2015-04-06",
          "2015-04-07",
          "2015-04-08",
          "2015-04-09",
          "2015-04-10"
         ],
         "xaxis": "x3",
         "y": [
          0.7704224400798823,
          1.380792472983189,
          3.3671145502648807,
          3.9904068889125144,
          4.265262842982193,
          3.2775600441341513,
          2.018976510745114,
          1.970987902348445,
          1.954174563840554,
          1.240018828102862,
          1.6167073749923224,
          0.6560026801242121,
          -0.5816957251942733,
          -1.688698632122577,
          -0.14830578124601268,
          -0.7854749680199802,
          -0.12811186585295709,
          -0.7115309406312716,
          -0.5784975343686198,
          0.06593801499660823,
          -0.7625137694988448,
          -1.9055556820660025,
          -2.283451712550534,
          -1.3403881081556364,
          -1.4446601210153327,
          -1.206944547760651,
          -0.0009133933728115995,
          -0.2500187590078742,
          -0.11039297727753533,
          -1.7531493564096163,
          -1.8923662520767643,
          -0.7095370584588339,
          -1.0345386864645614,
          -2.298140883007432,
          -2.449957759386841,
          -2.852973582109277,
          -2.7609843441235746,
          -3.3276766773086432,
          -4.6568202992513275,
          -4.2614891529231524,
          -4.496059800116517,
          -4.599083181991415,
          -4.126535589746165,
          -3.9585481779969585,
          -2.1705269452163267,
          -3.1799342264226085,
          -4.533813629381647,
          -5.201313718556285,
          -5.128747060510588,
          -4.45440931740411,
          -3.915978008539535,
          -2.6534054950149963,
          -2.23162812843586,
          -2.3208214681828587,
          -1.9238923126310798,
          -2.109898074840646,
          -2.989932107460479,
          -2.4628744113940524,
          -2.3015571917103936,
          -2.4520095565508604,
          -1.68464356033927,
          -0.504117387949049,
          -0.14192665042465558,
          -0.38483407265506603,
          1.2332060188602476,
          0.66043686269819,
          1.8845951669935799,
          2.048213461666874,
          4.815000008451486,
          5.6804070624949565,
          5.710503707721493,
          5.871510052717975,
          6.680939436132862,
          7.739914896027632,
          7.561433250273039,
          7.153890363214382,
          7.503517006337192,
          6.506058931142334,
          6.643517779513755,
          7.61969661706465,
          8.354021887533968,
          8.21131101950555,
          7.6811336587934065,
          9.125485754607023,
          9.843728560091144,
          9.236353318360166,
          9.412447246508151,
          9.364301641869867,
          9.485595051168701,
          9.094348630333531,
          10.417689102758182,
          11.182654803594998,
          11.933906240898727,
          12.83145961383978,
          13.020058939409543,
          13.099673173103813,
          11.024306781142027,
          11.600360214150438,
          11.42630427574452,
          11.391578836436814
         ],
         "yaxis": "y3"
        },
        {
         "fill": "tozeroy",
         "fillcolor": "rgba(128, 0, 128, 0.3)",
         "line": {
          "color": "rgba(128, 0, 128, 1.0)",
          "dash": "solid",
          "shape": "linear",
          "width": 1.3
         },
         "mode": "lines",
         "name": "ZSE.YE",
         "text": "",
         "type": "scatter",
         "x": [
          "2015-01-01",
          "2015-01-02",
          "2015-01-03",
          "2015-01-04",
          "2015-01-05",
          "2015-01-06",
          "2015-01-07",
          "2015-01-08",
          "2015-01-09",
          "2015-01-10",
          "2015-01-11",
          "2015-01-12",
          "2015-01-13",
          "2015-01-14",
          "2015-01-15",
          "2015-01-16",
          "2015-01-17",
          "2015-01-18",
          "2015-01-19",
          "2015-01-20",
          "2015-01-21",
          "2015-01-22",
          "2015-01-23",
          "2015-01-24",
          "2015-01-25",
          "2015-01-26",
          "2015-01-27",
          "2015-01-28",
          "2015-01-29",
          "2015-01-30",
          "2015-01-31",
          "2015-02-01",
          "2015-02-02",
          "2015-02-03",
          "2015-02-04",
          "2015-02-05",
          "2015-02-06",
          "2015-02-07",
          "2015-02-08",
          "2015-02-09",
          "2015-02-10",
          "2015-02-11",
          "2015-02-12",
          "2015-02-13",
          "2015-02-14",
          "2015-02-15",
          "2015-02-16",
          "2015-02-17",
          "2015-02-18",
          "2015-02-19",
          "2015-02-20",
          "2015-02-21",
          "2015-02-22",
          "2015-02-23",
          "2015-02-24",
          "2015-02-25",
          "2015-02-26",
          "2015-02-27",
          "2015-02-28",
          "2015-03-01",
          "2015-03-02",
          "2015-03-03",
          "2015-03-04",
          "2015-03-05",
          "2015-03-06",
          "2015-03-07",
          "2015-03-08",
          "2015-03-09",
          "2015-03-10",
          "2015-03-11",
          "2015-03-12",
          "2015-03-13",
          "2015-03-14",
          "2015-03-15",
          "2015-03-16",
          "2015-03-17",
          "2015-03-18",
          "2015-03-19",
          "2015-03-20",
          "2015-03-21",
          "2015-03-22",
          "2015-03-23",
          "2015-03-24",
          "2015-03-25",
          "2015-03-26",
          "2015-03-27",
          "2015-03-28",
          "2015-03-29",
          "2015-03-30",
          "2015-03-31",
          "2015-04-01",
          "2015-04-02",
          "2015-04-03",
          "2015-04-04",
          "2015-04-05",
          "2015-04-06",
          "2015-04-07",
          "2015-04-08",
          "2015-04-09",
          "2015-04-10"
         ],
         "xaxis": "x4",
         "y": [
          -0.4405064238909123,
          -0.41290754363171966,
          0.8353264849863663,
          -0.567328785108317,
          0.45980072006889905,
          0.1359760945108906,
          -1.787709470267651,
          -4.042921856212787,
          -3.2526807481406124,
          -3.1234237517135015,
          -3.0183384112512552,
          -3.601070072049505,
          -3.835932274397986,
          -4.238487663969644,
          -3.218653427742817,
          -2.6404101099538595,
          -2.2654072076167115,
          -4.928387232164322,
          -6.58568810376907,
          -6.896145083182403,
          -7.5456786079884814,
          -9.222727701382539,
          -10.147671533284644,
          -10.800793016290992,
          -10.867461931210013,
          -10.978709658681804,
          -12.000317533826255,
          -11.298981800464796,
          -9.826575543145848,
          -9.955592153273958,
          -9.467796448005776,
          -9.950129527324208,
          -10.163880491988671,
          -9.90027679124555,
          -8.49794791734824,
          -9.2131849572641,
          -9.026117767625895,
          -8.971356557659872,
          -10.143141294227808,
          -11.393659858023472,
          -11.952889367423081,
          -12.429563237569592,
          -12.333708936784236,
          -12.91654819297412,
          -13.651574305127099,
          -12.95777682895358,
          -11.29371084799961,
          -10.463671752033816,
          -9.774891479560766,
          -8.98750830024654,
          -11.510248386468849,
          -10.526845863787724,
          -10.710596453115619,
          -11.61274764674422,
          -13.50038211634905,
          -13.637295508192597,
          -13.510072382836437,
          -12.857849948469887,
          -13.946141517070552,
          -14.954993271400225,
          -15.020870615645999,
          -14.288582994741326,
          -15.639355773406303,
          -15.300513067626449,
          -15.193108953790428,
          -15.398466448640876,
          -13.4538764594265,
          -13.357512173914667,
          -13.70651008405336,
          -14.778192358135826,
          -15.353358824773832,
          -16.725046123528863,
          -17.262122484004507,
          -18.0167092551248,
          -18.885113986359986,
          -18.838347614768264,
          -18.640656012924598,
          -19.096594751479348,
          -20.116996147020416,
          -20.249600019889506,
          -20.00817434324333,
          -19.48402073002883,
          -19.511245877071964,
          -19.598557169185064,
          -19.696703987778225,
          -20.503474099950385,
          -19.97672735638481,
          -19.154320187304005,
          -20.078596691996715,
          -20.386663991374938,
          -20.361365688276788,
          -19.66605251654341,
          -19.537679729904266,
          -18.306862798723227,
          -20.43607597945611,
          -20.157896819012098,
          -21.239216796063218,
          -20.898649102813437,
          -22.237634939380353,
          -23.615766992148743
         ],
         "yaxis": "y4"
        },
        {
         "fill": "tozeroy",
         "fillcolor": "rgba(219, 64, 82, 0.3)",
         "line": {
          "color": "rgba(219, 64, 82, 1.0)",
          "dash": "solid",
          "shape": "linear",
          "width": 1.3
         },
         "mode": "lines",
         "name": "UPJ.OQ",
         "text": "",
         "type": "scatter",
         "x": [
          "2015-01-01",
          "2015-01-02",
          "2015-01-03",
          "2015-01-04",
          "2015-01-05",
          "2015-01-06",
          "2015-01-07",
          "2015-01-08",
          "2015-01-09",
          "2015-01-10",
          "2015-01-11",
          "2015-01-12",
          "2015-01-13",
          "2015-01-14",
          "2015-01-15",
          "2015-01-16",
          "2015-01-17",
          "2015-01-18",
          "2015-01-19",
          "2015-01-20",
          "2015-01-21",
          "2015-01-22",
          "2015-01-23",
          "2015-01-24",
          "2015-01-25",
          "2015-01-26",
          "2015-01-27",
          "2015-01-28",
          "2015-01-29",
          "2015-01-30",
          "2015-01-31",
          "2015-02-01",
          "2015-02-02",
          "2015-02-03",
          "2015-02-04",
          "2015-02-05",
          "2015-02-06",
          "2015-02-07",
          "2015-02-08",
          "2015-02-09",
          "2015-02-10",
          "2015-02-11",
          "2015-02-12",
          "2015-02-13",
          "2015-02-14",
          "2015-02-15",
          "2015-02-16",
          "2015-02-17",
          "2015-02-18",
          "2015-02-19",
          "2015-02-20",
          "2015-02-21",
          "2015-02-22",
          "2015-02-23",
          "2015-02-24",
          "2015-02-25",
          "2015-02-26",
          "2015-02-27",
          "2015-02-28",
          "2015-03-01",
          "2015-03-02",
          "2015-03-03",
          "2015-03-04",
          "2015-03-05",
          "2015-03-06",
          "2015-03-07",
          "2015-03-08",
          "2015-03-09",
          "2015-03-10",
          "2015-03-11",
          "2015-03-12",
          "2015-03-13",
          "2015-03-14",
          "2015-03-15",
          "2015-03-16",
          "2015-03-17",
          "2015-03-18",
          "2015-03-19",
          "2015-03-20",
          "2015-03-21",
          "2015-03-22",
          "2015-03-23",
          "2015-03-24",
          "2015-03-25",
          "2015-03-26",
          "2015-03-27",
          "2015-03-28",
          "2015-03-29",
          "2015-03-30",
          "2015-03-31",
          "2015-04-01",
          "2015-04-02",
          "2015-04-03",
          "2015-04-04",
          "2015-04-05",
          "2015-04-06",
          "2015-04-07",
          "2015-04-08",
          "2015-04-09",
          "2015-04-10"
         ],
         "xaxis": "x5",
         "y": [
          -0.2804198735689645,
          -0.6758733136280148,
          -0.9905395578117153,
          -1.6525022219114778,
          -1.9339535682698994,
          0.7928438493861423,
          1.3906542452170731,
          2.0207771414364593,
          3.440978765003361,
          3.439014920624053,
          2.744306386314105,
          2.3430831019046043,
          2.7963777855012433,
          2.9817016587459824,
          4.34702839382707,
          6.349135321310694,
          5.425181696088633,
          5.0563812565162385,
          4.194645374149305,
          5.241704779770673,
          4.446072894222386,
          5.224384935808749,
          5.169997503213272,
          5.577423439357816,
          5.756302405921759,
          6.8230254823654,
          6.38595373536326,
          4.15190819764655,
          1.8574146006062562,
          2.2081765875543846,
          2.309550970742081,
          2.2207576853210202,
          2.254493064697913,
          1.90855698122044,
          1.2188592016292858,
          0.1872174730070637,
          0.052150945141306415,
          -1.7586610192421186,
          -2.606947369026514,
          -3.0905809348084268,
          -4.298426007092838,
          -4.916309013663284,
          -7.286579372448608,
          -6.461229907194494,
          -5.271422813913854,
          -5.7989114817441845,
          -4.784263903913648,
          -6.10406572553893,
          -5.071901299577386,
          -5.017961176436122,
          -5.301820851299797,
          -5.223621252098749,
          -5.9615230538092385,
          -7.671819518489036,
          -6.983209810285613,
          -6.276706102324111,
          -6.248271652234084,
          -5.6998360695044745,
          -4.593256461829666,
          -5.8983824800277,
          -6.042795580113022,
          -5.424349662762916,
          -4.272854157192529,
          -3.189877138395715,
          -3.519880151934893,
          -4.694025083882189,
          -5.844594623270215,
          -6.2559490326735725,
          -5.5744344467204945,
          -6.616510856521381,
          -4.9029220795904225,
          -4.036415862109834,
          -4.956865072076656,
          -4.528208932833174,
          -5.238772385136139,
          -5.380688205501933,
          -4.93588105288241,
          -4.663037247240491,
          -5.6480369352039395,
          -4.505552477368056,
          -3.4938245103316943,
          -3.2636041480067965,
          -3.170358424679708,
          -3.3751910488003802,
          -3.768277007834072,
          -3.103833978303387,
          -3.2604351480057985,
          -5.711705018544134,
          -6.396872944677683,
          -7.045923687939414,
          -6.649211066468228,
          -5.986908990256332,
          -6.306139888131386,
          -6.465411625697821,
          -5.6635155128375025,
          -5.7068659389471765,
          -7.135832550845446,
          -10.624415348105332,
          -9.654944742500428,
          -11.043243974346773
         ],
         "yaxis": "y5"
        }
       ],
       "layout": {
        "legend": {
         "bgcolor": "#F5F6F9",
         "font": {
          "color": "#4D5663"
         }
        },
        "paper_bgcolor": "#F5F6F9",
        "plot_bgcolor": "#F5F6F9",
        "template": {
         "data": {
          "bar": [
           {
            "error_x": {
             "color": "#2a3f5f"
            },
            "error_y": {
             "color": "#2a3f5f"
            },
            "marker": {
             "line": {
              "color": "#E5ECF6",
              "width": 0.5
             }
            },
            "type": "bar"
           }
          ],
          "barpolar": [
           {
            "marker": {
             "line": {
              "color": "#E5ECF6",
              "width": 0.5
             }
            },
            "type": "barpolar"
           }
          ],
          "carpet": [
           {
            "aaxis": {
             "endlinecolor": "#2a3f5f",
             "gridcolor": "white",
             "linecolor": "white",
             "minorgridcolor": "white",
             "startlinecolor": "#2a3f5f"
            },
            "baxis": {
             "endlinecolor": "#2a3f5f",
             "gridcolor": "white",
             "linecolor": "white",
             "minorgridcolor": "white",
             "startlinecolor": "#2a3f5f"
            },
            "type": "carpet"
           }
          ],
          "choropleth": [
           {
            "colorbar": {
             "outlinewidth": 0,
             "ticks": ""
            },
            "type": "choropleth"
           }
          ],
          "contour": [
           {
            "colorbar": {
             "outlinewidth": 0,
             "ticks": ""
            },
            "colorscale": [
             [
              0,
              "#0d0887"
             ],
             [
              0.1111111111111111,
              "#46039f"
             ],
             [
              0.2222222222222222,
              "#7201a8"
             ],
             [
              0.3333333333333333,
              "#9c179e"
             ],
             [
              0.4444444444444444,
              "#bd3786"
             ],
             [
              0.5555555555555556,
              "#d8576b"
             ],
             [
              0.6666666666666666,
              "#ed7953"
             ],
             [
              0.7777777777777778,
              "#fb9f3a"
             ],
             [
              0.8888888888888888,
              "#fdca26"
             ],
             [
              1,
              "#f0f921"
             ]
            ],
            "type": "contour"
           }
          ],
          "contourcarpet": [
           {
            "colorbar": {
             "outlinewidth": 0,
             "ticks": ""
            },
            "type": "contourcarpet"
           }
          ],
          "heatmap": [
           {
            "colorbar": {
             "outlinewidth": 0,
             "ticks": ""
            },
            "colorscale": [
             [
              0,
              "#0d0887"
             ],
             [
              0.1111111111111111,
              "#46039f"
             ],
             [
              0.2222222222222222,
              "#7201a8"
             ],
             [
              0.3333333333333333,
              "#9c179e"
             ],
             [
              0.4444444444444444,
              "#bd3786"
             ],
             [
              0.5555555555555556,
              "#d8576b"
             ],
             [
              0.6666666666666666,
              "#ed7953"
             ],
             [
              0.7777777777777778,
              "#fb9f3a"
             ],
             [
              0.8888888888888888,
              "#fdca26"
             ],
             [
              1,
              "#f0f921"
             ]
            ],
            "type": "heatmap"
           }
          ],
          "heatmapgl": [
           {
            "colorbar": {
             "outlinewidth": 0,
             "ticks": ""
            },
            "colorscale": [
             [
              0,
              "#0d0887"
             ],
             [
              0.1111111111111111,
              "#46039f"
             ],
             [
              0.2222222222222222,
              "#7201a8"
             ],
             [
              0.3333333333333333,
              "#9c179e"
             ],
             [
              0.4444444444444444,
              "#bd3786"
             ],
             [
              0.5555555555555556,
              "#d8576b"
             ],
             [
              0.6666666666666666,
              "#ed7953"
             ],
             [
              0.7777777777777778,
              "#fb9f3a"
             ],
             [
              0.8888888888888888,
              "#fdca26"
             ],
             [
              1,
              "#f0f921"
             ]
            ],
            "type": "heatmapgl"
           }
          ],
          "histogram": [
           {
            "marker": {
             "colorbar": {
              "outlinewidth": 0,
              "ticks": ""
             }
            },
            "type": "histogram"
           }
          ],
          "histogram2d": [
           {
            "colorbar": {
             "outlinewidth": 0,
             "ticks": ""
            },
            "colorscale": [
             [
              0,
              "#0d0887"
             ],
             [
              0.1111111111111111,
              "#46039f"
             ],
             [
              0.2222222222222222,
              "#7201a8"
             ],
             [
              0.3333333333333333,
              "#9c179e"
             ],
             [
              0.4444444444444444,
              "#bd3786"
             ],
             [
              0.5555555555555556,
              "#d8576b"
             ],
             [
              0.6666666666666666,
              "#ed7953"
             ],
             [
              0.7777777777777778,
              "#fb9f3a"
             ],
             [
              0.8888888888888888,
              "#fdca26"
             ],
             [
              1,
              "#f0f921"
             ]
            ],
            "type": "histogram2d"
           }
          ],
          "histogram2dcontour": [
           {
            "colorbar": {
             "outlinewidth": 0,
             "ticks": ""
            },
            "colorscale": [
             [
              0,
              "#0d0887"
             ],
             [
              0.1111111111111111,
              "#46039f"
             ],
             [
              0.2222222222222222,
              "#7201a8"
             ],
             [
              0.3333333333333333,
              "#9c179e"
             ],
             [
              0.4444444444444444,
              "#bd3786"
             ],
             [
              0.5555555555555556,
              "#d8576b"
             ],
             [
              0.6666666666666666,
              "#ed7953"
             ],
             [
              0.7777777777777778,
              "#fb9f3a"
             ],
             [
              0.8888888888888888,
              "#fdca26"
             ],
             [
              1,
              "#f0f921"
             ]
            ],
            "type": "histogram2dcontour"
           }
          ],
          "mesh3d": [
           {
            "colorbar": {
             "outlinewidth": 0,
             "ticks": ""
            },
            "type": "mesh3d"
           }
          ],
          "parcoords": [
           {
            "line": {
             "colorbar": {
              "outlinewidth": 0,
              "ticks": ""
             }
            },
            "type": "parcoords"
           }
          ],
          "pie": [
           {
            "automargin": true,
            "type": "pie"
           }
          ],
          "scatter": [
           {
            "marker": {
             "colorbar": {
              "outlinewidth": 0,
              "ticks": ""
             }
            },
            "type": "scatter"
           }
          ],
          "scatter3d": [
           {
            "line": {
             "colorbar": {
              "outlinewidth": 0,
              "ticks": ""
             }
            },
            "marker": {
             "colorbar": {
              "outlinewidth": 0,
              "ticks": ""
             }
            },
            "type": "scatter3d"
           }
          ],
          "scattercarpet": [
           {
            "marker": {
             "colorbar": {
              "outlinewidth": 0,
              "ticks": ""
             }
            },
            "type": "scattercarpet"
           }
          ],
          "scattergeo": [
           {
            "marker": {
             "colorbar": {
              "outlinewidth": 0,
              "ticks": ""
             }
            },
            "type": "scattergeo"
           }
          ],
          "scattergl": [
           {
            "marker": {
             "colorbar": {
              "outlinewidth": 0,
              "ticks": ""
             }
            },
            "type": "scattergl"
           }
          ],
          "scattermapbox": [
           {
            "marker": {
             "colorbar": {
              "outlinewidth": 0,
              "ticks": ""
             }
            },
            "type": "scattermapbox"
           }
          ],
          "scatterpolar": [
           {
            "marker": {
             "colorbar": {
              "outlinewidth": 0,
              "ticks": ""
             }
            },
            "type": "scatterpolar"
           }
          ],
          "scatterpolargl": [
           {
            "marker": {
             "colorbar": {
              "outlinewidth": 0,
              "ticks": ""
             }
            },
            "type": "scatterpolargl"
           }
          ],
          "scatterternary": [
           {
            "marker": {
             "colorbar": {
              "outlinewidth": 0,
              "ticks": ""
             }
            },
            "type": "scatterternary"
           }
          ],
          "surface": [
           {
            "colorbar": {
             "outlinewidth": 0,
             "ticks": ""
            },
            "colorscale": [
             [
              0,
              "#0d0887"
             ],
             [
              0.1111111111111111,
              "#46039f"
             ],
             [
              0.2222222222222222,
              "#7201a8"
             ],
             [
              0.3333333333333333,
              "#9c179e"
             ],
             [
              0.4444444444444444,
              "#bd3786"
             ],
             [
              0.5555555555555556,
              "#d8576b"
             ],
             [
              0.6666666666666666,
              "#ed7953"
             ],
             [
              0.7777777777777778,
              "#fb9f3a"
             ],
             [
              0.8888888888888888,
              "#fdca26"
             ],
             [
              1,
              "#f0f921"
             ]
            ],
            "type": "surface"
           }
          ],
          "table": [
           {
            "cells": {
             "fill": {
              "color": "#EBF0F8"
             },
             "line": {
              "color": "white"
             }
            },
            "header": {
             "fill": {
              "color": "#C8D4E3"
             },
             "line": {
              "color": "white"
             }
            },
            "type": "table"
           }
          ]
         },
         "layout": {
          "annotationdefaults": {
           "arrowcolor": "#2a3f5f",
           "arrowhead": 0,
           "arrowwidth": 1
          },
          "coloraxis": {
           "colorbar": {
            "outlinewidth": 0,
            "ticks": ""
           }
          },
          "colorscale": {
           "diverging": [
            [
             0,
             "#8e0152"
            ],
            [
             0.1,
             "#c51b7d"
            ],
            [
             0.2,
             "#de77ae"
            ],
            [
             0.3,
             "#f1b6da"
            ],
            [
             0.4,
             "#fde0ef"
            ],
            [
             0.5,
             "#f7f7f7"
            ],
            [
             0.6,
             "#e6f5d0"
            ],
            [
             0.7,
             "#b8e186"
            ],
            [
             0.8,
             "#7fbc41"
            ],
            [
             0.9,
             "#4d9221"
            ],
            [
             1,
             "#276419"
            ]
           ],
           "sequential": [
            [
             0,
             "#0d0887"
            ],
            [
             0.1111111111111111,
             "#46039f"
            ],
            [
             0.2222222222222222,
             "#7201a8"
            ],
            [
             0.3333333333333333,
             "#9c179e"
            ],
            [
             0.4444444444444444,
             "#bd3786"
            ],
            [
             0.5555555555555556,
             "#d8576b"
            ],
            [
             0.6666666666666666,
             "#ed7953"
            ],
            [
             0.7777777777777778,
             "#fb9f3a"
            ],
            [
             0.8888888888888888,
             "#fdca26"
            ],
            [
             1,
             "#f0f921"
            ]
           ],
           "sequentialminus": [
            [
             0,
             "#0d0887"
            ],
            [
             0.1111111111111111,
             "#46039f"
            ],
            [
             0.2222222222222222,
             "#7201a8"
            ],
            [
             0.3333333333333333,
             "#9c179e"
            ],
            [
             0.4444444444444444,
             "#bd3786"
            ],
            [
             0.5555555555555556,
             "#d8576b"
            ],
            [
             0.6666666666666666,
             "#ed7953"
            ],
            [
             0.7777777777777778,
             "#fb9f3a"
            ],
            [
             0.8888888888888888,
             "#fdca26"
            ],
            [
             1,
             "#f0f921"
            ]
           ]
          },
          "colorway": [
           "#636efa",
           "#EF553B",
           "#00cc96",
           "#ab63fa",
           "#FFA15A",
           "#19d3f3",
           "#FF6692",
           "#B6E880",
           "#FF97FF",
           "#FECB52"
          ],
          "font": {
           "color": "#2a3f5f"
          },
          "geo": {
           "bgcolor": "white",
           "lakecolor": "white",
           "landcolor": "#E5ECF6",
           "showlakes": true,
           "showland": true,
           "subunitcolor": "white"
          },
          "hoverlabel": {
           "align": "left"
          },
          "hovermode": "closest",
          "mapbox": {
           "style": "light"
          },
          "paper_bgcolor": "white",
          "plot_bgcolor": "#E5ECF6",
          "polar": {
           "angularaxis": {
            "gridcolor": "white",
            "linecolor": "white",
            "ticks": ""
           },
           "bgcolor": "#E5ECF6",
           "radialaxis": {
            "gridcolor": "white",
            "linecolor": "white",
            "ticks": ""
           }
          },
          "scene": {
           "xaxis": {
            "backgroundcolor": "#E5ECF6",
            "gridcolor": "white",
            "gridwidth": 2,
            "linecolor": "white",
            "showbackground": true,
            "ticks": "",
            "zerolinecolor": "white"
           },
           "yaxis": {
            "backgroundcolor": "#E5ECF6",
            "gridcolor": "white",
            "gridwidth": 2,
            "linecolor": "white",
            "showbackground": true,
            "ticks": "",
            "zerolinecolor": "white"
           },
           "zaxis": {
            "backgroundcolor": "#E5ECF6",
            "gridcolor": "white",
            "gridwidth": 2,
            "linecolor": "white",
            "showbackground": true,
            "ticks": "",
            "zerolinecolor": "white"
           }
          },
          "shapedefaults": {
           "line": {
            "color": "#2a3f5f"
           }
          },
          "ternary": {
           "aaxis": {
            "gridcolor": "white",
            "linecolor": "white",
            "ticks": ""
           },
           "baxis": {
            "gridcolor": "white",
            "linecolor": "white",
            "ticks": ""
           },
           "bgcolor": "#E5ECF6",
           "caxis": {
            "gridcolor": "white",
            "linecolor": "white",
            "ticks": ""
           }
          },
          "title": {
           "x": 0.05
          },
          "xaxis": {
           "automargin": true,
           "gridcolor": "white",
           "linecolor": "white",
           "ticks": "",
           "title": {
            "standoff": 15
           },
           "zerolinecolor": "white",
           "zerolinewidth": 2
          },
          "yaxis": {
           "automargin": true,
           "gridcolor": "white",
           "linecolor": "white",
           "ticks": "",
           "title": {
            "standoff": 15
           },
           "zerolinecolor": "white",
           "zerolinewidth": 2
          }
         }
        },
        "title": {
         "font": {
          "color": "#4D5663"
         }
        },
        "xaxis": {
         "anchor": "y",
         "domain": [
          0,
          1
         ],
         "gridcolor": "#E1E5ED",
         "matches": "x5",
         "showgrid": true,
         "showticklabels": false,
         "tickfont": {
          "color": "#4D5663"
         },
         "title": {
          "font": {
           "color": "#4D5663"
          },
          "text": ""
         },
         "zerolinecolor": "#E1E5ED"
        },
        "xaxis2": {
         "anchor": "y2",
         "domain": [
          0,
          1
         ],
         "gridcolor": "#E1E5ED",
         "matches": "x5",
         "showgrid": true,
         "showticklabels": false,
         "tickfont": {
          "color": "#4D5663"
         },
         "title": {
          "font": {
           "color": "#4D5663"
          },
          "text": ""
         },
         "zerolinecolor": "#E1E5ED"
        },
        "xaxis3": {
         "anchor": "y3",
         "domain": [
          0,
          1
         ],
         "gridcolor": "#E1E5ED",
         "matches": "x5",
         "showgrid": true,
         "showticklabels": false,
         "tickfont": {
          "color": "#4D5663"
         },
         "title": {
          "font": {
           "color": "#4D5663"
          },
          "text": ""
         },
         "zerolinecolor": "#E1E5ED"
        },
        "xaxis4": {
         "anchor": "y4",
         "domain": [
          0,
          1
         ],
         "gridcolor": "#E1E5ED",
         "matches": "x5",
         "showgrid": true,
         "showticklabels": false,
         "tickfont": {
          "color": "#4D5663"
         },
         "title": {
          "font": {
           "color": "#4D5663"
          },
          "text": ""
         },
         "zerolinecolor": "#E1E5ED"
        },
        "xaxis5": {
         "anchor": "y5",
         "domain": [
          0,
          1
         ],
         "gridcolor": "#E1E5ED",
         "showgrid": true,
         "tickfont": {
          "color": "#4D5663"
         },
         "title": {
          "font": {
           "color": "#4D5663"
          },
          "text": ""
         },
         "zerolinecolor": "#E1E5ED"
        },
        "yaxis": {
         "anchor": "x",
         "domain": [
          0.848,
          1
         ],
         "gridcolor": "#E1E5ED",
         "showgrid": true,
         "tickfont": {
          "color": "#4D5663"
         },
         "title": {
          "font": {
           "color": "#4D5663"
          },
          "text": ""
         },
         "zerolinecolor": "#E1E5ED"
        },
        "yaxis2": {
         "anchor": "x2",
         "domain": [
          0.6359999999999999,
          0.7879999999999999
         ],
         "gridcolor": "#E1E5ED",
         "showgrid": true,
         "tickfont": {
          "color": "#4D5663"
         },
         "title": {
          "font": {
           "color": "#4D5663"
          },
          "text": ""
         },
         "zerolinecolor": "#E1E5ED"
        },
        "yaxis3": {
         "anchor": "x3",
         "domain": [
          0.424,
          0.576
         ],
         "gridcolor": "#E1E5ED",
         "showgrid": true,
         "tickfont": {
          "color": "#4D5663"
         },
         "title": {
          "font": {
           "color": "#4D5663"
          },
          "text": ""
         },
         "zerolinecolor": "#E1E5ED"
        },
        "yaxis4": {
         "anchor": "x4",
         "domain": [
          0.212,
          0.364
         ],
         "gridcolor": "#E1E5ED",
         "showgrid": true,
         "tickfont": {
          "color": "#4D5663"
         },
         "title": {
          "font": {
           "color": "#4D5663"
          },
          "text": ""
         },
         "zerolinecolor": "#E1E5ED"
        },
        "yaxis5": {
         "anchor": "x5",
         "domain": [
          0,
          0.152
         ],
         "gridcolor": "#E1E5ED",
         "showgrid": true,
         "tickfont": {
          "color": "#4D5663"
         },
         "title": {
          "font": {
           "color": "#4D5663"
          },
          "text": ""
         },
         "zerolinecolor": "#E1E5ED"
        }
       }
      },
      "text/html": [
       "<div>\n",
       "        \n",
       "        \n",
       "            <div id=\"f93b5ae9-2d96-492b-a29f-ee890d663b8f\" class=\"plotly-graph-div\" style=\"height:525px; width:100%;\"></div>\n",
       "            <script type=\"text/javascript\">\n",
       "                require([\"plotly\"], function(Plotly) {\n",
       "                    window.PLOTLYENV=window.PLOTLYENV || {};\n",
       "                    \n",
       "                if (document.getElementById(\"f93b5ae9-2d96-492b-a29f-ee890d663b8f\")) {\n",
       "                    Plotly.newPlot(\n",
       "                        'f93b5ae9-2d96-492b-a29f-ee890d663b8f',\n",
       "                        [{\"fill\": \"tozeroy\", \"fillcolor\": \"rgba(255, 153, 51, 0.3)\", \"line\": {\"color\": \"rgba(255, 153, 51, 1.0)\", \"dash\": \"solid\", \"shape\": \"linear\", \"width\": 1.3}, \"mode\": \"lines\", \"name\": \"OWS.GS\", \"text\": \"\", \"type\": \"scatter\", \"x\": [\"2015-01-01\", \"2015-01-02\", \"2015-01-03\", \"2015-01-04\", \"2015-01-05\", \"2015-01-06\", \"2015-01-07\", \"2015-01-08\", \"2015-01-09\", \"2015-01-10\", \"2015-01-11\", \"2015-01-12\", \"2015-01-13\", \"2015-01-14\", \"2015-01-15\", \"2015-01-16\", \"2015-01-17\", \"2015-01-18\", \"2015-01-19\", \"2015-01-20\", \"2015-01-21\", \"2015-01-22\", \"2015-01-23\", \"2015-01-24\", \"2015-01-25\", \"2015-01-26\", \"2015-01-27\", \"2015-01-28\", \"2015-01-29\", \"2015-01-30\", \"2015-01-31\", \"2015-02-01\", \"2015-02-02\", \"2015-02-03\", \"2015-02-04\", \"2015-02-05\", \"2015-02-06\", \"2015-02-07\", \"2015-02-08\", \"2015-02-09\", \"2015-02-10\", \"2015-02-11\", \"2015-02-12\", \"2015-02-13\", \"2015-02-14\", \"2015-02-15\", \"2015-02-16\", \"2015-02-17\", \"2015-02-18\", \"2015-02-19\", \"2015-02-20\", \"2015-02-21\", \"2015-02-22\", \"2015-02-23\", \"2015-02-24\", \"2015-02-25\", \"2015-02-26\", \"2015-02-27\", \"2015-02-28\", \"2015-03-01\", \"2015-03-02\", \"2015-03-03\", \"2015-03-04\", \"2015-03-05\", \"2015-03-06\", \"2015-03-07\", \"2015-03-08\", \"2015-03-09\", \"2015-03-10\", \"2015-03-11\", \"2015-03-12\", \"2015-03-13\", \"2015-03-14\", \"2015-03-15\", \"2015-03-16\", \"2015-03-17\", \"2015-03-18\", \"2015-03-19\", \"2015-03-20\", \"2015-03-21\", \"2015-03-22\", \"2015-03-23\", \"2015-03-24\", \"2015-03-25\", \"2015-03-26\", \"2015-03-27\", \"2015-03-28\", \"2015-03-29\", \"2015-03-30\", \"2015-03-31\", \"2015-04-01\", \"2015-04-02\", \"2015-04-03\", \"2015-04-04\", \"2015-04-05\", \"2015-04-06\", \"2015-04-07\", \"2015-04-08\", \"2015-04-09\", \"2015-04-10\"], \"xaxis\": \"x\", \"y\": [-0.43477161227720934, -1.1525186481836973, 0.9943267787233132, 0.616454929435025, -0.8116405517219454, -2.3263990688917993, -4.0197138722204775, -4.908834779779347, -4.685812530496802, -5.322979327328244, -4.918295853464478, -3.7524904846508695, -4.234446942234855, -3.9132940727190753, -5.60599288351115, -5.6226421699697005, -3.9468367453021678, -5.533947476762952, -6.189198773967733, -5.8638850166010625, -6.836034528251294, -5.566724368035831, -4.266679926991955, -2.3671306476761185, -4.09652523142195, -3.1753308798827695, -2.264669118022465, -1.2373814909461327, -3.3255589210467424, -4.790273357388236, -4.405359838517569, -4.670104866466699, -3.5900584943570744, -4.337655222696269, -4.383080647878802, -4.845142913520204, -6.115469225733907, -6.5070855624452335, -6.892495957394417, -7.398099762221306, -6.44233640584862, -6.057666791152067, -5.192941003699518, -5.735797213839408, -4.5098878819298305, -5.726580677490356, -6.70004155663008, -6.939788394450595, -7.625147690237822, -8.207781807571836, -8.485043784753334, -8.052884293193557, -7.8095889014562605, -8.963077816406313, -9.306317996387046, -10.462182630339752, -11.947083595708786, -14.206510340331977, -14.211122805424736, -16.87747032362485, -16.729375926772867, -16.31648748737817, -15.131789025277628, -17.47895262726361, -17.44674456515571, -17.080684674066493, -17.06111448203714, -16.771532829215833, -17.029029037384305, -18.941856324637097, -17.638128272962284, -17.341533518419848, -15.995518685049507, -15.321358421270064, -14.620808654005128, -12.543978470466369, -11.618593240237832, -13.853720972940279, -13.523735779894757, -13.76389353702407, -13.897690795434952, -13.638998002547488, -14.70267272015036, -15.093447220161927, -14.293002699984298, -14.006393922886684, -13.66976629530653, -15.870172618214104, -16.557741037661746, -16.74926955184123, -17.27613865815044, -16.626807395877307, -17.789440922031645, -14.797018120490737, -13.215564359695888, -12.20010344325565, -11.801011372202549, -12.118903989921703, -13.05326134785473, -13.39708667636225], \"yaxis\": \"y\"}, {\"fill\": \"tozeroy\", \"fillcolor\": \"rgba(55, 128, 191, 0.3)\", \"line\": {\"color\": \"rgba(55, 128, 191, 1.0)\", \"dash\": \"solid\", \"shape\": \"linear\", \"width\": 1.3}, \"mode\": \"lines\", \"name\": \"HGU.RI\", \"text\": \"\", \"type\": \"scatter\", \"x\": [\"2015-01-01\", \"2015-01-02\", \"2015-01-03\", \"2015-01-04\", \"2015-01-05\", \"2015-01-06\", \"2015-01-07\", \"2015-01-08\", \"2015-01-09\", \"2015-01-10\", \"2015-01-11\", \"2015-01-12\", \"2015-01-13\", \"2015-01-14\", \"2015-01-15\", \"2015-01-16\", \"2015-01-17\", \"2015-01-18\", \"2015-01-19\", \"2015-01-20\", \"2015-01-21\", \"2015-01-22\", \"2015-01-23\", \"2015-01-24\", \"2015-01-25\", \"2015-01-26\", \"2015-01-27\", \"2015-01-28\", \"2015-01-29\", \"2015-01-30\", \"2015-01-31\", \"2015-02-01\", \"2015-02-02\", \"2015-02-03\", \"2015-02-04\", \"2015-02-05\", \"2015-02-06\", \"2015-02-07\", \"2015-02-08\", \"2015-02-09\", \"2015-02-10\", \"2015-02-11\", \"2015-02-12\", \"2015-02-13\", \"2015-02-14\", \"2015-02-15\", \"2015-02-16\", \"2015-02-17\", \"2015-02-18\", \"2015-02-19\", \"2015-02-20\", \"2015-02-21\", \"2015-02-22\", \"2015-02-23\", \"2015-02-24\", \"2015-02-25\", \"2015-02-26\", \"2015-02-27\", \"2015-02-28\", \"2015-03-01\", \"2015-03-02\", \"2015-03-03\", \"2015-03-04\", \"2015-03-05\", \"2015-03-06\", \"2015-03-07\", \"2015-03-08\", \"2015-03-09\", \"2015-03-10\", \"2015-03-11\", \"2015-03-12\", \"2015-03-13\", \"2015-03-14\", \"2015-03-15\", \"2015-03-16\", \"2015-03-17\", \"2015-03-18\", \"2015-03-19\", \"2015-03-20\", \"2015-03-21\", \"2015-03-22\", \"2015-03-23\", \"2015-03-24\", \"2015-03-25\", \"2015-03-26\", \"2015-03-27\", \"2015-03-28\", \"2015-03-29\", \"2015-03-30\", \"2015-03-31\", \"2015-04-01\", \"2015-04-02\", \"2015-04-03\", \"2015-04-04\", \"2015-04-05\", \"2015-04-06\", \"2015-04-07\", \"2015-04-08\", \"2015-04-09\", \"2015-04-10\"], \"xaxis\": \"x2\", \"y\": [-1.380237068282405, -0.9949377209376531, -1.5400742258972464, -2.8370194677345353, -3.1202844360117727, -2.710579941624173, -1.936367753248121, -2.927446910878674, -2.8628484394885616, -3.0547238712183935, -3.3967736951901126, -4.890177259044637, -7.027100267204263, -6.248039675990491, -5.749051986948507, -5.731559850536231, -5.930692592575683, -6.25753184742813, -5.12846646031577, -5.400095942072186, -4.746453509909846, -4.084183702885272, -3.5204030835176443, -3.096977929324247, -5.030802614224483, -5.86261375401384, -6.131129838182424, -4.440147017384259, -5.134511654722846, -7.395563901413869, -6.79420160281868, -6.976229979562536, -7.862768554935171, -7.901865276356555, -7.5648748037533435, -6.772724843267116, -6.472046187236262, -6.111103946652532, -6.547398681320162, -7.161479280123425, -4.661955689678086, -6.572118609887491, -7.335554861306409, -7.889098111810487, -8.173673681695908, -8.589474792833963, -7.264290500211627, -5.296857182982743, -4.66955449268295, -4.4127169098830725, -5.377581350620657, -4.852151368266302, -5.746205477417144, -7.798112933433897, -8.000856905571682, -8.12534426204653, -9.561741329384038, -10.944149012746601, -9.991403784204548, -11.649643374114145, -12.274164394383888, -12.505936327087143, -13.145046046859655, -11.454708310964607, -12.695395957109712, -12.130698590055198, -12.568227532409846, -13.458045861362598, -14.61858729654573, -15.419209721127874, -15.791657552818181, -17.252330250803638, -18.299026607563587, -17.947629018432764, -17.864713155197027, -17.463061418449037, -16.784151364396322, -16.063853767209903, -14.659334185954588, -14.536442892718384, -15.0023228579972, -15.216670554467353, -15.23833349173831, -14.425273527452585, -13.309037774752527, -13.341395074762659, -13.812475262634822, -13.930417696240582, -13.626555874028107, -12.8361019704965, -13.302325572590949, -11.547690634610934, -10.019220037738759, -8.152417130808232, -8.18735897993194, -6.995121808126919, -7.727766627606052, -7.9976180403993675, -8.199026848208952, -7.7386862412511865], \"yaxis\": \"y2\"}, {\"fill\": \"tozeroy\", \"fillcolor\": \"rgba(50, 171, 96, 0.3)\", \"line\": {\"color\": \"rgba(50, 171, 96, 1.0)\", \"dash\": \"solid\", \"shape\": \"linear\", \"width\": 1.3}, \"mode\": \"lines\", \"name\": \"UEQ.DO\", \"text\": \"\", \"type\": \"scatter\", \"x\": [\"2015-01-01\", \"2015-01-02\", \"2015-01-03\", \"2015-01-04\", \"2015-01-05\", \"2015-01-06\", \"2015-01-07\", \"2015-01-08\", \"2015-01-09\", \"2015-01-10\", \"2015-01-11\", \"2015-01-12\", \"2015-01-13\", \"2015-01-14\", \"2015-01-15\", \"2015-01-16\", \"2015-01-17\", \"2015-01-18\", \"2015-01-19\", \"2015-01-20\", \"2015-01-21\", \"2015-01-22\", \"2015-01-23\", \"2015-01-24\", \"2015-01-25\", \"2015-01-26\", \"2015-01-27\", \"2015-01-28\", \"2015-01-29\", \"2015-01-30\", \"2015-01-31\", \"2015-02-01\", \"2015-02-02\", \"2015-02-03\", \"2015-02-04\", \"2015-02-05\", \"2015-02-06\", \"2015-02-07\", \"2015-02-08\", \"2015-02-09\", \"2015-02-10\", \"2015-02-11\", \"2015-02-12\", \"2015-02-13\", \"2015-02-14\", \"2015-02-15\", \"2015-02-16\", \"2015-02-17\", \"2015-02-18\", \"2015-02-19\", \"2015-02-20\", \"2015-02-21\", \"2015-02-22\", \"2015-02-23\", \"2015-02-24\", \"2015-02-25\", \"2015-02-26\", \"2015-02-27\", \"2015-02-28\", \"2015-03-01\", \"2015-03-02\", \"2015-03-03\", \"2015-03-04\", \"2015-03-05\", \"2015-03-06\", \"2015-03-07\", \"2015-03-08\", \"2015-03-09\", \"2015-03-10\", \"2015-03-11\", \"2015-03-12\", \"2015-03-13\", \"2015-03-14\", \"2015-03-15\", \"2015-03-16\", \"2015-03-17\", \"2015-03-18\", \"2015-03-19\", \"2015-03-20\", \"2015-03-21\", \"2015-03-22\", \"2015-03-23\", \"2015-03-24\", \"2015-03-25\", \"2015-03-26\", \"2015-03-27\", \"2015-03-28\", \"2015-03-29\", \"2015-03-30\", \"2015-03-31\", \"2015-04-01\", \"2015-04-02\", \"2015-04-03\", \"2015-04-04\", \"2015-04-05\", \"2015-04-06\", \"2015-04-07\", \"2015-04-08\", \"2015-04-09\", \"2015-04-10\"], \"xaxis\": \"x3\", \"y\": [0.7704224400798823, 1.380792472983189, 3.3671145502648807, 3.9904068889125144, 4.265262842982193, 3.2775600441341513, 2.018976510745114, 1.970987902348445, 1.954174563840554, 1.240018828102862, 1.6167073749923224, 0.6560026801242121, -0.5816957251942733, -1.688698632122577, -0.14830578124601268, -0.7854749680199802, -0.12811186585295709, -0.7115309406312716, -0.5784975343686198, 0.06593801499660823, -0.7625137694988448, -1.9055556820660025, -2.283451712550534, -1.3403881081556364, -1.4446601210153327, -1.206944547760651, -0.0009133933728115995, -0.2500187590078742, -0.11039297727753533, -1.7531493564096163, -1.8923662520767643, -0.7095370584588339, -1.0345386864645614, -2.298140883007432, -2.449957759386841, -2.852973582109277, -2.7609843441235746, -3.3276766773086432, -4.6568202992513275, -4.2614891529231524, -4.496059800116517, -4.599083181991415, -4.126535589746165, -3.9585481779969585, -2.1705269452163267, -3.1799342264226085, -4.533813629381647, -5.201313718556285, -5.128747060510588, -4.45440931740411, -3.915978008539535, -2.6534054950149963, -2.23162812843586, -2.3208214681828587, -1.9238923126310798, -2.109898074840646, -2.989932107460479, -2.4628744113940524, -2.3015571917103936, -2.4520095565508604, -1.68464356033927, -0.504117387949049, -0.14192665042465558, -0.38483407265506603, 1.2332060188602476, 0.66043686269819, 1.8845951669935799, 2.048213461666874, 4.815000008451486, 5.6804070624949565, 5.710503707721493, 5.871510052717975, 6.680939436132862, 7.739914896027632, 7.561433250273039, 7.153890363214382, 7.503517006337192, 6.506058931142334, 6.643517779513755, 7.61969661706465, 8.354021887533968, 8.21131101950555, 7.6811336587934065, 9.125485754607023, 9.843728560091144, 9.236353318360166, 9.412447246508151, 9.364301641869867, 9.485595051168701, 9.094348630333531, 10.417689102758182, 11.182654803594998, 11.933906240898727, 12.83145961383978, 13.020058939409543, 13.099673173103813, 11.024306781142027, 11.600360214150438, 11.42630427574452, 11.391578836436814], \"yaxis\": \"y3\"}, {\"fill\": \"tozeroy\", \"fillcolor\": \"rgba(128, 0, 128, 0.3)\", \"line\": {\"color\": \"rgba(128, 0, 128, 1.0)\", \"dash\": \"solid\", \"shape\": \"linear\", \"width\": 1.3}, \"mode\": \"lines\", \"name\": \"ZSE.YE\", \"text\": \"\", \"type\": \"scatter\", \"x\": [\"2015-01-01\", \"2015-01-02\", \"2015-01-03\", \"2015-01-04\", \"2015-01-05\", \"2015-01-06\", \"2015-01-07\", \"2015-01-08\", \"2015-01-09\", \"2015-01-10\", \"2015-01-11\", \"2015-01-12\", \"2015-01-13\", \"2015-01-14\", \"2015-01-15\", \"2015-01-16\", \"2015-01-17\", \"2015-01-18\", \"2015-01-19\", \"2015-01-20\", \"2015-01-21\", \"2015-01-22\", \"2015-01-23\", \"2015-01-24\", \"2015-01-25\", \"2015-01-26\", \"2015-01-27\", \"2015-01-28\", \"2015-01-29\", \"2015-01-30\", \"2015-01-31\", \"2015-02-01\", \"2015-02-02\", \"2015-02-03\", \"2015-02-04\", \"2015-02-05\", \"2015-02-06\", \"2015-02-07\", \"2015-02-08\", \"2015-02-09\", \"2015-02-10\", \"2015-02-11\", \"2015-02-12\", \"2015-02-13\", \"2015-02-14\", \"2015-02-15\", \"2015-02-16\", \"2015-02-17\", \"2015-02-18\", \"2015-02-19\", \"2015-02-20\", \"2015-02-21\", \"2015-02-22\", \"2015-02-23\", \"2015-02-24\", \"2015-02-25\", \"2015-02-26\", \"2015-02-27\", \"2015-02-28\", \"2015-03-01\", \"2015-03-02\", \"2015-03-03\", \"2015-03-04\", \"2015-03-05\", \"2015-03-06\", \"2015-03-07\", \"2015-03-08\", \"2015-03-09\", \"2015-03-10\", \"2015-03-11\", \"2015-03-12\", \"2015-03-13\", \"2015-03-14\", \"2015-03-15\", \"2015-03-16\", \"2015-03-17\", \"2015-03-18\", \"2015-03-19\", \"2015-03-20\", \"2015-03-21\", \"2015-03-22\", \"2015-03-23\", \"2015-03-24\", \"2015-03-25\", \"2015-03-26\", \"2015-03-27\", \"2015-03-28\", \"2015-03-29\", \"2015-03-30\", \"2015-03-31\", \"2015-04-01\", \"2015-04-02\", \"2015-04-03\", \"2015-04-04\", \"2015-04-05\", \"2015-04-06\", \"2015-04-07\", \"2015-04-08\", \"2015-04-09\", \"2015-04-10\"], \"xaxis\": \"x4\", \"y\": [-0.4405064238909123, -0.41290754363171966, 0.8353264849863663, -0.567328785108317, 0.45980072006889905, 0.1359760945108906, -1.787709470267651, -4.042921856212787, -3.2526807481406124, -3.1234237517135015, -3.0183384112512552, -3.601070072049505, -3.835932274397986, -4.238487663969644, -3.218653427742817, -2.6404101099538595, -2.2654072076167115, -4.928387232164322, -6.58568810376907, -6.896145083182403, -7.5456786079884814, -9.222727701382539, -10.147671533284644, -10.800793016290992, -10.867461931210013, -10.978709658681804, -12.000317533826255, -11.298981800464796, -9.826575543145848, -9.955592153273958, -9.467796448005776, -9.950129527324208, -10.163880491988671, -9.90027679124555, -8.49794791734824, -9.2131849572641, -9.026117767625895, -8.971356557659872, -10.143141294227808, -11.393659858023472, -11.952889367423081, -12.429563237569592, -12.333708936784236, -12.91654819297412, -13.651574305127099, -12.95777682895358, -11.29371084799961, -10.463671752033816, -9.774891479560766, -8.98750830024654, -11.510248386468849, -10.526845863787724, -10.710596453115619, -11.61274764674422, -13.50038211634905, -13.637295508192597, -13.510072382836437, -12.857849948469887, -13.946141517070552, -14.954993271400225, -15.020870615645999, -14.288582994741326, -15.639355773406303, -15.300513067626449, -15.193108953790428, -15.398466448640876, -13.4538764594265, -13.357512173914667, -13.70651008405336, -14.778192358135826, -15.353358824773832, -16.725046123528863, -17.262122484004507, -18.0167092551248, -18.885113986359986, -18.838347614768264, -18.640656012924598, -19.096594751479348, -20.116996147020416, -20.249600019889506, -20.00817434324333, -19.48402073002883, -19.511245877071964, -19.598557169185064, -19.696703987778225, -20.503474099950385, -19.97672735638481, -19.154320187304005, -20.078596691996715, -20.386663991374938, -20.361365688276788, -19.66605251654341, -19.537679729904266, -18.306862798723227, -20.43607597945611, -20.157896819012098, -21.239216796063218, -20.898649102813437, -22.237634939380353, -23.615766992148743], \"yaxis\": \"y4\"}, {\"fill\": \"tozeroy\", \"fillcolor\": \"rgba(219, 64, 82, 0.3)\", \"line\": {\"color\": \"rgba(219, 64, 82, 1.0)\", \"dash\": \"solid\", \"shape\": \"linear\", \"width\": 1.3}, \"mode\": \"lines\", \"name\": \"UPJ.OQ\", \"text\": \"\", \"type\": \"scatter\", \"x\": [\"2015-01-01\", \"2015-01-02\", \"2015-01-03\", \"2015-01-04\", \"2015-01-05\", \"2015-01-06\", \"2015-01-07\", \"2015-01-08\", \"2015-01-09\", \"2015-01-10\", \"2015-01-11\", \"2015-01-12\", \"2015-01-13\", \"2015-01-14\", \"2015-01-15\", \"2015-01-16\", \"2015-01-17\", \"2015-01-18\", \"2015-01-19\", \"2015-01-20\", \"2015-01-21\", \"2015-01-22\", \"2015-01-23\", \"2015-01-24\", \"2015-01-25\", \"2015-01-26\", \"2015-01-27\", \"2015-01-28\", \"2015-01-29\", \"2015-01-30\", \"2015-01-31\", \"2015-02-01\", \"2015-02-02\", \"2015-02-03\", \"2015-02-04\", \"2015-02-05\", \"2015-02-06\", \"2015-02-07\", \"2015-02-08\", \"2015-02-09\", \"2015-02-10\", \"2015-02-11\", \"2015-02-12\", \"2015-02-13\", \"2015-02-14\", \"2015-02-15\", \"2015-02-16\", \"2015-02-17\", \"2015-02-18\", \"2015-02-19\", \"2015-02-20\", \"2015-02-21\", \"2015-02-22\", \"2015-02-23\", \"2015-02-24\", \"2015-02-25\", \"2015-02-26\", \"2015-02-27\", \"2015-02-28\", \"2015-03-01\", \"2015-03-02\", \"2015-03-03\", \"2015-03-04\", \"2015-03-05\", \"2015-03-06\", \"2015-03-07\", \"2015-03-08\", \"2015-03-09\", \"2015-03-10\", \"2015-03-11\", \"2015-03-12\", \"2015-03-13\", \"2015-03-14\", \"2015-03-15\", \"2015-03-16\", \"2015-03-17\", \"2015-03-18\", \"2015-03-19\", \"2015-03-20\", \"2015-03-21\", \"2015-03-22\", \"2015-03-23\", \"2015-03-24\", \"2015-03-25\", \"2015-03-26\", \"2015-03-27\", \"2015-03-28\", \"2015-03-29\", \"2015-03-30\", \"2015-03-31\", \"2015-04-01\", \"2015-04-02\", \"2015-04-03\", \"2015-04-04\", \"2015-04-05\", \"2015-04-06\", \"2015-04-07\", \"2015-04-08\", \"2015-04-09\", \"2015-04-10\"], \"xaxis\": \"x5\", \"y\": [-0.2804198735689645, -0.6758733136280148, -0.9905395578117153, -1.6525022219114778, -1.9339535682698994, 0.7928438493861423, 1.3906542452170731, 2.0207771414364593, 3.440978765003361, 3.439014920624053, 2.744306386314105, 2.3430831019046043, 2.7963777855012433, 2.9817016587459824, 4.34702839382707, 6.349135321310694, 5.425181696088633, 5.0563812565162385, 4.194645374149305, 5.241704779770673, 4.446072894222386, 5.224384935808749, 5.169997503213272, 5.577423439357816, 5.756302405921759, 6.8230254823654, 6.38595373536326, 4.15190819764655, 1.8574146006062562, 2.2081765875543846, 2.309550970742081, 2.2207576853210202, 2.254493064697913, 1.90855698122044, 1.2188592016292858, 0.1872174730070637, 0.052150945141306415, -1.7586610192421186, -2.606947369026514, -3.0905809348084268, -4.298426007092838, -4.916309013663284, -7.286579372448608, -6.461229907194494, -5.271422813913854, -5.7989114817441845, -4.784263903913648, -6.10406572553893, -5.071901299577386, -5.017961176436122, -5.301820851299797, -5.223621252098749, -5.9615230538092385, -7.671819518489036, -6.983209810285613, -6.276706102324111, -6.248271652234084, -5.6998360695044745, -4.593256461829666, -5.8983824800277, -6.042795580113022, -5.424349662762916, -4.272854157192529, -3.189877138395715, -3.519880151934893, -4.694025083882189, -5.844594623270215, -6.2559490326735725, -5.5744344467204945, -6.616510856521381, -4.9029220795904225, -4.036415862109834, -4.956865072076656, -4.528208932833174, -5.238772385136139, -5.380688205501933, -4.93588105288241, -4.663037247240491, -5.6480369352039395, -4.505552477368056, -3.4938245103316943, -3.2636041480067965, -3.170358424679708, -3.3751910488003802, -3.768277007834072, -3.103833978303387, -3.2604351480057985, -5.711705018544134, -6.396872944677683, -7.045923687939414, -6.649211066468228, -5.986908990256332, -6.306139888131386, -6.465411625697821, -5.6635155128375025, -5.7068659389471765, -7.135832550845446, -10.624415348105332, -9.654944742500428, -11.043243974346773], \"yaxis\": \"y5\"}],\n",
       "                        {\"legend\": {\"bgcolor\": \"#F5F6F9\", \"font\": {\"color\": \"#4D5663\"}}, \"paper_bgcolor\": \"#F5F6F9\", \"plot_bgcolor\": \"#F5F6F9\", \"template\": {\"data\": {\"bar\": [{\"error_x\": {\"color\": \"#2a3f5f\"}, \"error_y\": {\"color\": \"#2a3f5f\"}, \"marker\": {\"line\": {\"color\": \"#E5ECF6\", \"width\": 0.5}}, \"type\": \"bar\"}], \"barpolar\": [{\"marker\": {\"line\": {\"color\": \"#E5ECF6\", \"width\": 0.5}}, \"type\": \"barpolar\"}], \"carpet\": [{\"aaxis\": {\"endlinecolor\": \"#2a3f5f\", \"gridcolor\": \"white\", \"linecolor\": \"white\", \"minorgridcolor\": \"white\", \"startlinecolor\": \"#2a3f5f\"}, \"baxis\": {\"endlinecolor\": \"#2a3f5f\", \"gridcolor\": \"white\", \"linecolor\": \"white\", \"minorgridcolor\": \"white\", \"startlinecolor\": \"#2a3f5f\"}, \"type\": \"carpet\"}], \"choropleth\": [{\"colorbar\": {\"outlinewidth\": 0, \"ticks\": \"\"}, \"type\": \"choropleth\"}], \"contour\": [{\"colorbar\": {\"outlinewidth\": 0, \"ticks\": \"\"}, \"colorscale\": [[0.0, \"#0d0887\"], [0.1111111111111111, \"#46039f\"], [0.2222222222222222, \"#7201a8\"], [0.3333333333333333, \"#9c179e\"], [0.4444444444444444, \"#bd3786\"], [0.5555555555555556, \"#d8576b\"], [0.6666666666666666, \"#ed7953\"], [0.7777777777777778, \"#fb9f3a\"], [0.8888888888888888, \"#fdca26\"], [1.0, \"#f0f921\"]], \"type\": \"contour\"}], \"contourcarpet\": [{\"colorbar\": {\"outlinewidth\": 0, \"ticks\": \"\"}, \"type\": \"contourcarpet\"}], \"heatmap\": [{\"colorbar\": {\"outlinewidth\": 0, \"ticks\": \"\"}, \"colorscale\": [[0.0, \"#0d0887\"], [0.1111111111111111, \"#46039f\"], [0.2222222222222222, \"#7201a8\"], [0.3333333333333333, \"#9c179e\"], [0.4444444444444444, \"#bd3786\"], [0.5555555555555556, \"#d8576b\"], [0.6666666666666666, \"#ed7953\"], [0.7777777777777778, \"#fb9f3a\"], [0.8888888888888888, \"#fdca26\"], [1.0, \"#f0f921\"]], \"type\": \"heatmap\"}], \"heatmapgl\": [{\"colorbar\": {\"outlinewidth\": 0, \"ticks\": \"\"}, \"colorscale\": [[0.0, \"#0d0887\"], [0.1111111111111111, \"#46039f\"], [0.2222222222222222, \"#7201a8\"], [0.3333333333333333, \"#9c179e\"], [0.4444444444444444, \"#bd3786\"], [0.5555555555555556, \"#d8576b\"], [0.6666666666666666, \"#ed7953\"], [0.7777777777777778, \"#fb9f3a\"], [0.8888888888888888, \"#fdca26\"], [1.0, \"#f0f921\"]], \"type\": \"heatmapgl\"}], \"histogram\": [{\"marker\": {\"colorbar\": {\"outlinewidth\": 0, \"ticks\": \"\"}}, \"type\": \"histogram\"}], \"histogram2d\": [{\"colorbar\": {\"outlinewidth\": 0, \"ticks\": \"\"}, \"colorscale\": [[0.0, \"#0d0887\"], [0.1111111111111111, \"#46039f\"], [0.2222222222222222, \"#7201a8\"], [0.3333333333333333, \"#9c179e\"], [0.4444444444444444, \"#bd3786\"], [0.5555555555555556, \"#d8576b\"], [0.6666666666666666, \"#ed7953\"], [0.7777777777777778, \"#fb9f3a\"], [0.8888888888888888, \"#fdca26\"], [1.0, \"#f0f921\"]], \"type\": \"histogram2d\"}], \"histogram2dcontour\": [{\"colorbar\": {\"outlinewidth\": 0, \"ticks\": \"\"}, \"colorscale\": [[0.0, \"#0d0887\"], [0.1111111111111111, \"#46039f\"], [0.2222222222222222, \"#7201a8\"], [0.3333333333333333, \"#9c179e\"], [0.4444444444444444, \"#bd3786\"], [0.5555555555555556, \"#d8576b\"], [0.6666666666666666, \"#ed7953\"], [0.7777777777777778, \"#fb9f3a\"], [0.8888888888888888, \"#fdca26\"], [1.0, \"#f0f921\"]], \"type\": \"histogram2dcontour\"}], \"mesh3d\": [{\"colorbar\": {\"outlinewidth\": 0, \"ticks\": \"\"}, \"type\": \"mesh3d\"}], \"parcoords\": [{\"line\": {\"colorbar\": {\"outlinewidth\": 0, \"ticks\": \"\"}}, \"type\": \"parcoords\"}], \"pie\": [{\"automargin\": true, \"type\": \"pie\"}], \"scatter\": [{\"marker\": {\"colorbar\": {\"outlinewidth\": 0, \"ticks\": \"\"}}, \"type\": \"scatter\"}], \"scatter3d\": [{\"line\": {\"colorbar\": {\"outlinewidth\": 0, \"ticks\": \"\"}}, \"marker\": {\"colorbar\": {\"outlinewidth\": 0, \"ticks\": \"\"}}, \"type\": \"scatter3d\"}], \"scattercarpet\": [{\"marker\": {\"colorbar\": {\"outlinewidth\": 0, \"ticks\": \"\"}}, \"type\": \"scattercarpet\"}], \"scattergeo\": [{\"marker\": {\"colorbar\": {\"outlinewidth\": 0, \"ticks\": \"\"}}, \"type\": \"scattergeo\"}], \"scattergl\": [{\"marker\": {\"colorbar\": {\"outlinewidth\": 0, \"ticks\": \"\"}}, \"type\": \"scattergl\"}], \"scattermapbox\": [{\"marker\": {\"colorbar\": {\"outlinewidth\": 0, \"ticks\": \"\"}}, \"type\": \"scattermapbox\"}], \"scatterpolar\": [{\"marker\": {\"colorbar\": {\"outlinewidth\": 0, \"ticks\": \"\"}}, \"type\": \"scatterpolar\"}], \"scatterpolargl\": [{\"marker\": {\"colorbar\": {\"outlinewidth\": 0, \"ticks\": \"\"}}, \"type\": \"scatterpolargl\"}], \"scatterternary\": [{\"marker\": {\"colorbar\": {\"outlinewidth\": 0, \"ticks\": \"\"}}, \"type\": \"scatterternary\"}], \"surface\": [{\"colorbar\": {\"outlinewidth\": 0, \"ticks\": \"\"}, \"colorscale\": [[0.0, \"#0d0887\"], [0.1111111111111111, \"#46039f\"], [0.2222222222222222, \"#7201a8\"], [0.3333333333333333, \"#9c179e\"], [0.4444444444444444, \"#bd3786\"], [0.5555555555555556, \"#d8576b\"], [0.6666666666666666, \"#ed7953\"], [0.7777777777777778, \"#fb9f3a\"], [0.8888888888888888, \"#fdca26\"], [1.0, \"#f0f921\"]], \"type\": \"surface\"}], \"table\": [{\"cells\": {\"fill\": {\"color\": \"#EBF0F8\"}, \"line\": {\"color\": \"white\"}}, \"header\": {\"fill\": {\"color\": \"#C8D4E3\"}, \"line\": {\"color\": \"white\"}}, \"type\": \"table\"}]}, \"layout\": {\"annotationdefaults\": {\"arrowcolor\": \"#2a3f5f\", \"arrowhead\": 0, \"arrowwidth\": 1}, \"coloraxis\": {\"colorbar\": {\"outlinewidth\": 0, \"ticks\": \"\"}}, \"colorscale\": {\"diverging\": [[0, \"#8e0152\"], [0.1, \"#c51b7d\"], [0.2, \"#de77ae\"], [0.3, \"#f1b6da\"], [0.4, \"#fde0ef\"], [0.5, \"#f7f7f7\"], [0.6, \"#e6f5d0\"], [0.7, \"#b8e186\"], [0.8, \"#7fbc41\"], [0.9, \"#4d9221\"], [1, \"#276419\"]], \"sequential\": [[0.0, \"#0d0887\"], [0.1111111111111111, \"#46039f\"], [0.2222222222222222, \"#7201a8\"], [0.3333333333333333, \"#9c179e\"], [0.4444444444444444, \"#bd3786\"], [0.5555555555555556, \"#d8576b\"], [0.6666666666666666, \"#ed7953\"], [0.7777777777777778, \"#fb9f3a\"], [0.8888888888888888, \"#fdca26\"], [1.0, \"#f0f921\"]], \"sequentialminus\": [[0.0, \"#0d0887\"], [0.1111111111111111, \"#46039f\"], [0.2222222222222222, \"#7201a8\"], [0.3333333333333333, \"#9c179e\"], [0.4444444444444444, \"#bd3786\"], [0.5555555555555556, \"#d8576b\"], [0.6666666666666666, \"#ed7953\"], [0.7777777777777778, \"#fb9f3a\"], [0.8888888888888888, \"#fdca26\"], [1.0, \"#f0f921\"]]}, \"colorway\": [\"#636efa\", \"#EF553B\", \"#00cc96\", \"#ab63fa\", \"#FFA15A\", \"#19d3f3\", \"#FF6692\", \"#B6E880\", \"#FF97FF\", \"#FECB52\"], \"font\": {\"color\": \"#2a3f5f\"}, \"geo\": {\"bgcolor\": \"white\", \"lakecolor\": \"white\", \"landcolor\": \"#E5ECF6\", \"showlakes\": true, \"showland\": true, \"subunitcolor\": \"white\"}, \"hoverlabel\": {\"align\": \"left\"}, \"hovermode\": \"closest\", \"mapbox\": {\"style\": \"light\"}, \"paper_bgcolor\": \"white\", \"plot_bgcolor\": \"#E5ECF6\", \"polar\": {\"angularaxis\": {\"gridcolor\": \"white\", \"linecolor\": \"white\", \"ticks\": \"\"}, \"bgcolor\": \"#E5ECF6\", \"radialaxis\": {\"gridcolor\": \"white\", \"linecolor\": \"white\", \"ticks\": \"\"}}, \"scene\": {\"xaxis\": {\"backgroundcolor\": \"#E5ECF6\", \"gridcolor\": \"white\", \"gridwidth\": 2, \"linecolor\": \"white\", \"showbackground\": true, \"ticks\": \"\", \"zerolinecolor\": \"white\"}, \"yaxis\": {\"backgroundcolor\": \"#E5ECF6\", \"gridcolor\": \"white\", \"gridwidth\": 2, \"linecolor\": \"white\", \"showbackground\": true, \"ticks\": \"\", \"zerolinecolor\": \"white\"}, \"zaxis\": {\"backgroundcolor\": \"#E5ECF6\", \"gridcolor\": \"white\", \"gridwidth\": 2, \"linecolor\": \"white\", \"showbackground\": true, \"ticks\": \"\", \"zerolinecolor\": \"white\"}}, \"shapedefaults\": {\"line\": {\"color\": \"#2a3f5f\"}}, \"ternary\": {\"aaxis\": {\"gridcolor\": \"white\", \"linecolor\": \"white\", \"ticks\": \"\"}, \"baxis\": {\"gridcolor\": \"white\", \"linecolor\": \"white\", \"ticks\": \"\"}, \"bgcolor\": \"#E5ECF6\", \"caxis\": {\"gridcolor\": \"white\", \"linecolor\": \"white\", \"ticks\": \"\"}}, \"title\": {\"x\": 0.05}, \"xaxis\": {\"automargin\": true, \"gridcolor\": \"white\", \"linecolor\": \"white\", \"ticks\": \"\", \"title\": {\"standoff\": 15}, \"zerolinecolor\": \"white\", \"zerolinewidth\": 2}, \"yaxis\": {\"automargin\": true, \"gridcolor\": \"white\", \"linecolor\": \"white\", \"ticks\": \"\", \"title\": {\"standoff\": 15}, \"zerolinecolor\": \"white\", \"zerolinewidth\": 2}}}, \"title\": {\"font\": {\"color\": \"#4D5663\"}}, \"xaxis\": {\"anchor\": \"y\", \"domain\": [0.0, 1.0], \"gridcolor\": \"#E1E5ED\", \"matches\": \"x5\", \"showgrid\": true, \"showticklabels\": false, \"tickfont\": {\"color\": \"#4D5663\"}, \"title\": {\"font\": {\"color\": \"#4D5663\"}, \"text\": \"\"}, \"zerolinecolor\": \"#E1E5ED\"}, \"xaxis2\": {\"anchor\": \"y2\", \"domain\": [0.0, 1.0], \"gridcolor\": \"#E1E5ED\", \"matches\": \"x5\", \"showgrid\": true, \"showticklabels\": false, \"tickfont\": {\"color\": \"#4D5663\"}, \"title\": {\"font\": {\"color\": \"#4D5663\"}, \"text\": \"\"}, \"zerolinecolor\": \"#E1E5ED\"}, \"xaxis3\": {\"anchor\": \"y3\", \"domain\": [0.0, 1.0], \"gridcolor\": \"#E1E5ED\", \"matches\": \"x5\", \"showgrid\": true, \"showticklabels\": false, \"tickfont\": {\"color\": \"#4D5663\"}, \"title\": {\"font\": {\"color\": \"#4D5663\"}, \"text\": \"\"}, \"zerolinecolor\": \"#E1E5ED\"}, \"xaxis4\": {\"anchor\": \"y4\", \"domain\": [0.0, 1.0], \"gridcolor\": \"#E1E5ED\", \"matches\": \"x5\", \"showgrid\": true, \"showticklabels\": false, \"tickfont\": {\"color\": \"#4D5663\"}, \"title\": {\"font\": {\"color\": \"#4D5663\"}, \"text\": \"\"}, \"zerolinecolor\": \"#E1E5ED\"}, \"xaxis5\": {\"anchor\": \"y5\", \"domain\": [0.0, 1.0], \"gridcolor\": \"#E1E5ED\", \"showgrid\": true, \"tickfont\": {\"color\": \"#4D5663\"}, \"title\": {\"font\": {\"color\": \"#4D5663\"}, \"text\": \"\"}, \"zerolinecolor\": \"#E1E5ED\"}, \"yaxis\": {\"anchor\": \"x\", \"domain\": [0.848, 1.0], \"gridcolor\": \"#E1E5ED\", \"showgrid\": true, \"tickfont\": {\"color\": \"#4D5663\"}, \"title\": {\"font\": {\"color\": \"#4D5663\"}, \"text\": \"\"}, \"zerolinecolor\": \"#E1E5ED\"}, \"yaxis2\": {\"anchor\": \"x2\", \"domain\": [0.6359999999999999, 0.7879999999999999], \"gridcolor\": \"#E1E5ED\", \"showgrid\": true, \"tickfont\": {\"color\": \"#4D5663\"}, \"title\": {\"font\": {\"color\": \"#4D5663\"}, \"text\": \"\"}, \"zerolinecolor\": \"#E1E5ED\"}, \"yaxis3\": {\"anchor\": \"x3\", \"domain\": [0.424, 0.576], \"gridcolor\": \"#E1E5ED\", \"showgrid\": true, \"tickfont\": {\"color\": \"#4D5663\"}, \"title\": {\"font\": {\"color\": \"#4D5663\"}, \"text\": \"\"}, \"zerolinecolor\": \"#E1E5ED\"}, \"yaxis4\": {\"anchor\": \"x4\", \"domain\": [0.212, 0.364], \"gridcolor\": \"#E1E5ED\", \"showgrid\": true, \"tickfont\": {\"color\": \"#4D5663\"}, \"title\": {\"font\": {\"color\": \"#4D5663\"}, \"text\": \"\"}, \"zerolinecolor\": \"#E1E5ED\"}, \"yaxis5\": {\"anchor\": \"x5\", \"domain\": [0.0, 0.152], \"gridcolor\": \"#E1E5ED\", \"showgrid\": true, \"tickfont\": {\"color\": \"#4D5663\"}, \"title\": {\"font\": {\"color\": \"#4D5663\"}, \"text\": \"\"}, \"zerolinecolor\": \"#E1E5ED\"}},\n",
       "                        {\"responsive\": true}\n",
       "                    ).then(function(){\n",
       "                            \n",
       "var gd = document.getElementById('f93b5ae9-2d96-492b-a29f-ee890d663b8f');\n",
       "var x = new MutationObserver(function (mutations, observer) {{\n",
       "        var display = window.getComputedStyle(gd).display;\n",
       "        if (!display || display === 'none') {{\n",
       "            console.log([gd, 'removed!']);\n",
       "            Plotly.purge(gd);\n",
       "            observer.disconnect();\n",
       "        }}\n",
       "}});\n",
       "\n",
       "// Listen for the removal of the full notebook cells\n",
       "var notebookContainer = gd.closest('#notebook-container');\n",
       "if (notebookContainer) {{\n",
       "    x.observe(notebookContainer, {childList: true});\n",
       "}}\n",
       "\n",
       "// Listen for the clearing of the current output cell\n",
       "var outputEl = gd.closest('.output');\n",
       "if (outputEl) {{\n",
       "    x.observe(outputEl, {childList: true});\n",
       "}}\n",
       "\n",
       "                        })\n",
       "                };\n",
       "                });\n",
       "            </script>\n",
       "        </div>"
      ]
     },
     "metadata": {},
     "output_type": "display_data"
    }
   ],
   "source": [
    "df=cf.datagen.lines(5)\n",
    "fig = df.iplot(asFigure=True, subplots=True, shape=(5,1), shared_xaxes=True, fill=True)\n",
    "pyo.plot(fig,filename='timeseries.html')\n",
    "fig.show()"
   ]
  },
  {
   "cell_type": "code",
   "execution_count": null,
   "metadata": {},
   "outputs": [],
   "source": []
  }
 ],
 "metadata": {
  "kernelspec": {
   "display_name": "Python 3",
   "language": "python",
   "name": "python3"
  },
  "language_info": {
   "codemirror_mode": {
    "name": "ipython",
    "version": 3
   },
   "file_extension": ".py",
   "mimetype": "text/x-python",
   "name": "python",
   "nbconvert_exporter": "python",
   "pygments_lexer": "ipython3",
   "version": "3.7.0"
  }
 },
 "nbformat": 4,
 "nbformat_minor": 2
}
